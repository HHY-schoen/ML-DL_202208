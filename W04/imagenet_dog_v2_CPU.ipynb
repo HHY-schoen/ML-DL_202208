{
 "cells": [
  {
   "cell_type": "markdown",
   "metadata": {
    "id": "23v27WXVD82I"
   },
   "source": [
    "# 影像辨識1\n",
    "\n",
    "- ref: https://colab.research.google.com/drive/1MXd_gczN24Tbv7OZ77E7xeGGWs7Xcdr_?usp=sharing#scrollTo=c6tUTprCWdhH\n",
    "\n",
    "- ref: https://colab.research.google.com/drive/1MXd_gczN24Tbv7OZ77E7xeGGWs7Xcdr_?usp=sharing#scrollTo=Fgg6dOfqid1i"
   ]
  },
  {
   "cell_type": "markdown",
   "metadata": {
    "id": "qvDR6Iv1EFN2"
   },
   "source": [
    "### 安裝套件"
   ]
  },
  {
   "cell_type": "code",
   "execution_count": null,
   "metadata": {
    "colab": {
     "base_uri": "https://localhost:8080/"
    },
    "id": "ziXZOXvfDy0Z",
    "outputId": "d679ad8a-5e7f-4983-8154-cbe05d0e8949"
   },
   "outputs": [],
   "source": [
    "!pip install matplotlib RedditReader Pillow torch torchvision wget"
   ]
  },
  {
   "cell_type": "code",
   "execution_count": 1,
   "metadata": {
    "id": "ibEVlum-EHcu"
   },
   "outputs": [
    {
     "ename": "ModuleNotFoundError",
     "evalue": "No module named 'torch'",
     "output_type": "error",
     "traceback": [
      "\u001b[1;31m---------------------------------------------------------------------------\u001b[0m",
      "\u001b[1;31mModuleNotFoundError\u001b[0m                       Traceback (most recent call last)",
      "\u001b[1;32m~\\AppData\\Local\\Temp/ipykernel_7360/3387985434.py\u001b[0m in \u001b[0;36m<module>\u001b[1;34m\u001b[0m\n\u001b[0;32m      2\u001b[0m \u001b[1;32mimport\u001b[0m \u001b[0mnumpy\u001b[0m \u001b[1;32mas\u001b[0m \u001b[0mnp\u001b[0m\u001b[1;33m\u001b[0m\u001b[1;33m\u001b[0m\u001b[0m\n\u001b[0;32m      3\u001b[0m \u001b[1;32mimport\u001b[0m \u001b[0mmatplotlib\u001b[0m\u001b[1;33m.\u001b[0m\u001b[0mpyplot\u001b[0m \u001b[1;32mas\u001b[0m \u001b[0mplt\u001b[0m\u001b[1;33m\u001b[0m\u001b[1;33m\u001b[0m\u001b[0m\n\u001b[1;32m----> 4\u001b[1;33m \u001b[1;32mimport\u001b[0m \u001b[0mtorch\u001b[0m\u001b[1;33m\u001b[0m\u001b[1;33m\u001b[0m\u001b[0m\n\u001b[0m\u001b[0;32m      5\u001b[0m \u001b[1;32mimport\u001b[0m \u001b[0mwget\u001b[0m\u001b[1;33m\u001b[0m\u001b[1;33m\u001b[0m\u001b[0m\n\u001b[0;32m      6\u001b[0m \u001b[1;32mfrom\u001b[0m \u001b[0mPIL\u001b[0m \u001b[1;32mimport\u001b[0m \u001b[0mImage\u001b[0m\u001b[1;33m\u001b[0m\u001b[1;33m\u001b[0m\u001b[0m\n",
      "\u001b[1;31mModuleNotFoundError\u001b[0m: No module named 'torch'"
     ]
    }
   ],
   "source": [
    "# 引入套件\n",
    "import numpy as np\n",
    "import matplotlib.pyplot as plt\n",
    "import torch\n",
    "import wget\n",
    "from PIL import Image\n",
    "from RedditReader import Subreddit"
   ]
  },
  {
   "cell_type": "markdown",
   "metadata": {
    "id": "395hr9ixETIJ"
   },
   "source": [
    "### 取得reddit照片"
   ]
  },
  {
   "cell_type": "code",
   "execution_count": null,
   "metadata": {
    "id": "zAMGKE_zENIc"
   },
   "outputs": [],
   "source": [
    "def get_rand_meme():\n",
    "    # Download a random meme from Reddit AnimalMemes.\n",
    "    meme = Subreddit(\"AnimalMemes\")\n",
    "    meme.get_random()\n",
    "\n",
    "    # Each meme contains an image URL.\n",
    "    print(meme.url)\n",
    "\n",
    "    # Download the image to the disk.\n",
    "    image_filename = wget.download(meme.url)\n",
    "\n",
    "    # Return the downloaded image file name.\n",
    "    return image_filename"
   ]
  },
  {
   "cell_type": "code",
   "execution_count": 2,
   "metadata": {
    "colab": {
     "base_uri": "https://localhost:8080/",
     "height": 324
    },
    "id": "RGFvPWu0EbLI",
    "outputId": "ad367d88-5b85-4048-d52a-ad4e08d13a4b"
   },
   "outputs": [
    {
     "ename": "NameError",
     "evalue": "name 'get_rand_meme' is not defined",
     "output_type": "error",
     "traceback": [
      "\u001b[1;31m---------------------------------------------------------------------------\u001b[0m",
      "\u001b[1;31mNameError\u001b[0m                                 Traceback (most recent call last)",
      "\u001b[1;32m~\\AppData\\Local\\Temp/ipykernel_7360/3769008923.py\u001b[0m in \u001b[0;36m<module>\u001b[1;34m\u001b[0m\n\u001b[0;32m      1\u001b[0m \u001b[1;31m# 隨機下載，並顯示\u001b[0m\u001b[1;33m\u001b[0m\u001b[1;33m\u001b[0m\u001b[0m\n\u001b[1;32m----> 2\u001b[1;33m \u001b[0mimage_filename\u001b[0m \u001b[1;33m=\u001b[0m  \u001b[0mget_rand_meme\u001b[0m\u001b[1;33m(\u001b[0m\u001b[1;33m)\u001b[0m\u001b[1;33m\u001b[0m\u001b[1;33m\u001b[0m\u001b[0m\n\u001b[0m\u001b[0;32m      3\u001b[0m \u001b[0mprint\u001b[0m\u001b[1;33m(\u001b[0m\u001b[0mimage_filename\u001b[0m\u001b[1;33m)\u001b[0m\u001b[1;33m\u001b[0m\u001b[1;33m\u001b[0m\u001b[0m\n\u001b[0;32m      4\u001b[0m \u001b[1;33m\u001b[0m\u001b[0m\n\u001b[0;32m      5\u001b[0m \u001b[0mimage\u001b[0m \u001b[1;33m=\u001b[0m \u001b[0mImage\u001b[0m\u001b[1;33m.\u001b[0m\u001b[0mopen\u001b[0m\u001b[1;33m(\u001b[0m\u001b[0mimage_filename\u001b[0m\u001b[1;33m)\u001b[0m\u001b[1;33m.\u001b[0m\u001b[0mconvert\u001b[0m\u001b[1;33m(\u001b[0m\u001b[1;34m\"RGB\"\u001b[0m\u001b[1;33m)\u001b[0m\u001b[1;33m\u001b[0m\u001b[1;33m\u001b[0m\u001b[0m\n",
      "\u001b[1;31mNameError\u001b[0m: name 'get_rand_meme' is not defined"
     ]
    }
   ],
   "source": [
    "# 隨機下載，並顯示\n",
    "image_filename =  get_rand_meme()\n",
    "print(image_filename)\n",
    "\n",
    "image = Image.open(image_filename).convert(\"RGB\")\n",
    "plt.imshow(image)"
   ]
  },
  {
   "cell_type": "markdown",
   "metadata": {
    "id": "5Vvlt4DoE1XH"
   },
   "source": [
    "### 準備做辨識"
   ]
  },
  {
   "cell_type": "markdown",
   "metadata": {
    "id": "EEVZH_HQFHtw"
   },
   "source": [
    "#### 下載使用imagenet訓練好的模型"
   ]
  },
  {
   "cell_type": "code",
   "execution_count": 6,
   "metadata": {
    "colab": {
     "base_uri": "https://localhost:8080/"
    },
    "id": "yTIPzRRVE_j-",
    "outputId": "59ddcbb7-c5b6-4b2f-e208-fe95ae2ab728"
   },
   "outputs": [
    {
     "name": "stderr",
     "output_type": "stream",
     "text": [
      "'wget' 不是內部或外部命令、可執行的程式或批次檔。\n"
     ]
    }
   ],
   "source": [
    "!wget https://raw.githubusercontent.com/maloyang/KH20220820_Python_ML_DL/main/W04/imagenet_labels.json -O imagenet_labels.json"
   ]
  },
  {
   "cell_type": "code",
   "execution_count": 4,
   "metadata": {
    "colab": {
     "base_uri": "https://localhost:8080/"
    },
    "id": "pHqLBBU3FNr2",
    "outputId": "6d47e442-7fa8-49c2-c2df-30e6274eae6b"
   },
   "outputs": [
    {
     "name": "stdout",
     "output_type": "stream",
     "text": [
      "1000 ['tench', 'goldfish', 'great_white_shark', 'tiger_shark', 'hammerhead', 'electric_ray', 'stingray', 'cock', 'hen', 'ostrich', 'brambling', 'goldfinch', 'house_finch', 'junco', 'indigo_bunting', 'robin', 'bulbul', 'jay', 'magpie', 'chickadee', 'water_ouzel', 'kite', 'bald_eagle', 'vulture', 'great_grey_owl', 'European_fire_salamander', 'common_newt', 'eft', 'spotted_salamander', 'axolotl', 'bullfrog', 'tree_frog', 'tailed_frog', 'loggerhead', 'leatherback_turtle', 'mud_turtle', 'terrapin', 'box_turtle', 'banded_gecko', 'common_iguana', 'American_chameleon', 'whiptail', 'agama', 'frilled_lizard', 'alligator_lizard', 'Gila_monster', 'green_lizard', 'African_chameleon', 'Komodo_dragon', 'African_crocodile', 'American_alligator', 'triceratops', 'thunder_snake', 'ringneck_snake', 'hognose_snake', 'green_snake', 'king_snake', 'garter_snake', 'water_snake', 'vine_snake', 'night_snake', 'boa_constrictor', 'rock_python', 'Indian_cobra', 'green_mamba', 'sea_snake', 'horned_viper', 'diamondback', 'sidewinder', 'trilobite', 'harvestman', 'scorpion', 'black_and_gold_garden_spider', 'barn_spider', 'garden_spider', 'black_widow', 'tarantula', 'wolf_spider', 'tick', 'centipede', 'black_grouse', 'ptarmigan', 'ruffed_grouse', 'prairie_chicken', 'peacock', 'quail', 'partridge', 'African_grey', 'macaw', 'sulphur-crested_cockatoo', 'lorikeet', 'coucal', 'bee_eater', 'hornbill', 'hummingbird', 'jacamar', 'toucan', 'drake', 'red-breasted_merganser', 'goose', 'black_swan', 'tusker', 'echidna', 'platypus', 'wallaby', 'koala', 'wombat', 'jellyfish', 'sea_anemone', 'brain_coral', 'flatworm', 'nematode', 'conch', 'snail', 'slug', 'sea_slug', 'chiton', 'chambered_nautilus', 'Dungeness_crab', 'rock_crab', 'fiddler_crab', 'king_crab', 'American_lobster', 'spiny_lobster', 'crayfish', 'hermit_crab', 'isopod', 'white_stork', 'black_stork', 'spoonbill', 'flamingo', 'little_blue_heron', 'American_egret', 'bittern', 'crane', 'limpkin', 'European_gallinule', 'American_coot', 'bustard', 'ruddy_turnstone', 'red-backed_sandpiper', 'redshank', 'dowitcher', 'oystercatcher', 'pelican', 'king_penguin', 'albatross', 'grey_whale', 'killer_whale', 'dugong', 'sea_lion', 'Chihuahua', 'Japanese_spaniel', 'Maltese_dog', 'Pekinese', 'Shih-Tzu', 'Blenheim_spaniel', 'papillon', 'toy_terrier', 'Rhodesian_ridgeback', 'Afghan_hound', 'basset', 'beagle', 'bloodhound', 'bluetick', 'black-and-tan_coonhound', 'Walker_hound', 'English_foxhound', 'redbone', 'borzoi', 'Irish_wolfhound', 'Italian_greyhound', 'whippet', 'Ibizan_hound', 'Norwegian_elkhound', 'otterhound', 'Saluki', 'Scottish_deerhound', 'Weimaraner', 'Staffordshire_bullterrier', 'American_Staffordshire_terrier', 'Bedlington_terrier', 'Border_terrier', 'Kerry_blue_terrier', 'Irish_terrier', 'Norfolk_terrier', 'Norwich_terrier', 'Yorkshire_terrier', 'wire-haired_fox_terrier', 'Lakeland_terrier', 'Sealyham_terrier', 'Airedale', 'cairn', 'Australian_terrier', 'Dandie_Dinmont', 'Boston_bull', 'miniature_schnauzer', 'giant_schnauzer', 'standard_schnauzer', 'Scotch_terrier', 'Tibetan_terrier', 'silky_terrier', 'soft-coated_wheaten_terrier', 'West_Highland_white_terrier', 'Lhasa', 'flat-coated_retriever', 'curly-coated_retriever', 'golden_retriever', 'Labrador_retriever', 'Chesapeake_Bay_retriever', 'German_short-haired_pointer', 'vizsla', 'English_setter', 'Irish_setter', 'Gordon_setter', 'Brittany_spaniel', 'clumber', 'English_springer', 'Welsh_springer_spaniel', 'cocker_spaniel', 'Sussex_spaniel', 'Irish_water_spaniel', 'kuvasz', 'schipperke', 'groenendael', 'malinois', 'briard', 'kelpie', 'komondor', 'Old_English_sheepdog', 'Shetland_sheepdog', 'collie', 'Border_collie', 'Bouvier_des_Flandres', 'Rottweiler', 'German_shepherd', 'Doberman', 'miniature_pinscher', 'Greater_Swiss_Mountain_dog', 'Bernese_mountain_dog', 'Appenzeller', 'EntleBucher', 'boxer', 'bull_mastiff', 'Tibetan_mastiff', 'French_bulldog', 'Great_Dane', 'Saint_Bernard', 'Eskimo_dog', 'malamute', 'Siberian_husky', 'dalmatian', 'affenpinscher', 'basenji', 'pug', 'Leonberg', 'Newfoundland', 'Great_Pyrenees', 'Samoyed', 'Pomeranian', 'chow', 'keeshond', 'Brabancon_griffon', 'Pembroke', 'Cardigan', 'toy_poodle', 'miniature_poodle', 'standard_poodle', 'Mexican_hairless', 'timber_wolf', 'white_wolf', 'red_wolf', 'coyote', 'dingo', 'dhole', 'African_hunting_dog', 'hyena', 'red_fox', 'kit_fox', 'Arctic_fox', 'grey_fox', 'tabby', 'tiger_cat', 'Persian_cat', 'Siamese_cat', 'Egyptian_cat', 'cougar', 'lynx', 'leopard', 'snow_leopard', 'jaguar', 'lion', 'tiger', 'cheetah', 'brown_bear', 'American_black_bear', 'ice_bear', 'sloth_bear', 'mongoose', 'meerkat', 'tiger_beetle', 'ladybug', 'ground_beetle', 'long-horned_beetle', 'leaf_beetle', 'dung_beetle', 'rhinoceros_beetle', 'weevil', 'fly', 'bee', 'ant', 'grasshopper', 'cricket', 'walking_stick', 'cockroach', 'mantis', 'cicada', 'leafhopper', 'lacewing', 'dragonfly', 'damselfly', 'admiral', 'ringlet', 'monarch', 'cabbage_butterfly', 'sulphur_butterfly', 'lycaenid', 'starfish', 'sea_urchin', 'sea_cucumber', 'wood_rabbit', 'hare', 'Angora', 'hamster', 'porcupine', 'fox_squirrel', 'marmot', 'beaver', 'guinea_pig', 'sorrel', 'zebra', 'hog', 'wild_boar', 'warthog', 'hippopotamus', 'ox', 'water_buffalo', 'bison', 'ram', 'bighorn', 'ibex', 'hartebeest', 'impala', 'gazelle', 'Arabian_camel', 'llama', 'weasel', 'mink', 'polecat', 'black-footed_ferret', 'otter', 'skunk', 'badger', 'armadillo', 'three-toed_sloth', 'orangutan', 'gorilla', 'chimpanzee', 'gibbon', 'siamang', 'guenon', 'patas', 'baboon', 'macaque', 'langur', 'colobus', 'proboscis_monkey', 'marmoset', 'capuchin', 'howler_monkey', 'titi', 'spider_monkey', 'squirrel_monkey', 'Madagascar_cat', 'indri', 'Indian_elephant', 'African_elephant', 'lesser_panda', 'giant_panda', 'barracouta', 'eel', 'coho', 'rock_beauty', 'anemone_fish', 'sturgeon', 'gar', 'lionfish', 'puffer', 'abacus', 'abaya', 'academic_gown', 'accordion', 'acoustic_guitar', 'aircraft_carrier', 'airliner', 'airship', 'altar', 'ambulance', 'amphibian', 'analog_clock', 'apiary', 'apron', 'ashcan', 'assault_rifle', 'backpack', 'bakery', 'balance_beam', 'balloon', 'ballpoint', 'Band_Aid', 'banjo', 'bannister', 'barbell', 'barber_chair', 'barbershop', 'barn', 'barometer', 'barrel', 'barrow', 'baseball', 'basketball', 'bassinet', 'bassoon', 'bathing_cap', 'bath_towel', 'bathtub', 'beach_wagon', 'beacon', 'beaker', 'bearskin', 'beer_bottle', 'beer_glass', 'bell_cote', 'bib', 'bicycle-built-for-two', 'bikini', 'binder', 'binoculars', 'birdhouse', 'boathouse', 'bobsled', 'bolo_tie', 'bonnet', 'bookcase', 'bookshop', 'bottlecap', 'bow', 'bow_tie', 'brass', 'brassiere', 'breakwater', 'breastplate', 'broom', 'bucket', 'buckle', 'bulletproof_vest', 'bullet_train', 'butcher_shop', 'cab', 'caldron', 'candle', 'cannon', 'canoe', 'can_opener', 'cardigan', 'car_mirror', 'carousel', \"carpenter's_kit\", 'carton', 'car_wheel', 'cash_machine', 'cassette', 'cassette_player', 'castle', 'catamaran', 'CD_player', 'cello', 'cellular_telephone', 'chain', 'chainlink_fence', 'chain_mail', 'chain_saw', 'chest', 'chiffonier', 'chime', 'china_cabinet', 'Christmas_stocking', 'church', 'cinema', 'cleaver', 'cliff_dwelling', 'cloak', 'clog', 'cocktail_shaker', 'coffee_mug', 'coffeepot', 'coil', 'combination_lock', 'computer_keyboard', 'confectionery', 'container_ship', 'convertible', 'corkscrew', 'cornet', 'cowboy_boot', 'cowboy_hat', 'cradle', 'crane', 'crash_helmet', 'crate', 'crib', 'Crock_Pot', 'croquet_ball', 'crutch', 'cuirass', 'dam', 'desk', 'desktop_computer', 'dial_telephone', 'diaper', 'digital_clock', 'digital_watch', 'dining_table', 'dishrag', 'dishwasher', 'disk_brake', 'dock', 'dogsled', 'dome', 'doormat', 'drilling_platform', 'drum', 'drumstick', 'dumbbell', 'Dutch_oven', 'electric_fan', 'electric_guitar', 'electric_locomotive', 'entertainment_center', 'envelope', 'espresso_maker', 'face_powder', 'feather_boa', 'file', 'fireboat', 'fire_engine', 'fire_screen', 'flagpole', 'flute', 'folding_chair', 'football_helmet', 'forklift', 'fountain', 'fountain_pen', 'four-poster', 'freight_car', 'French_horn', 'frying_pan', 'fur_coat', 'garbage_truck', 'gasmask', 'gas_pump', 'goblet', 'go-kart', 'golf_ball', 'golfcart', 'gondola', 'gong', 'gown', 'grand_piano', 'greenhouse', 'grille', 'grocery_store', 'guillotine', 'hair_slide', 'hair_spray', 'half_track', 'hammer', 'hamper', 'hand_blower', 'hand-held_computer', 'handkerchief', 'hard_disc', 'harmonica', 'harp', 'harvester', 'hatchet', 'holster', 'home_theater', 'honeycomb', 'hook', 'hoopskirt', 'horizontal_bar', 'horse_cart', 'hourglass', 'iPod', 'iron', \"jack-o'-lantern\", 'jean', 'jeep', 'jersey', 'jigsaw_puzzle', 'jinrikisha', 'joystick', 'kimono', 'knee_pad', 'knot', 'lab_coat', 'ladle', 'lampshade', 'laptop', 'lawn_mower', 'lens_cap', 'letter_opener', 'library', 'lifeboat', 'lighter', 'limousine', 'liner', 'lipstick', 'Loafer', 'lotion', 'loudspeaker', 'loupe', 'lumbermill', 'magnetic_compass', 'mailbag', 'mailbox', 'maillot', 'maillot', 'manhole_cover', 'maraca', 'marimba', 'mask', 'matchstick', 'maypole', 'maze', 'measuring_cup', 'medicine_chest', 'megalith', 'microphone', 'microwave', 'military_uniform', 'milk_can', 'minibus', 'miniskirt', 'minivan', 'missile', 'mitten', 'mixing_bowl', 'mobile_home', 'Model_T', 'modem', 'monastery', 'monitor', 'moped', 'mortar', 'mortarboard', 'mosque', 'mosquito_net', 'motor_scooter', 'mountain_bike', 'mountain_tent', 'mouse', 'mousetrap', 'moving_van', 'muzzle', 'nail', 'neck_brace', 'necklace', 'nipple', 'notebook', 'obelisk', 'oboe', 'ocarina', 'odometer', 'oil_filter', 'organ', 'oscilloscope', 'overskirt', 'oxcart', 'oxygen_mask', 'packet', 'paddle', 'paddlewheel', 'padlock', 'paintbrush', 'pajama', 'palace', 'panpipe', 'paper_towel', 'parachute', 'parallel_bars', 'park_bench', 'parking_meter', 'passenger_car', 'patio', 'pay-phone', 'pedestal', 'pencil_box', 'pencil_sharpener', 'perfume', 'Petri_dish', 'photocopier', 'pick', 'pickelhaube', 'picket_fence', 'pickup', 'pier', 'piggy_bank', 'pill_bottle', 'pillow', 'ping-pong_ball', 'pinwheel', 'pirate', 'pitcher', 'plane', 'planetarium', 'plastic_bag', 'plate_rack', 'plow', 'plunger', 'Polaroid_camera', 'pole', 'police_van', 'poncho', 'pool_table', 'pop_bottle', 'pot', \"potter's_wheel\", 'power_drill', 'prayer_rug', 'printer', 'prison', 'projectile', 'projector', 'puck', 'punching_bag', 'purse', 'quill', 'quilt', 'racer', 'racket', 'radiator', 'radio', 'radio_telescope', 'rain_barrel', 'recreational_vehicle', 'reel', 'reflex_camera', 'refrigerator', 'remote_control', 'restaurant', 'revolver', 'rifle', 'rocking_chair', 'rotisserie', 'rubber_eraser', 'rugby_ball', 'rule', 'running_shoe', 'safe', 'safety_pin', 'saltshaker', 'sandal', 'sarong', 'sax', 'scabbard', 'scale', 'school_bus', 'schooner', 'scoreboard', 'screen', 'screw', 'screwdriver', 'seat_belt', 'sewing_machine', 'shield', 'shoe_shop', 'shoji', 'shopping_basket', 'shopping_cart', 'shovel', 'shower_cap', 'shower_curtain', 'ski', 'ski_mask', 'sleeping_bag', 'slide_rule', 'sliding_door', 'slot', 'snorkel', 'snowmobile', 'snowplow', 'soap_dispenser', 'soccer_ball', 'sock', 'solar_dish', 'sombrero', 'soup_bowl', 'space_bar', 'space_heater', 'space_shuttle', 'spatula', 'speedboat', 'spider_web', 'spindle', 'sports_car', 'spotlight', 'stage', 'steam_locomotive', 'steel_arch_bridge', 'steel_drum', 'stethoscope', 'stole', 'stone_wall', 'stopwatch', 'stove', 'strainer', 'streetcar', 'stretcher', 'studio_couch', 'stupa', 'submarine', 'suit', 'sundial', 'sunglass', 'sunglasses', 'sunscreen', 'suspension_bridge', 'swab', 'sweatshirt', 'swimming_trunks', 'swing', 'switch', 'syringe', 'table_lamp', 'tank', 'tape_player', 'teapot', 'teddy', 'television', 'tennis_ball', 'thatch', 'theater_curtain', 'thimble', 'thresher', 'throne', 'tile_roof', 'toaster', 'tobacco_shop', 'toilet_seat', 'torch', 'totem_pole', 'tow_truck', 'toyshop', 'tractor', 'trailer_truck', 'tray', 'trench_coat', 'tricycle', 'trimaran', 'tripod', 'triumphal_arch', 'trolleybus', 'trombone', 'tub', 'turnstile', 'typewriter_keyboard', 'umbrella', 'unicycle', 'upright', 'vacuum', 'vase', 'vault', 'velvet', 'vending_machine', 'vestment', 'viaduct', 'violin', 'volleyball', 'waffle_iron', 'wall_clock', 'wallet', 'wardrobe', 'warplane', 'washbasin', 'washer', 'water_bottle', 'water_jug', 'water_tower', 'whiskey_jug', 'whistle', 'wig', 'window_screen', 'window_shade', 'Windsor_tie', 'wine_bottle', 'wing', 'wok', 'wooden_spoon', 'wool', 'worm_fence', 'wreck', 'yawl', 'yurt', 'web_site', 'comic_book', 'crossword_puzzle', 'street_sign', 'traffic_light', 'book_jacket', 'menu', 'plate', 'guacamole', 'consomme', 'hot_pot', 'trifle', 'ice_cream', 'ice_lolly', 'French_loaf', 'bagel', 'pretzel', 'cheeseburger', 'hotdog', 'mashed_potato', 'head_cabbage', 'broccoli', 'cauliflower', 'zucchini', 'spaghetti_squash', 'acorn_squash', 'butternut_squash', 'cucumber', 'artichoke', 'bell_pepper', 'cardoon', 'mushroom', 'Granny_Smith', 'strawberry', 'orange', 'lemon', 'fig', 'pineapple', 'banana', 'jackfruit', 'custard_apple', 'pomegranate', 'hay', 'carbonara', 'chocolate_sauce', 'dough', 'meat_loaf', 'pizza', 'potpie', 'burrito', 'red_wine', 'espresso', 'cup', 'eggnog', 'alp', 'bubble', 'cliff', 'coral_reef', 'geyser', 'lakeside', 'promontory', 'sandbar', 'seashore', 'valley', 'volcano', 'ballplayer', 'groom', 'scuba_diver', 'rapeseed', 'daisy', \"yellow_lady's_slipper\", 'corn', 'acorn', 'hip', 'buckeye', 'coral_fungus', 'agaric', 'gyromitra', 'stinkhorn', 'earthstar', 'hen-of-the-woods', 'bolete', 'ear', 'toilet_tissue']\n"
     ]
    }
   ],
   "source": [
    "# 看一下裡面有什麼, 總共有 1,000 個 label\n",
    "import json\n",
    "\n",
    "labels = json.load(open(\"imagenet_labels.json\"))\n",
    "print(len(labels), labels)"
   ]
  },
  {
   "cell_type": "markdown",
   "metadata": {
    "id": "bvZXkwGuGJjY"
   },
   "source": [
    "#### 載入模型\n",
    "- 這裡直接使用 torchvision 所提供的由 ImageNet 訓練好的 ResNet-18 模型\n",
    "- CPU版本進行"
   ]
  },
  {
   "cell_type": "code",
   "execution_count": null,
   "metadata": {
    "colab": {
     "base_uri": "https://localhost:8080/",
     "height": 1000,
     "referenced_widgets": [
      "21637c991d794a31950645dcb3129e3d",
      "fbe9d3b1acaf42f890e67ff82b15e1c4",
      "e6c9227752e8461a96c86a10aa3b2708",
      "36abbb589dab4bbd85a9dce65ded7bd9",
      "4f3a80a77b64430c895e85c0cf1be580",
      "a17c7729cb6b4a09b3d3cdd7c9df3d03",
      "e5e73e5e2cad4225827d3cdee2a12327",
      "f3639aff03f94f19b90c7fcd700456a4",
      "629f947d6a7045e693ad3b5f449e6120",
      "94082797ae3a4fd8a8347ba5e56e8728",
      "90bdbd42754445de84781b3857c61cfd"
     ]
    },
    "id": "gxBJ_41NFTGS",
    "outputId": "2e4ab4f6-380b-4569-d536-74e2d46856dc"
   },
   "outputs": [],
   "source": [
    "from torchvision import models\n",
    "\n",
    "# Get the pre-trained ResNet-18 model.\n",
    "model = models.resnet18(pretrained=True)\n",
    "\n",
    "# Turn on evaluation mode (no training, inference only).\n",
    "model.eval()\n",
    "\n",
    "print(model)"
   ]
  },
  {
   "cell_type": "markdown",
   "metadata": {
    "id": "KaV8hrlAHJcK"
   },
   "source": [
    "#### 由於模型的輸入必須要固定大小，因此定義了一個轉換的方法：將輸入的圖片轉成固定的大小後，再轉成 PyTorch 的資料格式（Tensor），並且根據 ImageNet 的 mean 與 standard deviation 做正規化。"
   ]
  },
  {
   "cell_type": "code",
   "execution_count": null,
   "metadata": {
    "id": "O7Jib_CNG5uR"
   },
   "outputs": [],
   "source": [
    "from torchvision import transforms\n",
    "\n",
    "transform = transforms.Compose([\n",
    "    transforms.Resize((224, 224)),\n",
    "    transforms.ToTensor(),\n",
    "    transforms.Normalize(\n",
    "        mean=[0.485, 0.456, 0.406],\n",
    "         std=[0.229, 0.224, 0.225],\n",
    "    ),\n",
    "])"
   ]
  },
  {
   "cell_type": "markdown",
   "metadata": {
    "id": "XWcCG05YHYYt"
   },
   "source": [
    "這裡定義 function `run_classification()` 來實際做 inference。在將圖片餵給模型之前，除了要做上面提到的轉換，還要將格式從 `CHW` 轉成 `NCHW` 才會對。"
   ]
  },
  {
   "cell_type": "code",
   "execution_count": null,
   "metadata": {
    "id": "vLV6t4BLHM3K"
   },
   "outputs": [],
   "source": [
    "def run_classification(model, transform, labels, image):\n",
    "    # Apply transformation for the given image.\n",
    "    input_image = transform(image)\n",
    "    print(input_image.shape)\n",
    "    # Convert format from CHW to NCHW.\n",
    "    input_images = torch.unsqueeze(input_image, 0)\n",
    "    print(input_images.shape)\n",
    "    # Move image data from CPU to GPU.\n",
    "    #input_images = input_images.cuda()\n",
    "\n",
    "    # Do the inference.\n",
    "    model_out = model(input_images)\n",
    "    print(model_out.shape)\n",
    "\n",
    "    # Get the label index that has largest probability.\n",
    "    label_index = torch.argmax(model_out, 1)[0].item()\n",
    "    # Get the label.\n",
    "    label = labels[label_index]\n",
    "\n",
    "    return label"
   ]
  },
  {
   "cell_type": "markdown",
   "metadata": {
    "id": "4LToSYbbHhXs"
   },
   "source": [
    "再來是定義 function `is_dog()` 來根據模型輸出的 label 來判斷是否為狗。由於 ImageNet 的 label 並沒有直接定義是狗的 label，而是各種狗的種類。因此需要多一步來判斷是否為狗。"
   ]
  },
  {
   "cell_type": "code",
   "execution_count": null,
   "metadata": {
    "id": "5XrQ4PdHHbHP"
   },
   "outputs": [],
   "source": [
    "# 原來列出來的dog type, 但有所不足\n",
    "def is_dog(label):\n",
    "    return label in [\n",
    "        'dalmatian',\n",
    "        'Mexican_hairless',\n",
    "        'Newfoundland',\n",
    "        'basenji',\n",
    "        'Leonberg',\n",
    "        'pug',\n",
    "        'Great_Pyrenees',\n",
    "        'Maltese_dog',\n",
    "        'Old_English_sheepdog',\n",
    "        'Shetland_sheepdog',\n",
    "        'Greater_Swiss_Mountain_dog',\n",
    "        'Bernese_mountain_dog',\n",
    "        'French_bulldog',\n",
    "        'Eskimo_dog',\n",
    "        'African_hunting_dog',\n",
    "        'Tibetan_terrier',\n",
    "    ]"
   ]
  },
  {
   "cell_type": "code",
   "execution_count": null,
   "metadata": {
    "id": "tmCfSQOZBAob"
   },
   "outputs": [],
   "source": [
    "# 整理v2(相同類型的label大致有放在一起)\n",
    "def is_dog(label):\n",
    "  return label in [\n",
    "\"Chihuahua\",\n",
    "\"Japanese_spaniel\",\n",
    "\"Maltese_dog\",\n",
    "\"Pekinese\",\n",
    "\"Shih-Tzu\",\n",
    "\"Blenheim_spaniel\",\n",
    "\"papillon\",\n",
    "\"toy_terrier\",\n",
    "\"Rhodesian_ridgeback\",\n",
    "\"Afghan_hound\",\n",
    "\"basset\",\n",
    "\"beagle\",\n",
    "\"bloodhound\",\n",
    "\"bluetick\",\n",
    "\"black-and-tan_coonhound\",\n",
    "\"Walker_hound\",\n",
    "\"English_foxhound\",\n",
    "\"redbone\",\n",
    "\"borzoi\",\n",
    "\"Irish_wolfhound\",\n",
    "\"Italian_greyhound\",\n",
    "\"whippet\",\n",
    "\"Ibizan_hound\",\n",
    "\"Norwegian_elkhound\",\n",
    "\"otterhound\",\n",
    "\"Saluki\",\n",
    "\"Scottish_deerhound\",\n",
    "\"Weimaraner\",\n",
    "\"Staffordshire_bullterrier\",\n",
    "\"American_Staffordshire_terrier\",\n",
    "\"Bedlington_terrier\",\n",
    "\"Border_terrier\",\n",
    "\"Kerry_blue_terrier\",\n",
    "\"Irish_terrier\",\n",
    "\"Norfolk_terrier\",\n",
    "\"Norwich_terrier\",\n",
    "\"Yorkshire_terrier\",\n",
    "\"wire-haired_fox_terrier\",\n",
    "\"Lakeland_terrier\",\n",
    "\"Sealyham_terrier\",\n",
    "\"Airedale\",\n",
    "\"cairn\",\n",
    "\"Australian_terrier\",\n",
    "\"Dandie_Dinmont\",\n",
    "\"Boston_bull\",\n",
    "\"miniature_schnauzer\",\n",
    "\"giant_schnauzer\",\n",
    "\"standard_schnauzer\",\n",
    "\"Scotch_terrier\",\n",
    "\"Tibetan_terrier\",\n",
    "\"silky_terrier\",\n",
    "\"soft-coated_wheaten_terrier\",\n",
    "\"West_Highland_white_terrier\",\n",
    "\"Lhasa\",\n",
    "\"flat-coated_retriever\",\n",
    "\"curly-coated_retriever\",\n",
    "\"golden_retriever\",\n",
    "\"Labrador_retriever\",\n",
    "\"Chesapeake_Bay_retriever\",\n",
    "\"German_short-haired_pointer\",\n",
    "\"vizsla\",\n",
    "\"English_setter\",\n",
    "\"Irish_setter\",\n",
    "\"Gordon_setter\",\n",
    "\"Brittany_spaniel\",\n",
    "\"clumber\",\n",
    "\"English_springer\",\n",
    "\"Welsh_springer_spaniel\",\n",
    "\"cocker_spaniel\",\n",
    "\"Sussex_spaniel\",\n",
    "\"Irish_water_spaniel\",\n",
    "\"kuvasz\",\n",
    "\"schipperke\",\n",
    "\"groenendael\",\n",
    "\"malinois\",\n",
    "\"briard\",\n",
    "\"kelpie\",\n",
    "\"komondor\",\n",
    "\"Old_English_sheepdog\",\n",
    "\"Shetland_sheepdog\",\n",
    "\"collie\",\n",
    "\"Border_collie\",\n",
    "\"Bouvier_des_Flandres\",\n",
    "\"Rottweiler\",\n",
    "\"German_shepherd\",\n",
    "\"Doberman\",\n",
    "\"miniature_pinscher\",\n",
    "\"Greater_Swiss_Mountain_dog\",\n",
    "\"Bernese_mountain_dog\",\n",
    "\"Appenzeller\",\n",
    "\"EntleBucher\",\n",
    "\"boxer\",\n",
    "\"bull_mastiff\",\n",
    "\"Tibetan_mastiff\",\n",
    "\"French_bulldog\",\n",
    "\"Great_Dane\",\n",
    "\"Saint_Bernard\",\n",
    "\"Eskimo_dog\",\n",
    "\"malamute\",\n",
    "\"Siberian_husky\",\n",
    "\"dalmatian\",\n",
    "\"affenpinscher\",\n",
    "\"basenji\",\n",
    "\"pug\",\n",
    "\"Leonberg\",\n",
    "\"Newfoundland\",\n",
    "\"Great_Pyrenees\",\n",
    "\"Samoyed\",\n",
    "\"Pomeranian\",\n",
    "\"chow\",\n",
    "\"keeshond\",\n",
    "\"Brabancon_griffon\",\n",
    "\"Pembroke\",\n",
    "\"Cardigan\",\n",
    "\"toy_poodle\",\n",
    "\"miniature_poodle\",\n",
    "\"standard_poodle\",\n",
    "\"Mexican_hairless\",\n",
    "\"timber_wolf\",\n",
    "\"white_wolf\",\n",
    "\"red_wolf\",\n",
    "\"coyote\",\n",
    "\"dingo\",\n",
    "\"dhole\",\n",
    "\"African_hunting_dog\",\n",
    "    ]"
   ]
  },
  {
   "cell_type": "markdown",
   "metadata": {
    "id": "PqI0pzrlHsV1"
   },
   "source": [
    "以上都完成後，就可以真的跑模型看看結果囉。"
   ]
  },
  {
   "cell_type": "markdown",
   "metadata": {
    "id": "iusYFTxmIawH"
   },
   "source": [
    "### 把自己下載的圖片上傳到colab進行辨識"
   ]
  },
  {
   "cell_type": "code",
   "execution_count": null,
   "metadata": {
    "colab": {
     "base_uri": "https://localhost:8080/",
     "height": 77
    },
    "id": "yFw0ycH6Hww7",
    "outputId": "c9394bb4-dccc-4412-8e9e-672acdd3d2f7"
   },
   "outputs": [],
   "source": [
    "from google.colab import files\n",
    "\n",
    "uploaded = files.upload()"
   ]
  },
  {
   "cell_type": "code",
   "execution_count": null,
   "metadata": {
    "colab": {
     "base_uri": "https://localhost:8080/",
     "height": 330
    },
    "id": "bhAzQ5vfIjXV",
    "outputId": "cd7ffa45-654d-4c0e-a6a6-3676f79bc73c"
   },
   "outputs": [],
   "source": [
    "image = Image.open(\"dog02.jpg\").convert(\"RGB\")\n",
    "\n",
    "label = run_classification(model, transform, labels, image)\n",
    "print(label, is_dog(label))\n",
    "\n",
    "plt.imshow(image)"
   ]
  },
  {
   "cell_type": "markdown",
   "metadata": {
    "id": "k4RnPZpUn2dz"
   },
   "source": [
    "#### 傳一張不是狗的照片試試看"
   ]
  },
  {
   "cell_type": "code",
   "execution_count": null,
   "metadata": {
    "colab": {
     "base_uri": "https://localhost:8080/",
     "height": 77
    },
    "id": "BwFw4lEPn8Qw",
    "outputId": "b2b0bdfd-ad31-43ed-d413-4f797552de46"
   },
   "outputs": [],
   "source": [
    "from google.colab import files\n",
    "\n",
    "uploaded = files.upload()"
   ]
  },
  {
   "cell_type": "code",
   "execution_count": null,
   "metadata": {
    "colab": {
     "base_uri": "https://localhost:8080/",
     "height": 360
    },
    "id": "T89Uz9fVoB0g",
    "outputId": "f816eae8-fc08-40e4-d4df-f54a1bcf77b9"
   },
   "outputs": [],
   "source": [
    "image = Image.open(\"cat02.jpg\").convert(\"RGB\")\n",
    "\n",
    "label = run_classification(model, transform, labels, image)\n",
    "print(label, is_dog(label))\n",
    "\n",
    "plt.imshow(image)"
   ]
  },
  {
   "cell_type": "markdown",
   "metadata": {
    "id": "rINwaU2LJDIz"
   },
   "source": [
    "### 來把reddit的圖片下載下來，並進行辨識"
   ]
  },
  {
   "cell_type": "code",
   "execution_count": null,
   "metadata": {
    "colab": {
     "base_uri": "https://localhost:8080/"
    },
    "id": "7msbEpkNIoFX",
    "outputId": "dd3c157e-6b4d-45ea-f947-e653e02e766b"
   },
   "outputs": [],
   "source": [
    "num_repeats = 40\n",
    "\n",
    "dog_labels = []\n",
    "dog_images = []\n",
    "for _ in range(num_repeats):\n",
    "    try:\n",
    "\n",
    "      image_filename =  get_rand_meme()\n",
    "\n",
    "      image = Image.open(image_filename).convert(\"RGB\")\n",
    "      label = run_classification(model, transform, labels, image)\n",
    "\n",
    "      if is_dog(label):\n",
    "          dog_labels.append(label)\n",
    "          dog_images.append(image)\n",
    "    except Exception as e:\n",
    "        print(str(e))\n",
    "\n",
    "print(dog_labels)"
   ]
  },
  {
   "cell_type": "code",
   "execution_count": null,
   "metadata": {
    "colab": {
     "base_uri": "https://localhost:8080/"
    },
    "id": "_LKlN6unJWSB",
    "outputId": "fc58149f-83f0-45ee-9a2a-9a8a2b05c12e"
   },
   "outputs": [],
   "source": [
    "print(dog_labels)"
   ]
  },
  {
   "cell_type": "markdown",
   "metadata": {
    "id": "BXkE5jWCJ5ea"
   },
   "source": [
    "### show出所有有狗的圖片"
   ]
  },
  {
   "cell_type": "code",
   "execution_count": null,
   "metadata": {
    "colab": {
     "base_uri": "https://localhost:8080/",
     "height": 1000
    },
    "id": "SIErYEMQJdgh",
    "outputId": "96a9fdc2-07a7-49ba-e7f4-70c0ddf5d8b0"
   },
   "outputs": [],
   "source": [
    "fig = plt.figure(figsize=(30, 30))\n",
    "for idx in range(len(dog_labels)):\n",
    "    ax = fig.add_subplot(\n",
    "        int(len(dog_labels) / 4) + 1,\n",
    "        4,\n",
    "        idx + 1,\n",
    "        xticks=[],\n",
    "        yticks=[],\n",
    "    )\n",
    "    ax.imshow(dog_images[idx])\n",
    "    ax.set_title(dog_labels[idx], size=30)\n",
    "\n",
    "    fig.show()"
   ]
  },
  {
   "cell_type": "code",
   "execution_count": null,
   "metadata": {
    "id": "nlPxnuuwJ-zc"
   },
   "outputs": [],
   "source": []
  }
 ],
 "metadata": {
  "colab": {
   "collapsed_sections": [],
   "provenance": []
  },
  "gpuClass": "standard",
  "kernelspec": {
   "display_name": "Python 3 (ipykernel)",
   "language": "python",
   "name": "python3"
  },
  "language_info": {
   "codemirror_mode": {
    "name": "ipython",
    "version": 3
   },
   "file_extension": ".py",
   "mimetype": "text/x-python",
   "name": "python",
   "nbconvert_exporter": "python",
   "pygments_lexer": "ipython3",
   "version": "3.9.7"
  },
  "widgets": {
   "application/vnd.jupyter.widget-state+json": {
    "21637c991d794a31950645dcb3129e3d": {
     "model_module": "@jupyter-widgets/controls",
     "model_module_version": "1.5.0",
     "model_name": "HBoxModel",
     "state": {
      "_dom_classes": [],
      "_model_module": "@jupyter-widgets/controls",
      "_model_module_version": "1.5.0",
      "_model_name": "HBoxModel",
      "_view_count": null,
      "_view_module": "@jupyter-widgets/controls",
      "_view_module_version": "1.5.0",
      "_view_name": "HBoxView",
      "box_style": "",
      "children": [
       "IPY_MODEL_fbe9d3b1acaf42f890e67ff82b15e1c4",
       "IPY_MODEL_e6c9227752e8461a96c86a10aa3b2708",
       "IPY_MODEL_36abbb589dab4bbd85a9dce65ded7bd9"
      ],
      "layout": "IPY_MODEL_4f3a80a77b64430c895e85c0cf1be580"
     }
    },
    "36abbb589dab4bbd85a9dce65ded7bd9": {
     "model_module": "@jupyter-widgets/controls",
     "model_module_version": "1.5.0",
     "model_name": "HTMLModel",
     "state": {
      "_dom_classes": [],
      "_model_module": "@jupyter-widgets/controls",
      "_model_module_version": "1.5.0",
      "_model_name": "HTMLModel",
      "_view_count": null,
      "_view_module": "@jupyter-widgets/controls",
      "_view_module_version": "1.5.0",
      "_view_name": "HTMLView",
      "description": "",
      "description_tooltip": null,
      "layout": "IPY_MODEL_94082797ae3a4fd8a8347ba5e56e8728",
      "placeholder": "​",
      "style": "IPY_MODEL_90bdbd42754445de84781b3857c61cfd",
      "value": " 44.7M/44.7M [00:00&lt;00:00, 163MB/s]"
     }
    },
    "4f3a80a77b64430c895e85c0cf1be580": {
     "model_module": "@jupyter-widgets/base",
     "model_module_version": "1.2.0",
     "model_name": "LayoutModel",
     "state": {
      "_model_module": "@jupyter-widgets/base",
      "_model_module_version": "1.2.0",
      "_model_name": "LayoutModel",
      "_view_count": null,
      "_view_module": "@jupyter-widgets/base",
      "_view_module_version": "1.2.0",
      "_view_name": "LayoutView",
      "align_content": null,
      "align_items": null,
      "align_self": null,
      "border": null,
      "bottom": null,
      "display": null,
      "flex": null,
      "flex_flow": null,
      "grid_area": null,
      "grid_auto_columns": null,
      "grid_auto_flow": null,
      "grid_auto_rows": null,
      "grid_column": null,
      "grid_gap": null,
      "grid_row": null,
      "grid_template_areas": null,
      "grid_template_columns": null,
      "grid_template_rows": null,
      "height": null,
      "justify_content": null,
      "justify_items": null,
      "left": null,
      "margin": null,
      "max_height": null,
      "max_width": null,
      "min_height": null,
      "min_width": null,
      "object_fit": null,
      "object_position": null,
      "order": null,
      "overflow": null,
      "overflow_x": null,
      "overflow_y": null,
      "padding": null,
      "right": null,
      "top": null,
      "visibility": null,
      "width": null
     }
    },
    "629f947d6a7045e693ad3b5f449e6120": {
     "model_module": "@jupyter-widgets/controls",
     "model_module_version": "1.5.0",
     "model_name": "ProgressStyleModel",
     "state": {
      "_model_module": "@jupyter-widgets/controls",
      "_model_module_version": "1.5.0",
      "_model_name": "ProgressStyleModel",
      "_view_count": null,
      "_view_module": "@jupyter-widgets/base",
      "_view_module_version": "1.2.0",
      "_view_name": "StyleView",
      "bar_color": null,
      "description_width": ""
     }
    },
    "90bdbd42754445de84781b3857c61cfd": {
     "model_module": "@jupyter-widgets/controls",
     "model_module_version": "1.5.0",
     "model_name": "DescriptionStyleModel",
     "state": {
      "_model_module": "@jupyter-widgets/controls",
      "_model_module_version": "1.5.0",
      "_model_name": "DescriptionStyleModel",
      "_view_count": null,
      "_view_module": "@jupyter-widgets/base",
      "_view_module_version": "1.2.0",
      "_view_name": "StyleView",
      "description_width": ""
     }
    },
    "94082797ae3a4fd8a8347ba5e56e8728": {
     "model_module": "@jupyter-widgets/base",
     "model_module_version": "1.2.0",
     "model_name": "LayoutModel",
     "state": {
      "_model_module": "@jupyter-widgets/base",
      "_model_module_version": "1.2.0",
      "_model_name": "LayoutModel",
      "_view_count": null,
      "_view_module": "@jupyter-widgets/base",
      "_view_module_version": "1.2.0",
      "_view_name": "LayoutView",
      "align_content": null,
      "align_items": null,
      "align_self": null,
      "border": null,
      "bottom": null,
      "display": null,
      "flex": null,
      "flex_flow": null,
      "grid_area": null,
      "grid_auto_columns": null,
      "grid_auto_flow": null,
      "grid_auto_rows": null,
      "grid_column": null,
      "grid_gap": null,
      "grid_row": null,
      "grid_template_areas": null,
      "grid_template_columns": null,
      "grid_template_rows": null,
      "height": null,
      "justify_content": null,
      "justify_items": null,
      "left": null,
      "margin": null,
      "max_height": null,
      "max_width": null,
      "min_height": null,
      "min_width": null,
      "object_fit": null,
      "object_position": null,
      "order": null,
      "overflow": null,
      "overflow_x": null,
      "overflow_y": null,
      "padding": null,
      "right": null,
      "top": null,
      "visibility": null,
      "width": null
     }
    },
    "a17c7729cb6b4a09b3d3cdd7c9df3d03": {
     "model_module": "@jupyter-widgets/base",
     "model_module_version": "1.2.0",
     "model_name": "LayoutModel",
     "state": {
      "_model_module": "@jupyter-widgets/base",
      "_model_module_version": "1.2.0",
      "_model_name": "LayoutModel",
      "_view_count": null,
      "_view_module": "@jupyter-widgets/base",
      "_view_module_version": "1.2.0",
      "_view_name": "LayoutView",
      "align_content": null,
      "align_items": null,
      "align_self": null,
      "border": null,
      "bottom": null,
      "display": null,
      "flex": null,
      "flex_flow": null,
      "grid_area": null,
      "grid_auto_columns": null,
      "grid_auto_flow": null,
      "grid_auto_rows": null,
      "grid_column": null,
      "grid_gap": null,
      "grid_row": null,
      "grid_template_areas": null,
      "grid_template_columns": null,
      "grid_template_rows": null,
      "height": null,
      "justify_content": null,
      "justify_items": null,
      "left": null,
      "margin": null,
      "max_height": null,
      "max_width": null,
      "min_height": null,
      "min_width": null,
      "object_fit": null,
      "object_position": null,
      "order": null,
      "overflow": null,
      "overflow_x": null,
      "overflow_y": null,
      "padding": null,
      "right": null,
      "top": null,
      "visibility": null,
      "width": null
     }
    },
    "e5e73e5e2cad4225827d3cdee2a12327": {
     "model_module": "@jupyter-widgets/controls",
     "model_module_version": "1.5.0",
     "model_name": "DescriptionStyleModel",
     "state": {
      "_model_module": "@jupyter-widgets/controls",
      "_model_module_version": "1.5.0",
      "_model_name": "DescriptionStyleModel",
      "_view_count": null,
      "_view_module": "@jupyter-widgets/base",
      "_view_module_version": "1.2.0",
      "_view_name": "StyleView",
      "description_width": ""
     }
    },
    "e6c9227752e8461a96c86a10aa3b2708": {
     "model_module": "@jupyter-widgets/controls",
     "model_module_version": "1.5.0",
     "model_name": "FloatProgressModel",
     "state": {
      "_dom_classes": [],
      "_model_module": "@jupyter-widgets/controls",
      "_model_module_version": "1.5.0",
      "_model_name": "FloatProgressModel",
      "_view_count": null,
      "_view_module": "@jupyter-widgets/controls",
      "_view_module_version": "1.5.0",
      "_view_name": "ProgressView",
      "bar_style": "success",
      "description": "",
      "description_tooltip": null,
      "layout": "IPY_MODEL_f3639aff03f94f19b90c7fcd700456a4",
      "max": 46830571,
      "min": 0,
      "orientation": "horizontal",
      "style": "IPY_MODEL_629f947d6a7045e693ad3b5f449e6120",
      "value": 46830571
     }
    },
    "f3639aff03f94f19b90c7fcd700456a4": {
     "model_module": "@jupyter-widgets/base",
     "model_module_version": "1.2.0",
     "model_name": "LayoutModel",
     "state": {
      "_model_module": "@jupyter-widgets/base",
      "_model_module_version": "1.2.0",
      "_model_name": "LayoutModel",
      "_view_count": null,
      "_view_module": "@jupyter-widgets/base",
      "_view_module_version": "1.2.0",
      "_view_name": "LayoutView",
      "align_content": null,
      "align_items": null,
      "align_self": null,
      "border": null,
      "bottom": null,
      "display": null,
      "flex": null,
      "flex_flow": null,
      "grid_area": null,
      "grid_auto_columns": null,
      "grid_auto_flow": null,
      "grid_auto_rows": null,
      "grid_column": null,
      "grid_gap": null,
      "grid_row": null,
      "grid_template_areas": null,
      "grid_template_columns": null,
      "grid_template_rows": null,
      "height": null,
      "justify_content": null,
      "justify_items": null,
      "left": null,
      "margin": null,
      "max_height": null,
      "max_width": null,
      "min_height": null,
      "min_width": null,
      "object_fit": null,
      "object_position": null,
      "order": null,
      "overflow": null,
      "overflow_x": null,
      "overflow_y": null,
      "padding": null,
      "right": null,
      "top": null,
      "visibility": null,
      "width": null
     }
    },
    "fbe9d3b1acaf42f890e67ff82b15e1c4": {
     "model_module": "@jupyter-widgets/controls",
     "model_module_version": "1.5.0",
     "model_name": "HTMLModel",
     "state": {
      "_dom_classes": [],
      "_model_module": "@jupyter-widgets/controls",
      "_model_module_version": "1.5.0",
      "_model_name": "HTMLModel",
      "_view_count": null,
      "_view_module": "@jupyter-widgets/controls",
      "_view_module_version": "1.5.0",
      "_view_name": "HTMLView",
      "description": "",
      "description_tooltip": null,
      "layout": "IPY_MODEL_a17c7729cb6b4a09b3d3cdd7c9df3d03",
      "placeholder": "​",
      "style": "IPY_MODEL_e5e73e5e2cad4225827d3cdee2a12327",
      "value": "100%"
     }
    }
   }
  }
 },
 "nbformat": 4,
 "nbformat_minor": 1
}
