{
 "cells": [
  {
   "cell_type": "markdown",
   "id": "56ba7f17",
   "metadata": {},
   "source": [
    "# Demo6: 手寫數字辨識"
   ]
  },
  {
   "cell_type": "markdown",
   "id": "1aa2ef84",
   "metadata": {},
   "source": [
    "ref: https://scikit-learn.org/stable/auto_examples/classification/plot_digits_classification.html#sphx-glr-auto-examples-classification-plot-digits-classification-py"
   ]
  },
  {
   "cell_type": "code",
   "execution_count": 11,
   "id": "4efb7d49",
   "metadata": {},
   "outputs": [],
   "source": [
    "# Standard scientific Python imports\n",
    "import matplotlib.pyplot as plt\n",
    "\n",
    "# Import datasets, classifiers and performance metrics\n",
    "from sklearn import datasets, svm, metrics\n",
    "from sklearn.model_selection import train_test_split"
   ]
  },
  {
   "cell_type": "markdown",
   "id": "033ebc57",
   "metadata": {},
   "source": [
    "### Digital number:\n",
    "The digits dataset consists of 8x8 pixel images of digits. The images attribute of the dataset stores 8x8 arrays of grayscale values for each image"
   ]
  },
  {
   "cell_type": "code",
   "execution_count": 1,
   "id": "25d22275",
   "metadata": {
    "scrolled": true
   },
   "outputs": [
    {
     "name": "stdout",
     "output_type": "stream",
     "text": [
      "1\n",
      "2\n",
      "3\n",
      "4\n",
      "5\n",
      "6\n"
     ]
    }
   ],
   "source": [
    "a_list = [1,2,3,4,5,6]\n",
    "for item in a_list:\n",
    "    print(item)"
   ]
  },
  {
   "cell_type": "code",
   "execution_count": 2,
   "id": "247c6e19",
   "metadata": {
    "scrolled": true
   },
   "outputs": [
    {
     "name": "stdout",
     "output_type": "stream",
     "text": [
      "[1, 10]\n",
      "[2, 20]\n",
      "[3, 30]\n",
      "[4, 40]\n"
     ]
    }
   ],
   "source": [
    "b_list = [ [1,10],\n",
    "          [2,20],\n",
    "          [3,30],\n",
    "          [4,40]\n",
    "         ]\n",
    "for item in b_list:\n",
    "    print(item)"
   ]
  },
  {
   "cell_type": "code",
   "execution_count": 5,
   "id": "cd4fe8fc",
   "metadata": {
    "scrolled": true
   },
   "outputs": [
    {
     "name": "stdout",
     "output_type": "stream",
     "text": [
      "1 10\n",
      "2 20\n",
      "3 30\n",
      "4 40\n"
     ]
    }
   ],
   "source": [
    "for m, n in b_list:\n",
    "    print(m, n)"
   ]
  },
  {
   "cell_type": "code",
   "execution_count": 6,
   "id": "f302b473",
   "metadata": {
    "scrolled": true
   },
   "outputs": [
    {
     "name": "stdout",
     "output_type": "stream",
     "text": [
      "[1, 10, 100]\n",
      "[2, 20, 200]\n",
      "[3, 30, 300]\n",
      "[4, 40, 400]\n"
     ]
    }
   ],
   "source": [
    "c_list = [ [1,10,100],\n",
    "          [2,20,200],\n",
    "          [3,30,300],\n",
    "          [4,40,400]\n",
    "         ]\n",
    "for item in c_list:\n",
    "    print(item)"
   ]
  },
  {
   "cell_type": "code",
   "execution_count": 7,
   "id": "42c19ec6",
   "metadata": {
    "scrolled": true
   },
   "outputs": [
    {
     "name": "stdout",
     "output_type": "stream",
     "text": [
      "1 10\n",
      "2 20\n",
      "3 30\n",
      "4 40\n"
     ]
    }
   ],
   "source": [
    "for m, n, k in c_list:\n",
    "    print(m, n)"
   ]
  },
  {
   "cell_type": "code",
   "execution_count": 8,
   "id": "e3ef1089",
   "metadata": {
    "scrolled": true
   },
   "outputs": [
    {
     "name": "stdout",
     "output_type": "stream",
     "text": [
      "1 10\n",
      "2 20\n",
      "3 30\n",
      "4 40\n"
     ]
    }
   ],
   "source": [
    "a1 = [1,2,3,4]\n",
    "a2 = [10,20,30,40]\n",
    "for m, n in zip(a1, a2):\n",
    "    print(m, n)"
   ]
  },
  {
   "cell_type": "code",
   "execution_count": 9,
   "id": "35b121d0",
   "metadata": {
    "scrolled": true
   },
   "outputs": [
    {
     "name": "stdout",
     "output_type": "stream",
     "text": [
      "(1, 10)\n",
      "(2, 20)\n",
      "(3, 30)\n",
      "(4, 40)\n"
     ]
    }
   ],
   "source": [
    "for item in zip(a1, a2):\n",
    "    print(item)"
   ]
  },
  {
   "cell_type": "code",
   "execution_count": null,
   "id": "e807d506",
   "metadata": {},
   "outputs": [],
   "source": [
    "# 若不用zip會有點麻煩\n",
    "d_list = []\n",
    "for i in range(len(axes)):\n",
    "    d_list.append([ axes[i], digits.image[i], digits.target[i] ])"
   ]
  },
  {
   "cell_type": "code",
   "execution_count": 12,
   "id": "4066fe56",
   "metadata": {},
   "outputs": [
    {
     "data": {
      "image/png": "[encoded data removed]",
      "text/plain": [
       "<Figure size 360x216 with 4 Axes>"
      ]
     },
     "metadata": {
      "needs_background": "light"
     },
     "output_type": "display_data"
    }
   ],
   "source": [
    "digits = datasets.load_digits()\n",
    "\n",
    "_, axes = plt.subplots(nrows=1, ncols=4, figsize=(5, 3))\n",
    "for ax, image, label in zip(axes, digits.images, digits.target):\n",
    "    ax.set_axis_off()\n",
    "    ax.imshow(image, cmap=plt.cm.gray_r, interpolation=\"nearest\")\n",
    "    ax.set_title(\"Training: %i\" % label)"
   ]
  },
  {
   "cell_type": "code",
   "execution_count": 8,
   "id": "e3f651c5",
   "metadata": {},
   "outputs": [
    {
     "data": {
      "text/plain": [
       "dict_keys(['data', 'target', 'frame', 'feature_names', 'target_names', 'images', 'DESCR'])"
      ]
     },
     "execution_count": 8,
     "metadata": {},
     "output_type": "execute_result"
    }
   ],
   "source": [
    "digits.keys()"
   ]
  },
  {
   "cell_type": "code",
   "execution_count": 9,
   "id": "9dd7a488",
   "metadata": {
    "collapsed": true
   },
   "outputs": [
    {
     "name": "stdout",
     "output_type": "stream",
     "text": [
      ".. _digits_dataset:\n",
      "\n",
      "Optical recognition of handwritten digits dataset\n",
      "--------------------------------------------------\n",
      "\n",
      "**Data Set Characteristics:**\n",
      "\n",
      "    :Number of Instances: 1797\n",
      "    :Number of Attributes: 64\n",
      "    :Attribute Information: 8x8 image of integer pixels in the range 0..16.\n",
      "    :Missing Attribute Values: None\n",
      "    :Creator: E. Alpaydin (alpaydin '@' boun.edu.tr)\n",
      "    :Date: July; 1998\n",
      "\n",
      "This is a copy of the test set of the UCI ML hand-written digits datasets\n",
      "https://archive.ics.uci.edu/ml/datasets/Optical+Recognition+of+Handwritten+Digits\n",
      "\n",
      "The data set contains images of hand-written digits: 10 classes where\n",
      "each class refers to a digit.\n",
      "\n",
      "Preprocessing programs made available by NIST were used to extract\n",
      "normalized bitmaps of handwritten digits from a preprinted form. From a\n",
      "total of 43 people, 30 contributed to the training set and different 13\n",
      "to the test set. 32x32 bitmaps are divided into nonoverlapping blocks of\n",
      "4x4 and the number of on pixels are counted in each block. This generates\n",
      "an input matrix of 8x8 where each element is an integer in the range\n",
      "0..16. This reduces dimensionality and gives invariance to small\n",
      "distortions.\n",
      "\n",
      "For info on NIST preprocessing routines, see M. D. Garris, J. L. Blue, G.\n",
      "T. Candela, D. L. Dimmick, J. Geist, P. J. Grother, S. A. Janet, and C.\n",
      "L. Wilson, NIST Form-Based Handprint Recognition System, NISTIR 5469,\n",
      "1994.\n",
      "\n",
      ".. topic:: References\n",
      "\n",
      "  - C. Kaynak (1995) Methods of Combining Multiple Classifiers and Their\n",
      "    Applications to Handwritten Digit Recognition, MSc Thesis, Institute of\n",
      "    Graduate Studies in Science and Engineering, Bogazici University.\n",
      "  - E. Alpaydin, C. Kaynak (1998) Cascading Classifiers, Kybernetika.\n",
      "  - Ken Tang and Ponnuthurai N. Suganthan and Xi Yao and A. Kai Qin.\n",
      "    Linear dimensionalityreduction using relevance weighted LDA. School of\n",
      "    Electrical and Electronic Engineering Nanyang Technological University.\n",
      "    2005.\n",
      "  - Claudio Gentile. A New Approximate Maximal Margin Classification\n",
      "    Algorithm. NIPS. 2000.\n",
      "\n"
     ]
    }
   ],
   "source": [
    "print(digits['DESCR'])"
   ]
  },
  {
   "cell_type": "markdown",
   "id": "b535e20a",
   "metadata": {},
   "source": [
    "### 整理資料"
   ]
  },
  {
   "cell_type": "code",
   "execution_count": 19,
   "id": "a7e359a5",
   "metadata": {},
   "outputs": [],
   "source": [
    "# flatten the images\n",
    "n_samples = len(digits.images)\n",
    "data = digits.images.reshape((n_samples, -1))"
   ]
  },
  {
   "cell_type": "code",
   "execution_count": 20,
   "id": "e22267cb",
   "metadata": {},
   "outputs": [],
   "source": [
    "# Split data into 50% train and 50% test subsets\n",
    "X_train, X_test, y_train, y_test = train_test_split(\n",
    "    data, digits.target, test_size=0.5, shuffle=False\n",
    ")  \n",
    "#suffle=False:不會特別去將順序打亂，預設為True"
   ]
  },
  {
   "cell_type": "markdown",
   "id": "5aee6546",
   "metadata": {},
   "source": [
    "### 建立模型"
   ]
  },
  {
   "cell_type": "code",
   "execution_count": 21,
   "id": "c944ed79",
   "metadata": {},
   "outputs": [],
   "source": [
    "# Create a classifier: a support vector classifier\n",
    "#clf = svm.SVC(gamma=0.001)\n",
    "\n",
    "from sklearn.cluster import KMeans\n",
    "\n",
    "kmeans = KMeans(n_clusters=10)"
   ]
  },
  {
   "cell_type": "markdown",
   "id": "5791e8ef",
   "metadata": {},
   "source": [
    "### 訓練模型"
   ]
  },
  {
   "cell_type": "code",
   "execution_count": 22,
   "id": "00a1c280",
   "metadata": {
    "scrolled": true
   },
   "outputs": [
    {
     "data": {
      "text/plain": [
       "KMeans(n_clusters=10)"
      ]
     },
     "execution_count": 22,
     "metadata": {},
     "output_type": "execute_result"
    }
   ],
   "source": [
    "# Learn the digits on the train subset\n",
    "# clf.fit(X_train, y_train)\n",
    "\n",
    "kmeans.fit(X_train)"
   ]
  },
  {
   "cell_type": "markdown",
   "id": "7ca3306b",
   "metadata": {},
   "source": [
    "## 用模型做預測"
   ]
  },
  {
   "cell_type": "code",
   "execution_count": 24,
   "id": "58be6065",
   "metadata": {},
   "outputs": [],
   "source": [
    "y_kmeans = kmeans.predict(X_train)"
   ]
  },
  {
   "cell_type": "code",
   "execution_count": 27,
   "id": "1c358962",
   "metadata": {},
   "outputs": [
    {
     "data": {
      "text/plain": [
       "array([ 3,  4,  3, -1,  4,  1, -2,  2, -3, -3,  3,  0, -2, -1,  4,  2, -2,\n",
       "        2, -3, -3,  3,  0, -2, -1, -3,  2, -2,  2, -3, -3,  3, -3,  2,  2,\n",
       "       -2,  2,  3, -3, -3, -3, -3,  4,  0,  2,  2, -1,  2,  0,  3,  3,  3,\n",
       "        3,  2, -3,  3,  3,  0,  3, -2, -1, -1,  2, -1, -1,  4, -2, -2, -2,\n",
       "        4, -4,  0,  2,  3, -3,  2,  3, -3, -1,  3,  3,  0,  2, -2, -1, -2,\n",
       "        0,  2,  4, -2, -1,  0, -1, -3,  4,  2, -1, -3,  4, -1,  4,  4,  3,\n",
       "        2,  4, -2, -3, -2,  0,  2,  2,  4,  4,  2, -2, -3,  3,  3,  2,  2,\n",
       "       -3,  2,  4, -3, -3,  4, -7,  3, -3, -3, -3,  3,  0, -2, -1,  4,  2,\n",
       "       -2,  2, -3, -3,  3,  0, -2, -1,  4,  2, -2,  2, -3, -3,  3,  0, -2,\n",
       "       -1,  4,  2, -2,  2, -3, -3,  3, -3,  2,  2, -2,  2,  3, -3, -3, -3,\n",
       "       -3,  4,  0,  2,  2, -1,  2,  0,  3,  3, -2, -2,  2, -3, -2,  3,  0,\n",
       "       -2, -2, -1, -1,  2, -1, -1,  4, -2, -2, -2,  4, -3,  0,  2,  3, -3,\n",
       "        2,  3, -3, -2,  3,  3,  0,  2, -2, -1, -2,  0,  2, -1,  0, -1, -3,\n",
       "        0,  2, -2, -3,  4, -1,  0,  4,  3,  2,  6, -2, -3, -2,  0,  2,  2,\n",
       "        4,  4,  2, -2, -3, -2, -2,  2,  2, -3, -3, -3,  4, -3,  3, -3, -3,\n",
       "       -3,  3,  4, -2, -1,  4,  1, -2,  2, -2,  0,  3,  0, -2, -1,  4,  2,\n",
       "       -2,  2, -3,  0,  3,  4, -2, -1,  4,  2, -2,  2, -3, -3,  3, -3,  2,\n",
       "        1, -2,  1,  3, -3, -3, -3, -3,  4,  4,  2,  2, -1,  2,  4,  3,  3,\n",
       "       -2, -2,  2, -2, -2,  3,  0, -2, -2, -1, -1,  2, -1, -1,  4, -2, -2,\n",
       "       -2,  4,  0,  4,  2,  3,  0,  2, -2, -2, -2,  3,  3,  4,  2, -2, -1,\n",
       "       -2,  4,  2,  4, -2, -1,  4, -1,  0,  4,  2, -2, -3,  4, -1,  4,  4,\n",
       "        3,  1, -1, -2,  0, -2,  4,  2,  2,  4,  4,  2, -2, -3, -2, -2,  1,\n",
       "        2, -8,  2,  4, -2, -2,  4, -8,  3, -3,  0, -1,  3,  0, -2, -1,  4,\n",
       "        2, -2,  2, -2, -3,  3,  0, -2, -1,  4,  2, -2,  2, -3, -3,  3,  0,\n",
       "       -2,  3,  4,  2, -2,  2, -2, -3,  3, -3,  1,  2, -2,  1,  3, -3, -2,\n",
       "       -3, -2,  4,  0,  2,  2, -1,  2,  0,  3,  3, -2, -2,  2, -2, -2,  3,\n",
       "       -1, -2, -2, -1,  3,  2,  3,  3,  4, -2, -2, -2,  4, -3,  0,  1,  3,\n",
       "       -3,  2, -2, -3, -2,  3,  3,  0,  2, -2, -1, -2,  0,  2, -3, -2, -1,\n",
       "        0, -1, -3,  0,  2, -2, -2,  4, -1,  0,  4,  3,  2, -1, -2, -3, -1,\n",
       "        0,  2,  2, -3,  4,  2, -2, -2, -2,  3,  2,  2, -3,  2,  4, -3, -3,\n",
       "        4, -3,  3, -2, -3, -2,  3, -1, -2,  3,  4,  1, -2, -2, -3, -3,  3,\n",
       "       -1, -2,  3,  4,  1, -2,  2, -3, -3,  3, -1, -2,  3,  4,  1, -2,  2,\n",
       "       -3, -3,  3, -4,  2,  1, -2,  1,  3, -3, -3, -3, -3,  4, -1,  2,  2,\n",
       "        3,  1,  3,  3,  3, -2, -2,  2, -3, -2,  3, -1, -2, -2,  3,  3,  2,\n",
       "        3,  3,  4, -2, -2, -2,  4, -3,  3,  1,  3, -3,  1, -2, -3, -2,  3,\n",
       "        3, -1,  2, -2,  3, -2, -1,  2,  4, -2,  3, -1,  3, -3, -1,  2, -2,\n",
       "       -3,  4,  3,  4,  4,  3,  1,  3, -2, -3, -2, -1,  2,  2,  4,  4,  2,\n",
       "       -2, -3, -2, -2,  2,  2, -3,  1,  4, -7, -3,  4, -3,  3, -3, -3, -3,\n",
       "        3,  4, -2, -1,  4,  2, -2,  2, -2, -8,  3,  4, -2,  3,  4,  2, -2,\n",
       "        2, -3, -8,  3,  4, -2, -1, -3,  2, -2,  2, -2, -8,  3, -8,  3,  2,\n",
       "       -2,  2,  3, -8, -3, -8, -3,  4,  4,  2,  2,  3,  2,  4,  3,  3,  0,\n",
       "       -2,  2, -3,  3,  3,  4,  4, -2, -1, -1,  2, -1, -1,  4, -2, -2, -2,\n",
       "        4, -8,  4,  2,  3, -8,  2,  0, -2, -2,  3,  3,  4,  2, -2, -1, -2,\n",
       "        4,  2,  4, -2, -1,  4, -1, -8,  4,  2, -2, -3,  4, -1,  4,  5,  3,\n",
       "        2, -1, -2, -8, -2,  4,  2,  2,  4,  5,  2, -2, -3, -2, -2,  2,  2,\n",
       "       -8,  2,  4, -2, -3,  5, -8,  3, -3, -8, -3,  3,  4, -2, -1,  4,  2,\n",
       "       -2,  2, -4, -3,  3,  4, -2, -1,  4,  2, -3,  2, -7, -3,  3,  4, -2,\n",
       "       -1,  4,  2, -2,  2, -3, -3,  3, -3,  2,  2, -2,  2,  3, -3, -2, -3,\n",
       "       -2,  4,  4,  2,  2, -1,  2,  4,  3,  3, -2, -2,  2, -2, -2,  3, -1,\n",
       "       -2, -2, -1, -1,  2, -1, -1,  4, -2, -2, -2,  4, -3,  4,  2,  3, -3,\n",
       "        2, -2, -3, -2,  3,  3,  4,  2, -2, -1,  3,  4,  2,  4, -2, -1,  4,\n",
       "       -1, -3,  4,  2, -2, -8,  4, -1,  4,  4,  3,  2, -1, -2, -3, -2,  4,\n",
       "        2,  2,  4,  4,  2, -2, -7,  7, -2,  2,  2, -3,  2,  4])"
      ]
     },
     "execution_count": 27,
     "metadata": {},
     "output_type": "execute_result"
    }
   ],
   "source": [
    "(y_kmeans - y_train)  #相減不是零，就代表處理的不好"
   ]
  },
  {
   "cell_type": "markdown",
   "id": "639506a4",
   "metadata": {},
   "source": [
    "### 簡單做個驗證"
   ]
  },
  {
   "cell_type": "code",
   "execution_count": 28,
   "id": "2c522081",
   "metadata": {},
   "outputs": [
    {
     "data": {
      "image/png": "[encoded data removed]",
      "text/plain": [
       "<Figure size 432x216 with 4 Axes>"
      ]
     },
     "metadata": {
      "needs_background": "light"
     },
     "output_type": "display_data"
    }
   ],
   "source": [
    "_, axes = plt.subplots(nrows=1, ncols=4, figsize=(6, 3))\n",
    "for ax, image, prediction in zip(axes, X_test, predicted):\n",
    "    ax.set_axis_off()\n",
    "    image = image.reshape(8, 8)\n",
    "    ax.imshow(image, cmap=plt.cm.gray_r, interpolation=\"nearest\")\n",
    "    ax.set_title(f\"Prediction: {prediction}\")"
   ]
  },
  {
   "cell_type": "markdown",
   "id": "093a95d5",
   "metadata": {},
   "source": [
    "### 評估"
   ]
  },
  {
   "cell_type": "code",
   "execution_count": 43,
   "id": "4a047e99",
   "metadata": {},
   "outputs": [
    {
     "name": "stdout",
     "output_type": "stream",
     "text": [
      "Classification report for classifier  SVC(gamma=0.001)\n",
      "------------------------------------\n",
      "              precision    recall  f1-score   support\n",
      "\n",
      "           0       1.00      0.99      0.99        88\n",
      "           1       0.99      0.97      0.98        91\n",
      "           2       0.99      0.99      0.99        86\n",
      "           3       0.98      0.87      0.92        91\n",
      "           4       0.99      0.96      0.97        92\n",
      "           5       0.95      0.97      0.96        91\n",
      "           6       0.99      0.99      0.99        91\n",
      "           7       0.96      0.99      0.97        89\n",
      "           8       0.94      1.00      0.97        88\n",
      "           9       0.93      0.98      0.95        92\n",
      "\n",
      "    accuracy                           0.97       899\n",
      "   macro avg       0.97      0.97      0.97       899\n",
      "weighted avg       0.97      0.97      0.97       899\n",
      "\n"
     ]
    }
   ],
   "source": [
    "print(\"Classification report for classifier \", clf)\n",
    "print('------------------------------------')\n",
    "print(metrics.classification_report(y_test, predicted))"
   ]
  },
  {
   "cell_type": "code",
   "execution_count": 30,
   "id": "fb005979",
   "metadata": {},
   "outputs": [],
   "source": [
    "import sklearn"
   ]
  },
  {
   "cell_type": "code",
   "execution_count": 31,
   "id": "87ec14ec",
   "metadata": {},
   "outputs": [
    {
     "data": {
      "text/plain": [
       "'0.24.2'"
      ]
     },
     "execution_count": 31,
     "metadata": {},
     "output_type": "execute_result"
    }
   ],
   "source": [
    "sklearn.__version__"
   ]
  }
 ],
 "metadata": {
  "kernelspec": {
   "display_name": "Python 3 (ipykernel)",
   "language": "python",
   "name": "python3"
  },
  "language_info": {
   "codemirror_mode": {
    "name": "ipython",
    "version": 3
   },
   "file_extension": ".py",
   "mimetype": "text/x-python",
   "name": "python",
   "nbconvert_exporter": "python",
   "pygments_lexer": "ipython3",
   "version": "3.9.7"
  }
 },
 "nbformat": 4,
 "nbformat_minor": 5
}
