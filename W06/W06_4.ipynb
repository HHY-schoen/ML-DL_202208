{
 "cells": [
  {
   "cell_type": "markdown",
   "metadata": {
    "id": "OmAT4DpvlPgw"
   },
   "source": [
    "# ImageNet比賽的那些英雄們\n",
    "\n",
    "- ImageNet 每年舉辦的競賽CNN模型演進很有參考性\n",
    "- 2012年冠軍 AlexNet 錯誤率比前一年減少超過10%，且首度引用 Dropout 層 --> 我們前面也有提到\n",
    "- 2014年亞軍 VGGNet 承襲 AlexNet 思路，建立更多層的模型，達到 16及19 個隱藏層\n",
    "- 2015年冠軍 ResNets 發現 20 層以上的模型前面幾層會發生優化退化(degradation)的狀況，因而提出以『殘差』(Residual)解決問題\n",
    "    - ref: https://arxiv.org/abs/1512.03385\n"
   ]
  },
  {
   "cell_type": "markdown",
   "metadata": {},
   "source": [
    "Keras把它們都收錄進框架內，稱為Keras Applications 【預先訓練的模型(pre-trained models)】，包括下列幾項：\n",
    "\n",
    "- Xception\n",
    "- VGG16\n",
    "- VGG19\n",
    "- ResNet50\n",
    "- InceptionV3\n",
    "- InceptionResNetV2\n",
    "- MobileNet"
   ]
  },
  {
   "cell_type": "markdown",
   "metadata": {},
   "source": [
    "## VGG : Visual Geometry Group\n",
    "\n",
    "- 牛津大學的Oxford Visual Geometry Group，該組織主要的研究範圍為機器學習及移動機器人\n",
    "- VGG16/VGG19分別為16層(13個卷積層及3個全連接層)與19層(16個卷積層及3個全連接層)"
   ]
  },
  {
   "cell_type": "markdown",
   "metadata": {},
   "source": [
    "### 使用前先了解一件事：因為VGG16整個model參數很大，要500多MB，所以會需要些時間下載"
   ]
  },
  {
   "cell_type": "code",
   "execution_count": 4,
   "metadata": {
    "scrolled": true
   },
   "outputs": [
    {
     "name": "stdout",
     "output_type": "stream",
     "text": [
      "Downloading data from https://storage.googleapis.com/download.tensorflow.org/data/imagenet_class_index.json\n",
      "40960/35363 [==================================] - 0s 2us/step\n",
      "Predicted: [('n04285008', 'sports_car', 0.7893434), ('n02930766', 'cab', 0.16229911), ('n02974003', 'car_wheel', 0.01456001)]\n"
     ]
    }
   ],
   "source": [
    "from tensorflow.keras.applications.vgg16 import VGG16\n",
    "from tensorflow.keras.preprocessing import image\n",
    "from tensorflow.keras.applications.vgg16 import preprocess_input, decode_predictions\n",
    "import numpy as np\n",
    "\n",
    "# include_top=True，表示會載入完整的 VGG16 模型，包括加在最後3層的卷積層\n",
    "# include_top=False，表示會載入 VGG16 的模型，不包括加在最後3層的卷積層，通常是取得 Features\n",
    "# 若下載失敗，請先刪除 c:\\<使用者>\\.keras\\models\\vgg16_weights_tf_dim_ordering_tf_kernels.h5\n",
    "model = VGG16(weights='imagenet', include_top=True) \n",
    "\n",
    "# Input：要辨識的影像\n",
    "img_path = './image/car01.jpg'\n",
    "#img_path = 'elephant.jpg'\n",
    "img = image.load_img(img_path, target_size=(224, 224))\n",
    "x = image.img_to_array(img)\n",
    "x = np.expand_dims(x, axis=0)\n",
    "x = preprocess_input(x)\n",
    "\n",
    "# 預測，取得features，維度為 (1,7,7,512)\n",
    "features = model.predict(x)\n",
    "# 取得前三個最可能的類別及機率\n",
    "print('Predicted:', decode_predictions(features, top=3)[0])"
   ]
  },
  {
   "cell_type": "markdown",
   "metadata": {},
   "source": [
    "### 再次使用剛剛已經載入的Model"
   ]
  },
  {
   "cell_type": "code",
   "execution_count": 6,
   "metadata": {},
   "outputs": [
    {
     "name": "stdout",
     "output_type": "stream",
     "text": [
      "Predicted: [('n02132136', 'brown_bear', 0.9373002), ('n02113799', 'standard_poodle', 0.012614256), ('n02133161', 'American_black_bear', 0.00835964)]\n"
     ]
    }
   ],
   "source": [
    "# Input：要辨識的影像\n",
    "img_path = './image/bear.jpg'\n",
    "#img_path = 'elephant.jpg'\n",
    "img = image.load_img(img_path, target_size=(224, 224))\n",
    "x = image.img_to_array(img)\n",
    "x = np.expand_dims(x, axis=0)\n",
    "x = preprocess_input(x)\n",
    "\n",
    "# 預測，取得features，維度為 (1,7,7,512)\n",
    "features = model.predict(x)\n",
    "# 取得前三個最可能的類別及機率\n",
    "print('Predicted:', decode_predictions(features, top=3)[0])"
   ]
  },
  {
   "cell_type": "code",
   "execution_count": 7,
   "metadata": {},
   "outputs": [
    {
     "name": "stdout",
     "output_type": "stream",
     "text": [
      "Predicted: [('n01704323', 'triceratops', 0.9636599), ('n01694178', 'African_chameleon', 0.019334473), ('n01688243', 'frilled_lizard', 0.010634087)]\n"
     ]
    }
   ],
   "source": [
    "# Input：要辨識的影像\n",
    "img_path = './image/dinosour.jpg'\n",
    "#img_path = 'elephant.jpg'\n",
    "img = image.load_img(img_path, target_size=(224, 224))\n",
    "x = image.img_to_array(img)\n",
    "x = np.expand_dims(x, axis=0)\n",
    "x = preprocess_input(x)\n",
    "\n",
    "# 預測，取得features，維度為 (1,7,7,512)\n",
    "features = model.predict(x)\n",
    "# 取得前三個最可能的類別及機率\n",
    "print('Predicted:', decode_predictions(features, top=3)[0])"
   ]
  },
  {
   "cell_type": "code",
   "execution_count": 9,
   "metadata": {},
   "outputs": [
    {
     "data": {
      "text/plain": [
       "[[('n01704323', 'triceratops', 0.9636599),\n",
       "  ('n01694178', 'African_chameleon', 0.019334473),\n",
       "  ('n01688243', 'frilled_lizard', 0.010634087),\n",
       "  ('n01677366', 'common_iguana', 0.0038849327),\n",
       "  ('n01667778', 'terrapin', 0.0007994435)]]"
      ]
     },
     "execution_count": 9,
     "metadata": {},
     "output_type": "execute_result"
    }
   ],
   "source": [
    "decode_predictions(features)"
   ]
  },
  {
   "cell_type": "code",
   "execution_count": null,
   "metadata": {},
   "outputs": [],
   "source": []
  }
 ],
 "metadata": {
  "accelerator": "TPU",
  "colab": {
   "collapsed_sections": [],
   "provenance": []
  },
  "kernelspec": {
   "display_name": "Python 3 (ipykernel)",
   "language": "python",
   "name": "python3"
  },
  "language_info": {
   "codemirror_mode": {
    "name": "ipython",
    "version": 3
   },
   "file_extension": ".py",
   "mimetype": "text/x-python",
   "name": "python",
   "nbconvert_exporter": "python",
   "pygments_lexer": "ipython3",
   "version": "3.7.1"
  }
 },
 "nbformat": 4,
 "nbformat_minor": 4
}
