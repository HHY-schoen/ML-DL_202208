{
 "cells": [
  {
   "cell_type": "markdown",
   "metadata": {
    "id": "OmAT4DpvlPgw"
   },
   "source": [
    "# CNN的影像分類應用"
   ]
  },
  {
   "cell_type": "markdown",
   "metadata": {},
   "source": [
    "- ref: https://www.twblogs.net/a/5e4f584abd9eee101e851e85"
   ]
  },
  {
   "cell_type": "code",
   "execution_count": 1,
   "metadata": {},
   "outputs": [],
   "source": [
    "import os, shutil\n",
    "# The path to the directory where the original\n",
    "# dataset was uncompressed（原始數據集解壓目錄的路徑）\n",
    "original_dataset_dir = 'data/kaggle_original_data'\n",
    "\n",
    "# The directory where we will\n",
    "# store our smaller dataset（保存較小數據集的目錄）\n",
    "base_dir = 'data/cats_and_dogs_small'\n",
    "if not os.path.exists(base_dir):\n",
    "    os.mkdir(base_dir)\n",
    "\n",
    "# Directories for our training, validation and test splits\n",
    "#（分別對應劃分後的訓練、 驗證和測試的目錄）\n",
    "train_dir = os.path.join(base_dir, 'train')\n",
    "if not os.path.exists(train_dir):\n",
    "    os.mkdir(train_dir)\n",
    "# Directory with our training cat pictures(貓的訓練圖像目錄)\n",
    "train_cats_dir = os.path.join(train_dir, 'cats')\n",
    "if not os.path.exists(train_cats_dir):\n",
    "    os.mkdir(train_cats_dir)\n",
    "\n",
    "# Directory with our training dog pictures(狗的訓練圖像目錄)\n",
    "train_dogs_dir = os.path.join(train_dir, 'dogs')\n",
    "if not os.path.exists(train_dogs_dir):\n",
    "    os.mkdir(train_dogs_dir)\n",
    "validation_dir = os.path.join(base_dir, 'validation')\n",
    "if not os.path.exists(validation_dir):\n",
    "    os.mkdir(validation_dir)\n",
    "    # Directory with our validation cat pictures(貓的驗證圖像目錄)\n",
    "validation_cats_dir = os.path.join(validation_dir, 'cats')\n",
    "if not os.path.exists(validation_cats_dir):\n",
    "    os.mkdir(validation_cats_dir)\n",
    "\n",
    "# Directory with our validation dog pictures(狗的驗證圖像目錄)\n",
    "validation_dogs_dir = os.path.join(validation_dir, 'dogs')\n",
    "if not os.path.exists(validation_dogs_dir):\n",
    "    os.mkdir(validation_dogs_dir)\n",
    "    \n",
    "test_dir = os.path.join(base_dir, 'test')\n",
    "if not os.path.exists(test_dir):\n",
    "    os.mkdir(test_dir)\n",
    "    # Directory with our test cat pictures（貓的測試圖像目錄）\n",
    "test_cats_dir = os.path.join(test_dir, 'cats')\n",
    "if not os.path.exists(test_cats_dir):\n",
    "    os.mkdir(test_cats_dir)\n",
    "\n",
    "# Directory with our test dog pictures（狗的測試圖像目錄）\n",
    "test_dogs_dir = os.path.join(test_dir, 'dogs')\n",
    "if not os.path.exists(test_dogs_dir):\n",
    "    os.mkdir(test_dogs_dir)\n"
   ]
  },
  {
   "cell_type": "markdown",
   "metadata": {},
   "source": [
    "- 25,000 images of dogs and cats"
   ]
  },
  {
   "cell_type": "code",
   "execution_count": 2,
   "metadata": {},
   "outputs": [],
   "source": [
    "# Copy first 1000 cat images to train_cats_dir（將前 1000 張貓的圖像複製 到 train_cats_dir）\n",
    "fnames = ['cat.{}.jpg'.format(i) for i in range(1000)]\n",
    "for fname in fnames:\n",
    "    src = os.path.join(original_dataset_dir, fname)\n",
    "    dst = os.path.join(train_cats_dir, fname)\n",
    "    shutil.copyfile(src, dst)\n",
    "    \n",
    "# Copy next 500 cat images to validation_cats_dir（將 接 下 來 500 張 貓 的 圖像 復 制到 validation_cats_dir）\n",
    "fnames = ['cat.{}.jpg'.format(i) for i in range(1000, 1500)]\n",
    "for fname in fnames:\n",
    "    src = os.path.join(original_dataset_dir, fname)\n",
    "    dst = os.path.join(validation_cats_dir, fname)\n",
    "    shutil.copyfile(src, dst)\n",
    "    \n",
    "# Copy next 500 cat images to test_cats_dir（將 接 下 來的 500 張 貓 的 圖像 複製到 test_cats_dir）\n",
    "fnames = ['cat.{}.jpg'.format(i) for i in range(1500, 2000)]\n",
    "for fname in fnames:\n",
    "    src = os.path.join(original_dataset_dir, fname)\n",
    "    dst = os.path.join(test_cats_dir, fname)\n",
    "    shutil.copyfile(src, dst)\n",
    "    \n",
    "# Copy first 1000 dog images to train_dogs_dir（將前 1000 張狗的圖像複製 到 train_dogs_dir）\n",
    "fnames = ['dog.{}.jpg'.format(i) for i in range(1000)]\n",
    "for fname in fnames:\n",
    "    src = os.path.join(original_dataset_dir, fname)\n",
    "    dst = os.path.join(train_dogs_dir, fname)\n",
    "    shutil.copyfile(src, dst)\n",
    "    \n",
    "# Copy next 500 dog images to validation_dogs_dir（將接下來 500 張狗的圖像復 制到 validation_dogs_dir）\n",
    "fnames = ['dog.{}.jpg'.format(i) for i in range(1000, 1500)]\n",
    "for fname in fnames:\n",
    "    src = os.path.join(original_dataset_dir, fname)\n",
    "    dst = os.path.join(validation_dogs_dir, fname)\n",
    "    shutil.copyfile(src, dst)\n",
    "    \n",
    "# Copy next 500 dog images to test_dogs_dir（將接下來 500 張狗的圖像複製到 test_dogs_dir）\n",
    "fnames = ['dog.{}.jpg'.format(i) for i in range(1500, 2000)]\n",
    "for fname in fnames:\n",
    "    src = os.path.join(original_dataset_dir, fname)\n",
    "    dst = os.path.join(test_dogs_dir, fname)\n",
    "    shutil.copyfile(src, dst)\n",
    "    \n"
   ]
  },
  {
   "cell_type": "markdown",
   "metadata": {},
   "source": [
    "- check our train / test data number"
   ]
  },
  {
   "cell_type": "code",
   "execution_count": 3,
   "metadata": {},
   "outputs": [
    {
     "name": "stdout",
     "output_type": "stream",
     "text": [
      "total training cat images: 1000\n",
      "total training dog images: 1000\n",
      "total validation cat images: 500\n",
      "total validation dog images: 500\n",
      "total test cat images: 500\n",
      "total test dog images: 500\n"
     ]
    }
   ],
   "source": [
    "print('total training cat images:', len(os.listdir(train_cats_dir)))\n",
    "\n",
    "print('total training dog images:', len(os.listdir(train_dogs_dir)))\n",
    "\n",
    "print('total validation cat images:', len(os.listdir(validation_cats_dir)))\n",
    "\n",
    "print('total validation dog images:', len(os.listdir(validation_dogs_dir)))\n",
    "\n",
    "print('total test cat images:', len(os.listdir(test_cats_dir)))\n",
    "\n",
    "print('total test dog images:', len(os.listdir(test_dogs_dir)))\n"
   ]
  },
  {
   "cell_type": "markdown",
   "metadata": {},
   "source": [
    "網絡中特徵圖的深度在逐漸增大（從 32 增大到 128），而特徵圖的尺寸在逐漸減小（從148×148 減小到 7×7）。這幾乎是所有卷積神經網絡的模式。\n"
   ]
  },
  {
   "cell_type": "code",
   "execution_count": 4,
   "metadata": {},
   "outputs": [],
   "source": [
    "from tensorflow.keras import models\n",
    "from tensorflow.keras import layers\n",
    "\n",
    "model = models.Sequential()\n",
    "model.add(layers.Conv2D(32, (3, 3), activation='relu',\n",
    "                        input_shape=(150, 150, 3)))\n",
    "model.add(layers.MaxPooling2D((2, 2)))\n",
    "model.add(layers.Conv2D(64, (3, 3), activation='relu'))\n",
    "model.add(layers.MaxPooling2D((2, 2)))\n",
    "model.add(layers.Conv2D(128, (3, 3), activation='relu'))\n",
    "model.add(layers.MaxPooling2D((2, 2)))\n",
    "model.add(layers.Conv2D(128, (3, 3), activation='relu'))\n",
    "model.add(layers.MaxPooling2D((2, 2)))\n",
    "model.add(layers.Flatten())\n",
    "model.add(layers.Dense(512, activation='relu'))\n",
    "model.add(layers.Dense(1, activation='sigmoid'))"
   ]
  },
  {
   "cell_type": "code",
   "execution_count": 5,
   "metadata": {},
   "outputs": [
    {
     "name": "stdout",
     "output_type": "stream",
     "text": [
      "Model: \"sequential\"\n",
      "_________________________________________________________________\n",
      "Layer (type)                 Output Shape              Param #   \n",
      "=================================================================\n",
      "conv2d (Conv2D)              (None, 148, 148, 32)      896       \n",
      "_________________________________________________________________\n",
      "max_pooling2d (MaxPooling2D) (None, 74, 74, 32)        0         \n",
      "_________________________________________________________________\n",
      "conv2d_1 (Conv2D)            (None, 72, 72, 64)        18496     \n",
      "_________________________________________________________________\n",
      "max_pooling2d_1 (MaxPooling2 (None, 36, 36, 64)        0         \n",
      "_________________________________________________________________\n",
      "conv2d_2 (Conv2D)            (None, 34, 34, 128)       73856     \n",
      "_________________________________________________________________\n",
      "max_pooling2d_2 (MaxPooling2 (None, 17, 17, 128)       0         \n",
      "_________________________________________________________________\n",
      "conv2d_3 (Conv2D)            (None, 15, 15, 128)       147584    \n",
      "_________________________________________________________________\n",
      "max_pooling2d_3 (MaxPooling2 (None, 7, 7, 128)         0         \n",
      "_________________________________________________________________\n",
      "flatten (Flatten)            (None, 6272)              0         \n",
      "_________________________________________________________________\n",
      "dense (Dense)                (None, 512)               3211776   \n",
      "_________________________________________________________________\n",
      "dense_1 (Dense)              (None, 1)                 513       \n",
      "=================================================================\n",
      "Total params: 3,453,121\n",
      "Trainable params: 3,453,121\n",
      "Non-trainable params: 0\n",
      "_________________________________________________________________\n"
     ]
    }
   ],
   "source": [
    "model.summary()"
   ]
  },
  {
   "cell_type": "code",
   "execution_count": 6,
   "metadata": {},
   "outputs": [],
   "source": [
    "from tensorflow.keras import optimizers\n",
    "\n",
    "model.compile(loss='binary_crossentropy',\n",
    "              optimizer=optimizers.RMSprop(lr=1e-4),\n",
    "              metrics=['acc'])"
   ]
  },
  {
   "cell_type": "code",
   "execution_count": 7,
   "metadata": {},
   "outputs": [
    {
     "name": "stdout",
     "output_type": "stream",
     "text": [
      "Found 2000 images belonging to 2 classes.\n",
      "Found 1000 images belonging to 2 classes.\n"
     ]
    }
   ],
   "source": [
    "from tensorflow.keras.preprocessing.image import ImageDataGenerator\n",
    "\n",
    "# All images will be rescaled by 1./255（將所有圖像乘以 1/255 縮放）\n",
    "train_datagen = ImageDataGenerator(rescale=1./255)\n",
    "test_datagen = ImageDataGenerator(rescale=1./255)\n",
    "\n",
    "train_generator = train_datagen.flow_from_directory(\n",
    "        # This is the target directory（目標目錄）\n",
    "        train_dir,\n",
    "        # All images will be resized to 150x150（將所有圖像的大小調整爲 150×150）\n",
    "        target_size=(150, 150),\n",
    "        batch_size=20,\n",
    "        # Since we use binary_crossentropy loss, we need binary labels（因爲使用了 binary_crossentropy損失，所以需要用二進制標籤）\n",
    "        class_mode='binary')\n",
    "\n",
    "validation_generator = test_datagen.flow_from_directory(\n",
    "        validation_dir,\n",
    "        target_size=(150, 150),\n",
    "        batch_size=20,\n",
    "        class_mode='binary')"
   ]
  },
  {
   "cell_type": "code",
   "execution_count": 8,
   "metadata": {},
   "outputs": [
    {
     "name": "stdout",
     "output_type": "stream",
     "text": [
      "data batch shape: (20, 150, 150, 3)\n",
      "labels batch shape: (20,)\n"
     ]
    }
   ],
   "source": [
    "for data_batch, labels_batch in train_generator:\n",
    "    print('data batch shape:', data_batch.shape)\n",
    "    print('labels batch shape:', labels_batch.shape)\n",
    "    break"
   ]
  },
  {
   "cell_type": "code",
   "execution_count": 9,
   "metadata": {},
   "outputs": [
    {
     "name": "stdout",
     "output_type": "stream",
     "text": [
      "WARNING:tensorflow:From C:\\Users\\Shoen\\AppData\\Local\\Temp\\ipykernel_11292\\3259228942.py:6: Model.fit_generator (from tensorflow.python.keras.engine.training) is deprecated and will be removed in a future version.\n",
      "Instructions for updating:\n",
      "Please use Model.fit, which supports generators.\n",
      "Epoch 1/30\n",
      "100/100 [==============================] - 54s 543ms/step - loss: 0.6874 - acc: 0.5380 - val_loss: 0.7259 - val_acc: 0.5000\n",
      "Epoch 2/30\n",
      "100/100 [==============================] - 47s 468ms/step - loss: 0.6567 - acc: 0.6090 - val_loss: 0.6330 - val_acc: 0.6480\n",
      "Epoch 3/30\n",
      "100/100 [==============================] - 46s 463ms/step - loss: 0.6053 - acc: 0.6770 - val_loss: 0.6062 - val_acc: 0.6650\n",
      "Epoch 4/30\n",
      "100/100 [==============================] - 47s 465ms/step - loss: 0.5601 - acc: 0.7165 - val_loss: 0.5896 - val_acc: 0.6750\n",
      "Epoch 5/30\n",
      "100/100 [==============================] - 48s 476ms/step - loss: 0.5265 - acc: 0.7360 - val_loss: 0.6055 - val_acc: 0.6660\n",
      "Epoch 6/30\n",
      "100/100 [==============================] - 45s 453ms/step - loss: 0.5064 - acc: 0.7490 - val_loss: 0.5731 - val_acc: 0.6950\n",
      "Epoch 7/30\n",
      "100/100 [==============================] - 44s 439ms/step - loss: 0.4755 - acc: 0.7750 - val_loss: 0.5877 - val_acc: 0.6910\n",
      "Epoch 8/30\n",
      "100/100 [==============================] - 44s 443ms/step - loss: 0.4630 - acc: 0.7820 - val_loss: 0.5546 - val_acc: 0.7130\n",
      "Epoch 9/30\n",
      "100/100 [==============================] - 44s 440ms/step - loss: 0.4245 - acc: 0.7990 - val_loss: 0.5709 - val_acc: 0.7060\n",
      "Epoch 10/30\n",
      "100/100 [==============================] - 44s 436ms/step - loss: 0.4018 - acc: 0.8140 - val_loss: 0.5724 - val_acc: 0.7300\n",
      "Epoch 11/30\n",
      "100/100 [==============================] - 44s 437ms/step - loss: 0.3711 - acc: 0.8315 - val_loss: 0.5920 - val_acc: 0.7130\n",
      "Epoch 12/30\n",
      "100/100 [==============================] - 44s 440ms/step - loss: 0.3553 - acc: 0.8400 - val_loss: 0.6015 - val_acc: 0.6950\n",
      "Epoch 13/30\n",
      "100/100 [==============================] - 44s 440ms/step - loss: 0.3273 - acc: 0.8585 - val_loss: 0.6518 - val_acc: 0.7110\n",
      "Epoch 14/30\n",
      "100/100 [==============================] - 45s 447ms/step - loss: 0.3093 - acc: 0.8690 - val_loss: 0.5974 - val_acc: 0.7380\n",
      "Epoch 15/30\n",
      "100/100 [==============================] - 47s 468ms/step - loss: 0.2798 - acc: 0.8845 - val_loss: 0.5827 - val_acc: 0.7270\n",
      "Epoch 16/30\n",
      "100/100 [==============================] - 49s 488ms/step - loss: 0.2598 - acc: 0.9000 - val_loss: 0.6450 - val_acc: 0.7120\n",
      "Epoch 17/30\n",
      "100/100 [==============================] - 55s 550ms/step - loss: 0.2412 - acc: 0.9045 - val_loss: 0.5609 - val_acc: 0.7460\n",
      "Epoch 18/30\n",
      "100/100 [==============================] - 51s 509ms/step - loss: 0.2151 - acc: 0.9150 - val_loss: 0.6018 - val_acc: 0.7270\n",
      "Epoch 19/30\n",
      "100/100 [==============================] - 57s 568ms/step - loss: 0.1959 - acc: 0.9370 - val_loss: 0.6262 - val_acc: 0.7340\n",
      "Epoch 20/30\n",
      "100/100 [==============================] - 52s 515ms/step - loss: 0.1813 - acc: 0.9355 - val_loss: 0.6652 - val_acc: 0.7260\n",
      "Epoch 21/30\n",
      "100/100 [==============================] - 53s 529ms/step - loss: 0.1558 - acc: 0.9510 - val_loss: 0.6883 - val_acc: 0.7390\n",
      "Epoch 22/30\n",
      "100/100 [==============================] - 50s 502ms/step - loss: 0.1377 - acc: 0.9575 - val_loss: 0.7363 - val_acc: 0.7420\n",
      "Epoch 23/30\n",
      "100/100 [==============================] - 49s 490ms/step - loss: 0.1150 - acc: 0.9675 - val_loss: 1.1376 - val_acc: 0.6920\n",
      "Epoch 24/30\n",
      "100/100 [==============================] - 50s 501ms/step - loss: 0.1029 - acc: 0.9665 - val_loss: 0.7781 - val_acc: 0.7420\n",
      "Epoch 25/30\n",
      "100/100 [==============================] - 49s 495ms/step - loss: 0.0872 - acc: 0.9715 - val_loss: 0.8095 - val_acc: 0.7200\n",
      "Epoch 26/30\n",
      "100/100 [==============================] - 49s 494ms/step - loss: 0.0836 - acc: 0.9780 - val_loss: 0.8551 - val_acc: 0.7430\n",
      "Epoch 27/30\n",
      "100/100 [==============================] - 50s 495ms/step - loss: 0.0639 - acc: 0.9850 - val_loss: 0.8664 - val_acc: 0.7300\n",
      "Epoch 28/30\n",
      "100/100 [==============================] - 49s 493ms/step - loss: 0.0558 - acc: 0.9860 - val_loss: 1.1616 - val_acc: 0.7110\n",
      "Epoch 29/30\n",
      "100/100 [==============================] - 50s 505ms/step - loss: 0.0535 - acc: 0.9860 - val_loss: 0.9265 - val_acc: 0.7470\n",
      "Epoch 30/30\n",
      "100/100 [==============================] - 54s 538ms/step - loss: 0.0464 - acc: 0.9870 - val_loss: 0.9723 - val_acc: 0.7300\n"
     ]
    }
   ],
   "source": [
    "history = model.fit_generator(\n",
    "      train_generator,\n",
    "      steps_per_epoch=100,\n",
    "      epochs=30,\n",
    "      validation_data=validation_generator,\n",
    "      validation_steps=50)"
   ]
  },
  {
   "cell_type": "markdown",
   "metadata": {},
   "source": [
    "### save model "
   ]
  },
  {
   "cell_type": "code",
   "execution_count": 10,
   "metadata": {},
   "outputs": [],
   "source": [
    "model.save('cats_and_dogs_small_1.h5')"
   ]
  },
  {
   "cell_type": "markdown",
   "metadata": {},
   "source": [
    "### draw a chart"
   ]
  },
  {
   "cell_type": "code",
   "execution_count": 11,
   "metadata": {},
   "outputs": [
    {
     "data": {
      "image/png": "[encoded data removed]",
      "text/plain": [
       "<Figure size 640x480 with 1 Axes>"
      ]
     },
     "metadata": {},
     "output_type": "display_data"
    },
    {
     "data": {
      "image/png": "[encoded data removed]",
      "text/plain": [
       "<Figure size 640x480 with 1 Axes>"
      ]
     },
     "metadata": {},
     "output_type": "display_data"
    }
   ],
   "source": [
    "%matplotlib inline\n",
    "import matplotlib.pyplot as plt\n",
    "\n",
    "acc = history.history['acc']\n",
    "val_acc = history.history['val_acc']\n",
    "loss = history.history['loss']\n",
    "val_loss = history.history['val_loss']\n",
    "\n",
    "epochs = range(len(acc))\n",
    "\n",
    "plt.plot(epochs, acc, 'bo', label='Training acc')\n",
    "plt.plot(epochs, val_acc, 'b', label='Validation acc')\n",
    "plt.title('Training and validation accuracy')\n",
    "plt.legend()\n",
    "\n",
    "plt.figure()\n",
    "\n",
    "plt.plot(epochs, loss, 'bo', label='Training loss')\n",
    "plt.plot(epochs, val_loss, 'b', label='Validation loss')\n",
    "plt.title('Training and validation loss')\n",
    "plt.legend()\n",
    "\n",
    "plt.show()"
   ]
  },
  {
   "cell_type": "code",
   "execution_count": null,
   "metadata": {},
   "outputs": [],
   "source": []
  }
 ],
 "metadata": {
  "accelerator": "TPU",
  "colab": {
   "collapsed_sections": [],
   "provenance": []
  },
  "kernelspec": {
   "display_name": "Python 3 (ipykernel)",
   "language": "python",
   "name": "python3"
  },
  "language_info": {
   "codemirror_mode": {
    "name": "ipython",
    "version": 3
   },
   "file_extension": ".py",
   "mimetype": "text/x-python",
   "name": "python",
   "nbconvert_exporter": "python",
   "pygments_lexer": "ipython3",
   "version": "3.7.1"
  }
 },
 "nbformat": 4,
 "nbformat_minor": 4
}
