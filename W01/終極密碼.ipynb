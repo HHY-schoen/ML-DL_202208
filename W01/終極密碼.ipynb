{
 "cells": [
  {
   "cell_type": "markdown",
   "id": "7fc22fd8",
   "metadata": {},
   "source": [
    "## 終極密碼"
   ]
  },
  {
   "cell_type": "markdown",
   "id": "a7f3db0c",
   "metadata": {},
   "source": [
    "- 提示: \n",
    "    - 會使用到的API: randint, input\n",
    "    - input輸入的資料須要轉換"
   ]
  },
  {
   "cell_type": "code",
   "execution_count": 1,
   "id": "86a307dc",
   "metadata": {},
   "outputs": [
    {
     "name": "stdout",
     "output_type": "stream",
     "text": [
      "5\n"
     ]
    }
   ],
   "source": [
    "import random #引入模組，module\n",
    "\n",
    "number = random.randint(1, 5)\n",
    "print(number)"
   ]
  },
  {
   "cell_type": "code",
   "execution_count": 2,
   "id": "138b1d1d",
   "metadata": {},
   "outputs": [
    {
     "name": "stdout",
     "output_type": "stream",
     "text": [
      "請輸入 1~100的數字50\n",
      "<class 'str'>\n",
      "<class 'int'> -> 50\n"
     ]
    }
   ],
   "source": [
    "my_num = input('請輸入 1~100的數字')\n",
    "print( type(my_num) )\n",
    "my_num = int(my_num)\n",
    "print( type(my_num), '->', my_num)"
   ]
  },
  {
   "cell_type": "code",
   "execution_count": 3,
   "id": "52c6486b",
   "metadata": {},
   "outputs": [
    {
     "data": {
      "text/plain": [
       "int"
      ]
     },
     "execution_count": 3,
     "metadata": {},
     "output_type": "execute_result"
    }
   ],
   "source": [
    "type(1)"
   ]
  },
  {
   "cell_type": "markdown",
   "id": "cf26b553",
   "metadata": {},
   "source": [
    "- 第一版: 使用者輸入一個數字密碼，程式要在沒猜中時，能提示使用者要猜大一點或是小一點"
   ]
  },
  {
   "cell_type": "code",
   "execution_count": 13,
   "id": "193753da",
   "metadata": {},
   "outputs": [
    {
     "name": "stdout",
     "output_type": "stream",
     "text": [
      "請輸入 1~100的數字50\n",
      "太大，猜小一點\n",
      "請輸入 1~100的數字25\n",
      "太大，猜小一點\n",
      "請輸入 1~100的數字12\n",
      "太小，猜大一點\n",
      "請輸入 1~100的數字20\n",
      "太小，猜大一點\n",
      "請輸入 1~100的數字24\n",
      "太大，猜小一點\n",
      "請輸入 1~100的數字23\n",
      "恭喜猜中了!!\n"
     ]
    }
   ],
   "source": [
    "# 請在這邊完成你的程式\n",
    "target = random.randint(1, 100)\n",
    "#print(target)\n",
    "\n",
    "#for i in range(10):\n",
    "while(True):\n",
    "    your_num = input('請輸入 1~100的數字')\n",
    "    your_num = int(your_num)\n",
    "    if your_num>target:\n",
    "        print('太大，猜小一點')\n",
    "    elif your_num<target:\n",
    "        print('太小，猜大一點')\n",
    "    else:\n",
    "        print('恭喜猜中了!!')\n",
    "        break"
   ]
  },
  {
   "cell_type": "markdown",
   "id": "dece9f79",
   "metadata": {},
   "source": [
    "- 第二版: 變數的練習，在前面的基礎下，把每一次猜的值記下來，更新到程式中的上、下限值，並在下一次提示目前可以猜的範圍"
   ]
  },
  {
   "cell_type": "code",
   "execution_count": 14,
   "id": "3833b34b",
   "metadata": {},
   "outputs": [
    {
     "name": "stdout",
     "output_type": "stream",
     "text": [
      "請輸入 1 ~ 100的數字\n",
      "50\n",
      "太大，猜小一點\n",
      "請輸入 1 ~ 50的數字\n",
      "25\n",
      "太小，猜大一點\n",
      "請輸入 25 ~ 50的數字\n",
      "33\n",
      "恭喜猜中了!!\n"
     ]
    }
   ],
   "source": [
    "# 請在這邊完成你的程式\n",
    "target = random.randint(1, 100)\n",
    "your_min = 1\n",
    "your_max = 100\n",
    "\n",
    "while(True):\n",
    "    tip = '請輸入 %s ~ %s的數字' %(your_min, your_max)\n",
    "    print(tip)\n",
    "    your_num = input('')\n",
    "    your_num = int(your_num)\n",
    "    if your_num>target:\n",
    "        print('太大，猜小一點')\n",
    "        your_max = your_num\n",
    "    elif your_num<target:\n",
    "        print('太小，猜大一點')\n",
    "        your_min = your_num\n",
    "    else:\n",
    "        print('恭喜猜中了!!')\n",
    "        break"
   ]
  },
  {
   "cell_type": "code",
   "execution_count": null,
   "id": "e9223316",
   "metadata": {},
   "outputs": [],
   "source": []
  },
  {
   "cell_type": "code",
   "execution_count": null,
   "id": "c4a580e0",
   "metadata": {},
   "outputs": [],
   "source": []
  }
 ],
 "metadata": {
  "kernelspec": {
   "display_name": "Python [conda env:py3]",
   "language": "python",
   "name": "py3"
  },
  "language_info": {
   "codemirror_mode": {
    "name": "ipython",
    "version": 3
   },
   "file_extension": ".py",
   "mimetype": "text/x-python",
   "name": "python",
   "nbconvert_exporter": "python",
   "pygments_lexer": "ipython3",
   "version": "3.9.7"
  }
 },
 "nbformat": 4,
 "nbformat_minor": 5
}
