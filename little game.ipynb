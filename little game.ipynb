{
 "cells": [
  {
   "cell_type": "code",
   "execution_count": null,
   "id": "279ad847",
   "metadata": {},
   "outputs": [],
   "source": [
    "import time\n",
    "\n",
    "def print_pause(message):\n",
    "    print(message)\n",
    "    time.sleep(2)\n",
    "\n",
    "def intro():\n",
    "    print_pause(\"你發現自己被困在了一個神秘的地方...\")\n",
    "    print_pause(\"這裡好像有兩扇門。\")\n",
    "    print_pause(\"你會選擇哪扇門？\")\n",
    "    \n",
    "def door():\n",
    "    choice = input(\"請輸入 1 或 2：\")\n",
    "    if choice == '1':\n",
    "        print_pause(\"這扇門通往了黑暗的房間...\")\n",
    "        print_pause(\"你突然聽到了一個聲音。\")\n",
    "        print_pause(\"你感到一陣恐懼，回到了起點。\")\n",
    "        play_again()\n",
    "    elif choice == '2':\n",
    "        print_pause(\"你走進了一個燦爛的房間。\")\n",
    "        print_pause(\"在這個房間裡，你發現了一個神奇的寶箱！\")\n",
    "        print_pause(\"恭喜你贏得了遊戲！\")\n",
    "        play_again()\n",
    "    else:\n",
    "        print_pause(\"請輸入 1 或 2。\")\n",
    "        door()\n",
    "\n",
    "def play_again():\n",
    "    choice = input(\"是否再玩一次？(輸入 y 或 n)：\")\n",
    "    if choice == 'y':\n",
    "        print_pause(\"好的，開始新的遊戲！\")\n",
    "        play_game()\n",
    "    elif choice == 'n':\n",
    "        print_pause(\"感謝遊玩！\")\n",
    "    else:\n",
    "        print_pause(\"請輸入 y 或 n。\")\n",
    "        play_again()\n",
    "\n",
    "def play_game():\n",
    "    intro()\n",
    "    door()\n",
    "\n",
    "#play_game()\n",
    "\n",
    "#這個小遊戲非常簡單，你需要選擇一扇門進入，如果你選對了門，你就能夠找到寶藏，贏得遊戲。如果你選錯了門，你會回到起點，並且需要重新開始遊戲。\n",
    "\n",
    "#希望這個小遊戲能夠讓你有一些樂趣！如果你想要進一步完善或擴展這個小遊戲，你可以嘗試添加更多的房間、角色、物品等等，讓這個小遊戲變得更加有趣！"
   ]
  }
 ],
 "metadata": {
  "kernelspec": {
   "display_name": "Python [conda env:py3]",
   "language": "python",
   "name": "py3"
  },
  "language_info": {
   "codemirror_mode": {
    "name": "ipython",
    "version": 3
   },
   "file_extension": ".py",
   "mimetype": "text/x-python",
   "name": "python",
   "nbconvert_exporter": "python",
   "pygments_lexer": "ipython3",
   "version": "3.9.7"
  }
 },
 "nbformat": 4,
 "nbformat_minor": 5
}
