{
 "cells": [
  {
   "cell_type": "markdown",
   "metadata": {
    "id": "zz68tYqgD6bm"
   },
   "source": [
    "# Demo2:分類電影評論 - 二元分類範例"
   ]
  },
  {
   "cell_type": "markdown",
   "metadata": {
    "id": "ZYBFIo_BjhQL"
   },
   "source": [
    "### 載入 IMDB 資料集"
   ]
  },
  {
   "cell_type": "code",
   "execution_count": 1,
   "metadata": {
    "id": "PHzNAmaBi9HT"
   },
   "outputs": [
    {
     "ename": "ModuleNotFoundError",
     "evalue": "No module named 'tensorflow'",
     "output_type": "error",
     "traceback": [
      "\u001b[1;31m---------------------------------------------------------------------------\u001b[0m",
      "\u001b[1;31mModuleNotFoundError\u001b[0m                       Traceback (most recent call last)",
      "\u001b[1;32m~\\AppData\\Local\\Temp/ipykernel_16352/1917411978.py\u001b[0m in \u001b[0;36m<module>\u001b[1;34m\u001b[0m\n\u001b[1;32m----> 1\u001b[1;33m \u001b[1;32mfrom\u001b[0m \u001b[0mtensorflow\u001b[0m\u001b[1;33m.\u001b[0m\u001b[0mkeras\u001b[0m\u001b[1;33m.\u001b[0m\u001b[0mdatasets\u001b[0m \u001b[1;32mimport\u001b[0m \u001b[0mimdb\u001b[0m  \u001b[1;31m#從 keras.datasets 套件中匯入 imdb 資料\u001b[0m\u001b[1;33m\u001b[0m\u001b[1;33m\u001b[0m\u001b[0m\n\u001b[0m\u001b[0;32m      2\u001b[0m \u001b[1;33m\u001b[0m\u001b[0m\n\u001b[0;32m      3\u001b[0m (train_data, train_labels),(test_data, test_labels)= imdb.load_data(\n\u001b[0;32m      4\u001b[0m     num_words=10000)  #從 imdb 中讀取, 只有在訓練集當中最常用的前 10,000 個單字才會被載入, 分別存入 (訓練資料, 訓練標籤) 和 (測試資料, 測試標籤)\n",
      "\u001b[1;31mModuleNotFoundError\u001b[0m: No module named 'tensorflow'"
     ]
    }
   ],
   "source": [
    "from tensorflow.keras.datasets import imdb  #從 keras.datasets 套件中匯入 imdb 資料\n",
    "\n",
    "(train_data, train_labels),(test_data, test_labels)= imdb.load_data(\n",
    "    num_words=10000)  #從 imdb 中讀取, 只有在訓練集當中最常用的前 10,000 個單字才會被載入, 分別存入 (訓練資料, 訓練標籤) 和 (測試資料, 測試標籤)"
   ]
  },
  {
   "cell_type": "code",
   "execution_count": null,
   "metadata": {
    "colab": {
     "base_uri": "https://localhost:8080/"
    },
    "id": "quDUGeZLjVRA",
    "outputId": "253b8d13-c2ba-4a5e-9fb1-6f5101502ed4"
   },
   "outputs": [],
   "source": [
    "train_data[0]  #取第 0 篇評論"
   ]
  },
  {
   "cell_type": "code",
   "execution_count": 3,
   "metadata": {
    "colab": {
     "base_uri": "https://localhost:8080/"
    },
    "id": "GKMMh0N4jgLl",
    "outputId": "576f1124-d993-44b7-ce0d-cf8d4d9096c6"
   },
   "outputs": [
    {
     "data": {
      "text/plain": [
       "1"
      ]
     },
     "execution_count": 3,
     "metadata": {},
     "output_type": "execute_result"
    }
   ],
   "source": [
    "train_labels[0]  #第 0 篇評論的評價 : 1=正評；0=負評"
   ]
  },
  {
   "cell_type": "code",
   "execution_count": 4,
   "metadata": {
    "colab": {
     "base_uri": "https://localhost:8080/"
    },
    "id": "d-jBH9ATvnyQ",
    "outputId": "27ff41ec-aa0e-495e-e260-780a478bda0f"
   },
   "outputs": [
    {
     "name": "stdout",
     "output_type": "stream",
     "text": [
      "25000 [1 0 0 ... 0 1 0]\n"
     ]
    }
   ],
   "source": [
    "print(len(train_labels), train_labels)"
   ]
  },
  {
   "cell_type": "markdown",
   "metadata": {
    "id": "2Dz6eAaRnVCj"
   },
   "source": [
    "### 將整數 list 編碼成二元矩陣"
   ]
  },
  {
   "cell_type": "code",
   "execution_count": 5,
   "metadata": {
    "id": "ESlpNhqJnmBk"
   },
   "outputs": [],
   "source": [
    "import numpy as np  #匯入 numpy 模組, 後續程式以 np 使用\n",
    "\n",
    "def vectorize_sequences(sequences, dimension=10000):  #sequences 將傳入 train_data\n",
    "    results = np.zeros((len(sequences), dimension))\n",
    "    for i, sequence in enumerate(sequences):  #用 enumerate 取元素值\n",
    "        results[i, sequence] = 1.   #將 result[i] 特定索引值的數值設定為 1\n",
    "    return results\n",
    "    \n",
    "x_train = vectorize_sequences(train_data)  #向量化訓練資料\n",
    "x_test = vectorize_sequences(test_data)  #向量化測試資料"
   ]
  },
  {
   "cell_type": "code",
   "execution_count": 6,
   "metadata": {
    "colab": {
     "base_uri": "https://localhost:8080/"
    },
    "id": "GNo739uToYt-",
    "outputId": "e1b8d1f2-7365-4de6-a53b-88d6d4e56710"
   },
   "outputs": [
    {
     "data": {
      "text/plain": [
       "(10000, array([0., 1., 1., ..., 0., 0., 0.]))"
      ]
     },
     "execution_count": 6,
     "metadata": {},
     "output_type": "execute_result"
    }
   ],
   "source": [
    "len(x_train[0]), x_train[0]"
   ]
  },
  {
   "cell_type": "code",
   "execution_count": 7,
   "metadata": {
    "id": "HzOAc7QIobkr"
   },
   "outputs": [],
   "source": [
    "y_train = np.asarray(train_labels).astype('float32')  #向量化訓練標籤\n",
    "y_test = np.asarray(test_labels).astype('float32')  #向量化測試標籤"
   ]
  },
  {
   "cell_type": "markdown",
   "metadata": {
    "id": "qTO4QxZ1pn6D"
   },
   "source": [
    "### 建立模型"
   ]
  },
  {
   "cell_type": "code",
   "execution_count": 8,
   "metadata": {
    "id": "RTEf9Qbmpnl0"
   },
   "outputs": [],
   "source": [
    "from tensorflow.keras import models\n",
    "from tensorflow.keras import layers\n",
    "\n",
    "model = models.Sequential()  #使用 models 模組的 Sequential 類別, 建立一個物件讓新增的神經網路層可以進行堆疊\n",
    "model.add(layers.Dense(16, activation='relu', input_shape=(10000, )))  #輸入層\n",
    "model.add(layers.Dense(16, activation='relu'))  #隱藏層\n",
    "model.add(layers.Dense(1, activation='sigmoid'))  #輸出層"
   ]
  },
  {
   "cell_type": "markdown",
   "metadata": {
    "id": "UKXQBXMwJJe9"
   },
   "source": [
    "### 編譯模型"
   ]
  },
  {
   "cell_type": "code",
   "execution_count": 9,
   "metadata": {
    "id": "9Q7qqAzbJVAE"
   },
   "outputs": [],
   "source": [
    "from tensorflow.keras import optimizers\n",
    "\n",
    "model.compile(optimizer='rmsprop',\n",
    "              loss='binary_crossentropy',\n",
    "              metrics=['acc'])  #建立訓練模型\n"
   ]
  },
  {
   "cell_type": "markdown",
   "metadata": {
    "id": "bdBjsKB4JjkF"
   },
   "source": [
    "### 設定驗證資料集"
   ]
  },
  {
   "cell_type": "code",
   "execution_count": 10,
   "metadata": {
    "id": "B-w9TPv3JipV"
   },
   "outputs": [],
   "source": [
    "x_val = x_train[:10000]  #取輸入資料的前 10000 個做驗證 (val)\n",
    "partial_x_train = x_train[10000:]  #輸入資料的第 10000 個開始才是訓練資料\n",
    "y_val = y_train[:10000]  #對應的, 要取標籤的前 10000 個做為驗證標籤\n",
    "partial_y_train = y_train[10000:]  #從標籤的第 10000 個開始才是訓練資料的標籤"
   ]
  },
  {
   "cell_type": "markdown",
   "metadata": {
    "id": "VnlH_4IEJhoE"
   },
   "source": [
    "### 訓練模型"
   ]
  },
  {
   "cell_type": "code",
   "execution_count": 11,
   "metadata": {
    "colab": {
     "base_uri": "https://localhost:8080/"
    },
    "id": "50j32lLnKb4z",
    "outputId": "407404b2-63fa-4cb8-d254-8e54e3268e79"
   },
   "outputs": [
    {
     "name": "stdout",
     "output_type": "stream",
     "text": [
      "Epoch 1/20\n",
      "30/30 [==============================] - 2s 69ms/step - loss: 0.5056 - acc: 0.7818 - val_loss: 0.3710 - val_acc: 0.8723\n",
      "Epoch 2/20\n",
      "30/30 [==============================] - 1s 36ms/step - loss: 0.2963 - acc: 0.9034 - val_loss: 0.3142 - val_acc: 0.8766\n",
      "Epoch 3/20\n",
      "30/30 [==============================] - 1s 36ms/step - loss: 0.2180 - acc: 0.9289 - val_loss: 0.2759 - val_acc: 0.8910\n",
      "Epoch 4/20\n",
      "30/30 [==============================] - 1s 29ms/step - loss: 0.1725 - acc: 0.9445 - val_loss: 0.2742 - val_acc: 0.8906\n",
      "Epoch 5/20\n",
      "30/30 [==============================] - 1s 29ms/step - loss: 0.1395 - acc: 0.9559 - val_loss: 0.2943 - val_acc: 0.8831\n",
      "Epoch 6/20\n",
      "30/30 [==============================] - 1s 28ms/step - loss: 0.1170 - acc: 0.9637 - val_loss: 0.3030 - val_acc: 0.8834\n",
      "Epoch 7/20\n",
      "30/30 [==============================] - 1s 29ms/step - loss: 0.0943 - acc: 0.9730 - val_loss: 0.3151 - val_acc: 0.8833\n",
      "Epoch 8/20\n",
      "30/30 [==============================] - 1s 29ms/step - loss: 0.0805 - acc: 0.9776 - val_loss: 0.3484 - val_acc: 0.8801\n",
      "Epoch 9/20\n",
      "30/30 [==============================] - 1s 28ms/step - loss: 0.0677 - acc: 0.9809 - val_loss: 0.3576 - val_acc: 0.8820\n",
      "Epoch 10/20\n",
      "30/30 [==============================] - 1s 28ms/step - loss: 0.0546 - acc: 0.9857 - val_loss: 0.3862 - val_acc: 0.8785\n",
      "Epoch 11/20\n",
      "30/30 [==============================] - 1s 29ms/step - loss: 0.0442 - acc: 0.9891 - val_loss: 0.4103 - val_acc: 0.8758\n",
      "Epoch 12/20\n",
      "30/30 [==============================] - 1s 27ms/step - loss: 0.0377 - acc: 0.9911 - val_loss: 0.4522 - val_acc: 0.8678\n",
      "Epoch 13/20\n",
      "30/30 [==============================] - 1s 30ms/step - loss: 0.0322 - acc: 0.9927 - val_loss: 0.4677 - val_acc: 0.8719\n",
      "Epoch 14/20\n",
      "30/30 [==============================] - 1s 29ms/step - loss: 0.0245 - acc: 0.9955 - val_loss: 0.4951 - val_acc: 0.8723\n",
      "Epoch 15/20\n",
      "30/30 [==============================] - 1s 31ms/step - loss: 0.0190 - acc: 0.9972 - val_loss: 0.5975 - val_acc: 0.8523\n",
      "Epoch 16/20\n",
      "30/30 [==============================] - 1s 31ms/step - loss: 0.0164 - acc: 0.9975 - val_loss: 0.5661 - val_acc: 0.8704\n",
      "Epoch 17/20\n",
      "30/30 [==============================] - 1s 30ms/step - loss: 0.0128 - acc: 0.9987 - val_loss: 0.6067 - val_acc: 0.8684\n",
      "Epoch 18/20\n",
      "30/30 [==============================] - 1s 27ms/step - loss: 0.0094 - acc: 0.9991 - val_loss: 0.6374 - val_acc: 0.8681\n",
      "Epoch 19/20\n",
      "30/30 [==============================] - 1s 26ms/step - loss: 0.0112 - acc: 0.9982 - val_loss: 0.6686 - val_acc: 0.8658\n",
      "Epoch 20/20\n",
      "30/30 [==============================] - 1s 23ms/step - loss: 0.0045 - acc: 0.9999 - val_loss: 0.6974 - val_acc: 0.8632\n"
     ]
    }
   ],
   "source": [
    "#呼叫 fit() 開始訓練 (使用 partial_x_train 輸入資料、 partial_y_train 標籤、20 個訓練週期、一次訓練週期使用 512 筆資料\n",
    "history = model.fit(partial_x_train,\n",
    "                    partial_y_train,\n",
    "                    epochs=20,\n",
    "                    batch_size=512,\n",
    "                    validation_data=(x_val, y_val))  #同時傳入驗證集的資料與標籤"
   ]
  },
  {
   "cell_type": "code",
   "execution_count": 13,
   "metadata": {
    "colab": {
     "base_uri": "https://localhost:8080/"
    },
    "id": "ocxIAzz6NilK",
    "outputId": "f1d28fdb-44b8-4b57-9e54-5a8b552b94be",
    "scrolled": true
   },
   "outputs": [
    {
     "data": {
      "text/plain": [
       "dict_keys(['loss', 'acc', 'val_loss', 'val_acc'])"
      ]
     },
     "execution_count": 13,
     "metadata": {},
     "output_type": "execute_result"
    }
   ],
   "source": [
    "history_dict = history.history\n",
    "history_dict.keys()"
   ]
  },
  {
   "cell_type": "code",
   "execution_count": 14,
   "metadata": {},
   "outputs": [
    {
     "data": {
      "text/plain": [
       "[0.7817999720573425,\n",
       " 0.9034000039100647,\n",
       " 0.928933322429657,\n",
       " 0.9444666504859924,\n",
       " 0.9558666944503784,\n",
       " 0.9636666774749756,\n",
       " 0.9729999899864197,\n",
       " 0.9775999784469604,\n",
       " 0.9808666706085205,\n",
       " 0.9857333302497864,\n",
       " 0.9890666604042053,\n",
       " 0.9910666942596436,\n",
       " 0.992733359336853,\n",
       " 0.9955333471298218,\n",
       " 0.9972000122070312,\n",
       " 0.9975333213806152,\n",
       " 0.9986666440963745,\n",
       " 0.9990666508674622,\n",
       " 0.998199999332428,\n",
       " 0.9998666644096375]"
      ]
     },
     "execution_count": 14,
     "metadata": {},
     "output_type": "execute_result"
    }
   ],
   "source": [
    "history_dict['acc']"
   ]
  },
  {
   "cell_type": "markdown",
   "metadata": {
    "id": "ZM5YY3aONid8"
   },
   "source": [
    "### 程式 3.9 繪製訓練與驗證的損失分數"
   ]
  },
  {
   "cell_type": "code",
   "execution_count": 15,
   "metadata": {
    "colab": {
     "base_uri": "https://localhost:8080/",
     "height": 295
    },
    "id": "xV6OQuL-NiXL",
    "outputId": "fcd477c8-0b0b-43b3-80d2-cee09f66e0ea"
   },
   "outputs": [
    {
     "data": {
      "image/png": "[encoded data removed]",
      "text/plain": [
       "<Figure size 640x480 with 1 Axes>"
      ]
     },
     "metadata": {},
     "output_type": "display_data"
    }
   ],
   "source": [
    "import matplotlib.pyplot as plt  #匯入 matplotlib.pyplot 模組, 後續程式用 plt 使用\n",
    "\n",
    "history_dict = history.history\n",
    "loss_values = history_dict['loss']  #取得每次訓練的 loss 訓練損失分數並存成 loss_values 變數\n",
    "val_loss_values = history_dict['val_loss']  #取得每次驗證的 val_loss 驗證損失分數並指定給 val_loss_values 變數\n",
    "\n",
    "\n",
    "epochs = range(1, len(loss_values)+ 1)  #len(loss_values) 項目個數為 20,範圍從 1 到 21 (不含 21) 的期間\n",
    "\n",
    "plt.plot(epochs, loss_values, 'go', label='Training loss')  #以 'b' 指定用藍色線條畫出 x 軸為訓練週期、y 軸為驗證損失分數的圖表, 標籤設為驗證損失分數\n",
    "plt.plot(epochs, val_loss_values, 'b--.', label='Validation loss')  #以 'bo' 指定用藍色點點畫出 x 軸為訓練週期、y 軸為訓練損失分數的圖表, 標籤設為訓練損失分數\n",
    "plt.title('Training and validation loss')\n",
    "plt.xlabel('Epochs')  #將此圖表標題的 x 軸設為訓練週期分數\n",
    "plt.ylabel('Loss')  #將此圖表標題的 y 軸設為損失\n",
    "plt.legend()  #可以追加每個輸出圖表的圖像名稱\n",
    "\n",
    "plt.show()  #顯示圖表"
   ]
  },
  {
   "cell_type": "markdown",
   "metadata": {
    "id": "tuZ3Iis2NiQL"
   },
   "source": [
    "### 程式 3.10 繪製訓練和驗證的準確度"
   ]
  },
  {
   "cell_type": "code",
   "execution_count": 16,
   "metadata": {
    "colab": {
     "base_uri": "https://localhost:8080/",
     "height": 295
    },
    "id": "MC1Au20PNiJ8",
    "outputId": "1e24de1c-6add-496b-b6f6-a7c529fae46b"
   },
   "outputs": [
    {
     "data": {
      "image/png": "[encoded data removed]",
      "text/plain": [
       "<Figure size 640x480 with 1 Axes>"
      ]
     },
     "metadata": {},
     "output_type": "display_data"
    }
   ],
   "source": [
    "plt.clf()  #清除圖表\n",
    "acc = history_dict['acc']\n",
    "val_acc = history_dict['val_acc']\n",
    "\n",
    "plt.plot(epochs, acc, 'go', label='Training acc')\n",
    "plt.plot(epochs, val_acc, 'b--.', label='Validation acc')\n",
    "plt.title('Training and validation accuracy')\n",
    "plt.xlabel('Epochs')\n",
    "plt.ylabel('Accuracy')\n",
    "plt.legend()\n",
    "\n",
    "plt.show()"
   ]
  },
  {
   "cell_type": "code",
   "execution_count": null,
   "metadata": {
    "id": "lnkJYADMKdN-"
   },
   "outputs": [],
   "source": []
  }
 ],
 "metadata": {
  "colab": {
   "collapsed_sections": [],
   "name": "demo2_.ipynb",
   "provenance": []
  },
  "gpuClass": "standard",
  "kernelspec": {
   "display_name": "Python 3 (ipykernel)",
   "language": "python",
   "name": "python3"
  },
  "language_info": {
   "codemirror_mode": {
    "name": "ipython",
    "version": 3
   },
   "file_extension": ".py",
   "mimetype": "text/x-python",
   "name": "python",
   "nbconvert_exporter": "python",
   "pygments_lexer": "ipython3",
   "version": "3.9.7"
  }
 },
 "nbformat": 4,
 "nbformat_minor": 1
}
