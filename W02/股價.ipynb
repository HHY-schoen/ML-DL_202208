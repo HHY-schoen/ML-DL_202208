{
 "cells": [
  {
   "cell_type": "markdown",
   "id": "cd7fbd4b",
   "metadata": {},
   "source": [
    "- 使用預先整理好的股票資料"
   ]
  },
  {
   "cell_type": "code",
   "execution_count": null,
   "id": "4a6df7e7",
   "metadata": {},
   "outputs": [],
   "source": [
    "# colab直接抓網址 (colab是基於linux建立的)\n",
    "# !wget \"網址\""
   ]
  },
  {
   "cell_type": "code",
   "execution_count": 1,
   "id": "c77c9580",
   "metadata": {},
   "outputs": [],
   "source": [
    "import csv\n",
    "\n",
    "fn = 'stock_data.csv'\n",
    "with open(fn, 'r') as csvfile:\n",
    "    rows = csv.reader(csvfile)\n",
    "    data_list2 = list(rows)"
   ]
  },
  {
   "cell_type": "code",
   "execution_count": 2,
   "id": "e4b6d841",
   "metadata": {},
   "outputs": [
    {
     "data": {
      "text/plain": [
       "[['date', 'close', 'volume'],\n",
       " ['2020-01-02', '339.0', '31754120.0'],\n",
       " ['2020-01-03', '339.5', '41811268.0']]"
      ]
     },
     "execution_count": 2,
     "metadata": {},
     "output_type": "execute_result"
    }
   ],
   "source": [
    "data_list2[:3]"
   ]
  },
  {
   "cell_type": "code",
   "execution_count": 3,
   "id": "694ce1ee",
   "metadata": {},
   "outputs": [],
   "source": [
    "stock_close = []\n",
    "stock_date = []\n",
    "for item in data_list2[1:]:\n",
    "    stock_close.append(float(item[1]))\n",
    "    stock_date.append(item[0])"
   ]
  },
  {
   "cell_type": "code",
   "execution_count": 4,
   "id": "4b5ff54b",
   "metadata": {},
   "outputs": [
    {
     "name": "stdout",
     "output_type": "stream",
     "text": [
      "[339.0, 339.5, 332.0, 329.5, 329.5, 337.5, 339.5, 341.5, 346.0, 340.0, 334.5, 333.0, 333.0, 316.5, 320.0, 315.0, 325.0, 327.5, 332.5, 328.0, 327.5, 331.5, 335.0, 335.0, 335.0, 331.5, 322.0, 326.5, 325.5, 325.0, 320.0, 322.0, 318.5, 316.0, 311.0, 317.5, 320.5, 323.0, 315.0, 305.5, 307.0, 302.0, 294.0, 290.0, 276.5, 268.0, 260.0, 248.0, 270.0, 255.0, 267.5, 277.0, 280.0, 273.0, 267.5, 274.0, 271.5, 275.5, 283.0, 285.0, 283.0, 279.5, 278.5, 285.0, 287.5, 286.5, 306.5, 304.0, 295.0, 294.0, 295.5, 294.0, 298.0, 296.5, 299.0, 304.5, 295.0, 295.5, 296.0, 297.5, 297.5, 301.0, 295.0, 297.0, 293.0, 298.0, 290.0, 291.5, 294.0, 297.5, 292.0, 292.0, 295.5, 296.5, 294.0, 292.0, 295.5, 296.5, 301.0, 306.0, 311.5, 318.0, 319.0, 322.5, 320.5, 316.0, 309.5, 315.0, 315.0, 314.5, 314.5, 312.0, 315.0, 317.5, 312.0, 313.0, 317.5, 322.0, 329.5, 338.0, 338.5, 341.0]\n"
     ]
    }
   ],
   "source": [
    "print(stock_close)"
   ]
  },
  {
   "cell_type": "markdown",
   "id": "a9842f16",
   "metadata": {},
   "source": [
    "- 找出最高點，以 [日期]：數值的方式呈現"
   ]
  },
  {
   "cell_type": "code",
   "execution_count": 7,
   "id": "8b072c0a",
   "metadata": {},
   "outputs": [
    {
     "name": "stdout",
     "output_type": "stream",
     "text": [
      "最大值: [2020-01-14]: 346.0\n"
     ]
    }
   ],
   "source": [
    "n = len(stock_close)\n",
    "close_max = stock_close[0]\n",
    "date_max = stock_date[0]\n",
    "for i in range(n):\n",
    "    if close_max < stock_close[i]:\n",
    "        close_max = stock_close[i]\n",
    "        date_max = stock_date[i]\n",
    "# print(date_max, '-->', close_max)\n",
    "print('最大值: [%s]: %s' % (date_max, close_max))"
   ]
  },
  {
   "cell_type": "markdown",
   "id": "532897f4",
   "metadata": {},
   "source": [
    "- 找出最低點，以 [日期 -> 數值]的方式呈現"
   ]
  },
  {
   "cell_type": "code",
   "execution_count": 8,
   "id": "cee3d901",
   "metadata": {},
   "outputs": [
    {
     "name": "stdout",
     "output_type": "stream",
     "text": [
      "2020-03-19 --> 248.0\n"
     ]
    }
   ],
   "source": [
    "close_min = stock_close[0]\n",
    "date_min = stock_date[0]\n",
    "for i in range(n):\n",
    "    if close_min > stock_close[i]:\n",
    "        close_min = stock_close[i]\n",
    "        date_min = stock_date[i]\n",
    "print(date_min, '-->', close_min)"
   ]
  },
  {
   "cell_type": "markdown",
   "id": "df148d48",
   "metadata": {},
   "source": [
    "- 找出每個月的最高點 or 最低點"
   ]
  },
  {
   "cell_type": "code",
   "execution_count": 9,
   "id": "ac43924d",
   "metadata": {},
   "outputs": [
    {
     "name": "stdout",
     "output_type": "stream",
     "text": [
      "[1] max: 346.0 @ 2020-01-14\n",
      "[1] min: 316.5 @ 2020-01-30\n",
      "[2] max: 335.0 @ 2020-02-12\n",
      "[2] min: 315.0 @ 2020-02-03\n",
      "[3] max: 323.0 @ 2020-03-05\n",
      "[3] min: 248.0 @ 2020-03-19\n",
      "[4] max: 306.5 @ 2020-04-17\n",
      "[4] min: 271.5 @ 2020-04-01\n",
      "[5] max: 301.0 @ 2020-05-11\n",
      "[5] min: 290.0 @ 2020-05-18\n",
      "[6] max: 322.5 @ 2020-06-10\n",
      "[6] min: 295.5 @ 2020-06-01\n",
      "[7] max: 341.0 @ 2020-07-08\n",
      "[7] min: 317.5 @ 2020-07-01\n"
     ]
    }
   ],
   "source": [
    "for m in range(1, 8):  #1~7月\n",
    "    #print(m)\n",
    "    close_max = 0\n",
    "    date_max = None\n",
    "    close_min = 10000\n",
    "    date_min = None\n",
    "    for i in range(len(stock_close)):\n",
    "        #if m == int(stock_date[i][5:7]):\n",
    "        str_m = '%02d' %(m)\n",
    "        if str_m == stock_date[i][5:7]:\n",
    "            if close_max < stock_close[i]:\n",
    "                close_max = stock_close[i]\n",
    "                date_max = stock_date[i]\n",
    "            if close_min > stock_close[i]:\n",
    "                close_min = stock_close[i]\n",
    "                date_min = stock_date[i]\n",
    "    print('[%d] max: %s @ %s' %(m, close_max, date_max))\n",
    "    print('[%d] min: %s @ %s' %(m, close_min, date_min))"
   ]
  },
  {
   "cell_type": "code",
   "execution_count": null,
   "id": "c83eb7ed",
   "metadata": {},
   "outputs": [],
   "source": []
  },
  {
   "cell_type": "markdown",
   "id": "b1ef6284",
   "metadata": {},
   "source": [
    "- 用基本工具繪趨勢圖\n",
    "- 魔術指令: %matplotlib inline"
   ]
  },
  {
   "cell_type": "code",
   "execution_count": 11,
   "id": "6f4cbb35",
   "metadata": {},
   "outputs": [],
   "source": [
    "%matplotlib inline"
   ]
  },
  {
   "cell_type": "code",
   "execution_count": 12,
   "id": "af287c81",
   "metadata": {},
   "outputs": [
    {
     "data": {
      "text/plain": [
       "Text(0, 0.5, 'close')"
      ]
     },
     "execution_count": 12,
     "metadata": {},
     "output_type": "execute_result"
    },
    {
     "data": {
      "image/png": "[encoded data removed]",
      "text/plain": [
       "<Figure size 432x288 with 1 Axes>"
      ]
     },
     "metadata": {
      "needs_background": "light"
     },
     "output_type": "display_data"
    }
   ],
   "source": [
    "import matplotlib.pyplot as plt\n",
    "\n",
    "plt.plot(stock_date, stock_close)\n",
    "plt.xlabel('date')\n",
    "plt.ylabel('close')"
   ]
  },
  {
   "cell_type": "code",
   "execution_count": 13,
   "id": "0192240b",
   "metadata": {},
   "outputs": [
    {
     "data": {
      "text/plain": [
       "Text(0, 0.5, 'close')"
      ]
     },
     "execution_count": 13,
     "metadata": {},
     "output_type": "execute_result"
    },
    {
     "data": {
      "image/png": "[encoded data removed]",
      "text/plain": [
       "<Figure size 432x288 with 1 Axes>"
      ]
     },
     "metadata": {
      "needs_background": "light"
     },
     "output_type": "display_data"
    }
   ],
   "source": [
    "import matplotlib.pyplot as plt\n",
    "\n",
    "plt.plot(stock_date[0:5], stock_close[0:5])\n",
    "plt.xlabel('date')\n",
    "plt.ylabel('close')"
   ]
  },
  {
   "cell_type": "code",
   "execution_count": 14,
   "id": "bcaba7f3",
   "metadata": {},
   "outputs": [
    {
     "data": {
      "text/plain": [
       "['2020-01-02',\n",
       " '2020-01-16',\n",
       " '2020-02-10',\n",
       " '2020-02-24',\n",
       " '2020-03-10',\n",
       " '2020-03-24',\n",
       " '2020-04-09',\n",
       " '2020-04-23',\n",
       " '2020-05-08',\n",
       " '2020-05-22',\n",
       " '2020-06-05',\n",
       " '2020-06-19',\n",
       " '2020-07-07']"
      ]
     },
     "execution_count": 14,
     "metadata": {},
     "output_type": "execute_result"
    }
   ],
   "source": [
    "stock_date[0::10] #從0開始每隔10天取到最後"
   ]
  },
  {
   "cell_type": "code",
   "execution_count": 15,
   "id": "6ab767c8",
   "metadata": {},
   "outputs": [
    {
     "data": {
      "image/png": "[encoded data removed]",
      "text/plain": [
       "<Figure size 432x288 with 1 Axes>"
      ]
     },
     "metadata": {
      "needs_background": "light"
     },
     "output_type": "display_data"
    }
   ],
   "source": [
    "import matplotlib.pyplot as plt\n",
    "\n",
    "plt.plot(stock_date, stock_close)\n",
    "plt.xlabel('date')\n",
    "plt.ylabel('close')\n",
    "plt.xticks(stock_date[0::10], rotation=90)  #rotation:x軸文字的旋轉角度\n",
    "plt.grid()  #畫格線"
   ]
  },
  {
   "cell_type": "code",
   "execution_count": null,
   "id": "886d0706",
   "metadata": {},
   "outputs": [],
   "source": []
  },
  {
   "cell_type": "code",
   "execution_count": null,
   "id": "735dd519",
   "metadata": {},
   "outputs": [],
   "source": []
  }
 ],
 "metadata": {
  "kernelspec": {
   "display_name": "Python [conda env:py3]",
   "language": "python",
   "name": "py3"
  },
  "language_info": {
   "codemirror_mode": {
    "name": "ipython",
    "version": 3
   },
   "file_extension": ".py",
   "mimetype": "text/x-python",
   "name": "python",
   "nbconvert_exporter": "python",
   "pygments_lexer": "ipython3",
   "version": "3.9.7"
  }
 },
 "nbformat": 4,
 "nbformat_minor": 5
}
