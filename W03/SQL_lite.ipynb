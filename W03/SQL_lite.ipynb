{
 "cells": [
  {
   "cell_type": "markdown",
   "metadata": {},
   "source": [
    "# 資料庫應用(三)\n"
   ]
  },
  {
   "cell_type": "markdown",
   "metadata": {},
   "source": [
    "## SQLite 操作 (已內建在python裡面"
   ]
  },
  {
   "cell_type": "code",
   "execution_count": 1,
   "metadata": {},
   "outputs": [],
   "source": [
    "# 先裝 mysql的connection driver\n",
    "# pip install PyMySQL\n",
    "\n",
    "from sqlalchemy import create_engine\n",
    "\n",
    "#my_db = create_engine(mysql_db_url)\n",
    "my_db = create_engine('sqlite:///foo.db')"
   ]
  },
  {
   "cell_type": "markdown",
   "metadata": {},
   "source": [
    "- Create "
   ]
  },
  {
   "cell_type": "code",
   "execution_count": 3,
   "metadata": {},
   "outputs": [
    {
     "data": {
      "text/plain": [
       "{'context': <sqlalchemy.dialects.sqlite.base.SQLiteExecutionContext at 0x2a4ba5518b0>,\n",
       " 'dialect': <sqlalchemy.dialects.sqlite.pysqlite.SQLiteDialect_pysqlite at 0x2a4bbaaf5b0>,\n",
       " 'cursor': None,\n",
       " 'cursor_strategy': <sqlalchemy.engine.cursor.NoCursorDMLFetchStrategy at 0x2a4baa43b60>,\n",
       " 'connection': <sqlalchemy.engine.base.Connection at 0x2a4bbad9be0>,\n",
       " '_echo': False,\n",
       " '_metadata': <sqlalchemy.engine.cursor._LegacyNoResultMetaData at 0x2a4baa8df10>,\n",
       " 'rowcount': -1,\n",
       " '_soft_closed': True}"
      ]
     },
     "execution_count": 3,
     "metadata": {},
     "output_type": "execute_result"
    }
   ],
   "source": [
    "# 開始建立時，該db才會出現\n",
    "table_name = 'hhy_test0911'\n",
    "sql_cmd_str = \"CREATE TABLE IF NOT EXISTS %s(dtime varchar(20) PRIMARY KEY, temp float)\" %(table_name)\n",
    "resultProxy = my_db.execute(sql_cmd_str)\n",
    "resultProxy.__dict__"
   ]
  },
  {
   "cell_type": "markdown",
   "metadata": {},
   "source": [
    "- Insert"
   ]
  },
  {
   "cell_type": "code",
   "execution_count": 4,
   "metadata": {},
   "outputs": [
    {
     "name": "stdout",
     "output_type": "stream",
     "text": [
      "2022-08-01 08:00:00 35.8\n",
      "2022-08-02 08:00:00 35.6\n",
      "2022-08-03 08:00:00 36.8\n",
      "2022-08-04 08:00:00 37.2\n",
      "2022-08-05 08:00:00 36.0\n",
      "2022-08-06 08:00:00 37.4\n",
      "2022-08-07 08:00:00 36.0\n",
      "2022-08-08 08:00:00 37.0\n",
      "2022-08-09 08:00:00 35.6\n",
      "2022-08-10 08:00:00 37.0\n"
     ]
    }
   ],
   "source": [
    "import datetime\n",
    "import random\n",
    "\n",
    "dt1 = datetime.datetime.strptime('2022-08-01 08:00:00','%Y-%m-%d %H:%M:%S') #把時間字串轉為datetime物件\n",
    "for i in range(10):\n",
    "    str_dt = (dt1+datetime.timedelta(days=i)).strftime('%Y-%m-%d %H:%M:%S')\n",
    "    temp = random.randint(350, 375)/10\n",
    "    print(str_dt, temp)"
   ]
  },
  {
   "cell_type": "code",
   "execution_count": 7,
   "metadata": {
    "collapsed": true
   },
   "outputs": [
    {
     "ename": "IntegrityError",
     "evalue": "(sqlite3.IntegrityError) UNIQUE constraint failed: hhy_test0911.dtime\n[SQL: insert into hhy_test0911 (dtime, temp) values('2022-08-01 08:00:00', '35.7')]\n(Background on this error at: https://sqlalche.me/e/14/gkpj)",
     "output_type": "error",
     "traceback": [
      "\u001b[1;31m---------------------------------------------------------------------------\u001b[0m",
      "\u001b[1;31mIntegrityError\u001b[0m                            Traceback (most recent call last)",
      "\u001b[1;32mD:\\Anaconda\\lib\\site-packages\\sqlalchemy\\engine\\base.py\u001b[0m in \u001b[0;36m_execute_context\u001b[1;34m(self, dialect, constructor, statement, parameters, execution_options, *args, **kw)\u001b[0m\n\u001b[0;32m   1770\u001b[0m                 \u001b[1;32mif\u001b[0m \u001b[1;32mnot\u001b[0m \u001b[0mevt_handled\u001b[0m\u001b[1;33m:\u001b[0m\u001b[1;33m\u001b[0m\u001b[1;33m\u001b[0m\u001b[0m\n\u001b[1;32m-> 1771\u001b[1;33m                     self.dialect.do_execute(\n\u001b[0m\u001b[0;32m   1772\u001b[0m                         \u001b[0mcursor\u001b[0m\u001b[1;33m,\u001b[0m \u001b[0mstatement\u001b[0m\u001b[1;33m,\u001b[0m \u001b[0mparameters\u001b[0m\u001b[1;33m,\u001b[0m \u001b[0mcontext\u001b[0m\u001b[1;33m\u001b[0m\u001b[1;33m\u001b[0m\u001b[0m\n",
      "\u001b[1;32mD:\\Anaconda\\lib\\site-packages\\sqlalchemy\\engine\\default.py\u001b[0m in \u001b[0;36mdo_execute\u001b[1;34m(self, cursor, statement, parameters, context)\u001b[0m\n\u001b[0;32m    716\u001b[0m     \u001b[1;32mdef\u001b[0m \u001b[0mdo_execute\u001b[0m\u001b[1;33m(\u001b[0m\u001b[0mself\u001b[0m\u001b[1;33m,\u001b[0m \u001b[0mcursor\u001b[0m\u001b[1;33m,\u001b[0m \u001b[0mstatement\u001b[0m\u001b[1;33m,\u001b[0m \u001b[0mparameters\u001b[0m\u001b[1;33m,\u001b[0m \u001b[0mcontext\u001b[0m\u001b[1;33m=\u001b[0m\u001b[1;32mNone\u001b[0m\u001b[1;33m)\u001b[0m\u001b[1;33m:\u001b[0m\u001b[1;33m\u001b[0m\u001b[1;33m\u001b[0m\u001b[0m\n\u001b[1;32m--> 717\u001b[1;33m         \u001b[0mcursor\u001b[0m\u001b[1;33m.\u001b[0m\u001b[0mexecute\u001b[0m\u001b[1;33m(\u001b[0m\u001b[0mstatement\u001b[0m\u001b[1;33m,\u001b[0m \u001b[0mparameters\u001b[0m\u001b[1;33m)\u001b[0m\u001b[1;33m\u001b[0m\u001b[1;33m\u001b[0m\u001b[0m\n\u001b[0m\u001b[0;32m    718\u001b[0m \u001b[1;33m\u001b[0m\u001b[0m\n",
      "\u001b[1;31mIntegrityError\u001b[0m: UNIQUE constraint failed: hhy_test0911.dtime",
      "\nThe above exception was the direct cause of the following exception:\n",
      "\u001b[1;31mIntegrityError\u001b[0m                            Traceback (most recent call last)",
      "\u001b[1;32m~\\AppData\\Local\\Temp/ipykernel_16172/2309665954.py\u001b[0m in \u001b[0;36m<module>\u001b[1;34m\u001b[0m\n\u001b[0;32m      9\u001b[0m     \u001b[1;31m#print(str_dt, temp)\u001b[0m\u001b[1;33m\u001b[0m\u001b[1;33m\u001b[0m\u001b[0m\n\u001b[0;32m     10\u001b[0m     \u001b[0msql_cmd_str\u001b[0m \u001b[1;33m=\u001b[0m \u001b[1;34m\"insert into %s (dtime, temp) values('%s', '%s')\"\u001b[0m \u001b[1;33m%\u001b[0m\u001b[1;33m(\u001b[0m\u001b[0mtable_name\u001b[0m\u001b[1;33m,\u001b[0m \u001b[0mstr_dt\u001b[0m\u001b[1;33m,\u001b[0m \u001b[0mtemp\u001b[0m\u001b[1;33m)\u001b[0m\u001b[1;33m\u001b[0m\u001b[1;33m\u001b[0m\u001b[0m\n\u001b[1;32m---> 11\u001b[1;33m     \u001b[0mresultProxy\u001b[0m\u001b[1;33m=\u001b[0m\u001b[0mmy_db\u001b[0m\u001b[1;33m.\u001b[0m\u001b[0mexecute\u001b[0m\u001b[1;33m(\u001b[0m\u001b[0msql_cmd_str\u001b[0m\u001b[1;33m)\u001b[0m\u001b[1;33m\u001b[0m\u001b[1;33m\u001b[0m\u001b[0m\n\u001b[0m",
      "\u001b[1;32m<string>\u001b[0m in \u001b[0;36mexecute\u001b[1;34m(self, statement, *multiparams, **params)\u001b[0m\n",
      "\u001b[1;32mD:\\Anaconda\\lib\\site-packages\\sqlalchemy\\util\\deprecations.py\u001b[0m in \u001b[0;36mwarned\u001b[1;34m(fn, *args, **kwargs)\u001b[0m\n\u001b[0;32m    388\u001b[0m         \u001b[1;32mif\u001b[0m \u001b[1;32mnot\u001b[0m \u001b[0mskip_warning\u001b[0m\u001b[1;33m:\u001b[0m\u001b[1;33m\u001b[0m\u001b[1;33m\u001b[0m\u001b[0m\n\u001b[0;32m    389\u001b[0m             \u001b[0m_warn_with_version\u001b[0m\u001b[1;33m(\u001b[0m\u001b[0mmessage\u001b[0m\u001b[1;33m,\u001b[0m \u001b[0mversion\u001b[0m\u001b[1;33m,\u001b[0m \u001b[0mwtype\u001b[0m\u001b[1;33m,\u001b[0m \u001b[0mstacklevel\u001b[0m\u001b[1;33m=\u001b[0m\u001b[1;36m3\u001b[0m\u001b[1;33m)\u001b[0m\u001b[1;33m\u001b[0m\u001b[1;33m\u001b[0m\u001b[0m\n\u001b[1;32m--> 390\u001b[1;33m         \u001b[1;32mreturn\u001b[0m \u001b[0mfn\u001b[0m\u001b[1;33m(\u001b[0m\u001b[1;33m*\u001b[0m\u001b[0margs\u001b[0m\u001b[1;33m,\u001b[0m \u001b[1;33m**\u001b[0m\u001b[0mkwargs\u001b[0m\u001b[1;33m)\u001b[0m\u001b[1;33m\u001b[0m\u001b[1;33m\u001b[0m\u001b[0m\n\u001b[0m\u001b[0;32m    391\u001b[0m \u001b[1;33m\u001b[0m\u001b[0m\n\u001b[0;32m    392\u001b[0m     \u001b[0mdoc\u001b[0m \u001b[1;33m=\u001b[0m \u001b[0mfunc\u001b[0m\u001b[1;33m.\u001b[0m\u001b[0m__doc__\u001b[0m \u001b[1;32mis\u001b[0m \u001b[1;32mnot\u001b[0m \u001b[1;32mNone\u001b[0m \u001b[1;32mand\u001b[0m \u001b[0mfunc\u001b[0m\u001b[1;33m.\u001b[0m\u001b[0m__doc__\u001b[0m \u001b[1;32mor\u001b[0m \u001b[1;34m\"\"\u001b[0m\u001b[1;33m\u001b[0m\u001b[1;33m\u001b[0m\u001b[0m\n",
      "\u001b[1;32mD:\\Anaconda\\lib\\site-packages\\sqlalchemy\\engine\\base.py\u001b[0m in \u001b[0;36mexecute\u001b[1;34m(self, statement, *multiparams, **params)\u001b[0m\n\u001b[0;32m   3106\u001b[0m         \"\"\"\n\u001b[0;32m   3107\u001b[0m         \u001b[0mconnection\u001b[0m \u001b[1;33m=\u001b[0m \u001b[0mself\u001b[0m\u001b[1;33m.\u001b[0m\u001b[0mconnect\u001b[0m\u001b[1;33m(\u001b[0m\u001b[0mclose_with_result\u001b[0m\u001b[1;33m=\u001b[0m\u001b[1;32mTrue\u001b[0m\u001b[1;33m)\u001b[0m\u001b[1;33m\u001b[0m\u001b[1;33m\u001b[0m\u001b[0m\n\u001b[1;32m-> 3108\u001b[1;33m         \u001b[1;32mreturn\u001b[0m \u001b[0mconnection\u001b[0m\u001b[1;33m.\u001b[0m\u001b[0mexecute\u001b[0m\u001b[1;33m(\u001b[0m\u001b[0mstatement\u001b[0m\u001b[1;33m,\u001b[0m \u001b[1;33m*\u001b[0m\u001b[0mmultiparams\u001b[0m\u001b[1;33m,\u001b[0m \u001b[1;33m**\u001b[0m\u001b[0mparams\u001b[0m\u001b[1;33m)\u001b[0m\u001b[1;33m\u001b[0m\u001b[1;33m\u001b[0m\u001b[0m\n\u001b[0m\u001b[0;32m   3109\u001b[0m \u001b[1;33m\u001b[0m\u001b[0m\n\u001b[0;32m   3110\u001b[0m     @util.deprecated_20(\n",
      "\u001b[1;32mD:\\Anaconda\\lib\\site-packages\\sqlalchemy\\engine\\base.py\u001b[0m in \u001b[0;36mexecute\u001b[1;34m(self, statement, *multiparams, **params)\u001b[0m\n\u001b[0;32m   1246\u001b[0m             )\n\u001b[0;32m   1247\u001b[0m \u001b[1;33m\u001b[0m\u001b[0m\n\u001b[1;32m-> 1248\u001b[1;33m             return self._exec_driver_sql(\n\u001b[0m\u001b[0;32m   1249\u001b[0m                 \u001b[0mstatement\u001b[0m\u001b[1;33m,\u001b[0m\u001b[1;33m\u001b[0m\u001b[1;33m\u001b[0m\u001b[0m\n\u001b[0;32m   1250\u001b[0m                 \u001b[0mmultiparams\u001b[0m\u001b[1;33m,\u001b[0m\u001b[1;33m\u001b[0m\u001b[1;33m\u001b[0m\u001b[0m\n",
      "\u001b[1;32mD:\\Anaconda\\lib\\site-packages\\sqlalchemy\\engine\\base.py\u001b[0m in \u001b[0;36m_exec_driver_sql\u001b[1;34m(self, statement, multiparams, params, execution_options, future)\u001b[0m\n\u001b[0;32m   1545\u001b[0m \u001b[1;33m\u001b[0m\u001b[0m\n\u001b[0;32m   1546\u001b[0m         \u001b[0mdialect\u001b[0m \u001b[1;33m=\u001b[0m \u001b[0mself\u001b[0m\u001b[1;33m.\u001b[0m\u001b[0mdialect\u001b[0m\u001b[1;33m\u001b[0m\u001b[1;33m\u001b[0m\u001b[0m\n\u001b[1;32m-> 1547\u001b[1;33m         ret = self._execute_context(\n\u001b[0m\u001b[0;32m   1548\u001b[0m             \u001b[0mdialect\u001b[0m\u001b[1;33m,\u001b[0m\u001b[1;33m\u001b[0m\u001b[1;33m\u001b[0m\u001b[0m\n\u001b[0;32m   1549\u001b[0m             \u001b[0mdialect\u001b[0m\u001b[1;33m.\u001b[0m\u001b[0mexecution_ctx_cls\u001b[0m\u001b[1;33m.\u001b[0m\u001b[0m_init_statement\u001b[0m\u001b[1;33m,\u001b[0m\u001b[1;33m\u001b[0m\u001b[1;33m\u001b[0m\u001b[0m\n",
      "\u001b[1;32mD:\\Anaconda\\lib\\site-packages\\sqlalchemy\\engine\\base.py\u001b[0m in \u001b[0;36m_execute_context\u001b[1;34m(self, dialect, constructor, statement, parameters, execution_options, *args, **kw)\u001b[0m\n\u001b[0;32m   1812\u001b[0m \u001b[1;33m\u001b[0m\u001b[0m\n\u001b[0;32m   1813\u001b[0m         \u001b[1;32mexcept\u001b[0m \u001b[0mBaseException\u001b[0m \u001b[1;32mas\u001b[0m \u001b[0me\u001b[0m\u001b[1;33m:\u001b[0m\u001b[1;33m\u001b[0m\u001b[1;33m\u001b[0m\u001b[0m\n\u001b[1;32m-> 1814\u001b[1;33m             self._handle_dbapi_exception(\n\u001b[0m\u001b[0;32m   1815\u001b[0m                 \u001b[0me\u001b[0m\u001b[1;33m,\u001b[0m \u001b[0mstatement\u001b[0m\u001b[1;33m,\u001b[0m \u001b[0mparameters\u001b[0m\u001b[1;33m,\u001b[0m \u001b[0mcursor\u001b[0m\u001b[1;33m,\u001b[0m \u001b[0mcontext\u001b[0m\u001b[1;33m\u001b[0m\u001b[1;33m\u001b[0m\u001b[0m\n\u001b[0;32m   1816\u001b[0m             )\n",
      "\u001b[1;32mD:\\Anaconda\\lib\\site-packages\\sqlalchemy\\engine\\base.py\u001b[0m in \u001b[0;36m_handle_dbapi_exception\u001b[1;34m(self, e, statement, parameters, cursor, context)\u001b[0m\n\u001b[0;32m   1993\u001b[0m                 \u001b[0mutil\u001b[0m\u001b[1;33m.\u001b[0m\u001b[0mraise_\u001b[0m\u001b[1;33m(\u001b[0m\u001b[0mnewraise\u001b[0m\u001b[1;33m,\u001b[0m \u001b[0mwith_traceback\u001b[0m\u001b[1;33m=\u001b[0m\u001b[0mexc_info\u001b[0m\u001b[1;33m[\u001b[0m\u001b[1;36m2\u001b[0m\u001b[1;33m]\u001b[0m\u001b[1;33m,\u001b[0m \u001b[0mfrom_\u001b[0m\u001b[1;33m=\u001b[0m\u001b[0me\u001b[0m\u001b[1;33m)\u001b[0m\u001b[1;33m\u001b[0m\u001b[1;33m\u001b[0m\u001b[0m\n\u001b[0;32m   1994\u001b[0m             \u001b[1;32melif\u001b[0m \u001b[0mshould_wrap\u001b[0m\u001b[1;33m:\u001b[0m\u001b[1;33m\u001b[0m\u001b[1;33m\u001b[0m\u001b[0m\n\u001b[1;32m-> 1995\u001b[1;33m                 util.raise_(\n\u001b[0m\u001b[0;32m   1996\u001b[0m                     \u001b[0msqlalchemy_exception\u001b[0m\u001b[1;33m,\u001b[0m \u001b[0mwith_traceback\u001b[0m\u001b[1;33m=\u001b[0m\u001b[0mexc_info\u001b[0m\u001b[1;33m[\u001b[0m\u001b[1;36m2\u001b[0m\u001b[1;33m]\u001b[0m\u001b[1;33m,\u001b[0m \u001b[0mfrom_\u001b[0m\u001b[1;33m=\u001b[0m\u001b[0me\u001b[0m\u001b[1;33m\u001b[0m\u001b[1;33m\u001b[0m\u001b[0m\n\u001b[0;32m   1997\u001b[0m                 )\n",
      "\u001b[1;32mD:\\Anaconda\\lib\\site-packages\\sqlalchemy\\util\\compat.py\u001b[0m in \u001b[0;36mraise_\u001b[1;34m(***failed resolving arguments***)\u001b[0m\n\u001b[0;32m    205\u001b[0m \u001b[1;33m\u001b[0m\u001b[0m\n\u001b[0;32m    206\u001b[0m         \u001b[1;32mtry\u001b[0m\u001b[1;33m:\u001b[0m\u001b[1;33m\u001b[0m\u001b[1;33m\u001b[0m\u001b[0m\n\u001b[1;32m--> 207\u001b[1;33m             \u001b[1;32mraise\u001b[0m \u001b[0mexception\u001b[0m\u001b[1;33m\u001b[0m\u001b[1;33m\u001b[0m\u001b[0m\n\u001b[0m\u001b[0;32m    208\u001b[0m         \u001b[1;32mfinally\u001b[0m\u001b[1;33m:\u001b[0m\u001b[1;33m\u001b[0m\u001b[1;33m\u001b[0m\u001b[0m\n\u001b[0;32m    209\u001b[0m             \u001b[1;31m# credit to\u001b[0m\u001b[1;33m\u001b[0m\u001b[1;33m\u001b[0m\u001b[0m\n",
      "\u001b[1;32mD:\\Anaconda\\lib\\site-packages\\sqlalchemy\\engine\\base.py\u001b[0m in \u001b[0;36m_execute_context\u001b[1;34m(self, dialect, constructor, statement, parameters, execution_options, *args, **kw)\u001b[0m\n\u001b[0;32m   1769\u001b[0m                             \u001b[1;32mbreak\u001b[0m\u001b[1;33m\u001b[0m\u001b[1;33m\u001b[0m\u001b[0m\n\u001b[0;32m   1770\u001b[0m                 \u001b[1;32mif\u001b[0m \u001b[1;32mnot\u001b[0m \u001b[0mevt_handled\u001b[0m\u001b[1;33m:\u001b[0m\u001b[1;33m\u001b[0m\u001b[1;33m\u001b[0m\u001b[0m\n\u001b[1;32m-> 1771\u001b[1;33m                     self.dialect.do_execute(\n\u001b[0m\u001b[0;32m   1772\u001b[0m                         \u001b[0mcursor\u001b[0m\u001b[1;33m,\u001b[0m \u001b[0mstatement\u001b[0m\u001b[1;33m,\u001b[0m \u001b[0mparameters\u001b[0m\u001b[1;33m,\u001b[0m \u001b[0mcontext\u001b[0m\u001b[1;33m\u001b[0m\u001b[1;33m\u001b[0m\u001b[0m\n\u001b[0;32m   1773\u001b[0m                     )\n",
      "\u001b[1;32mD:\\Anaconda\\lib\\site-packages\\sqlalchemy\\engine\\default.py\u001b[0m in \u001b[0;36mdo_execute\u001b[1;34m(self, cursor, statement, parameters, context)\u001b[0m\n\u001b[0;32m    715\u001b[0m \u001b[1;33m\u001b[0m\u001b[0m\n\u001b[0;32m    716\u001b[0m     \u001b[1;32mdef\u001b[0m \u001b[0mdo_execute\u001b[0m\u001b[1;33m(\u001b[0m\u001b[0mself\u001b[0m\u001b[1;33m,\u001b[0m \u001b[0mcursor\u001b[0m\u001b[1;33m,\u001b[0m \u001b[0mstatement\u001b[0m\u001b[1;33m,\u001b[0m \u001b[0mparameters\u001b[0m\u001b[1;33m,\u001b[0m \u001b[0mcontext\u001b[0m\u001b[1;33m=\u001b[0m\u001b[1;32mNone\u001b[0m\u001b[1;33m)\u001b[0m\u001b[1;33m:\u001b[0m\u001b[1;33m\u001b[0m\u001b[1;33m\u001b[0m\u001b[0m\n\u001b[1;32m--> 717\u001b[1;33m         \u001b[0mcursor\u001b[0m\u001b[1;33m.\u001b[0m\u001b[0mexecute\u001b[0m\u001b[1;33m(\u001b[0m\u001b[0mstatement\u001b[0m\u001b[1;33m,\u001b[0m \u001b[0mparameters\u001b[0m\u001b[1;33m)\u001b[0m\u001b[1;33m\u001b[0m\u001b[1;33m\u001b[0m\u001b[0m\n\u001b[0m\u001b[0;32m    718\u001b[0m \u001b[1;33m\u001b[0m\u001b[0m\n\u001b[0;32m    719\u001b[0m     \u001b[1;32mdef\u001b[0m \u001b[0mdo_execute_no_params\u001b[0m\u001b[1;33m(\u001b[0m\u001b[0mself\u001b[0m\u001b[1;33m,\u001b[0m \u001b[0mcursor\u001b[0m\u001b[1;33m,\u001b[0m \u001b[0mstatement\u001b[0m\u001b[1;33m,\u001b[0m \u001b[0mcontext\u001b[0m\u001b[1;33m=\u001b[0m\u001b[1;32mNone\u001b[0m\u001b[1;33m)\u001b[0m\u001b[1;33m:\u001b[0m\u001b[1;33m\u001b[0m\u001b[1;33m\u001b[0m\u001b[0m\n",
      "\u001b[1;31mIntegrityError\u001b[0m: (sqlite3.IntegrityError) UNIQUE constraint failed: hhy_test0911.dtime\n[SQL: insert into hhy_test0911 (dtime, temp) values('2022-08-01 08:00:00', '35.7')]\n(Background on this error at: https://sqlalche.me/e/14/gkpj)"
     ]
    }
   ],
   "source": [
    "# 做insert操作\n",
    "import datetime\n",
    "import random\n",
    "\n",
    "dt1 = datetime.datetime.strptime('2022-08-01 08:00:00','%Y-%m-%d %H:%M:%S') #把時間字串轉為datetime物件\n",
    "for i in range(10):\n",
    "    str_dt = (dt1+datetime.timedelta(days=i)).strftime('%Y-%m-%d %H:%M:%S')\n",
    "    temp = random.randint(350, 375)/10\n",
    "    #print(str_dt, temp)\n",
    "    sql_cmd_str = \"insert into %s (dtime, temp) values('%s', '%s')\" %(table_name, str_dt, temp)\n",
    "    resultProxy=my_db.execute(sql_cmd_str)\n"
   ]
  },
  {
   "cell_type": "code",
   "execution_count": 6,
   "metadata": {
    "collapsed": true,
    "jupyter": {
     "outputs_hidden": true
    },
    "tags": []
   },
   "outputs": [
    {
     "ename": "IntegrityError",
     "evalue": "(sqlite3.IntegrityError) UNIQUE constraint failed: hhy_test0911.dtime\n[SQL: insert into hhy_test0911 (dtime, temp) values('2022-08-01 08:00:00', '36.6')]\n(Background on this error at: https://sqlalche.me/e/14/gkpj)",
     "output_type": "error",
     "traceback": [
      "\u001b[1;31m---------------------------------------------------------------------------\u001b[0m",
      "\u001b[1;31mIntegrityError\u001b[0m                            Traceback (most recent call last)",
      "\u001b[1;32mD:\\Anaconda\\lib\\site-packages\\sqlalchemy\\engine\\base.py\u001b[0m in \u001b[0;36m_execute_context\u001b[1;34m(self, dialect, constructor, statement, parameters, execution_options, *args, **kw)\u001b[0m\n\u001b[0;32m   1770\u001b[0m                 \u001b[1;32mif\u001b[0m \u001b[1;32mnot\u001b[0m \u001b[0mevt_handled\u001b[0m\u001b[1;33m:\u001b[0m\u001b[1;33m\u001b[0m\u001b[1;33m\u001b[0m\u001b[0m\n\u001b[1;32m-> 1771\u001b[1;33m                     self.dialect.do_execute(\n\u001b[0m\u001b[0;32m   1772\u001b[0m                         \u001b[0mcursor\u001b[0m\u001b[1;33m,\u001b[0m \u001b[0mstatement\u001b[0m\u001b[1;33m,\u001b[0m \u001b[0mparameters\u001b[0m\u001b[1;33m,\u001b[0m \u001b[0mcontext\u001b[0m\u001b[1;33m\u001b[0m\u001b[1;33m\u001b[0m\u001b[0m\n",
      "\u001b[1;32mD:\\Anaconda\\lib\\site-packages\\sqlalchemy\\engine\\default.py\u001b[0m in \u001b[0;36mdo_execute\u001b[1;34m(self, cursor, statement, parameters, context)\u001b[0m\n\u001b[0;32m    716\u001b[0m     \u001b[1;32mdef\u001b[0m \u001b[0mdo_execute\u001b[0m\u001b[1;33m(\u001b[0m\u001b[0mself\u001b[0m\u001b[1;33m,\u001b[0m \u001b[0mcursor\u001b[0m\u001b[1;33m,\u001b[0m \u001b[0mstatement\u001b[0m\u001b[1;33m,\u001b[0m \u001b[0mparameters\u001b[0m\u001b[1;33m,\u001b[0m \u001b[0mcontext\u001b[0m\u001b[1;33m=\u001b[0m\u001b[1;32mNone\u001b[0m\u001b[1;33m)\u001b[0m\u001b[1;33m:\u001b[0m\u001b[1;33m\u001b[0m\u001b[1;33m\u001b[0m\u001b[0m\n\u001b[1;32m--> 717\u001b[1;33m         \u001b[0mcursor\u001b[0m\u001b[1;33m.\u001b[0m\u001b[0mexecute\u001b[0m\u001b[1;33m(\u001b[0m\u001b[0mstatement\u001b[0m\u001b[1;33m,\u001b[0m \u001b[0mparameters\u001b[0m\u001b[1;33m)\u001b[0m\u001b[1;33m\u001b[0m\u001b[1;33m\u001b[0m\u001b[0m\n\u001b[0m\u001b[0;32m    718\u001b[0m \u001b[1;33m\u001b[0m\u001b[0m\n",
      "\u001b[1;31mIntegrityError\u001b[0m: UNIQUE constraint failed: hhy_test0911.dtime",
      "\nThe above exception was the direct cause of the following exception:\n",
      "\u001b[1;31mIntegrityError\u001b[0m                            Traceback (most recent call last)",
      "\u001b[1;32m~\\AppData\\Local\\Temp/ipykernel_16172/2679133426.py\u001b[0m in \u001b[0;36m<module>\u001b[1;34m\u001b[0m\n\u001b[0;32m      6\u001b[0m     \u001b[1;31m#print(str_dt, temp)\u001b[0m\u001b[1;33m\u001b[0m\u001b[1;33m\u001b[0m\u001b[0m\n\u001b[0;32m      7\u001b[0m     \u001b[0msql_cmd_str\u001b[0m \u001b[1;33m=\u001b[0m \u001b[1;34m\"insert into %s (dtime, temp) values('%s', '%s')\"\u001b[0m \u001b[1;33m%\u001b[0m\u001b[1;33m(\u001b[0m\u001b[0mtable_name\u001b[0m\u001b[1;33m,\u001b[0m \u001b[0mstr_dt\u001b[0m\u001b[1;33m,\u001b[0m \u001b[0mtemp\u001b[0m\u001b[1;33m)\u001b[0m\u001b[1;33m\u001b[0m\u001b[1;33m\u001b[0m\u001b[0m\n\u001b[1;32m----> 8\u001b[1;33m     \u001b[0mresultProxy\u001b[0m\u001b[1;33m=\u001b[0m\u001b[0mmy_db\u001b[0m\u001b[1;33m.\u001b[0m\u001b[0mexecute\u001b[0m\u001b[1;33m(\u001b[0m\u001b[0msql_cmd_str\u001b[0m\u001b[1;33m)\u001b[0m\u001b[1;33m\u001b[0m\u001b[1;33m\u001b[0m\u001b[0m\n\u001b[0m",
      "\u001b[1;32m<string>\u001b[0m in \u001b[0;36mexecute\u001b[1;34m(self, statement, *multiparams, **params)\u001b[0m\n",
      "\u001b[1;32mD:\\Anaconda\\lib\\site-packages\\sqlalchemy\\util\\deprecations.py\u001b[0m in \u001b[0;36mwarned\u001b[1;34m(fn, *args, **kwargs)\u001b[0m\n\u001b[0;32m    388\u001b[0m         \u001b[1;32mif\u001b[0m \u001b[1;32mnot\u001b[0m \u001b[0mskip_warning\u001b[0m\u001b[1;33m:\u001b[0m\u001b[1;33m\u001b[0m\u001b[1;33m\u001b[0m\u001b[0m\n\u001b[0;32m    389\u001b[0m             \u001b[0m_warn_with_version\u001b[0m\u001b[1;33m(\u001b[0m\u001b[0mmessage\u001b[0m\u001b[1;33m,\u001b[0m \u001b[0mversion\u001b[0m\u001b[1;33m,\u001b[0m \u001b[0mwtype\u001b[0m\u001b[1;33m,\u001b[0m \u001b[0mstacklevel\u001b[0m\u001b[1;33m=\u001b[0m\u001b[1;36m3\u001b[0m\u001b[1;33m)\u001b[0m\u001b[1;33m\u001b[0m\u001b[1;33m\u001b[0m\u001b[0m\n\u001b[1;32m--> 390\u001b[1;33m         \u001b[1;32mreturn\u001b[0m \u001b[0mfn\u001b[0m\u001b[1;33m(\u001b[0m\u001b[1;33m*\u001b[0m\u001b[0margs\u001b[0m\u001b[1;33m,\u001b[0m \u001b[1;33m**\u001b[0m\u001b[0mkwargs\u001b[0m\u001b[1;33m)\u001b[0m\u001b[1;33m\u001b[0m\u001b[1;33m\u001b[0m\u001b[0m\n\u001b[0m\u001b[0;32m    391\u001b[0m \u001b[1;33m\u001b[0m\u001b[0m\n\u001b[0;32m    392\u001b[0m     \u001b[0mdoc\u001b[0m \u001b[1;33m=\u001b[0m \u001b[0mfunc\u001b[0m\u001b[1;33m.\u001b[0m\u001b[0m__doc__\u001b[0m \u001b[1;32mis\u001b[0m \u001b[1;32mnot\u001b[0m \u001b[1;32mNone\u001b[0m \u001b[1;32mand\u001b[0m \u001b[0mfunc\u001b[0m\u001b[1;33m.\u001b[0m\u001b[0m__doc__\u001b[0m \u001b[1;32mor\u001b[0m \u001b[1;34m\"\"\u001b[0m\u001b[1;33m\u001b[0m\u001b[1;33m\u001b[0m\u001b[0m\n",
      "\u001b[1;32mD:\\Anaconda\\lib\\site-packages\\sqlalchemy\\engine\\base.py\u001b[0m in \u001b[0;36mexecute\u001b[1;34m(self, statement, *multiparams, **params)\u001b[0m\n\u001b[0;32m   3106\u001b[0m         \"\"\"\n\u001b[0;32m   3107\u001b[0m         \u001b[0mconnection\u001b[0m \u001b[1;33m=\u001b[0m \u001b[0mself\u001b[0m\u001b[1;33m.\u001b[0m\u001b[0mconnect\u001b[0m\u001b[1;33m(\u001b[0m\u001b[0mclose_with_result\u001b[0m\u001b[1;33m=\u001b[0m\u001b[1;32mTrue\u001b[0m\u001b[1;33m)\u001b[0m\u001b[1;33m\u001b[0m\u001b[1;33m\u001b[0m\u001b[0m\n\u001b[1;32m-> 3108\u001b[1;33m         \u001b[1;32mreturn\u001b[0m \u001b[0mconnection\u001b[0m\u001b[1;33m.\u001b[0m\u001b[0mexecute\u001b[0m\u001b[1;33m(\u001b[0m\u001b[0mstatement\u001b[0m\u001b[1;33m,\u001b[0m \u001b[1;33m*\u001b[0m\u001b[0mmultiparams\u001b[0m\u001b[1;33m,\u001b[0m \u001b[1;33m**\u001b[0m\u001b[0mparams\u001b[0m\u001b[1;33m)\u001b[0m\u001b[1;33m\u001b[0m\u001b[1;33m\u001b[0m\u001b[0m\n\u001b[0m\u001b[0;32m   3109\u001b[0m \u001b[1;33m\u001b[0m\u001b[0m\n\u001b[0;32m   3110\u001b[0m     @util.deprecated_20(\n",
      "\u001b[1;32mD:\\Anaconda\\lib\\site-packages\\sqlalchemy\\engine\\base.py\u001b[0m in \u001b[0;36mexecute\u001b[1;34m(self, statement, *multiparams, **params)\u001b[0m\n\u001b[0;32m   1246\u001b[0m             )\n\u001b[0;32m   1247\u001b[0m \u001b[1;33m\u001b[0m\u001b[0m\n\u001b[1;32m-> 1248\u001b[1;33m             return self._exec_driver_sql(\n\u001b[0m\u001b[0;32m   1249\u001b[0m                 \u001b[0mstatement\u001b[0m\u001b[1;33m,\u001b[0m\u001b[1;33m\u001b[0m\u001b[1;33m\u001b[0m\u001b[0m\n\u001b[0;32m   1250\u001b[0m                 \u001b[0mmultiparams\u001b[0m\u001b[1;33m,\u001b[0m\u001b[1;33m\u001b[0m\u001b[1;33m\u001b[0m\u001b[0m\n",
      "\u001b[1;32mD:\\Anaconda\\lib\\site-packages\\sqlalchemy\\engine\\base.py\u001b[0m in \u001b[0;36m_exec_driver_sql\u001b[1;34m(self, statement, multiparams, params, execution_options, future)\u001b[0m\n\u001b[0;32m   1545\u001b[0m \u001b[1;33m\u001b[0m\u001b[0m\n\u001b[0;32m   1546\u001b[0m         \u001b[0mdialect\u001b[0m \u001b[1;33m=\u001b[0m \u001b[0mself\u001b[0m\u001b[1;33m.\u001b[0m\u001b[0mdialect\u001b[0m\u001b[1;33m\u001b[0m\u001b[1;33m\u001b[0m\u001b[0m\n\u001b[1;32m-> 1547\u001b[1;33m         ret = self._execute_context(\n\u001b[0m\u001b[0;32m   1548\u001b[0m             \u001b[0mdialect\u001b[0m\u001b[1;33m,\u001b[0m\u001b[1;33m\u001b[0m\u001b[1;33m\u001b[0m\u001b[0m\n\u001b[0;32m   1549\u001b[0m             \u001b[0mdialect\u001b[0m\u001b[1;33m.\u001b[0m\u001b[0mexecution_ctx_cls\u001b[0m\u001b[1;33m.\u001b[0m\u001b[0m_init_statement\u001b[0m\u001b[1;33m,\u001b[0m\u001b[1;33m\u001b[0m\u001b[1;33m\u001b[0m\u001b[0m\n",
      "\u001b[1;32mD:\\Anaconda\\lib\\site-packages\\sqlalchemy\\engine\\base.py\u001b[0m in \u001b[0;36m_execute_context\u001b[1;34m(self, dialect, constructor, statement, parameters, execution_options, *args, **kw)\u001b[0m\n\u001b[0;32m   1812\u001b[0m \u001b[1;33m\u001b[0m\u001b[0m\n\u001b[0;32m   1813\u001b[0m         \u001b[1;32mexcept\u001b[0m \u001b[0mBaseException\u001b[0m \u001b[1;32mas\u001b[0m \u001b[0me\u001b[0m\u001b[1;33m:\u001b[0m\u001b[1;33m\u001b[0m\u001b[1;33m\u001b[0m\u001b[0m\n\u001b[1;32m-> 1814\u001b[1;33m             self._handle_dbapi_exception(\n\u001b[0m\u001b[0;32m   1815\u001b[0m                 \u001b[0me\u001b[0m\u001b[1;33m,\u001b[0m \u001b[0mstatement\u001b[0m\u001b[1;33m,\u001b[0m \u001b[0mparameters\u001b[0m\u001b[1;33m,\u001b[0m \u001b[0mcursor\u001b[0m\u001b[1;33m,\u001b[0m \u001b[0mcontext\u001b[0m\u001b[1;33m\u001b[0m\u001b[1;33m\u001b[0m\u001b[0m\n\u001b[0;32m   1816\u001b[0m             )\n",
      "\u001b[1;32mD:\\Anaconda\\lib\\site-packages\\sqlalchemy\\engine\\base.py\u001b[0m in \u001b[0;36m_handle_dbapi_exception\u001b[1;34m(self, e, statement, parameters, cursor, context)\u001b[0m\n\u001b[0;32m   1993\u001b[0m                 \u001b[0mutil\u001b[0m\u001b[1;33m.\u001b[0m\u001b[0mraise_\u001b[0m\u001b[1;33m(\u001b[0m\u001b[0mnewraise\u001b[0m\u001b[1;33m,\u001b[0m \u001b[0mwith_traceback\u001b[0m\u001b[1;33m=\u001b[0m\u001b[0mexc_info\u001b[0m\u001b[1;33m[\u001b[0m\u001b[1;36m2\u001b[0m\u001b[1;33m]\u001b[0m\u001b[1;33m,\u001b[0m \u001b[0mfrom_\u001b[0m\u001b[1;33m=\u001b[0m\u001b[0me\u001b[0m\u001b[1;33m)\u001b[0m\u001b[1;33m\u001b[0m\u001b[1;33m\u001b[0m\u001b[0m\n\u001b[0;32m   1994\u001b[0m             \u001b[1;32melif\u001b[0m \u001b[0mshould_wrap\u001b[0m\u001b[1;33m:\u001b[0m\u001b[1;33m\u001b[0m\u001b[1;33m\u001b[0m\u001b[0m\n\u001b[1;32m-> 1995\u001b[1;33m                 util.raise_(\n\u001b[0m\u001b[0;32m   1996\u001b[0m                     \u001b[0msqlalchemy_exception\u001b[0m\u001b[1;33m,\u001b[0m \u001b[0mwith_traceback\u001b[0m\u001b[1;33m=\u001b[0m\u001b[0mexc_info\u001b[0m\u001b[1;33m[\u001b[0m\u001b[1;36m2\u001b[0m\u001b[1;33m]\u001b[0m\u001b[1;33m,\u001b[0m \u001b[0mfrom_\u001b[0m\u001b[1;33m=\u001b[0m\u001b[0me\u001b[0m\u001b[1;33m\u001b[0m\u001b[1;33m\u001b[0m\u001b[0m\n\u001b[0;32m   1997\u001b[0m                 )\n",
      "\u001b[1;32mD:\\Anaconda\\lib\\site-packages\\sqlalchemy\\util\\compat.py\u001b[0m in \u001b[0;36mraise_\u001b[1;34m(***failed resolving arguments***)\u001b[0m\n\u001b[0;32m    205\u001b[0m \u001b[1;33m\u001b[0m\u001b[0m\n\u001b[0;32m    206\u001b[0m         \u001b[1;32mtry\u001b[0m\u001b[1;33m:\u001b[0m\u001b[1;33m\u001b[0m\u001b[1;33m\u001b[0m\u001b[0m\n\u001b[1;32m--> 207\u001b[1;33m             \u001b[1;32mraise\u001b[0m \u001b[0mexception\u001b[0m\u001b[1;33m\u001b[0m\u001b[1;33m\u001b[0m\u001b[0m\n\u001b[0m\u001b[0;32m    208\u001b[0m         \u001b[1;32mfinally\u001b[0m\u001b[1;33m:\u001b[0m\u001b[1;33m\u001b[0m\u001b[1;33m\u001b[0m\u001b[0m\n\u001b[0;32m    209\u001b[0m             \u001b[1;31m# credit to\u001b[0m\u001b[1;33m\u001b[0m\u001b[1;33m\u001b[0m\u001b[0m\n",
      "\u001b[1;32mD:\\Anaconda\\lib\\site-packages\\sqlalchemy\\engine\\base.py\u001b[0m in \u001b[0;36m_execute_context\u001b[1;34m(self, dialect, constructor, statement, parameters, execution_options, *args, **kw)\u001b[0m\n\u001b[0;32m   1769\u001b[0m                             \u001b[1;32mbreak\u001b[0m\u001b[1;33m\u001b[0m\u001b[1;33m\u001b[0m\u001b[0m\n\u001b[0;32m   1770\u001b[0m                 \u001b[1;32mif\u001b[0m \u001b[1;32mnot\u001b[0m \u001b[0mevt_handled\u001b[0m\u001b[1;33m:\u001b[0m\u001b[1;33m\u001b[0m\u001b[1;33m\u001b[0m\u001b[0m\n\u001b[1;32m-> 1771\u001b[1;33m                     self.dialect.do_execute(\n\u001b[0m\u001b[0;32m   1772\u001b[0m                         \u001b[0mcursor\u001b[0m\u001b[1;33m,\u001b[0m \u001b[0mstatement\u001b[0m\u001b[1;33m,\u001b[0m \u001b[0mparameters\u001b[0m\u001b[1;33m,\u001b[0m \u001b[0mcontext\u001b[0m\u001b[1;33m\u001b[0m\u001b[1;33m\u001b[0m\u001b[0m\n\u001b[0;32m   1773\u001b[0m                     )\n",
      "\u001b[1;32mD:\\Anaconda\\lib\\site-packages\\sqlalchemy\\engine\\default.py\u001b[0m in \u001b[0;36mdo_execute\u001b[1;34m(self, cursor, statement, parameters, context)\u001b[0m\n\u001b[0;32m    715\u001b[0m \u001b[1;33m\u001b[0m\u001b[0m\n\u001b[0;32m    716\u001b[0m     \u001b[1;32mdef\u001b[0m \u001b[0mdo_execute\u001b[0m\u001b[1;33m(\u001b[0m\u001b[0mself\u001b[0m\u001b[1;33m,\u001b[0m \u001b[0mcursor\u001b[0m\u001b[1;33m,\u001b[0m \u001b[0mstatement\u001b[0m\u001b[1;33m,\u001b[0m \u001b[0mparameters\u001b[0m\u001b[1;33m,\u001b[0m \u001b[0mcontext\u001b[0m\u001b[1;33m=\u001b[0m\u001b[1;32mNone\u001b[0m\u001b[1;33m)\u001b[0m\u001b[1;33m:\u001b[0m\u001b[1;33m\u001b[0m\u001b[1;33m\u001b[0m\u001b[0m\n\u001b[1;32m--> 717\u001b[1;33m         \u001b[0mcursor\u001b[0m\u001b[1;33m.\u001b[0m\u001b[0mexecute\u001b[0m\u001b[1;33m(\u001b[0m\u001b[0mstatement\u001b[0m\u001b[1;33m,\u001b[0m \u001b[0mparameters\u001b[0m\u001b[1;33m)\u001b[0m\u001b[1;33m\u001b[0m\u001b[1;33m\u001b[0m\u001b[0m\n\u001b[0m\u001b[0;32m    718\u001b[0m \u001b[1;33m\u001b[0m\u001b[0m\n\u001b[0;32m    719\u001b[0m     \u001b[1;32mdef\u001b[0m \u001b[0mdo_execute_no_params\u001b[0m\u001b[1;33m(\u001b[0m\u001b[0mself\u001b[0m\u001b[1;33m,\u001b[0m \u001b[0mcursor\u001b[0m\u001b[1;33m,\u001b[0m \u001b[0mstatement\u001b[0m\u001b[1;33m,\u001b[0m \u001b[0mcontext\u001b[0m\u001b[1;33m=\u001b[0m\u001b[1;32mNone\u001b[0m\u001b[1;33m)\u001b[0m\u001b[1;33m:\u001b[0m\u001b[1;33m\u001b[0m\u001b[1;33m\u001b[0m\u001b[0m\n",
      "\u001b[1;31mIntegrityError\u001b[0m: (sqlite3.IntegrityError) UNIQUE constraint failed: hhy_test0911.dtime\n[SQL: insert into hhy_test0911 (dtime, temp) values('2022-08-01 08:00:00', '36.6')]\n(Background on this error at: https://sqlalche.me/e/14/gkpj)"
     ]
    }
   ],
   "source": [
    "# 故意插入重複的\n",
    "dt1 = datetime.datetime.strptime('2022-08-01 08:00:00','%Y-%m-%d %H:%M:%S') #把時間字串轉為datetime物件\n",
    "for i in range(5):\n",
    "    str_dt = (dt1+datetime.timedelta(days=i)).strftime('%Y-%m-%d %H:%M:%S')\n",
    "    temp = random.randint(350, 375)/10\n",
    "    #print(str_dt, temp)\n",
    "    sql_cmd_str = \"insert into %s (dtime, temp) values('%s', '%s')\" %(table_name, str_dt, temp)\n",
    "    resultProxy=my_db.execute(sql_cmd_str)\n"
   ]
  },
  {
   "cell_type": "markdown",
   "metadata": {},
   "source": [
    "- Select"
   ]
  },
  {
   "cell_type": "code",
   "execution_count": 8,
   "metadata": {},
   "outputs": [
    {
     "name": "stdout",
     "output_type": "stream",
     "text": [
      "-- data --\n",
      "[('2022-08-01 08:00:00', 37.4), ('2022-08-02 08:00:00', 36.3), ('2022-08-03 08:00:00', 35.6), ('2022-08-04 08:00:00', 37.5), ('2022-08-05 08:00:00', 37.4), ('2022-08-06 08:00:00', 36.0), ('2022-08-07 08:00:00', 35.2), ('2022-08-08 08:00:00', 37.2), ('2022-08-09 08:00:00', 37.0), ('2022-08-10 08:00:00', 37.5)]\n"
     ]
    }
   ],
   "source": [
    "# select\n",
    "sql_cmd_str = \"select * from %s\" %(table_name)\n",
    "resultProxy=my_db.execute(sql_cmd_str)\n",
    "data = resultProxy.fetchall()\n",
    "print('-- data --')\n",
    "print(data)\n"
   ]
  },
  {
   "cell_type": "markdown",
   "metadata": {},
   "source": [
    "- 如果要修改、取代資料"
   ]
  },
  {
   "cell_type": "code",
   "execution_count": 9,
   "metadata": {
    "tags": []
   },
   "outputs": [],
   "source": [
    "# 做upsert操作\n",
    "import datetime\n",
    "import random\n",
    "\n",
    "dt1 = datetime.datetime.strptime('2022-08-01 08:00:00','%Y-%m-%d %H:%M:%S') #把時間字串轉為datetime物件\n",
    "for i in range(15):\n",
    "    str_dt = (dt1+datetime.timedelta(days=i)).strftime('%Y-%m-%d %H:%M:%S')\n",
    "    temp = random.randint(350, 375)/10\n",
    "    #print(str_dt, temp)\n",
    "    sql_cmd_str = \"insert or replace into %s (dtime, temp) values('%s', '%s')\" %(table_name, str_dt, temp)\n",
    "    #sql_cmd_str = sql_cmd_str + (\" ON DUPLICATE KEY UPDATE temp='%s'\" %(temp))\n",
    "    resultProxy=my_db.execute(sql_cmd_str)\n"
   ]
  },
  {
   "cell_type": "markdown",
   "metadata": {},
   "source": [
    "- Select"
   ]
  },
  {
   "cell_type": "code",
   "execution_count": 11,
   "metadata": {},
   "outputs": [
    {
     "name": "stdout",
     "output_type": "stream",
     "text": [
      "-- data --\n",
      "[('2022-08-01 08:00:00', 36.1), ('2022-08-02 08:00:00', 37.3), ('2022-08-03 08:00:00', 35.8), ('2022-08-04 08:00:00', 36.3), ('2022-08-05 08:00:00', 35.0), ('2022-08-06 08:00:00', 37.0), ('2022-08-07 08:00:00', 36.3), ('2022-08-08 08:00:00', 36.6), ('2022-08-09 08:00:00', 35.2), ('2022-08-10 08:00:00', 36.2), ('2022-08-11 08:00:00', 36.3), ('2022-08-12 08:00:00', 36.1), ('2022-08-13 08:00:00', 37.2), ('2022-08-14 08:00:00', 37.0), ('2022-08-15 08:00:00', 37.3)]\n"
     ]
    }
   ],
   "source": [
    "# select\n",
    "sql_cmd_str = \"select * from %s\" %(table_name)\n",
    "resultProxy=my_db.execute(sql_cmd_str)\n",
    "data = resultProxy.fetchall()\n",
    "print('-- data --')\n",
    "print(data)\n"
   ]
  },
  {
   "cell_type": "markdown",
   "metadata": {},
   "source": [
    "- Select: 有條件的"
   ]
  },
  {
   "cell_type": "code",
   "execution_count": 12,
   "metadata": {},
   "outputs": [
    {
     "name": "stdout",
     "output_type": "stream",
     "text": [
      "-- data --\n",
      "[('2022-08-01 08:00:00', 36.1), ('2022-08-02 08:00:00', 37.3), ('2022-08-04 08:00:00', 36.3), ('2022-08-06 08:00:00', 37.0), ('2022-08-07 08:00:00', 36.3), ('2022-08-08 08:00:00', 36.6), ('2022-08-10 08:00:00', 36.2), ('2022-08-11 08:00:00', 36.3), ('2022-08-12 08:00:00', 36.1), ('2022-08-13 08:00:00', 37.2), ('2022-08-14 08:00:00', 37.0), ('2022-08-15 08:00:00', 37.3)]\n"
     ]
    }
   ],
   "source": [
    "# select\n",
    "sql_cmd_str = \"select * from %s where temp>36\" %(table_name)\n",
    "resultProxy=my_db.execute(sql_cmd_str)\n",
    "data = resultProxy.fetchall()\n",
    "print('-- data --')\n",
    "print(data)\n"
   ]
  },
  {
   "cell_type": "markdown",
   "metadata": {},
   "source": [
    "- Delete"
   ]
  },
  {
   "cell_type": "code",
   "execution_count": 13,
   "metadata": {},
   "outputs": [],
   "source": [
    "resultProxy=my_db.execute(\"delete from %s where dtime<'2022-08-05' \" %(table_name) )"
   ]
  },
  {
   "cell_type": "code",
   "execution_count": 14,
   "metadata": {},
   "outputs": [
    {
     "data": {
      "text/plain": [
       "{'context': <sqlalchemy.dialects.sqlite.base.SQLiteExecutionContext at 0x2a4bbae80d0>,\n",
       " 'dialect': <sqlalchemy.dialects.sqlite.pysqlite.SQLiteDialect_pysqlite at 0x2a4bbaaf5b0>,\n",
       " 'cursor': None,\n",
       " 'cursor_strategy': <sqlalchemy.engine.cursor.NoCursorDMLFetchStrategy at 0x2a4baa43b60>,\n",
       " 'connection': <sqlalchemy.engine.base.Connection at 0x2a4bbae8d60>,\n",
       " '_echo': False,\n",
       " '_metadata': <sqlalchemy.engine.cursor._LegacyNoResultMetaData at 0x2a4baa8df10>,\n",
       " 'rowcount': 4,\n",
       " '_soft_closed': True}"
      ]
     },
     "execution_count": 14,
     "metadata": {},
     "output_type": "execute_result"
    }
   ],
   "source": [
    "resultProxy.__dict__"
   ]
  },
  {
   "cell_type": "markdown",
   "metadata": {},
   "source": [
    "- Select"
   ]
  },
  {
   "cell_type": "code",
   "execution_count": 15,
   "metadata": {},
   "outputs": [
    {
     "name": "stdout",
     "output_type": "stream",
     "text": [
      "-- data --\n",
      "[('2022-08-05 08:00:00', 35.0), ('2022-08-06 08:00:00', 37.0), ('2022-08-07 08:00:00', 36.3), ('2022-08-08 08:00:00', 36.6), ('2022-08-09 08:00:00', 35.2), ('2022-08-10 08:00:00', 36.2), ('2022-08-11 08:00:00', 36.3), ('2022-08-12 08:00:00', 36.1), ('2022-08-13 08:00:00', 37.2), ('2022-08-14 08:00:00', 37.0), ('2022-08-15 08:00:00', 37.3)]\n"
     ]
    }
   ],
   "source": [
    "# select\n",
    "sql_cmd_str = \"select * from %s\" %(table_name)\n",
    "resultProxy=my_db.execute(sql_cmd_str)\n",
    "data = resultProxy.fetchall()\n",
    "print('-- data --')\n",
    "print(data)\n"
   ]
  },
  {
   "cell_type": "markdown",
   "metadata": {},
   "source": [
    "## 練習題：把高雄空氣品質資料寫入資料庫中"
   ]
  },
  {
   "cell_type": "code",
   "execution_count": 19,
   "metadata": {},
   "outputs": [
    {
     "data": {
      "text/plain": [
       "[['Name',\n",
       "  'Date',\n",
       "  'TSP',\n",
       "  'PM10',\n",
       "  'Chloride',\n",
       "  'Nitrate',\n",
       "  'Sulfate',\n",
       "  'Lead',\n",
       "  'Dust'],\n",
       " ['大社工業區', '2018年1月', '93', '', '', '', '', '0.029', '3.6'],\n",
       " ['大寮區公所', '2018年1月', '79', '', '', '', '', '0.042', '1.54'],\n",
       " ['大樹監測站', '2018年1月', '61', '', '', '', '', '0.02', '1.18'],\n",
       " ['仁武國中', '2018年1月', '79', '', '', '', '', '0.058', '2.68']]"
      ]
     },
     "execution_count": 19,
     "metadata": {},
     "output_type": "execute_result"
    }
   ],
   "source": [
    "# 更好的寫法!\n",
    "import csv\n",
    "\n",
    "with open('2018_kh_data.csv', 'r') as f:\n",
    "    cr = csv.reader(f)\n",
    "    data_list = list(cr)\n",
    "data_list[0:5]"
   ]
  },
  {
   "cell_type": "code",
   "execution_count": 20,
   "metadata": {},
   "outputs": [],
   "source": [
    "# 請填入你的程式\n",
    "\n"
   ]
  },
  {
   "cell_type": "code",
   "execution_count": 22,
   "metadata": {},
   "outputs": [],
   "source": [
    "# 先裝 mysql的connection driver\n",
    "# pip install PyMySQL\n",
    "\n",
    "from sqlalchemy import create_engine\n",
    "\n",
    "my_db = create_engine('sqlite:///foo.db')"
   ]
  },
  {
   "cell_type": "markdown",
   "metadata": {},
   "source": [
    "- Create"
   ]
  },
  {
   "cell_type": "code",
   "execution_count": 23,
   "metadata": {},
   "outputs": [
    {
     "data": {
      "text/plain": [
       "{'context': <sqlalchemy.dialects.sqlite.base.SQLiteExecutionContext at 0x2a4bbc62f10>,\n",
       " 'dialect': <sqlalchemy.dialects.sqlite.pysqlite.SQLiteDialect_pysqlite at 0x2a4bbc62e50>,\n",
       " 'cursor': None,\n",
       " 'cursor_strategy': <sqlalchemy.engine.cursor.NoCursorDMLFetchStrategy at 0x2a4baa43b60>,\n",
       " 'connection': <sqlalchemy.engine.base.Connection at 0x2a4bbc5f550>,\n",
       " '_echo': False,\n",
       " '_metadata': <sqlalchemy.engine.cursor._LegacyNoResultMetaData at 0x2a4baa8df10>,\n",
       " 'rowcount': -1,\n",
       " '_soft_closed': True}"
      ]
     },
     "execution_count": 23,
     "metadata": {},
     "output_type": "execute_result"
    }
   ],
   "source": [
    "# 我們把tsp, pm10, lead都記下來\n",
    "table_name = 'malo_khtsp_0903'\n",
    "sql_cmd_str = \"CREATE TABLE IF NOT EXISTS %s(sid varchar(20), dtime varchar(20), tsp float, pm10 float, lead float, PRIMARY KEY(sid, dtime))\" %(table_name)\n",
    "resultProxy = my_db.execute(sql_cmd_str)\n",
    "resultProxy.__dict__"
   ]
  },
  {
   "cell_type": "code",
   "execution_count": 24,
   "metadata": {
    "collapsed": true,
    "jupyter": {
     "outputs_hidden": true
    },
    "tags": []
   },
   "outputs": [
    {
     "name": "stdout",
     "output_type": "stream",
     "text": [
      "insert or replace into malo_khtsp_0903 (sid, dtime, tsp, pm10, lead) values('大社工業區', '2018年1月', '93', '', '0.029')\n",
      "insert or replace into malo_khtsp_0903 (sid, dtime, tsp, pm10, lead) values('大寮區公所', '2018年1月', '79', '', '0.042')\n",
      "insert or replace into malo_khtsp_0903 (sid, dtime, tsp, pm10, lead) values('大樹監測站', '2018年1月', '61', '', '0.02')\n",
      "insert or replace into malo_khtsp_0903 (sid, dtime, tsp, pm10, lead) values('仁武國中', '2018年1月', '79', '', '0.058')\n",
      "insert or replace into malo_khtsp_0903 (sid, dtime, tsp, pm10, lead) values('半屏山電信局', '2018年1月', '104', '67', '0.014')\n",
      "insert or replace into malo_khtsp_0903 (sid, dtime, tsp, pm10, lead) values('左營國小', '2018年1月', '98', '64', '0.006')\n",
      "insert or replace into malo_khtsp_0903 (sid, dtime, tsp, pm10, lead) values('永安工業區', '2018年1月', '83', '', '0.052')\n",
      "insert or replace into malo_khtsp_0903 (sid, dtime, tsp, pm10, lead) values('西子灣中山大學', '2018年1月', '84', '60', '0.043')\n",
      "insert or replace into malo_khtsp_0903 (sid, dtime, tsp, pm10, lead) values('岡山醫院', '2018年1月', '102', '', '0.076')\n",
      "insert or replace into malo_khtsp_0903 (sid, dtime, tsp, pm10, lead) values('林園工業區', '2018年1月', '90', '', '0.042')\n",
      "insert or replace into malo_khtsp_0903 (sid, dtime, tsp, pm10, lead) values('河濱國小', '2018年1月', '55', '51', '0.026')\n",
      "insert or replace into malo_khtsp_0903 (sid, dtime, tsp, pm10, lead) values('阿蓮區公所', '2018年1月', '65', '', '0.043')\n",
      "insert or replace into malo_khtsp_0903 (sid, dtime, tsp, pm10, lead) values('前鎮國小', '2018年1月', '109', '72', '0.029')\n",
      "insert or replace into malo_khtsp_0903 (sid, dtime, tsp, pm10, lead) values('莊敬國小', '2018年1月', '87', '70', '0.006')\n",
      "insert or replace into malo_khtsp_0903 (sid, dtime, tsp, pm10, lead) values('愛國國小', '2018年1月', '97', '59', '0.014')\n",
      "insert or replace into malo_khtsp_0903 (sid, dtime, tsp, pm10, lead) values('楠梓區清潔隊', '2018年1月', '84', '45', '0.021')\n",
      "insert or replace into malo_khtsp_0903 (sid, dtime, tsp, pm10, lead) values('路竹地政事務所', '2018年1月', '84', '', '0.085')\n",
      "insert or replace into malo_khtsp_0903 (sid, dtime, tsp, pm10, lead) values('鼓山圖書分館', '2018年1月', '94', '68', '0.014')\n",
      "insert or replace into malo_khtsp_0903 (sid, dtime, tsp, pm10, lead) values('衛生局中正辦公室', '2018年1月', '55', '45', '0.02')\n",
      "insert or replace into malo_khtsp_0903 (sid, dtime, tsp, pm10, lead) values('環保局環境檢驗科', '2018年1月', '92', '58', '0.02')\n",
      "insert or replace into malo_khtsp_0903 (sid, dtime, tsp, pm10, lead) values('大社工業區', '2018年2月', '102', '', '0.055')\n",
      "insert or replace into malo_khtsp_0903 (sid, dtime, tsp, pm10, lead) values('大寮區公所', '2018年2月', '91', '', '0.018')\n",
      "insert or replace into malo_khtsp_0903 (sid, dtime, tsp, pm10, lead) values('大樹監測站', '2018年2月', '65', '', '0.015')\n",
      "insert or replace into malo_khtsp_0903 (sid, dtime, tsp, pm10, lead) values('仁武國中', '2018年2月', '86', '', '0.033')\n",
      "insert or replace into malo_khtsp_0903 (sid, dtime, tsp, pm10, lead) values('半屏山電信局', '2018年2月', '62', '38', '0.034')\n",
      "insert or replace into malo_khtsp_0903 (sid, dtime, tsp, pm10, lead) values('左營國小', '2018年2月', '59', '32', '0.017')\n",
      "insert or replace into malo_khtsp_0903 (sid, dtime, tsp, pm10, lead) values('永安工業區', '2018年2月', '83', '', '0.025')\n",
      "insert or replace into malo_khtsp_0903 (sid, dtime, tsp, pm10, lead) values('西子灣中山大學', '2018年2月', '48', '28', '0.002')\n",
      "insert or replace into malo_khtsp_0903 (sid, dtime, tsp, pm10, lead) values('岡山醫院', '2018年2月', '84', '', '0.017')\n",
      "insert or replace into malo_khtsp_0903 (sid, dtime, tsp, pm10, lead) values('林園工業區', '2018年2月', '94', '', '0.002')\n",
      "insert or replace into malo_khtsp_0903 (sid, dtime, tsp, pm10, lead) values('河濱國小', '2018年2月', '67', '52', '0.002')\n",
      "insert or replace into malo_khtsp_0903 (sid, dtime, tsp, pm10, lead) values('阿蓮區公所', '2018年2月', '69', '', '0.024')\n",
      "insert or replace into malo_khtsp_0903 (sid, dtime, tsp, pm10, lead) values('前鎮國小', '2018年2月', '86', '54', '0.017')\n",
      "insert or replace into malo_khtsp_0903 (sid, dtime, tsp, pm10, lead) values('莊敬國小', '2018年2月', '53', '42', '0.034')\n",
      "insert or replace into malo_khtsp_0903 (sid, dtime, tsp, pm10, lead) values('愛國國小', '2018年2月', '70', '46', '0.024')\n",
      "insert or replace into malo_khtsp_0903 (sid, dtime, tsp, pm10, lead) values('楠梓區清潔隊', '2018年2月', '93', '54', '0.018')\n",
      "insert or replace into malo_khtsp_0903 (sid, dtime, tsp, pm10, lead) values('路竹地政事務所', '2018年2月', '84', '', '0.031')\n",
      "insert or replace into malo_khtsp_0903 (sid, dtime, tsp, pm10, lead) values('鼓山圖書分館', '2018年2月', '63', '45', '0.002')\n",
      "insert or replace into malo_khtsp_0903 (sid, dtime, tsp, pm10, lead) values('衛生局中正辦公室', '2018年2月', '70', '38', '0.002')\n",
      "insert or replace into malo_khtsp_0903 (sid, dtime, tsp, pm10, lead) values('環保局環境檢驗科', '2018年2月', '76', '46', '0.017')\n",
      "insert or replace into malo_khtsp_0903 (sid, dtime, tsp, pm10, lead) values('大社工業區', '2018年3月', '108', '', '0.062')\n",
      "insert or replace into malo_khtsp_0903 (sid, dtime, tsp, pm10, lead) values('大寮區公所', '2018年3月', '92', '', '0.046')\n",
      "insert or replace into malo_khtsp_0903 (sid, dtime, tsp, pm10, lead) values('大樹監測站', '2018年3月', '79', '', '0.046')\n",
      "insert or replace into malo_khtsp_0903 (sid, dtime, tsp, pm10, lead) values('仁武國中', '2018年3月', '108', '', '0.052')\n",
      "insert or replace into malo_khtsp_0903 (sid, dtime, tsp, pm10, lead) values('半屏山電信局', '2018年3月', '69', '46', '0.048')\n",
      "insert or replace into malo_khtsp_0903 (sid, dtime, tsp, pm10, lead) values('左營國小', '2018年3月', '54', '36', '0.068')\n",
      "insert or replace into malo_khtsp_0903 (sid, dtime, tsp, pm10, lead) values('永安工業區', '2018年3月', '101', '', '0.081')\n",
      "insert or replace into malo_khtsp_0903 (sid, dtime, tsp, pm10, lead) values('西子灣中山大學', '2018年3月', '55', '36', '0.061')\n",
      "insert or replace into malo_khtsp_0903 (sid, dtime, tsp, pm10, lead) values('岡山醫院', '2018年3月', '120', '', '0.05')\n",
      "insert or replace into malo_khtsp_0903 (sid, dtime, tsp, pm10, lead) values('林園工業區', '2018年3月', '94', '', '0.05')\n",
      "insert or replace into malo_khtsp_0903 (sid, dtime, tsp, pm10, lead) values('河濱國小', '2018年3月', '56', '42', '0.095')\n",
      "insert or replace into malo_khtsp_0903 (sid, dtime, tsp, pm10, lead) values('阿蓮區公所', '2018年3月', '80', '', '0.042')\n",
      "insert or replace into malo_khtsp_0903 (sid, dtime, tsp, pm10, lead) values('前鎮國小', '2018年3月', '98', '48', '0.082')\n",
      "insert or replace into malo_khtsp_0903 (sid, dtime, tsp, pm10, lead) values('莊敬國小', '2018年3月', '53', '50', '0.064')\n",
      "insert or replace into malo_khtsp_0903 (sid, dtime, tsp, pm10, lead) values('愛國國小', '2018年3月', '74', '44', '0.067')\n",
      "insert or replace into malo_khtsp_0903 (sid, dtime, tsp, pm10, lead) values('楠梓區清潔隊', '2018年3月', '106', '54', '0.077')\n",
      "insert or replace into malo_khtsp_0903 (sid, dtime, tsp, pm10, lead) values('路竹地政事務所', '2018年3月', '103', '', '0.065')\n",
      "insert or replace into malo_khtsp_0903 (sid, dtime, tsp, pm10, lead) values('鼓山圖書分館', '2018年3月', '58', '40', '0.078')\n",
      "insert or replace into malo_khtsp_0903 (sid, dtime, tsp, pm10, lead) values('衛生局中正辦公室', '2018年3月', '61', '39', '0.078')\n",
      "insert or replace into malo_khtsp_0903 (sid, dtime, tsp, pm10, lead) values('環保局環境檢驗科', '2018年3月', '59', '38', '0.066')\n",
      "insert or replace into malo_khtsp_0903 (sid, dtime, tsp, pm10, lead) values('大社工業區', '2018年4月', '79', '', '0.036')\n",
      "insert or replace into malo_khtsp_0903 (sid, dtime, tsp, pm10, lead) values('大寮區公所', '2018年4月', '75', '', '0.062')\n",
      "insert or replace into malo_khtsp_0903 (sid, dtime, tsp, pm10, lead) values('大樹監測站', '2018年4月', '63', '', '0.056')\n",
      "insert or replace into malo_khtsp_0903 (sid, dtime, tsp, pm10, lead) values('仁武國中', '2018年4月', '78', '', '0.035')\n",
      "insert or replace into malo_khtsp_0903 (sid, dtime, tsp, pm10, lead) values('半屏山電信局', '2018年4月', '72', '52', '0.044')\n",
      "insert or replace into malo_khtsp_0903 (sid, dtime, tsp, pm10, lead) values('左營國小', '2018年4月', '61', '33', '0.028')\n",
      "insert or replace into malo_khtsp_0903 (sid, dtime, tsp, pm10, lead) values('永安工業區', '2018年4月', '84', '', '0.116')\n",
      "insert or replace into malo_khtsp_0903 (sid, dtime, tsp, pm10, lead) values('西子灣中山大學', '2018年4月', '51', '30', '0.002')\n",
      "insert or replace into malo_khtsp_0903 (sid, dtime, tsp, pm10, lead) values('岡山醫院', '2018年4月', '82', '', '0.062')\n",
      "insert or replace into malo_khtsp_0903 (sid, dtime, tsp, pm10, lead) values('林園工業區', '2018年4月', '78', '', '0.033')\n",
      "insert or replace into malo_khtsp_0903 (sid, dtime, tsp, pm10, lead) values('河濱國小', '2018年4月', '59', '40', '0.054')\n",
      "insert or replace into malo_khtsp_0903 (sid, dtime, tsp, pm10, lead) values('阿蓮區公所', '2018年4月', '63', '', '0.037')\n",
      "insert or replace into malo_khtsp_0903 (sid, dtime, tsp, pm10, lead) values('前鎮國小', '2018年4月', '82', '48', '0.067')\n",
      "insert or replace into malo_khtsp_0903 (sid, dtime, tsp, pm10, lead) values('莊敬國小', '2018年4月', '67', '50', '0.069')\n",
      "insert or replace into malo_khtsp_0903 (sid, dtime, tsp, pm10, lead) values('愛國國小', '2018年4月', '78', '41', '0.034')\n",
      "insert or replace into malo_khtsp_0903 (sid, dtime, tsp, pm10, lead) values('楠梓區清潔隊', '2018年4月', '74', '37', '0.037')\n",
      "insert or replace into malo_khtsp_0903 (sid, dtime, tsp, pm10, lead) values('路竹地政事務所', '2018年4月', '66', '', '0.055')\n",
      "insert or replace into malo_khtsp_0903 (sid, dtime, tsp, pm10, lead) values('鼓山圖書分館', '2018年4月', '50', '31', '0.023')\n",
      "insert or replace into malo_khtsp_0903 (sid, dtime, tsp, pm10, lead) values('衛生局中正辦公室', '2018年4月', '60', '31', '0.057')\n",
      "insert or replace into malo_khtsp_0903 (sid, dtime, tsp, pm10, lead) values('環保局環境檢驗科', '2018年4月', '74', '38', '0.044')\n",
      "insert or replace into malo_khtsp_0903 (sid, dtime, tsp, pm10, lead) values('大社工業區', '2018年5月', '55', '', '0.036')\n",
      "insert or replace into malo_khtsp_0903 (sid, dtime, tsp, pm10, lead) values('大寮區公所', '2018年5月', '43', '', '0.021')\n",
      "insert or replace into malo_khtsp_0903 (sid, dtime, tsp, pm10, lead) values('大樹監測站', '2018年5月', '37', '', '0.05')\n"
     ]
    },
    {
     "name": "stdout",
     "output_type": "stream",
     "text": [
      "insert or replace into malo_khtsp_0903 (sid, dtime, tsp, pm10, lead) values('仁武國中', '2018年5月', '44', '', '0.058')\n",
      "insert or replace into malo_khtsp_0903 (sid, dtime, tsp, pm10, lead) values('半屏山電信局', '2018年5月', '40', '23', '0.004')\n",
      "insert or replace into malo_khtsp_0903 (sid, dtime, tsp, pm10, lead) values('左營國小', '2018年5月', '49', '38', '0.047')\n",
      "insert or replace into malo_khtsp_0903 (sid, dtime, tsp, pm10, lead) values('永安工業區', '2018年5月', '52', '', '0.031')\n",
      "insert or replace into malo_khtsp_0903 (sid, dtime, tsp, pm10, lead) values('西子灣中山大學', '2018年5月', '22', '12', '0.021')\n",
      "insert or replace into malo_khtsp_0903 (sid, dtime, tsp, pm10, lead) values('岡山醫院', '2018年5月', '39', '', '0.03')\n",
      "insert or replace into malo_khtsp_0903 (sid, dtime, tsp, pm10, lead) values('林園工業區', '2018年5月', '36', '', '0.016')\n",
      "insert or replace into malo_khtsp_0903 (sid, dtime, tsp, pm10, lead) values('河濱國小', '2018年5月', '34', '21', '0.027')\n",
      "insert or replace into malo_khtsp_0903 (sid, dtime, tsp, pm10, lead) values('阿蓮區公所', '2018年5月', '35', '', '0.014')\n",
      "insert or replace into malo_khtsp_0903 (sid, dtime, tsp, pm10, lead) values('前鎮國小', '2018年5月', '49', '27', '0.055')\n",
      "insert or replace into malo_khtsp_0903 (sid, dtime, tsp, pm10, lead) values('莊敬國小', '2018年5月', '35', '25', '0.011')\n",
      "insert or replace into malo_khtsp_0903 (sid, dtime, tsp, pm10, lead) values('愛國國小', '2018年5月', '35', '19', '0.025')\n",
      "insert or replace into malo_khtsp_0903 (sid, dtime, tsp, pm10, lead) values('楠梓區清潔隊', '2018年5月', '40', '19', '0.017')\n",
      "insert or replace into malo_khtsp_0903 (sid, dtime, tsp, pm10, lead) values('路竹地政事務所', '2018年5月', '41', '', '0.049')\n",
      "insert or replace into malo_khtsp_0903 (sid, dtime, tsp, pm10, lead) values('鼓山圖書分館', '2018年5月', '26', '17', '0.004')\n",
      "insert or replace into malo_khtsp_0903 (sid, dtime, tsp, pm10, lead) values('衛生局中正辦公室', '2018年5月', '34', '18', '0.011')\n",
      "insert or replace into malo_khtsp_0903 (sid, dtime, tsp, pm10, lead) values('環保局環境檢驗科', '2018年5月', '44', '23', '0.029')\n",
      "insert or replace into malo_khtsp_0903 (sid, dtime, tsp, pm10, lead) values('大社工業區', '2018年6月', '58', '', '0.042')\n",
      "insert or replace into malo_khtsp_0903 (sid, dtime, tsp, pm10, lead) values('大寮區公所', '2018年6月', '41', '', '0.006')\n",
      "insert or replace into malo_khtsp_0903 (sid, dtime, tsp, pm10, lead) values('大樹監測站', '2018年6月', '37', '', '0.019')\n",
      "insert or replace into malo_khtsp_0903 (sid, dtime, tsp, pm10, lead) values('仁武國中', '2018年6月', '48', '', '0.034')\n",
      "insert or replace into malo_khtsp_0903 (sid, dtime, tsp, pm10, lead) values('半屏山電信局', '2018年6月', '37', '22', '0.021')\n",
      "insert or replace into malo_khtsp_0903 (sid, dtime, tsp, pm10, lead) values('左營國小', '2018年6月', '22', '16', '0.034')\n",
      "insert or replace into malo_khtsp_0903 (sid, dtime, tsp, pm10, lead) values('永安工業區', '2018年6月', '45', '', '0.014')\n",
      "insert or replace into malo_khtsp_0903 (sid, dtime, tsp, pm10, lead) values('西子灣中山大學', '2018年6月', '35', '21', '0.013')\n",
      "insert or replace into malo_khtsp_0903 (sid, dtime, tsp, pm10, lead) values('岡山醫院', '2018年6月', '20', '', '0.014')\n",
      "insert or replace into malo_khtsp_0903 (sid, dtime, tsp, pm10, lead) values('林園工業區', '2018年6月', '48', '', '0.047')\n",
      "insert or replace into malo_khtsp_0903 (sid, dtime, tsp, pm10, lead) values('河濱國小', '2018年6月', '29', '17', '0.021')\n",
      "insert or replace into malo_khtsp_0903 (sid, dtime, tsp, pm10, lead) values('阿蓮區公所', '2018年6月', '33', '', '0.006')\n",
      "insert or replace into malo_khtsp_0903 (sid, dtime, tsp, pm10, lead) values('前鎮國小', '2018年6月', '79', '37', '0.021')\n",
      "insert or replace into malo_khtsp_0903 (sid, dtime, tsp, pm10, lead) values('莊敬國小', '2018年6月', '33', '23', '0.054')\n",
      "insert or replace into malo_khtsp_0903 (sid, dtime, tsp, pm10, lead) values('愛國國小', '2018年6月', '39', '23', '0.034')\n",
      "insert or replace into malo_khtsp_0903 (sid, dtime, tsp, pm10, lead) values('楠梓區清潔隊', '2018年6月', '43', '21', '0.021')\n",
      "insert or replace into malo_khtsp_0903 (sid, dtime, tsp, pm10, lead) values('路竹地政事務所', '2018年6月', '47', '', '0.012')\n",
      "insert or replace into malo_khtsp_0903 (sid, dtime, tsp, pm10, lead) values('鼓山圖書分館', '2018年6月', '27', '16', '0.034')\n",
      "insert or replace into malo_khtsp_0903 (sid, dtime, tsp, pm10, lead) values('衛生局中正辦公室', '2018年6月', '29', '17', '0.05')\n",
      "insert or replace into malo_khtsp_0903 (sid, dtime, tsp, pm10, lead) values('環保局環境檢驗科', '2018年6月', '38', '21', '0.02')\n",
      "insert or replace into malo_khtsp_0903 (sid, dtime, tsp, pm10, lead) values('大社工業區', '2018年7月', '67', '', '0.013')\n",
      "insert or replace into malo_khtsp_0903 (sid, dtime, tsp, pm10, lead) values('大寮區公所', '2018年7月', '44', '', '0.013')\n",
      "insert or replace into malo_khtsp_0903 (sid, dtime, tsp, pm10, lead) values('仁武國中', '2018年7月', '56', '', '0.02')\n",
      "insert or replace into malo_khtsp_0903 (sid, dtime, tsp, pm10, lead) values('半屏山電信局', '2018年7月', '32', '18', '0.022')\n",
      "insert or replace into malo_khtsp_0903 (sid, dtime, tsp, pm10, lead) values('左營國小', '2018年7月', '37', '16', '0.022')\n",
      "insert or replace into malo_khtsp_0903 (sid, dtime, tsp, pm10, lead) values('永安工業區', '2018年7月', '56', '', '0.086')\n",
      "insert or replace into malo_khtsp_0903 (sid, dtime, tsp, pm10, lead) values('西子灣中山大學', '2018年7月', '41', '20', '0.013')\n",
      "insert or replace into malo_khtsp_0903 (sid, dtime, tsp, pm10, lead) values('岡山醫院', '2018年7月', '17', '', '0.006')\n",
      "insert or replace into malo_khtsp_0903 (sid, dtime, tsp, pm10, lead) values('林園工業區', '2018年7月', '51', '', '0.028')\n",
      "insert or replace into malo_khtsp_0903 (sid, dtime, tsp, pm10, lead) values('河濱國小', '2018年7月', '42', '22', '0.028')\n",
      "insert or replace into malo_khtsp_0903 (sid, dtime, tsp, pm10, lead) values('阿蓮區公所', '2018年7月', '46', '', '0.02')\n",
      "insert or replace into malo_khtsp_0903 (sid, dtime, tsp, pm10, lead) values('前鎮國小', '2018年7月', '78', '37', '0.021')\n",
      "insert or replace into malo_khtsp_0903 (sid, dtime, tsp, pm10, lead) values('莊敬國小', '2018年7月', '29', '20', '0.021')\n",
      "insert or replace into malo_khtsp_0903 (sid, dtime, tsp, pm10, lead) values('愛國國小', '2018年7月', '38', '19', '0.014')\n",
      "insert or replace into malo_khtsp_0903 (sid, dtime, tsp, pm10, lead) values('楠梓區清潔隊', '2018年7月', '52', '22', '0.014')\n",
      "insert or replace into malo_khtsp_0903 (sid, dtime, tsp, pm10, lead) values('路竹地政事務所', '2018年7月', '43', '', '0.013')\n",
      "insert or replace into malo_khtsp_0903 (sid, dtime, tsp, pm10, lead) values('鼓山圖書分館', '2018年7月', '37', '20', '0.022')\n",
      "insert or replace into malo_khtsp_0903 (sid, dtime, tsp, pm10, lead) values('衛生局中正辦公室', '2018年7月', '47', '19', '0.005')\n",
      "insert or replace into malo_khtsp_0903 (sid, dtime, tsp, pm10, lead) values('環保局環境檢驗科', '2018年7月', '37', '18', '0.04')\n",
      "insert or replace into malo_khtsp_0903 (sid, dtime, tsp, pm10, lead) values('大社工業區', '2018年8月', '26', '', '0.018')\n",
      "insert or replace into malo_khtsp_0903 (sid, dtime, tsp, pm10, lead) values('大寮區公所', '2018年8月', '14', '', '0.01')\n",
      "insert or replace into malo_khtsp_0903 (sid, dtime, tsp, pm10, lead) values('仁武國中', '2018年8月', '19', '', '-0.009')\n",
      "insert or replace into malo_khtsp_0903 (sid, dtime, tsp, pm10, lead) values('半屏山電信局', '2018年8月', '30', '16', '0.051')\n",
      "insert or replace into malo_khtsp_0903 (sid, dtime, tsp, pm10, lead) values('左營國小', '2018年8月', '22', '14', '0.004')\n",
      "insert or replace into malo_khtsp_0903 (sid, dtime, tsp, pm10, lead) values('永安工業區', '2018年8月', '23', '', '0.011')\n",
      "insert or replace into malo_khtsp_0903 (sid, dtime, tsp, pm10, lead) values('西子灣中山大學', '2018年8月', '28', '13', '0.018')\n",
      "insert or replace into malo_khtsp_0903 (sid, dtime, tsp, pm10, lead) values('岡山醫院', '2018年8月', '32', '', '0.011')\n",
      "insert or replace into malo_khtsp_0903 (sid, dtime, tsp, pm10, lead) values('林園工業區', '2018年8月', '25', '', '0.004')\n",
      "insert or replace into malo_khtsp_0903 (sid, dtime, tsp, pm10, lead) values('河濱國小', '2018年8月', '22', '11', '0.018')\n",
      "insert or replace into malo_khtsp_0903 (sid, dtime, tsp, pm10, lead) values('阿蓮區公所', '2018年8月', '18', '', '0.017')\n",
      "insert or replace into malo_khtsp_0903 (sid, dtime, tsp, pm10, lead) values('前鎮國小', '2018年8月', '43', '19', '0.011')\n",
      "insert or replace into malo_khtsp_0903 (sid, dtime, tsp, pm10, lead) values('莊敬國小', '2018年8月', '21', '18', '0.018')\n",
      "insert or replace into malo_khtsp_0903 (sid, dtime, tsp, pm10, lead) values('愛國國小', '2018年8月', '24', '12', '0.025')\n",
      "insert or replace into malo_khtsp_0903 (sid, dtime, tsp, pm10, lead) values('楠梓區清潔隊', '2018年8月', '21', '12', '0.019')\n",
      "insert or replace into malo_khtsp_0903 (sid, dtime, tsp, pm10, lead) values('路竹地政事務所', '2018年8月', '18', '', '0.017')\n",
      "insert or replace into malo_khtsp_0903 (sid, dtime, tsp, pm10, lead) values('鼓山圖書分館', '2018年8月', '18', '11', '-0.016')\n",
      "insert or replace into malo_khtsp_0903 (sid, dtime, tsp, pm10, lead) values('衛生局中正辦公室', '2018年8月', '24', '13', '0.004')\n",
      "insert or replace into malo_khtsp_0903 (sid, dtime, tsp, pm10, lead) values('環保局環境檢驗科', '2018年8月', '26', '13', '0.017')\n",
      "insert or replace into malo_khtsp_0903 (sid, dtime, tsp, pm10, lead) values('大社工業區', '2018年9月', '68', '', '0.034')\n",
      "insert or replace into malo_khtsp_0903 (sid, dtime, tsp, pm10, lead) values('大寮區公所', '2018年9月', '31', '', '0.043')\n",
      "insert or replace into malo_khtsp_0903 (sid, dtime, tsp, pm10, lead) values('仁武國中', '2018年9月', '46', '', '0.006')\n",
      "insert or replace into malo_khtsp_0903 (sid, dtime, tsp, pm10, lead) values('半屏山電信局', '2018年9月', '26', '15', '0.013')\n",
      "insert or replace into malo_khtsp_0903 (sid, dtime, tsp, pm10, lead) values('左營國小', '2018年9月', '32', '22', '0.02')\n"
     ]
    },
    {
     "name": "stdout",
     "output_type": "stream",
     "text": [
      "insert or replace into malo_khtsp_0903 (sid, dtime, tsp, pm10, lead) values('永安工業區', '2018年9月', '46', '', '0.013')\n",
      "insert or replace into malo_khtsp_0903 (sid, dtime, tsp, pm10, lead) values('西子灣中山大學', '2018年9月', '24', '12', '0.013')\n",
      "insert or replace into malo_khtsp_0903 (sid, dtime, tsp, pm10, lead) values('岡山醫院', '2018年9月', '64', '', '0.02')\n",
      "insert or replace into malo_khtsp_0903 (sid, dtime, tsp, pm10, lead) values('林園工業區', '2018年9月', '53', '', '0.048')\n",
      "insert or replace into malo_khtsp_0903 (sid, dtime, tsp, pm10, lead) values('河濱國小', '2018年9月', '27', '16', '0.006')\n",
      "insert or replace into malo_khtsp_0903 (sid, dtime, tsp, pm10, lead) values('阿蓮區公所', '2018年9月', '31', '', '0.013')\n",
      "insert or replace into malo_khtsp_0903 (sid, dtime, tsp, pm10, lead) values('前鎮國小', '2018年9月', '70', '32', '0.04')\n",
      "insert or replace into malo_khtsp_0903 (sid, dtime, tsp, pm10, lead) values('莊敬國小', '2018年9月', '22', '17', '0.015')\n",
      "insert or replace into malo_khtsp_0903 (sid, dtime, tsp, pm10, lead) values('愛國國小', '2018年9月', '31', '16', '0.02')\n",
      "insert or replace into malo_khtsp_0903 (sid, dtime, tsp, pm10, lead) values('楠梓區清潔隊', '2018年9月', '43', '20', '0.021')\n",
      "insert or replace into malo_khtsp_0903 (sid, dtime, tsp, pm10, lead) values('路竹地政事務所', '2018年9月', '46', '', '0.02')\n",
      "insert or replace into malo_khtsp_0903 (sid, dtime, tsp, pm10, lead) values('鼓山圖書分館', '2018年9月', '19', '12', '0.006')\n",
      "insert or replace into malo_khtsp_0903 (sid, dtime, tsp, pm10, lead) values('衛生局中正辦公室', '2018年9月', '25', '11', '0.005')\n",
      "insert or replace into malo_khtsp_0903 (sid, dtime, tsp, pm10, lead) values('環保局環境檢驗科', '2018年9月', '30', '13', '0.006')\n",
      "insert or replace into malo_khtsp_0903 (sid, dtime, tsp, pm10, lead) values('大社工業區', '2018年10月', '101', '', '0.05')\n",
      "insert or replace into malo_khtsp_0903 (sid, dtime, tsp, pm10, lead) values('大寮區公所', '2018年10月', '79', '', '0.041')\n",
      "insert or replace into malo_khtsp_0903 (sid, dtime, tsp, pm10, lead) values('仁武國中', '2018年10月', '91', '', '0.042')\n",
      "insert or replace into malo_khtsp_0903 (sid, dtime, tsp, pm10, lead) values('半屏山電信局', '2018年10月', '130', '68', '0.073')\n",
      "insert or replace into malo_khtsp_0903 (sid, dtime, tsp, pm10, lead) values('左營國小', '2018年10月', '89', '51', '0.024')\n",
      "insert or replace into malo_khtsp_0903 (sid, dtime, tsp, pm10, lead) values('永安工業區', '2018年10月', '101', '', '0.072')\n",
      "insert or replace into malo_khtsp_0903 (sid, dtime, tsp, pm10, lead) values('西子灣中山大學', '2018年10月', '103', '51', '0.051')\n",
      "insert or replace into malo_khtsp_0903 (sid, dtime, tsp, pm10, lead) values('岡山醫院', '2018年10月', '104', '', '0.074')\n",
      "insert or replace into malo_khtsp_0903 (sid, dtime, tsp, pm10, lead) values('林園工業區', '2018年10月', '86', '', '0.054')\n",
      "insert or replace into malo_khtsp_0903 (sid, dtime, tsp, pm10, lead) values('河濱國小', '2018年10月', '100', '60', '0.058')\n",
      "insert or replace into malo_khtsp_0903 (sid, dtime, tsp, pm10, lead) values('阿蓮區公所', '2018年10月', '74', '', '0.047')\n",
      "insert or replace into malo_khtsp_0903 (sid, dtime, tsp, pm10, lead) values('前鎮國小', '2018年10月', '110', '62', '0.07')\n",
      "insert or replace into malo_khtsp_0903 (sid, dtime, tsp, pm10, lead) values('莊敬國小', '2018年10月', '98', '69', '0.076')\n",
      "insert or replace into malo_khtsp_0903 (sid, dtime, tsp, pm10, lead) values('愛國國小', '2018年10月', '100', '47', '0.049')\n",
      "insert or replace into malo_khtsp_0903 (sid, dtime, tsp, pm10, lead) values('楠梓區清潔隊', '2018年10月', '100', '35', '0.016')\n",
      "insert or replace into malo_khtsp_0903 (sid, dtime, tsp, pm10, lead) values('路竹地政事務所', '2018年10月', '99', '', '0.05')\n",
      "insert or replace into malo_khtsp_0903 (sid, dtime, tsp, pm10, lead) values('鼓山圖書分館', '2018年10月', '91', '52', '0.078')\n",
      "insert or replace into malo_khtsp_0903 (sid, dtime, tsp, pm10, lead) values('衛生局中正辦公室', '2018年10月', '101', '51', '0.061')\n",
      "insert or replace into malo_khtsp_0903 (sid, dtime, tsp, pm10, lead) values('環保局環境檢驗科', '2018年10月', '104', '51', '0.071')\n",
      "insert or replace into malo_khtsp_0903 (sid, dtime, tsp, pm10, lead) values('大社工業區', '2018年11月', '103', '', '0.029')\n",
      "insert or replace into malo_khtsp_0903 (sid, dtime, tsp, pm10, lead) values('大寮區公所', '2018年11月', '98', '', '0.016')\n",
      "insert or replace into malo_khtsp_0903 (sid, dtime, tsp, pm10, lead) values('仁武國中', '2018年11月', '115', '', '0.1')\n",
      "insert or replace into malo_khtsp_0903 (sid, dtime, tsp, pm10, lead) values('半屏山電信局', '2018年11月', '104', '53', '0.036')\n",
      "insert or replace into malo_khtsp_0903 (sid, dtime, tsp, pm10, lead) values('左營國小', '2018年11月', '65', '38', '0.035')\n",
      "insert or replace into malo_khtsp_0903 (sid, dtime, tsp, pm10, lead) values('永安工業區', '2018年11月', '93', '', '0.04')\n",
      "insert or replace into malo_khtsp_0903 (sid, dtime, tsp, pm10, lead) values('西子灣中山大學', '2018年11月', '77', '35', '0.02')\n",
      "insert or replace into malo_khtsp_0903 (sid, dtime, tsp, pm10, lead) values('岡山醫院', '2018年11月', '106', '', '0.016')\n",
      "insert or replace into malo_khtsp_0903 (sid, dtime, tsp, pm10, lead) values('林園工業區', '2018年11月', '98', '', '0.023')\n",
      "insert or replace into malo_khtsp_0903 (sid, dtime, tsp, pm10, lead) values('河濱國小', '2018年11月', '84', '42', '0.022')\n",
      "insert or replace into malo_khtsp_0903 (sid, dtime, tsp, pm10, lead) values('阿蓮區公所', '2018年11月', '80', '', '0.015')\n",
      "insert or replace into malo_khtsp_0903 (sid, dtime, tsp, pm10, lead) values('前鎮國小', '2018年11月', '112', '58', '0.034')\n",
      "insert or replace into malo_khtsp_0903 (sid, dtime, tsp, pm10, lead) values('莊敬國小', '2018年11月', '77', '52', '0.03')\n",
      "insert or replace into malo_khtsp_0903 (sid, dtime, tsp, pm10, lead) values('勞工博物館', '2018年11月', '77', '36', '0.042')\n",
      "insert or replace into malo_khtsp_0903 (sid, dtime, tsp, pm10, lead) values('愛國國小', '2018年11月', '110', '44', '0.023')\n",
      "insert or replace into malo_khtsp_0903 (sid, dtime, tsp, pm10, lead) values('楠梓區清潔隊', '2018年11月', '103', '40', '0.016')\n",
      "insert or replace into malo_khtsp_0903 (sid, dtime, tsp, pm10, lead) values('路竹地政事務所', '2018年11月', '89', '', '0.027')\n",
      "insert or replace into malo_khtsp_0903 (sid, dtime, tsp, pm10, lead) values('鼓山圖書分館', '2018年11月', '66', '38', '0.041')\n",
      "insert or replace into malo_khtsp_0903 (sid, dtime, tsp, pm10, lead) values('環保局環境檢驗科', '2018年11月', '78', '36', '0.028')\n",
      "insert or replace into malo_khtsp_0903 (sid, dtime, tsp, pm10, lead) values('大社工業區', '2018年12月', '147', '', '0.032')\n",
      "insert or replace into malo_khtsp_0903 (sid, dtime, tsp, pm10, lead) values('大寮區公所', '2018年12月', '124', '', '0.012')\n",
      "insert or replace into malo_khtsp_0903 (sid, dtime, tsp, pm10, lead) values('仁武國中', '2018年12月', '134', '', '0.018')\n",
      "insert or replace into malo_khtsp_0903 (sid, dtime, tsp, pm10, lead) values('半屏山電信局', '2018年12月', '119', '69', '0.044')\n",
      "insert or replace into malo_khtsp_0903 (sid, dtime, tsp, pm10, lead) values('左營國小', '2018年12月', '90', '52', '0.019')\n",
      "insert or replace into malo_khtsp_0903 (sid, dtime, tsp, pm10, lead) values('永安工業區', '2018年12月', '111', '', '0.018')\n",
      "insert or replace into malo_khtsp_0903 (sid, dtime, tsp, pm10, lead) values('西子灣中山大學', '2018年12月', '87', '48', '0.011')\n",
      "insert or replace into malo_khtsp_0903 (sid, dtime, tsp, pm10, lead) values('岡山醫院', '2018年12月', '121', '', '0.011')\n",
      "insert or replace into malo_khtsp_0903 (sid, dtime, tsp, pm10, lead) values('林園工業區', '2018年12月', '143', '', '0.039')\n",
      "insert or replace into malo_khtsp_0903 (sid, dtime, tsp, pm10, lead) values('河濱國小', '2018年12月', '97', '57', '0.005')\n",
      "insert or replace into malo_khtsp_0903 (sid, dtime, tsp, pm10, lead) values('阿蓮區公所', '2018年12月', '102', '', '0.011')\n",
      "insert or replace into malo_khtsp_0903 (sid, dtime, tsp, pm10, lead) values('前鎮國小', '2018年12月', '111', '68', '0.043')\n",
      "insert or replace into malo_khtsp_0903 (sid, dtime, tsp, pm10, lead) values('莊敬國小', '2018年12月', '110', '83', '0.031')\n",
      "insert or replace into malo_khtsp_0903 (sid, dtime, tsp, pm10, lead) values('愛國國小', '2018年12月', '100', '49', '0.03')\n",
      "insert or replace into malo_khtsp_0903 (sid, dtime, tsp, pm10, lead) values('楠梓區清潔隊', '2018年12月', '84', '52', '0.001')\n",
      "insert or replace into malo_khtsp_0903 (sid, dtime, tsp, pm10, lead) values('路竹地政事務所', '2018年12月', '112', '', '0.012')\n",
      "insert or replace into malo_khtsp_0903 (sid, dtime, tsp, pm10, lead) values('鼓山圖書分館', '2018年12月', '80', '49', '0.018')\n",
      "insert or replace into malo_khtsp_0903 (sid, dtime, tsp, pm10, lead) values('衛生局中正辦公室', '2018年12月', '93', '46', '0.012')\n",
      "insert or replace into malo_khtsp_0903 (sid, dtime, tsp, pm10, lead) values('環保局環境檢驗科', '2018年12月', '97', '50', '0.03')\n"
     ]
    }
   ],
   "source": [
    "# 做upsert操作\n",
    "import datetime\n",
    "import random\n",
    "\n",
    "for item in data_list[1:]:\n",
    "    sid = item[0] #['Name']\n",
    "    dtime = item[1] #['Date']\n",
    "    tsp = item[2] #['TSP']\n",
    "    pm10 = item[3] #['PM10']\n",
    "    lead = item[7] #['Lead']\n",
    "    sql_cmd_str = \"insert or replace into %s (sid, dtime, tsp, pm10, lead) values('%s', '%s', '%s', '%s', '%s')\" %(\n",
    "        table_name, sid, dtime, tsp, pm10, lead)\n",
    "    #sql_cmd_str = sql_cmd_str + (\" ON DUPLICATE KEY UPDATE tsp='%s', pm10='%s', lead='%s'\" %(tsp, pm10, lead))\n",
    "    resultProxy=my_db.execute(sql_cmd_str)\n",
    "    print(sql_cmd_str)\n",
    "    "
   ]
  },
  {
   "cell_type": "code",
   "execution_count": 25,
   "metadata": {
    "collapsed": true,
    "jupyter": {
     "outputs_hidden": true
    },
    "tags": []
   },
   "outputs": [
    {
     "name": "stdout",
     "output_type": "stream",
     "text": [
      "insert or replace into malo_khtsp_0903 (sid, dtime, tsp, pm10, lead) values('大社工業區', '2018年1月', 93, NULL, 0.029)\n",
      "insert or replace into malo_khtsp_0903 (sid, dtime, tsp, pm10, lead) values('大寮區公所', '2018年1月', 79, NULL, 0.042)\n",
      "insert or replace into malo_khtsp_0903 (sid, dtime, tsp, pm10, lead) values('大樹監測站', '2018年1月', 61, NULL, 0.02)\n",
      "insert or replace into malo_khtsp_0903 (sid, dtime, tsp, pm10, lead) values('仁武國中', '2018年1月', 79, NULL, 0.058)\n",
      "insert or replace into malo_khtsp_0903 (sid, dtime, tsp, pm10, lead) values('半屏山電信局', '2018年1月', 104, 67, 0.014)\n",
      "insert or replace into malo_khtsp_0903 (sid, dtime, tsp, pm10, lead) values('左營國小', '2018年1月', 98, 64, 0.006)\n",
      "insert or replace into malo_khtsp_0903 (sid, dtime, tsp, pm10, lead) values('永安工業區', '2018年1月', 83, NULL, 0.052)\n",
      "insert or replace into malo_khtsp_0903 (sid, dtime, tsp, pm10, lead) values('西子灣中山大學', '2018年1月', 84, 60, 0.043)\n",
      "insert or replace into malo_khtsp_0903 (sid, dtime, tsp, pm10, lead) values('岡山醫院', '2018年1月', 102, NULL, 0.076)\n",
      "insert or replace into malo_khtsp_0903 (sid, dtime, tsp, pm10, lead) values('林園工業區', '2018年1月', 90, NULL, 0.042)\n",
      "insert or replace into malo_khtsp_0903 (sid, dtime, tsp, pm10, lead) values('河濱國小', '2018年1月', 55, 51, 0.026)\n",
      "insert or replace into malo_khtsp_0903 (sid, dtime, tsp, pm10, lead) values('阿蓮區公所', '2018年1月', 65, NULL, 0.043)\n",
      "insert or replace into malo_khtsp_0903 (sid, dtime, tsp, pm10, lead) values('前鎮國小', '2018年1月', 109, 72, 0.029)\n",
      "insert or replace into malo_khtsp_0903 (sid, dtime, tsp, pm10, lead) values('莊敬國小', '2018年1月', 87, 70, 0.006)\n",
      "insert or replace into malo_khtsp_0903 (sid, dtime, tsp, pm10, lead) values('愛國國小', '2018年1月', 97, 59, 0.014)\n",
      "insert or replace into malo_khtsp_0903 (sid, dtime, tsp, pm10, lead) values('楠梓區清潔隊', '2018年1月', 84, 45, 0.021)\n",
      "insert or replace into malo_khtsp_0903 (sid, dtime, tsp, pm10, lead) values('路竹地政事務所', '2018年1月', 84, NULL, 0.085)\n",
      "insert or replace into malo_khtsp_0903 (sid, dtime, tsp, pm10, lead) values('鼓山圖書分館', '2018年1月', 94, 68, 0.014)\n",
      "insert or replace into malo_khtsp_0903 (sid, dtime, tsp, pm10, lead) values('衛生局中正辦公室', '2018年1月', 55, 45, 0.02)\n",
      "insert or replace into malo_khtsp_0903 (sid, dtime, tsp, pm10, lead) values('環保局環境檢驗科', '2018年1月', 92, 58, 0.02)\n",
      "insert or replace into malo_khtsp_0903 (sid, dtime, tsp, pm10, lead) values('大社工業區', '2018年2月', 102, NULL, 0.055)\n",
      "insert or replace into malo_khtsp_0903 (sid, dtime, tsp, pm10, lead) values('大寮區公所', '2018年2月', 91, NULL, 0.018)\n",
      "insert or replace into malo_khtsp_0903 (sid, dtime, tsp, pm10, lead) values('大樹監測站', '2018年2月', 65, NULL, 0.015)\n",
      "insert or replace into malo_khtsp_0903 (sid, dtime, tsp, pm10, lead) values('仁武國中', '2018年2月', 86, NULL, 0.033)\n",
      "insert or replace into malo_khtsp_0903 (sid, dtime, tsp, pm10, lead) values('半屏山電信局', '2018年2月', 62, 38, 0.034)\n",
      "insert or replace into malo_khtsp_0903 (sid, dtime, tsp, pm10, lead) values('左營國小', '2018年2月', 59, 32, 0.017)\n",
      "insert or replace into malo_khtsp_0903 (sid, dtime, tsp, pm10, lead) values('永安工業區', '2018年2月', 83, NULL, 0.025)\n",
      "insert or replace into malo_khtsp_0903 (sid, dtime, tsp, pm10, lead) values('西子灣中山大學', '2018年2月', 48, 28, 0.002)\n",
      "insert or replace into malo_khtsp_0903 (sid, dtime, tsp, pm10, lead) values('岡山醫院', '2018年2月', 84, NULL, 0.017)\n",
      "insert or replace into malo_khtsp_0903 (sid, dtime, tsp, pm10, lead) values('林園工業區', '2018年2月', 94, NULL, 0.002)\n",
      "insert or replace into malo_khtsp_0903 (sid, dtime, tsp, pm10, lead) values('河濱國小', '2018年2月', 67, 52, 0.002)\n",
      "insert or replace into malo_khtsp_0903 (sid, dtime, tsp, pm10, lead) values('阿蓮區公所', '2018年2月', 69, NULL, 0.024)\n",
      "insert or replace into malo_khtsp_0903 (sid, dtime, tsp, pm10, lead) values('前鎮國小', '2018年2月', 86, 54, 0.017)\n",
      "insert or replace into malo_khtsp_0903 (sid, dtime, tsp, pm10, lead) values('莊敬國小', '2018年2月', 53, 42, 0.034)\n",
      "insert or replace into malo_khtsp_0903 (sid, dtime, tsp, pm10, lead) values('愛國國小', '2018年2月', 70, 46, 0.024)\n",
      "insert or replace into malo_khtsp_0903 (sid, dtime, tsp, pm10, lead) values('楠梓區清潔隊', '2018年2月', 93, 54, 0.018)\n",
      "insert or replace into malo_khtsp_0903 (sid, dtime, tsp, pm10, lead) values('路竹地政事務所', '2018年2月', 84, NULL, 0.031)\n",
      "insert or replace into malo_khtsp_0903 (sid, dtime, tsp, pm10, lead) values('鼓山圖書分館', '2018年2月', 63, 45, 0.002)\n",
      "insert or replace into malo_khtsp_0903 (sid, dtime, tsp, pm10, lead) values('衛生局中正辦公室', '2018年2月', 70, 38, 0.002)\n",
      "insert or replace into malo_khtsp_0903 (sid, dtime, tsp, pm10, lead) values('環保局環境檢驗科', '2018年2月', 76, 46, 0.017)\n",
      "insert or replace into malo_khtsp_0903 (sid, dtime, tsp, pm10, lead) values('大社工業區', '2018年3月', 108, NULL, 0.062)\n",
      "insert or replace into malo_khtsp_0903 (sid, dtime, tsp, pm10, lead) values('大寮區公所', '2018年3月', 92, NULL, 0.046)\n",
      "insert or replace into malo_khtsp_0903 (sid, dtime, tsp, pm10, lead) values('大樹監測站', '2018年3月', 79, NULL, 0.046)\n",
      "insert or replace into malo_khtsp_0903 (sid, dtime, tsp, pm10, lead) values('仁武國中', '2018年3月', 108, NULL, 0.052)\n",
      "insert or replace into malo_khtsp_0903 (sid, dtime, tsp, pm10, lead) values('半屏山電信局', '2018年3月', 69, 46, 0.048)\n",
      "insert or replace into malo_khtsp_0903 (sid, dtime, tsp, pm10, lead) values('左營國小', '2018年3月', 54, 36, 0.068)\n",
      "insert or replace into malo_khtsp_0903 (sid, dtime, tsp, pm10, lead) values('永安工業區', '2018年3月', 101, NULL, 0.081)\n",
      "insert or replace into malo_khtsp_0903 (sid, dtime, tsp, pm10, lead) values('西子灣中山大學', '2018年3月', 55, 36, 0.061)\n",
      "insert or replace into malo_khtsp_0903 (sid, dtime, tsp, pm10, lead) values('岡山醫院', '2018年3月', 120, NULL, 0.05)\n",
      "insert or replace into malo_khtsp_0903 (sid, dtime, tsp, pm10, lead) values('林園工業區', '2018年3月', 94, NULL, 0.05)\n",
      "insert or replace into malo_khtsp_0903 (sid, dtime, tsp, pm10, lead) values('河濱國小', '2018年3月', 56, 42, 0.095)\n",
      "insert or replace into malo_khtsp_0903 (sid, dtime, tsp, pm10, lead) values('阿蓮區公所', '2018年3月', 80, NULL, 0.042)\n",
      "insert or replace into malo_khtsp_0903 (sid, dtime, tsp, pm10, lead) values('前鎮國小', '2018年3月', 98, 48, 0.082)\n",
      "insert or replace into malo_khtsp_0903 (sid, dtime, tsp, pm10, lead) values('莊敬國小', '2018年3月', 53, 50, 0.064)\n",
      "insert or replace into malo_khtsp_0903 (sid, dtime, tsp, pm10, lead) values('愛國國小', '2018年3月', 74, 44, 0.067)\n",
      "insert or replace into malo_khtsp_0903 (sid, dtime, tsp, pm10, lead) values('楠梓區清潔隊', '2018年3月', 106, 54, 0.077)\n",
      "insert or replace into malo_khtsp_0903 (sid, dtime, tsp, pm10, lead) values('路竹地政事務所', '2018年3月', 103, NULL, 0.065)\n",
      "insert or replace into malo_khtsp_0903 (sid, dtime, tsp, pm10, lead) values('鼓山圖書分館', '2018年3月', 58, 40, 0.078)\n",
      "insert or replace into malo_khtsp_0903 (sid, dtime, tsp, pm10, lead) values('衛生局中正辦公室', '2018年3月', 61, 39, 0.078)\n",
      "insert or replace into malo_khtsp_0903 (sid, dtime, tsp, pm10, lead) values('環保局環境檢驗科', '2018年3月', 59, 38, 0.066)\n",
      "insert or replace into malo_khtsp_0903 (sid, dtime, tsp, pm10, lead) values('大社工業區', '2018年4月', 79, NULL, 0.036)\n",
      "insert or replace into malo_khtsp_0903 (sid, dtime, tsp, pm10, lead) values('大寮區公所', '2018年4月', 75, NULL, 0.062)\n",
      "insert or replace into malo_khtsp_0903 (sid, dtime, tsp, pm10, lead) values('大樹監測站', '2018年4月', 63, NULL, 0.056)\n",
      "insert or replace into malo_khtsp_0903 (sid, dtime, tsp, pm10, lead) values('仁武國中', '2018年4月', 78, NULL, 0.035)\n",
      "insert or replace into malo_khtsp_0903 (sid, dtime, tsp, pm10, lead) values('半屏山電信局', '2018年4月', 72, 52, 0.044)\n",
      "insert or replace into malo_khtsp_0903 (sid, dtime, tsp, pm10, lead) values('左營國小', '2018年4月', 61, 33, 0.028)\n",
      "insert or replace into malo_khtsp_0903 (sid, dtime, tsp, pm10, lead) values('永安工業區', '2018年4月', 84, NULL, 0.116)\n",
      "insert or replace into malo_khtsp_0903 (sid, dtime, tsp, pm10, lead) values('西子灣中山大學', '2018年4月', 51, 30, 0.002)\n",
      "insert or replace into malo_khtsp_0903 (sid, dtime, tsp, pm10, lead) values('岡山醫院', '2018年4月', 82, NULL, 0.062)\n",
      "insert or replace into malo_khtsp_0903 (sid, dtime, tsp, pm10, lead) values('林園工業區', '2018年4月', 78, NULL, 0.033)\n",
      "insert or replace into malo_khtsp_0903 (sid, dtime, tsp, pm10, lead) values('河濱國小', '2018年4月', 59, 40, 0.054)\n",
      "insert or replace into malo_khtsp_0903 (sid, dtime, tsp, pm10, lead) values('阿蓮區公所', '2018年4月', 63, NULL, 0.037)\n",
      "insert or replace into malo_khtsp_0903 (sid, dtime, tsp, pm10, lead) values('前鎮國小', '2018年4月', 82, 48, 0.067)\n",
      "insert or replace into malo_khtsp_0903 (sid, dtime, tsp, pm10, lead) values('莊敬國小', '2018年4月', 67, 50, 0.069)\n"
     ]
    },
    {
     "name": "stdout",
     "output_type": "stream",
     "text": [
      "insert or replace into malo_khtsp_0903 (sid, dtime, tsp, pm10, lead) values('愛國國小', '2018年4月', 78, 41, 0.034)\n",
      "insert or replace into malo_khtsp_0903 (sid, dtime, tsp, pm10, lead) values('楠梓區清潔隊', '2018年4月', 74, 37, 0.037)\n",
      "insert or replace into malo_khtsp_0903 (sid, dtime, tsp, pm10, lead) values('路竹地政事務所', '2018年4月', 66, NULL, 0.055)\n",
      "insert or replace into malo_khtsp_0903 (sid, dtime, tsp, pm10, lead) values('鼓山圖書分館', '2018年4月', 50, 31, 0.023)\n",
      "insert or replace into malo_khtsp_0903 (sid, dtime, tsp, pm10, lead) values('衛生局中正辦公室', '2018年4月', 60, 31, 0.057)\n",
      "insert or replace into malo_khtsp_0903 (sid, dtime, tsp, pm10, lead) values('環保局環境檢驗科', '2018年4月', 74, 38, 0.044)\n",
      "insert or replace into malo_khtsp_0903 (sid, dtime, tsp, pm10, lead) values('大社工業區', '2018年5月', 55, NULL, 0.036)\n",
      "insert or replace into malo_khtsp_0903 (sid, dtime, tsp, pm10, lead) values('大寮區公所', '2018年5月', 43, NULL, 0.021)\n",
      "insert or replace into malo_khtsp_0903 (sid, dtime, tsp, pm10, lead) values('大樹監測站', '2018年5月', 37, NULL, 0.05)\n",
      "insert or replace into malo_khtsp_0903 (sid, dtime, tsp, pm10, lead) values('仁武國中', '2018年5月', 44, NULL, 0.058)\n",
      "insert or replace into malo_khtsp_0903 (sid, dtime, tsp, pm10, lead) values('半屏山電信局', '2018年5月', 40, 23, 0.004)\n",
      "insert or replace into malo_khtsp_0903 (sid, dtime, tsp, pm10, lead) values('左營國小', '2018年5月', 49, 38, 0.047)\n",
      "insert or replace into malo_khtsp_0903 (sid, dtime, tsp, pm10, lead) values('永安工業區', '2018年5月', 52, NULL, 0.031)\n",
      "insert or replace into malo_khtsp_0903 (sid, dtime, tsp, pm10, lead) values('西子灣中山大學', '2018年5月', 22, 12, 0.021)\n",
      "insert or replace into malo_khtsp_0903 (sid, dtime, tsp, pm10, lead) values('岡山醫院', '2018年5月', 39, NULL, 0.03)\n",
      "insert or replace into malo_khtsp_0903 (sid, dtime, tsp, pm10, lead) values('林園工業區', '2018年5月', 36, NULL, 0.016)\n",
      "insert or replace into malo_khtsp_0903 (sid, dtime, tsp, pm10, lead) values('河濱國小', '2018年5月', 34, 21, 0.027)\n",
      "insert or replace into malo_khtsp_0903 (sid, dtime, tsp, pm10, lead) values('阿蓮區公所', '2018年5月', 35, NULL, 0.014)\n",
      "insert or replace into malo_khtsp_0903 (sid, dtime, tsp, pm10, lead) values('前鎮國小', '2018年5月', 49, 27, 0.055)\n",
      "insert or replace into malo_khtsp_0903 (sid, dtime, tsp, pm10, lead) values('莊敬國小', '2018年5月', 35, 25, 0.011)\n",
      "insert or replace into malo_khtsp_0903 (sid, dtime, tsp, pm10, lead) values('愛國國小', '2018年5月', 35, 19, 0.025)\n",
      "insert or replace into malo_khtsp_0903 (sid, dtime, tsp, pm10, lead) values('楠梓區清潔隊', '2018年5月', 40, 19, 0.017)\n",
      "insert or replace into malo_khtsp_0903 (sid, dtime, tsp, pm10, lead) values('路竹地政事務所', '2018年5月', 41, NULL, 0.049)\n",
      "insert or replace into malo_khtsp_0903 (sid, dtime, tsp, pm10, lead) values('鼓山圖書分館', '2018年5月', 26, 17, 0.004)\n",
      "insert or replace into malo_khtsp_0903 (sid, dtime, tsp, pm10, lead) values('衛生局中正辦公室', '2018年5月', 34, 18, 0.011)\n",
      "insert or replace into malo_khtsp_0903 (sid, dtime, tsp, pm10, lead) values('環保局環境檢驗科', '2018年5月', 44, 23, 0.029)\n",
      "insert or replace into malo_khtsp_0903 (sid, dtime, tsp, pm10, lead) values('大社工業區', '2018年6月', 58, NULL, 0.042)\n",
      "insert or replace into malo_khtsp_0903 (sid, dtime, tsp, pm10, lead) values('大寮區公所', '2018年6月', 41, NULL, 0.006)\n",
      "insert or replace into malo_khtsp_0903 (sid, dtime, tsp, pm10, lead) values('大樹監測站', '2018年6月', 37, NULL, 0.019)\n",
      "insert or replace into malo_khtsp_0903 (sid, dtime, tsp, pm10, lead) values('仁武國中', '2018年6月', 48, NULL, 0.034)\n",
      "insert or replace into malo_khtsp_0903 (sid, dtime, tsp, pm10, lead) values('半屏山電信局', '2018年6月', 37, 22, 0.021)\n",
      "insert or replace into malo_khtsp_0903 (sid, dtime, tsp, pm10, lead) values('左營國小', '2018年6月', 22, 16, 0.034)\n",
      "insert or replace into malo_khtsp_0903 (sid, dtime, tsp, pm10, lead) values('永安工業區', '2018年6月', 45, NULL, 0.014)\n",
      "insert or replace into malo_khtsp_0903 (sid, dtime, tsp, pm10, lead) values('西子灣中山大學', '2018年6月', 35, 21, 0.013)\n",
      "insert or replace into malo_khtsp_0903 (sid, dtime, tsp, pm10, lead) values('岡山醫院', '2018年6月', 20, NULL, 0.014)\n",
      "insert or replace into malo_khtsp_0903 (sid, dtime, tsp, pm10, lead) values('林園工業區', '2018年6月', 48, NULL, 0.047)\n",
      "insert or replace into malo_khtsp_0903 (sid, dtime, tsp, pm10, lead) values('河濱國小', '2018年6月', 29, 17, 0.021)\n",
      "insert or replace into malo_khtsp_0903 (sid, dtime, tsp, pm10, lead) values('阿蓮區公所', '2018年6月', 33, NULL, 0.006)\n",
      "insert or replace into malo_khtsp_0903 (sid, dtime, tsp, pm10, lead) values('前鎮國小', '2018年6月', 79, 37, 0.021)\n",
      "insert or replace into malo_khtsp_0903 (sid, dtime, tsp, pm10, lead) values('莊敬國小', '2018年6月', 33, 23, 0.054)\n",
      "insert or replace into malo_khtsp_0903 (sid, dtime, tsp, pm10, lead) values('愛國國小', '2018年6月', 39, 23, 0.034)\n",
      "insert or replace into malo_khtsp_0903 (sid, dtime, tsp, pm10, lead) values('楠梓區清潔隊', '2018年6月', 43, 21, 0.021)\n",
      "insert or replace into malo_khtsp_0903 (sid, dtime, tsp, pm10, lead) values('路竹地政事務所', '2018年6月', 47, NULL, 0.012)\n",
      "insert or replace into malo_khtsp_0903 (sid, dtime, tsp, pm10, lead) values('鼓山圖書分館', '2018年6月', 27, 16, 0.034)\n",
      "insert or replace into malo_khtsp_0903 (sid, dtime, tsp, pm10, lead) values('衛生局中正辦公室', '2018年6月', 29, 17, 0.05)\n",
      "insert or replace into malo_khtsp_0903 (sid, dtime, tsp, pm10, lead) values('環保局環境檢驗科', '2018年6月', 38, 21, 0.02)\n",
      "insert or replace into malo_khtsp_0903 (sid, dtime, tsp, pm10, lead) values('大社工業區', '2018年7月', 67, NULL, 0.013)\n",
      "insert or replace into malo_khtsp_0903 (sid, dtime, tsp, pm10, lead) values('大寮區公所', '2018年7月', 44, NULL, 0.013)\n",
      "insert or replace into malo_khtsp_0903 (sid, dtime, tsp, pm10, lead) values('仁武國中', '2018年7月', 56, NULL, 0.02)\n",
      "insert or replace into malo_khtsp_0903 (sid, dtime, tsp, pm10, lead) values('半屏山電信局', '2018年7月', 32, 18, 0.022)\n",
      "insert or replace into malo_khtsp_0903 (sid, dtime, tsp, pm10, lead) values('左營國小', '2018年7月', 37, 16, 0.022)\n",
      "insert or replace into malo_khtsp_0903 (sid, dtime, tsp, pm10, lead) values('永安工業區', '2018年7月', 56, NULL, 0.086)\n",
      "insert or replace into malo_khtsp_0903 (sid, dtime, tsp, pm10, lead) values('西子灣中山大學', '2018年7月', 41, 20, 0.013)\n",
      "insert or replace into malo_khtsp_0903 (sid, dtime, tsp, pm10, lead) values('岡山醫院', '2018年7月', 17, NULL, 0.006)\n",
      "insert or replace into malo_khtsp_0903 (sid, dtime, tsp, pm10, lead) values('林園工業區', '2018年7月', 51, NULL, 0.028)\n",
      "insert or replace into malo_khtsp_0903 (sid, dtime, tsp, pm10, lead) values('河濱國小', '2018年7月', 42, 22, 0.028)\n",
      "insert or replace into malo_khtsp_0903 (sid, dtime, tsp, pm10, lead) values('阿蓮區公所', '2018年7月', 46, NULL, 0.02)\n",
      "insert or replace into malo_khtsp_0903 (sid, dtime, tsp, pm10, lead) values('前鎮國小', '2018年7月', 78, 37, 0.021)\n",
      "insert or replace into malo_khtsp_0903 (sid, dtime, tsp, pm10, lead) values('莊敬國小', '2018年7月', 29, 20, 0.021)\n",
      "insert or replace into malo_khtsp_0903 (sid, dtime, tsp, pm10, lead) values('愛國國小', '2018年7月', 38, 19, 0.014)\n",
      "insert or replace into malo_khtsp_0903 (sid, dtime, tsp, pm10, lead) values('楠梓區清潔隊', '2018年7月', 52, 22, 0.014)\n",
      "insert or replace into malo_khtsp_0903 (sid, dtime, tsp, pm10, lead) values('路竹地政事務所', '2018年7月', 43, NULL, 0.013)\n",
      "insert or replace into malo_khtsp_0903 (sid, dtime, tsp, pm10, lead) values('鼓山圖書分館', '2018年7月', 37, 20, 0.022)\n",
      "insert or replace into malo_khtsp_0903 (sid, dtime, tsp, pm10, lead) values('衛生局中正辦公室', '2018年7月', 47, 19, 0.005)\n",
      "insert or replace into malo_khtsp_0903 (sid, dtime, tsp, pm10, lead) values('環保局環境檢驗科', '2018年7月', 37, 18, 0.04)\n",
      "insert or replace into malo_khtsp_0903 (sid, dtime, tsp, pm10, lead) values('大社工業區', '2018年8月', 26, NULL, 0.018)\n",
      "insert or replace into malo_khtsp_0903 (sid, dtime, tsp, pm10, lead) values('大寮區公所', '2018年8月', 14, NULL, 0.01)\n",
      "insert or replace into malo_khtsp_0903 (sid, dtime, tsp, pm10, lead) values('仁武國中', '2018年8月', 19, NULL, -0.009)\n",
      "insert or replace into malo_khtsp_0903 (sid, dtime, tsp, pm10, lead) values('半屏山電信局', '2018年8月', 30, 16, 0.051)\n",
      "insert or replace into malo_khtsp_0903 (sid, dtime, tsp, pm10, lead) values('左營國小', '2018年8月', 22, 14, 0.004)\n",
      "insert or replace into malo_khtsp_0903 (sid, dtime, tsp, pm10, lead) values('永安工業區', '2018年8月', 23, NULL, 0.011)\n",
      "insert or replace into malo_khtsp_0903 (sid, dtime, tsp, pm10, lead) values('西子灣中山大學', '2018年8月', 28, 13, 0.018)\n",
      "insert or replace into malo_khtsp_0903 (sid, dtime, tsp, pm10, lead) values('岡山醫院', '2018年8月', 32, NULL, 0.011)\n",
      "insert or replace into malo_khtsp_0903 (sid, dtime, tsp, pm10, lead) values('林園工業區', '2018年8月', 25, NULL, 0.004)\n",
      "insert or replace into malo_khtsp_0903 (sid, dtime, tsp, pm10, lead) values('河濱國小', '2018年8月', 22, 11, 0.018)\n",
      "insert or replace into malo_khtsp_0903 (sid, dtime, tsp, pm10, lead) values('阿蓮區公所', '2018年8月', 18, NULL, 0.017)\n",
      "insert or replace into malo_khtsp_0903 (sid, dtime, tsp, pm10, lead) values('前鎮國小', '2018年8月', 43, 19, 0.011)\n",
      "insert or replace into malo_khtsp_0903 (sid, dtime, tsp, pm10, lead) values('莊敬國小', '2018年8月', 21, 18, 0.018)\n",
      "insert or replace into malo_khtsp_0903 (sid, dtime, tsp, pm10, lead) values('愛國國小', '2018年8月', 24, 12, 0.025)\n",
      "insert or replace into malo_khtsp_0903 (sid, dtime, tsp, pm10, lead) values('楠梓區清潔隊', '2018年8月', 21, 12, 0.019)\n",
      "insert or replace into malo_khtsp_0903 (sid, dtime, tsp, pm10, lead) values('路竹地政事務所', '2018年8月', 18, NULL, 0.017)\n",
      "insert or replace into malo_khtsp_0903 (sid, dtime, tsp, pm10, lead) values('鼓山圖書分館', '2018年8月', 18, 11, -0.016)\n",
      "insert or replace into malo_khtsp_0903 (sid, dtime, tsp, pm10, lead) values('衛生局中正辦公室', '2018年8月', 24, 13, 0.004)\n",
      "insert or replace into malo_khtsp_0903 (sid, dtime, tsp, pm10, lead) values('環保局環境檢驗科', '2018年8月', 26, 13, 0.017)\n"
     ]
    },
    {
     "name": "stdout",
     "output_type": "stream",
     "text": [
      "insert or replace into malo_khtsp_0903 (sid, dtime, tsp, pm10, lead) values('大社工業區', '2018年9月', 68, NULL, 0.034)\n",
      "insert or replace into malo_khtsp_0903 (sid, dtime, tsp, pm10, lead) values('大寮區公所', '2018年9月', 31, NULL, 0.043)\n",
      "insert or replace into malo_khtsp_0903 (sid, dtime, tsp, pm10, lead) values('仁武國中', '2018年9月', 46, NULL, 0.006)\n",
      "insert or replace into malo_khtsp_0903 (sid, dtime, tsp, pm10, lead) values('半屏山電信局', '2018年9月', 26, 15, 0.013)\n",
      "insert or replace into malo_khtsp_0903 (sid, dtime, tsp, pm10, lead) values('左營國小', '2018年9月', 32, 22, 0.02)\n",
      "insert or replace into malo_khtsp_0903 (sid, dtime, tsp, pm10, lead) values('永安工業區', '2018年9月', 46, NULL, 0.013)\n",
      "insert or replace into malo_khtsp_0903 (sid, dtime, tsp, pm10, lead) values('西子灣中山大學', '2018年9月', 24, 12, 0.013)\n",
      "insert or replace into malo_khtsp_0903 (sid, dtime, tsp, pm10, lead) values('岡山醫院', '2018年9月', 64, NULL, 0.02)\n",
      "insert or replace into malo_khtsp_0903 (sid, dtime, tsp, pm10, lead) values('林園工業區', '2018年9月', 53, NULL, 0.048)\n",
      "insert or replace into malo_khtsp_0903 (sid, dtime, tsp, pm10, lead) values('河濱國小', '2018年9月', 27, 16, 0.006)\n",
      "insert or replace into malo_khtsp_0903 (sid, dtime, tsp, pm10, lead) values('阿蓮區公所', '2018年9月', 31, NULL, 0.013)\n",
      "insert or replace into malo_khtsp_0903 (sid, dtime, tsp, pm10, lead) values('前鎮國小', '2018年9月', 70, 32, 0.04)\n",
      "insert or replace into malo_khtsp_0903 (sid, dtime, tsp, pm10, lead) values('莊敬國小', '2018年9月', 22, 17, 0.015)\n",
      "insert or replace into malo_khtsp_0903 (sid, dtime, tsp, pm10, lead) values('愛國國小', '2018年9月', 31, 16, 0.02)\n",
      "insert or replace into malo_khtsp_0903 (sid, dtime, tsp, pm10, lead) values('楠梓區清潔隊', '2018年9月', 43, 20, 0.021)\n",
      "insert or replace into malo_khtsp_0903 (sid, dtime, tsp, pm10, lead) values('路竹地政事務所', '2018年9月', 46, NULL, 0.02)\n",
      "insert or replace into malo_khtsp_0903 (sid, dtime, tsp, pm10, lead) values('鼓山圖書分館', '2018年9月', 19, 12, 0.006)\n",
      "insert or replace into malo_khtsp_0903 (sid, dtime, tsp, pm10, lead) values('衛生局中正辦公室', '2018年9月', 25, 11, 0.005)\n",
      "insert or replace into malo_khtsp_0903 (sid, dtime, tsp, pm10, lead) values('環保局環境檢驗科', '2018年9月', 30, 13, 0.006)\n",
      "insert or replace into malo_khtsp_0903 (sid, dtime, tsp, pm10, lead) values('大社工業區', '2018年10月', 101, NULL, 0.05)\n",
      "insert or replace into malo_khtsp_0903 (sid, dtime, tsp, pm10, lead) values('大寮區公所', '2018年10月', 79, NULL, 0.041)\n",
      "insert or replace into malo_khtsp_0903 (sid, dtime, tsp, pm10, lead) values('仁武國中', '2018年10月', 91, NULL, 0.042)\n",
      "insert or replace into malo_khtsp_0903 (sid, dtime, tsp, pm10, lead) values('半屏山電信局', '2018年10月', 130, 68, 0.073)\n",
      "insert or replace into malo_khtsp_0903 (sid, dtime, tsp, pm10, lead) values('左營國小', '2018年10月', 89, 51, 0.024)\n",
      "insert or replace into malo_khtsp_0903 (sid, dtime, tsp, pm10, lead) values('永安工業區', '2018年10月', 101, NULL, 0.072)\n",
      "insert or replace into malo_khtsp_0903 (sid, dtime, tsp, pm10, lead) values('西子灣中山大學', '2018年10月', 103, 51, 0.051)\n",
      "insert or replace into malo_khtsp_0903 (sid, dtime, tsp, pm10, lead) values('岡山醫院', '2018年10月', 104, NULL, 0.074)\n",
      "insert or replace into malo_khtsp_0903 (sid, dtime, tsp, pm10, lead) values('林園工業區', '2018年10月', 86, NULL, 0.054)\n",
      "insert or replace into malo_khtsp_0903 (sid, dtime, tsp, pm10, lead) values('河濱國小', '2018年10月', 100, 60, 0.058)\n",
      "insert or replace into malo_khtsp_0903 (sid, dtime, tsp, pm10, lead) values('阿蓮區公所', '2018年10月', 74, NULL, 0.047)\n",
      "insert or replace into malo_khtsp_0903 (sid, dtime, tsp, pm10, lead) values('前鎮國小', '2018年10月', 110, 62, 0.07)\n",
      "insert or replace into malo_khtsp_0903 (sid, dtime, tsp, pm10, lead) values('莊敬國小', '2018年10月', 98, 69, 0.076)\n",
      "insert or replace into malo_khtsp_0903 (sid, dtime, tsp, pm10, lead) values('愛國國小', '2018年10月', 100, 47, 0.049)\n",
      "insert or replace into malo_khtsp_0903 (sid, dtime, tsp, pm10, lead) values('楠梓區清潔隊', '2018年10月', 100, 35, 0.016)\n",
      "insert or replace into malo_khtsp_0903 (sid, dtime, tsp, pm10, lead) values('路竹地政事務所', '2018年10月', 99, NULL, 0.05)\n",
      "insert or replace into malo_khtsp_0903 (sid, dtime, tsp, pm10, lead) values('鼓山圖書分館', '2018年10月', 91, 52, 0.078)\n",
      "insert or replace into malo_khtsp_0903 (sid, dtime, tsp, pm10, lead) values('衛生局中正辦公室', '2018年10月', 101, 51, 0.061)\n",
      "insert or replace into malo_khtsp_0903 (sid, dtime, tsp, pm10, lead) values('環保局環境檢驗科', '2018年10月', 104, 51, 0.071)\n",
      "insert or replace into malo_khtsp_0903 (sid, dtime, tsp, pm10, lead) values('大社工業區', '2018年11月', 103, NULL, 0.029)\n",
      "insert or replace into malo_khtsp_0903 (sid, dtime, tsp, pm10, lead) values('大寮區公所', '2018年11月', 98, NULL, 0.016)\n",
      "insert or replace into malo_khtsp_0903 (sid, dtime, tsp, pm10, lead) values('仁武國中', '2018年11月', 115, NULL, 0.1)\n",
      "insert or replace into malo_khtsp_0903 (sid, dtime, tsp, pm10, lead) values('半屏山電信局', '2018年11月', 104, 53, 0.036)\n",
      "insert or replace into malo_khtsp_0903 (sid, dtime, tsp, pm10, lead) values('左營國小', '2018年11月', 65, 38, 0.035)\n",
      "insert or replace into malo_khtsp_0903 (sid, dtime, tsp, pm10, lead) values('永安工業區', '2018年11月', 93, NULL, 0.04)\n",
      "insert or replace into malo_khtsp_0903 (sid, dtime, tsp, pm10, lead) values('西子灣中山大學', '2018年11月', 77, 35, 0.02)\n",
      "insert or replace into malo_khtsp_0903 (sid, dtime, tsp, pm10, lead) values('岡山醫院', '2018年11月', 106, NULL, 0.016)\n",
      "insert or replace into malo_khtsp_0903 (sid, dtime, tsp, pm10, lead) values('林園工業區', '2018年11月', 98, NULL, 0.023)\n",
      "insert or replace into malo_khtsp_0903 (sid, dtime, tsp, pm10, lead) values('河濱國小', '2018年11月', 84, 42, 0.022)\n",
      "insert or replace into malo_khtsp_0903 (sid, dtime, tsp, pm10, lead) values('阿蓮區公所', '2018年11月', 80, NULL, 0.015)\n",
      "insert or replace into malo_khtsp_0903 (sid, dtime, tsp, pm10, lead) values('前鎮國小', '2018年11月', 112, 58, 0.034)\n",
      "insert or replace into malo_khtsp_0903 (sid, dtime, tsp, pm10, lead) values('莊敬國小', '2018年11月', 77, 52, 0.03)\n",
      "insert or replace into malo_khtsp_0903 (sid, dtime, tsp, pm10, lead) values('勞工博物館', '2018年11月', 77, 36, 0.042)\n",
      "insert or replace into malo_khtsp_0903 (sid, dtime, tsp, pm10, lead) values('愛國國小', '2018年11月', 110, 44, 0.023)\n",
      "insert or replace into malo_khtsp_0903 (sid, dtime, tsp, pm10, lead) values('楠梓區清潔隊', '2018年11月', 103, 40, 0.016)\n",
      "insert or replace into malo_khtsp_0903 (sid, dtime, tsp, pm10, lead) values('路竹地政事務所', '2018年11月', 89, NULL, 0.027)\n",
      "insert or replace into malo_khtsp_0903 (sid, dtime, tsp, pm10, lead) values('鼓山圖書分館', '2018年11月', 66, 38, 0.041)\n",
      "insert or replace into malo_khtsp_0903 (sid, dtime, tsp, pm10, lead) values('環保局環境檢驗科', '2018年11月', 78, 36, 0.028)\n",
      "insert or replace into malo_khtsp_0903 (sid, dtime, tsp, pm10, lead) values('大社工業區', '2018年12月', 147, NULL, 0.032)\n",
      "insert or replace into malo_khtsp_0903 (sid, dtime, tsp, pm10, lead) values('大寮區公所', '2018年12月', 124, NULL, 0.012)\n",
      "insert or replace into malo_khtsp_0903 (sid, dtime, tsp, pm10, lead) values('仁武國中', '2018年12月', 134, NULL, 0.018)\n",
      "insert or replace into malo_khtsp_0903 (sid, dtime, tsp, pm10, lead) values('半屏山電信局', '2018年12月', 119, 69, 0.044)\n",
      "insert or replace into malo_khtsp_0903 (sid, dtime, tsp, pm10, lead) values('左營國小', '2018年12月', 90, 52, 0.019)\n",
      "insert or replace into malo_khtsp_0903 (sid, dtime, tsp, pm10, lead) values('永安工業區', '2018年12月', 111, NULL, 0.018)\n",
      "insert or replace into malo_khtsp_0903 (sid, dtime, tsp, pm10, lead) values('西子灣中山大學', '2018年12月', 87, 48, 0.011)\n",
      "insert or replace into malo_khtsp_0903 (sid, dtime, tsp, pm10, lead) values('岡山醫院', '2018年12月', 121, NULL, 0.011)\n",
      "insert or replace into malo_khtsp_0903 (sid, dtime, tsp, pm10, lead) values('林園工業區', '2018年12月', 143, NULL, 0.039)\n",
      "insert or replace into malo_khtsp_0903 (sid, dtime, tsp, pm10, lead) values('河濱國小', '2018年12月', 97, 57, 0.005)\n",
      "insert or replace into malo_khtsp_0903 (sid, dtime, tsp, pm10, lead) values('阿蓮區公所', '2018年12月', 102, NULL, 0.011)\n",
      "insert or replace into malo_khtsp_0903 (sid, dtime, tsp, pm10, lead) values('前鎮國小', '2018年12月', 111, 68, 0.043)\n",
      "insert or replace into malo_khtsp_0903 (sid, dtime, tsp, pm10, lead) values('莊敬國小', '2018年12月', 110, 83, 0.031)\n",
      "insert or replace into malo_khtsp_0903 (sid, dtime, tsp, pm10, lead) values('愛國國小', '2018年12月', 100, 49, 0.03)\n",
      "insert or replace into malo_khtsp_0903 (sid, dtime, tsp, pm10, lead) values('楠梓區清潔隊', '2018年12月', 84, 52, 0.001)\n",
      "insert or replace into malo_khtsp_0903 (sid, dtime, tsp, pm10, lead) values('路竹地政事務所', '2018年12月', 112, NULL, 0.012)\n",
      "insert or replace into malo_khtsp_0903 (sid, dtime, tsp, pm10, lead) values('鼓山圖書分館', '2018年12月', 80, 49, 0.018)\n",
      "insert or replace into malo_khtsp_0903 (sid, dtime, tsp, pm10, lead) values('衛生局中正辦公室', '2018年12月', 93, 46, 0.012)\n",
      "insert or replace into malo_khtsp_0903 (sid, dtime, tsp, pm10, lead) values('環保局環境檢驗科', '2018年12月', 97, 50, 0.03)\n"
     ]
    }
   ],
   "source": [
    "# 做upsert操作\n",
    "import datetime\n",
    "import random\n",
    "\n",
    "for item in data_list[1:]:\n",
    "    sid = item[0]#['Name']\n",
    "    dtime = item[1]#['Date']\n",
    "    tsp = item[2]#['TSP']\n",
    "    if tsp=='':\n",
    "        tsp = 'NULL'\n",
    "    pm10 = item[3]#['PM10']\n",
    "    if pm10=='':\n",
    "        pm10 = 'NULL'\n",
    "    lead = item[7]#['Lead']\n",
    "    if lead=='':\n",
    "        lead = 'NULL'\n",
    "    sql_cmd_str = \"insert or replace into %s (sid, dtime, tsp, pm10, lead) values('%s', '%s', %s, %s, %s)\" %(\n",
    "        table_name, sid, dtime, tsp, pm10, lead)\n",
    "    #sql_cmd_str = sql_cmd_str + (\" ON DUPLICATE KEY UPDATE tsp=%s, pm10=%s, lead=%s\" %(tsp, pm10, lead))\n",
    "    resultProxy=my_db.execute(sql_cmd_str)\n",
    "    print(sql_cmd_str)\n",
    "    "
   ]
  },
  {
   "cell_type": "code",
   "execution_count": 26,
   "metadata": {},
   "outputs": [
    {
     "name": "stdout",
     "output_type": "stream",
     "text": [
      "-- data --\n",
      "[('左營國小', '2018年10月', 89.0, 51.0, 0.024), ('左營國小', '2018年11月', 65.0, 38.0, 0.035), ('左營國小', '2018年12月', 90.0, 52.0, 0.019), ('左營國小', '2018年1月', 98.0, 64.0, 0.006), ('左營國小', '2018年2月', 59.0, 32.0, 0.017), ('左營國小', '2018年3月', 54.0, 36.0, 0.068), ('左營國小', '2018年4月', 61.0, 33.0, 0.028), ('左營國小', '2018年5月', 49.0, 38.0, 0.047), ('左營國小', '2018年6月', 22.0, 16.0, 0.034), ('左營國小', '2018年7月', 37.0, 16.0, 0.022), ('左營國小', '2018年8月', 22.0, 14.0, 0.004), ('左營國小', '2018年9月', 32.0, 22.0, 0.02)]\n"
     ]
    }
   ],
   "source": [
    "# 找出某個站的資料: where\n",
    "sid = '左營國小'\n",
    "sql_cmd_str = \"select * from %s where sid='%s'\" %(table_name, sid)\n",
    "resultProxy=my_db.execute(sql_cmd_str)\n",
    "data = resultProxy.fetchall()\n",
    "print('-- data --')\n",
    "print(data)\n"
   ]
  },
  {
   "cell_type": "code",
   "execution_count": 27,
   "metadata": {},
   "outputs": [
    {
     "name": "stdout",
     "output_type": "stream",
     "text": [
      "-- data --\n",
      "[('左營國小', '2018年9月', 32.0, 22.0, 0.02), ('左營國小', '2018年8月', 22.0, 14.0, 0.004), ('左營國小', '2018年7月', 37.0, 16.0, 0.022), ('左營國小', '2018年6月', 22.0, 16.0, 0.034), ('左營國小', '2018年5月', 49.0, 38.0, 0.047), ('左營國小', '2018年4月', 61.0, 33.0, 0.028), ('左營國小', '2018年3月', 54.0, 36.0, 0.068), ('左營國小', '2018年2月', 59.0, 32.0, 0.017), ('左營國小', '2018年1月', 98.0, 64.0, 0.006), ('左營國小', '2018年12月', 90.0, 52.0, 0.019), ('左營國小', '2018年11月', 65.0, 38.0, 0.035), ('左營國小', '2018年10月', 89.0, 51.0, 0.024)]\n"
     ]
    }
   ],
   "source": [
    "# 找出某個站的資料, 並排序: where, order\n",
    "sid = '左營國小'\n",
    "sql_cmd_str = \"select * from %s where sid='%s' order by dtime DESC\" %(table_name, sid)\n",
    "resultProxy=my_db.execute(sql_cmd_str)\n",
    "data = resultProxy.fetchall()\n",
    "print('-- data --')\n",
    "print(data)\n"
   ]
  },
  {
   "cell_type": "code",
   "execution_count": 28,
   "metadata": {},
   "outputs": [
    {
     "name": "stdout",
     "output_type": "stream",
     "text": [
      "-- data --\n",
      "[('左營國小', '2018年10月', 89.0, 51.0, 0.024), ('左營國小', '2018年11月', 65.0, 38.0, 0.035), ('左營國小', '2018年12月', 90.0, 52.0, 0.019), ('左營國小', '2018年1月', 98.0, 64.0, 0.006), ('左營國小', '2018年2月', 59.0, 32.0, 0.017), ('左營國小', '2018年3月', 54.0, 36.0, 0.068), ('左營國小', '2018年4月', 61.0, 33.0, 0.028), ('左營國小', '2018年5月', 49.0, 38.0, 0.047), ('左營國小', '2018年6月', 22.0, 16.0, 0.034), ('左營國小', '2018年7月', 37.0, 16.0, 0.022), ('左營國小', '2018年8月', 22.0, 14.0, 0.004), ('左營國小', '2018年9月', 32.0, 22.0, 0.02)]\n"
     ]
    }
   ],
   "source": [
    "# 找出某個站的資料, 並排序: where, order\n",
    "sid = '左營國小'\n",
    "sql_cmd_str = \"select * from %s where sid='%s' order by dtime ASC\" %(table_name, sid)\n",
    "resultProxy=my_db.execute(sql_cmd_str)\n",
    "data = resultProxy.fetchall()\n",
    "print('-- data --')\n",
    "print(data)\n"
   ]
  },
  {
   "cell_type": "markdown",
   "metadata": {},
   "source": [
    "----\n",
    "### 為何排序出了問題!?"
   ]
  },
  {
   "cell_type": "code",
   "execution_count": 29,
   "metadata": {},
   "outputs": [],
   "source": [
    "# 先把資料都刪掉: DELETE FROM table_name\n",
    "sql_cmd_str = \"DELETE FROM %s\" %(table_name)\n",
    "resultProxy=my_db.execute(sql_cmd_str)\n"
   ]
  },
  {
   "cell_type": "code",
   "execution_count": 30,
   "metadata": {},
   "outputs": [
    {
     "data": {
      "text/plain": [
       "[]"
      ]
     },
     "execution_count": 30,
     "metadata": {},
     "output_type": "execute_result"
    }
   ],
   "source": [
    "# 確認資料\n",
    "sql_cmd_str = \"select * from %s\" %(table_name)\n",
    "resultProxy=my_db.execute(sql_cmd_str)\n",
    "data = resultProxy.fetchall()\n",
    "data"
   ]
  },
  {
   "cell_type": "code",
   "execution_count": 32,
   "metadata": {
    "tags": []
   },
   "outputs": [
    {
     "name": "stdout",
     "output_type": "stream",
     "text": [
      "insert or replace into malo_khtsp_0903 (sid, dtime, tsp, pm10, lead) values('大社工業區', '2018-01', 93, NULL, 0.029)\n",
      "insert or replace into malo_khtsp_0903 (sid, dtime, tsp, pm10, lead) values('大寮區公所', '2018-01', 79, NULL, 0.042)\n",
      "insert or replace into malo_khtsp_0903 (sid, dtime, tsp, pm10, lead) values('大樹監測站', '2018-01', 61, NULL, 0.02)\n",
      "insert or replace into malo_khtsp_0903 (sid, dtime, tsp, pm10, lead) values('仁武國中', '2018-01', 79, NULL, 0.058)\n",
      "insert or replace into malo_khtsp_0903 (sid, dtime, tsp, pm10, lead) values('半屏山電信局', '2018-01', 104, 67, 0.014)\n",
      "insert or replace into malo_khtsp_0903 (sid, dtime, tsp, pm10, lead) values('左營國小', '2018-01', 98, 64, 0.006)\n",
      "insert or replace into malo_khtsp_0903 (sid, dtime, tsp, pm10, lead) values('永安工業區', '2018-01', 83, NULL, 0.052)\n",
      "insert or replace into malo_khtsp_0903 (sid, dtime, tsp, pm10, lead) values('西子灣中山大學', '2018-01', 84, 60, 0.043)\n",
      "insert or replace into malo_khtsp_0903 (sid, dtime, tsp, pm10, lead) values('岡山醫院', '2018-01', 102, NULL, 0.076)\n",
      "insert or replace into malo_khtsp_0903 (sid, dtime, tsp, pm10, lead) values('林園工業區', '2018-01', 90, NULL, 0.042)\n",
      "insert or replace into malo_khtsp_0903 (sid, dtime, tsp, pm10, lead) values('河濱國小', '2018-01', 55, 51, 0.026)\n",
      "insert or replace into malo_khtsp_0903 (sid, dtime, tsp, pm10, lead) values('阿蓮區公所', '2018-01', 65, NULL, 0.043)\n",
      "insert or replace into malo_khtsp_0903 (sid, dtime, tsp, pm10, lead) values('前鎮國小', '2018-01', 109, 72, 0.029)\n",
      "insert or replace into malo_khtsp_0903 (sid, dtime, tsp, pm10, lead) values('莊敬國小', '2018-01', 87, 70, 0.006)\n",
      "insert or replace into malo_khtsp_0903 (sid, dtime, tsp, pm10, lead) values('愛國國小', '2018-01', 97, 59, 0.014)\n",
      "insert or replace into malo_khtsp_0903 (sid, dtime, tsp, pm10, lead) values('楠梓區清潔隊', '2018-01', 84, 45, 0.021)\n",
      "insert or replace into malo_khtsp_0903 (sid, dtime, tsp, pm10, lead) values('路竹地政事務所', '2018-01', 84, NULL, 0.085)\n",
      "insert or replace into malo_khtsp_0903 (sid, dtime, tsp, pm10, lead) values('鼓山圖書分館', '2018-01', 94, 68, 0.014)\n",
      "insert or replace into malo_khtsp_0903 (sid, dtime, tsp, pm10, lead) values('衛生局中正辦公室', '2018-01', 55, 45, 0.02)\n",
      "insert or replace into malo_khtsp_0903 (sid, dtime, tsp, pm10, lead) values('環保局環境檢驗科', '2018-01', 92, 58, 0.02)\n",
      "insert or replace into malo_khtsp_0903 (sid, dtime, tsp, pm10, lead) values('大社工業區', '2018-02', 102, NULL, 0.055)\n",
      "insert or replace into malo_khtsp_0903 (sid, dtime, tsp, pm10, lead) values('大寮區公所', '2018-02', 91, NULL, 0.018)\n",
      "insert or replace into malo_khtsp_0903 (sid, dtime, tsp, pm10, lead) values('大樹監測站', '2018-02', 65, NULL, 0.015)\n",
      "insert or replace into malo_khtsp_0903 (sid, dtime, tsp, pm10, lead) values('仁武國中', '2018-02', 86, NULL, 0.033)\n",
      "insert or replace into malo_khtsp_0903 (sid, dtime, tsp, pm10, lead) values('半屏山電信局', '2018-02', 62, 38, 0.034)\n",
      "insert or replace into malo_khtsp_0903 (sid, dtime, tsp, pm10, lead) values('左營國小', '2018-02', 59, 32, 0.017)\n",
      "insert or replace into malo_khtsp_0903 (sid, dtime, tsp, pm10, lead) values('永安工業區', '2018-02', 83, NULL, 0.025)\n",
      "insert or replace into malo_khtsp_0903 (sid, dtime, tsp, pm10, lead) values('西子灣中山大學', '2018-02', 48, 28, 0.002)\n",
      "insert or replace into malo_khtsp_0903 (sid, dtime, tsp, pm10, lead) values('岡山醫院', '2018-02', 84, NULL, 0.017)\n",
      "insert or replace into malo_khtsp_0903 (sid, dtime, tsp, pm10, lead) values('林園工業區', '2018-02', 94, NULL, 0.002)\n",
      "insert or replace into malo_khtsp_0903 (sid, dtime, tsp, pm10, lead) values('河濱國小', '2018-02', 67, 52, 0.002)\n",
      "insert or replace into malo_khtsp_0903 (sid, dtime, tsp, pm10, lead) values('阿蓮區公所', '2018-02', 69, NULL, 0.024)\n",
      "insert or replace into malo_khtsp_0903 (sid, dtime, tsp, pm10, lead) values('前鎮國小', '2018-02', 86, 54, 0.017)\n",
      "insert or replace into malo_khtsp_0903 (sid, dtime, tsp, pm10, lead) values('莊敬國小', '2018-02', 53, 42, 0.034)\n",
      "insert or replace into malo_khtsp_0903 (sid, dtime, tsp, pm10, lead) values('愛國國小', '2018-02', 70, 46, 0.024)\n",
      "insert or replace into malo_khtsp_0903 (sid, dtime, tsp, pm10, lead) values('楠梓區清潔隊', '2018-02', 93, 54, 0.018)\n",
      "insert or replace into malo_khtsp_0903 (sid, dtime, tsp, pm10, lead) values('路竹地政事務所', '2018-02', 84, NULL, 0.031)\n",
      "insert or replace into malo_khtsp_0903 (sid, dtime, tsp, pm10, lead) values('鼓山圖書分館', '2018-02', 63, 45, 0.002)\n",
      "insert or replace into malo_khtsp_0903 (sid, dtime, tsp, pm10, lead) values('衛生局中正辦公室', '2018-02', 70, 38, 0.002)\n",
      "insert or replace into malo_khtsp_0903 (sid, dtime, tsp, pm10, lead) values('環保局環境檢驗科', '2018-02', 76, 46, 0.017)\n",
      "insert or replace into malo_khtsp_0903 (sid, dtime, tsp, pm10, lead) values('大社工業區', '2018-03', 108, NULL, 0.062)\n",
      "insert or replace into malo_khtsp_0903 (sid, dtime, tsp, pm10, lead) values('大寮區公所', '2018-03', 92, NULL, 0.046)\n",
      "insert or replace into malo_khtsp_0903 (sid, dtime, tsp, pm10, lead) values('大樹監測站', '2018-03', 79, NULL, 0.046)\n",
      "insert or replace into malo_khtsp_0903 (sid, dtime, tsp, pm10, lead) values('仁武國中', '2018-03', 108, NULL, 0.052)\n",
      "insert or replace into malo_khtsp_0903 (sid, dtime, tsp, pm10, lead) values('半屏山電信局', '2018-03', 69, 46, 0.048)\n",
      "insert or replace into malo_khtsp_0903 (sid, dtime, tsp, pm10, lead) values('左營國小', '2018-03', 54, 36, 0.068)\n",
      "insert or replace into malo_khtsp_0903 (sid, dtime, tsp, pm10, lead) values('永安工業區', '2018-03', 101, NULL, 0.081)\n",
      "insert or replace into malo_khtsp_0903 (sid, dtime, tsp, pm10, lead) values('西子灣中山大學', '2018-03', 55, 36, 0.061)\n",
      "insert or replace into malo_khtsp_0903 (sid, dtime, tsp, pm10, lead) values('岡山醫院', '2018-03', 120, NULL, 0.05)\n",
      "insert or replace into malo_khtsp_0903 (sid, dtime, tsp, pm10, lead) values('林園工業區', '2018-03', 94, NULL, 0.05)\n",
      "insert or replace into malo_khtsp_0903 (sid, dtime, tsp, pm10, lead) values('河濱國小', '2018-03', 56, 42, 0.095)\n",
      "insert or replace into malo_khtsp_0903 (sid, dtime, tsp, pm10, lead) values('阿蓮區公所', '2018-03', 80, NULL, 0.042)\n",
      "insert or replace into malo_khtsp_0903 (sid, dtime, tsp, pm10, lead) values('前鎮國小', '2018-03', 98, 48, 0.082)\n",
      "insert or replace into malo_khtsp_0903 (sid, dtime, tsp, pm10, lead) values('莊敬國小', '2018-03', 53, 50, 0.064)\n",
      "insert or replace into malo_khtsp_0903 (sid, dtime, tsp, pm10, lead) values('愛國國小', '2018-03', 74, 44, 0.067)\n",
      "insert or replace into malo_khtsp_0903 (sid, dtime, tsp, pm10, lead) values('楠梓區清潔隊', '2018-03', 106, 54, 0.077)\n",
      "insert or replace into malo_khtsp_0903 (sid, dtime, tsp, pm10, lead) values('路竹地政事務所', '2018-03', 103, NULL, 0.065)\n",
      "insert or replace into malo_khtsp_0903 (sid, dtime, tsp, pm10, lead) values('鼓山圖書分館', '2018-03', 58, 40, 0.078)\n",
      "insert or replace into malo_khtsp_0903 (sid, dtime, tsp, pm10, lead) values('衛生局中正辦公室', '2018-03', 61, 39, 0.078)\n",
      "insert or replace into malo_khtsp_0903 (sid, dtime, tsp, pm10, lead) values('環保局環境檢驗科', '2018-03', 59, 38, 0.066)\n",
      "insert or replace into malo_khtsp_0903 (sid, dtime, tsp, pm10, lead) values('大社工業區', '2018-04', 79, NULL, 0.036)\n",
      "insert or replace into malo_khtsp_0903 (sid, dtime, tsp, pm10, lead) values('大寮區公所', '2018-04', 75, NULL, 0.062)\n",
      "insert or replace into malo_khtsp_0903 (sid, dtime, tsp, pm10, lead) values('大樹監測站', '2018-04', 63, NULL, 0.056)\n",
      "insert or replace into malo_khtsp_0903 (sid, dtime, tsp, pm10, lead) values('仁武國中', '2018-04', 78, NULL, 0.035)\n",
      "insert or replace into malo_khtsp_0903 (sid, dtime, tsp, pm10, lead) values('半屏山電信局', '2018-04', 72, 52, 0.044)\n",
      "insert or replace into malo_khtsp_0903 (sid, dtime, tsp, pm10, lead) values('左營國小', '2018-04', 61, 33, 0.028)\n",
      "insert or replace into malo_khtsp_0903 (sid, dtime, tsp, pm10, lead) values('永安工業區', '2018-04', 84, NULL, 0.116)\n",
      "insert or replace into malo_khtsp_0903 (sid, dtime, tsp, pm10, lead) values('西子灣中山大學', '2018-04', 51, 30, 0.002)\n",
      "insert or replace into malo_khtsp_0903 (sid, dtime, tsp, pm10, lead) values('岡山醫院', '2018-04', 82, NULL, 0.062)\n",
      "insert or replace into malo_khtsp_0903 (sid, dtime, tsp, pm10, lead) values('林園工業區', '2018-04', 78, NULL, 0.033)\n",
      "insert or replace into malo_khtsp_0903 (sid, dtime, tsp, pm10, lead) values('河濱國小', '2018-04', 59, 40, 0.054)\n",
      "insert or replace into malo_khtsp_0903 (sid, dtime, tsp, pm10, lead) values('阿蓮區公所', '2018-04', 63, NULL, 0.037)\n",
      "insert or replace into malo_khtsp_0903 (sid, dtime, tsp, pm10, lead) values('前鎮國小', '2018-04', 82, 48, 0.067)\n",
      "insert or replace into malo_khtsp_0903 (sid, dtime, tsp, pm10, lead) values('莊敬國小', '2018-04', 67, 50, 0.069)\n",
      "insert or replace into malo_khtsp_0903 (sid, dtime, tsp, pm10, lead) values('愛國國小', '2018-04', 78, 41, 0.034)\n",
      "insert or replace into malo_khtsp_0903 (sid, dtime, tsp, pm10, lead) values('楠梓區清潔隊', '2018-04', 74, 37, 0.037)\n"
     ]
    },
    {
     "name": "stdout",
     "output_type": "stream",
     "text": [
      "insert or replace into malo_khtsp_0903 (sid, dtime, tsp, pm10, lead) values('路竹地政事務所', '2018-04', 66, NULL, 0.055)\n",
      "insert or replace into malo_khtsp_0903 (sid, dtime, tsp, pm10, lead) values('鼓山圖書分館', '2018-04', 50, 31, 0.023)\n",
      "insert or replace into malo_khtsp_0903 (sid, dtime, tsp, pm10, lead) values('衛生局中正辦公室', '2018-04', 60, 31, 0.057)\n",
      "insert or replace into malo_khtsp_0903 (sid, dtime, tsp, pm10, lead) values('環保局環境檢驗科', '2018-04', 74, 38, 0.044)\n",
      "insert or replace into malo_khtsp_0903 (sid, dtime, tsp, pm10, lead) values('大社工業區', '2018-05', 55, NULL, 0.036)\n",
      "insert or replace into malo_khtsp_0903 (sid, dtime, tsp, pm10, lead) values('大寮區公所', '2018-05', 43, NULL, 0.021)\n",
      "insert or replace into malo_khtsp_0903 (sid, dtime, tsp, pm10, lead) values('大樹監測站', '2018-05', 37, NULL, 0.05)\n",
      "insert or replace into malo_khtsp_0903 (sid, dtime, tsp, pm10, lead) values('仁武國中', '2018-05', 44, NULL, 0.058)\n",
      "insert or replace into malo_khtsp_0903 (sid, dtime, tsp, pm10, lead) values('半屏山電信局', '2018-05', 40, 23, 0.004)\n",
      "insert or replace into malo_khtsp_0903 (sid, dtime, tsp, pm10, lead) values('左營國小', '2018-05', 49, 38, 0.047)\n",
      "insert or replace into malo_khtsp_0903 (sid, dtime, tsp, pm10, lead) values('永安工業區', '2018-05', 52, NULL, 0.031)\n",
      "insert or replace into malo_khtsp_0903 (sid, dtime, tsp, pm10, lead) values('西子灣中山大學', '2018-05', 22, 12, 0.021)\n",
      "insert or replace into malo_khtsp_0903 (sid, dtime, tsp, pm10, lead) values('岡山醫院', '2018-05', 39, NULL, 0.03)\n",
      "insert or replace into malo_khtsp_0903 (sid, dtime, tsp, pm10, lead) values('林園工業區', '2018-05', 36, NULL, 0.016)\n",
      "insert or replace into malo_khtsp_0903 (sid, dtime, tsp, pm10, lead) values('河濱國小', '2018-05', 34, 21, 0.027)\n",
      "insert or replace into malo_khtsp_0903 (sid, dtime, tsp, pm10, lead) values('阿蓮區公所', '2018-05', 35, NULL, 0.014)\n",
      "insert or replace into malo_khtsp_0903 (sid, dtime, tsp, pm10, lead) values('前鎮國小', '2018-05', 49, 27, 0.055)\n",
      "insert or replace into malo_khtsp_0903 (sid, dtime, tsp, pm10, lead) values('莊敬國小', '2018-05', 35, 25, 0.011)\n",
      "insert or replace into malo_khtsp_0903 (sid, dtime, tsp, pm10, lead) values('愛國國小', '2018-05', 35, 19, 0.025)\n",
      "insert or replace into malo_khtsp_0903 (sid, dtime, tsp, pm10, lead) values('楠梓區清潔隊', '2018-05', 40, 19, 0.017)\n",
      "insert or replace into malo_khtsp_0903 (sid, dtime, tsp, pm10, lead) values('路竹地政事務所', '2018-05', 41, NULL, 0.049)\n",
      "insert or replace into malo_khtsp_0903 (sid, dtime, tsp, pm10, lead) values('鼓山圖書分館', '2018-05', 26, 17, 0.004)\n",
      "insert or replace into malo_khtsp_0903 (sid, dtime, tsp, pm10, lead) values('衛生局中正辦公室', '2018-05', 34, 18, 0.011)\n",
      "insert or replace into malo_khtsp_0903 (sid, dtime, tsp, pm10, lead) values('環保局環境檢驗科', '2018-05', 44, 23, 0.029)\n",
      "insert or replace into malo_khtsp_0903 (sid, dtime, tsp, pm10, lead) values('大社工業區', '2018-06', 58, NULL, 0.042)\n",
      "insert or replace into malo_khtsp_0903 (sid, dtime, tsp, pm10, lead) values('大寮區公所', '2018-06', 41, NULL, 0.006)\n",
      "insert or replace into malo_khtsp_0903 (sid, dtime, tsp, pm10, lead) values('大樹監測站', '2018-06', 37, NULL, 0.019)\n",
      "insert or replace into malo_khtsp_0903 (sid, dtime, tsp, pm10, lead) values('仁武國中', '2018-06', 48, NULL, 0.034)\n",
      "insert or replace into malo_khtsp_0903 (sid, dtime, tsp, pm10, lead) values('半屏山電信局', '2018-06', 37, 22, 0.021)\n",
      "insert or replace into malo_khtsp_0903 (sid, dtime, tsp, pm10, lead) values('左營國小', '2018-06', 22, 16, 0.034)\n",
      "insert or replace into malo_khtsp_0903 (sid, dtime, tsp, pm10, lead) values('永安工業區', '2018-06', 45, NULL, 0.014)\n",
      "insert or replace into malo_khtsp_0903 (sid, dtime, tsp, pm10, lead) values('西子灣中山大學', '2018-06', 35, 21, 0.013)\n",
      "insert or replace into malo_khtsp_0903 (sid, dtime, tsp, pm10, lead) values('岡山醫院', '2018-06', 20, NULL, 0.014)\n",
      "insert or replace into malo_khtsp_0903 (sid, dtime, tsp, pm10, lead) values('林園工業區', '2018-06', 48, NULL, 0.047)\n",
      "insert or replace into malo_khtsp_0903 (sid, dtime, tsp, pm10, lead) values('河濱國小', '2018-06', 29, 17, 0.021)\n",
      "insert or replace into malo_khtsp_0903 (sid, dtime, tsp, pm10, lead) values('阿蓮區公所', '2018-06', 33, NULL, 0.006)\n",
      "insert or replace into malo_khtsp_0903 (sid, dtime, tsp, pm10, lead) values('前鎮國小', '2018-06', 79, 37, 0.021)\n",
      "insert or replace into malo_khtsp_0903 (sid, dtime, tsp, pm10, lead) values('莊敬國小', '2018-06', 33, 23, 0.054)\n",
      "insert or replace into malo_khtsp_0903 (sid, dtime, tsp, pm10, lead) values('愛國國小', '2018-06', 39, 23, 0.034)\n",
      "insert or replace into malo_khtsp_0903 (sid, dtime, tsp, pm10, lead) values('楠梓區清潔隊', '2018-06', 43, 21, 0.021)\n",
      "insert or replace into malo_khtsp_0903 (sid, dtime, tsp, pm10, lead) values('路竹地政事務所', '2018-06', 47, NULL, 0.012)\n",
      "insert or replace into malo_khtsp_0903 (sid, dtime, tsp, pm10, lead) values('鼓山圖書分館', '2018-06', 27, 16, 0.034)\n",
      "insert or replace into malo_khtsp_0903 (sid, dtime, tsp, pm10, lead) values('衛生局中正辦公室', '2018-06', 29, 17, 0.05)\n",
      "insert or replace into malo_khtsp_0903 (sid, dtime, tsp, pm10, lead) values('環保局環境檢驗科', '2018-06', 38, 21, 0.02)\n",
      "insert or replace into malo_khtsp_0903 (sid, dtime, tsp, pm10, lead) values('大社工業區', '2018-07', 67, NULL, 0.013)\n",
      "insert or replace into malo_khtsp_0903 (sid, dtime, tsp, pm10, lead) values('大寮區公所', '2018-07', 44, NULL, 0.013)\n",
      "insert or replace into malo_khtsp_0903 (sid, dtime, tsp, pm10, lead) values('仁武國中', '2018-07', 56, NULL, 0.02)\n",
      "insert or replace into malo_khtsp_0903 (sid, dtime, tsp, pm10, lead) values('半屏山電信局', '2018-07', 32, 18, 0.022)\n",
      "insert or replace into malo_khtsp_0903 (sid, dtime, tsp, pm10, lead) values('左營國小', '2018-07', 37, 16, 0.022)\n",
      "insert or replace into malo_khtsp_0903 (sid, dtime, tsp, pm10, lead) values('永安工業區', '2018-07', 56, NULL, 0.086)\n",
      "insert or replace into malo_khtsp_0903 (sid, dtime, tsp, pm10, lead) values('西子灣中山大學', '2018-07', 41, 20, 0.013)\n",
      "insert or replace into malo_khtsp_0903 (sid, dtime, tsp, pm10, lead) values('岡山醫院', '2018-07', 17, NULL, 0.006)\n",
      "insert or replace into malo_khtsp_0903 (sid, dtime, tsp, pm10, lead) values('林園工業區', '2018-07', 51, NULL, 0.028)\n",
      "insert or replace into malo_khtsp_0903 (sid, dtime, tsp, pm10, lead) values('河濱國小', '2018-07', 42, 22, 0.028)\n",
      "insert or replace into malo_khtsp_0903 (sid, dtime, tsp, pm10, lead) values('阿蓮區公所', '2018-07', 46, NULL, 0.02)\n",
      "insert or replace into malo_khtsp_0903 (sid, dtime, tsp, pm10, lead) values('前鎮國小', '2018-07', 78, 37, 0.021)\n",
      "insert or replace into malo_khtsp_0903 (sid, dtime, tsp, pm10, lead) values('莊敬國小', '2018-07', 29, 20, 0.021)\n",
      "insert or replace into malo_khtsp_0903 (sid, dtime, tsp, pm10, lead) values('愛國國小', '2018-07', 38, 19, 0.014)\n",
      "insert or replace into malo_khtsp_0903 (sid, dtime, tsp, pm10, lead) values('楠梓區清潔隊', '2018-07', 52, 22, 0.014)\n",
      "insert or replace into malo_khtsp_0903 (sid, dtime, tsp, pm10, lead) values('路竹地政事務所', '2018-07', 43, NULL, 0.013)\n",
      "insert or replace into malo_khtsp_0903 (sid, dtime, tsp, pm10, lead) values('鼓山圖書分館', '2018-07', 37, 20, 0.022)\n",
      "insert or replace into malo_khtsp_0903 (sid, dtime, tsp, pm10, lead) values('衛生局中正辦公室', '2018-07', 47, 19, 0.005)\n",
      "insert or replace into malo_khtsp_0903 (sid, dtime, tsp, pm10, lead) values('環保局環境檢驗科', '2018-07', 37, 18, 0.04)\n",
      "insert or replace into malo_khtsp_0903 (sid, dtime, tsp, pm10, lead) values('大社工業區', '2018-08', 26, NULL, 0.018)\n",
      "insert or replace into malo_khtsp_0903 (sid, dtime, tsp, pm10, lead) values('大寮區公所', '2018-08', 14, NULL, 0.01)\n",
      "insert or replace into malo_khtsp_0903 (sid, dtime, tsp, pm10, lead) values('仁武國中', '2018-08', 19, NULL, -0.009)\n",
      "insert or replace into malo_khtsp_0903 (sid, dtime, tsp, pm10, lead) values('半屏山電信局', '2018-08', 30, 16, 0.051)\n",
      "insert or replace into malo_khtsp_0903 (sid, dtime, tsp, pm10, lead) values('左營國小', '2018-08', 22, 14, 0.004)\n",
      "insert or replace into malo_khtsp_0903 (sid, dtime, tsp, pm10, lead) values('永安工業區', '2018-08', 23, NULL, 0.011)\n",
      "insert or replace into malo_khtsp_0903 (sid, dtime, tsp, pm10, lead) values('西子灣中山大學', '2018-08', 28, 13, 0.018)\n",
      "insert or replace into malo_khtsp_0903 (sid, dtime, tsp, pm10, lead) values('岡山醫院', '2018-08', 32, NULL, 0.011)\n",
      "insert or replace into malo_khtsp_0903 (sid, dtime, tsp, pm10, lead) values('林園工業區', '2018-08', 25, NULL, 0.004)\n",
      "insert or replace into malo_khtsp_0903 (sid, dtime, tsp, pm10, lead) values('河濱國小', '2018-08', 22, 11, 0.018)\n",
      "insert or replace into malo_khtsp_0903 (sid, dtime, tsp, pm10, lead) values('阿蓮區公所', '2018-08', 18, NULL, 0.017)\n",
      "insert or replace into malo_khtsp_0903 (sid, dtime, tsp, pm10, lead) values('前鎮國小', '2018-08', 43, 19, 0.011)\n",
      "insert or replace into malo_khtsp_0903 (sid, dtime, tsp, pm10, lead) values('莊敬國小', '2018-08', 21, 18, 0.018)\n",
      "insert or replace into malo_khtsp_0903 (sid, dtime, tsp, pm10, lead) values('愛國國小', '2018-08', 24, 12, 0.025)\n",
      "insert or replace into malo_khtsp_0903 (sid, dtime, tsp, pm10, lead) values('楠梓區清潔隊', '2018-08', 21, 12, 0.019)\n",
      "insert or replace into malo_khtsp_0903 (sid, dtime, tsp, pm10, lead) values('路竹地政事務所', '2018-08', 18, NULL, 0.017)\n",
      "insert or replace into malo_khtsp_0903 (sid, dtime, tsp, pm10, lead) values('鼓山圖書分館', '2018-08', 18, 11, -0.016)\n",
      "insert or replace into malo_khtsp_0903 (sid, dtime, tsp, pm10, lead) values('衛生局中正辦公室', '2018-08', 24, 13, 0.004)\n",
      "insert or replace into malo_khtsp_0903 (sid, dtime, tsp, pm10, lead) values('環保局環境檢驗科', '2018-08', 26, 13, 0.017)\n",
      "insert or replace into malo_khtsp_0903 (sid, dtime, tsp, pm10, lead) values('大社工業區', '2018-09', 68, NULL, 0.034)\n",
      "insert or replace into malo_khtsp_0903 (sid, dtime, tsp, pm10, lead) values('大寮區公所', '2018-09', 31, NULL, 0.043)\n",
      "insert or replace into malo_khtsp_0903 (sid, dtime, tsp, pm10, lead) values('仁武國中', '2018-09', 46, NULL, 0.006)\n"
     ]
    },
    {
     "name": "stdout",
     "output_type": "stream",
     "text": [
      "insert or replace into malo_khtsp_0903 (sid, dtime, tsp, pm10, lead) values('半屏山電信局', '2018-09', 26, 15, 0.013)\n",
      "insert or replace into malo_khtsp_0903 (sid, dtime, tsp, pm10, lead) values('左營國小', '2018-09', 32, 22, 0.02)\n",
      "insert or replace into malo_khtsp_0903 (sid, dtime, tsp, pm10, lead) values('永安工業區', '2018-09', 46, NULL, 0.013)\n",
      "insert or replace into malo_khtsp_0903 (sid, dtime, tsp, pm10, lead) values('西子灣中山大學', '2018-09', 24, 12, 0.013)\n",
      "insert or replace into malo_khtsp_0903 (sid, dtime, tsp, pm10, lead) values('岡山醫院', '2018-09', 64, NULL, 0.02)\n",
      "insert or replace into malo_khtsp_0903 (sid, dtime, tsp, pm10, lead) values('林園工業區', '2018-09', 53, NULL, 0.048)\n",
      "insert or replace into malo_khtsp_0903 (sid, dtime, tsp, pm10, lead) values('河濱國小', '2018-09', 27, 16, 0.006)\n",
      "insert or replace into malo_khtsp_0903 (sid, dtime, tsp, pm10, lead) values('阿蓮區公所', '2018-09', 31, NULL, 0.013)\n",
      "insert or replace into malo_khtsp_0903 (sid, dtime, tsp, pm10, lead) values('前鎮國小', '2018-09', 70, 32, 0.04)\n",
      "insert or replace into malo_khtsp_0903 (sid, dtime, tsp, pm10, lead) values('莊敬國小', '2018-09', 22, 17, 0.015)\n",
      "insert or replace into malo_khtsp_0903 (sid, dtime, tsp, pm10, lead) values('愛國國小', '2018-09', 31, 16, 0.02)\n",
      "insert or replace into malo_khtsp_0903 (sid, dtime, tsp, pm10, lead) values('楠梓區清潔隊', '2018-09', 43, 20, 0.021)\n",
      "insert or replace into malo_khtsp_0903 (sid, dtime, tsp, pm10, lead) values('路竹地政事務所', '2018-09', 46, NULL, 0.02)\n",
      "insert or replace into malo_khtsp_0903 (sid, dtime, tsp, pm10, lead) values('鼓山圖書分館', '2018-09', 19, 12, 0.006)\n",
      "insert or replace into malo_khtsp_0903 (sid, dtime, tsp, pm10, lead) values('衛生局中正辦公室', '2018-09', 25, 11, 0.005)\n",
      "insert or replace into malo_khtsp_0903 (sid, dtime, tsp, pm10, lead) values('環保局環境檢驗科', '2018-09', 30, 13, 0.006)\n",
      "insert or replace into malo_khtsp_0903 (sid, dtime, tsp, pm10, lead) values('大社工業區', '2018-10', 101, NULL, 0.05)\n",
      "insert or replace into malo_khtsp_0903 (sid, dtime, tsp, pm10, lead) values('大寮區公所', '2018-10', 79, NULL, 0.041)\n",
      "insert or replace into malo_khtsp_0903 (sid, dtime, tsp, pm10, lead) values('仁武國中', '2018-10', 91, NULL, 0.042)\n",
      "insert or replace into malo_khtsp_0903 (sid, dtime, tsp, pm10, lead) values('半屏山電信局', '2018-10', 130, 68, 0.073)\n",
      "insert or replace into malo_khtsp_0903 (sid, dtime, tsp, pm10, lead) values('左營國小', '2018-10', 89, 51, 0.024)\n",
      "insert or replace into malo_khtsp_0903 (sid, dtime, tsp, pm10, lead) values('永安工業區', '2018-10', 101, NULL, 0.072)\n",
      "insert or replace into malo_khtsp_0903 (sid, dtime, tsp, pm10, lead) values('西子灣中山大學', '2018-10', 103, 51, 0.051)\n",
      "insert or replace into malo_khtsp_0903 (sid, dtime, tsp, pm10, lead) values('岡山醫院', '2018-10', 104, NULL, 0.074)\n",
      "insert or replace into malo_khtsp_0903 (sid, dtime, tsp, pm10, lead) values('林園工業區', '2018-10', 86, NULL, 0.054)\n",
      "insert or replace into malo_khtsp_0903 (sid, dtime, tsp, pm10, lead) values('河濱國小', '2018-10', 100, 60, 0.058)\n",
      "insert or replace into malo_khtsp_0903 (sid, dtime, tsp, pm10, lead) values('阿蓮區公所', '2018-10', 74, NULL, 0.047)\n",
      "insert or replace into malo_khtsp_0903 (sid, dtime, tsp, pm10, lead) values('前鎮國小', '2018-10', 110, 62, 0.07)\n",
      "insert or replace into malo_khtsp_0903 (sid, dtime, tsp, pm10, lead) values('莊敬國小', '2018-10', 98, 69, 0.076)\n",
      "insert or replace into malo_khtsp_0903 (sid, dtime, tsp, pm10, lead) values('愛國國小', '2018-10', 100, 47, 0.049)\n",
      "insert or replace into malo_khtsp_0903 (sid, dtime, tsp, pm10, lead) values('楠梓區清潔隊', '2018-10', 100, 35, 0.016)\n",
      "insert or replace into malo_khtsp_0903 (sid, dtime, tsp, pm10, lead) values('路竹地政事務所', '2018-10', 99, NULL, 0.05)\n",
      "insert or replace into malo_khtsp_0903 (sid, dtime, tsp, pm10, lead) values('鼓山圖書分館', '2018-10', 91, 52, 0.078)\n",
      "insert or replace into malo_khtsp_0903 (sid, dtime, tsp, pm10, lead) values('衛生局中正辦公室', '2018-10', 101, 51, 0.061)\n",
      "insert or replace into malo_khtsp_0903 (sid, dtime, tsp, pm10, lead) values('環保局環境檢驗科', '2018-10', 104, 51, 0.071)\n",
      "insert or replace into malo_khtsp_0903 (sid, dtime, tsp, pm10, lead) values('大社工業區', '2018-11', 103, NULL, 0.029)\n",
      "insert or replace into malo_khtsp_0903 (sid, dtime, tsp, pm10, lead) values('大寮區公所', '2018-11', 98, NULL, 0.016)\n",
      "insert or replace into malo_khtsp_0903 (sid, dtime, tsp, pm10, lead) values('仁武國中', '2018-11', 115, NULL, 0.1)\n",
      "insert or replace into malo_khtsp_0903 (sid, dtime, tsp, pm10, lead) values('半屏山電信局', '2018-11', 104, 53, 0.036)\n",
      "insert or replace into malo_khtsp_0903 (sid, dtime, tsp, pm10, lead) values('左營國小', '2018-11', 65, 38, 0.035)\n",
      "insert or replace into malo_khtsp_0903 (sid, dtime, tsp, pm10, lead) values('永安工業區', '2018-11', 93, NULL, 0.04)\n",
      "insert or replace into malo_khtsp_0903 (sid, dtime, tsp, pm10, lead) values('西子灣中山大學', '2018-11', 77, 35, 0.02)\n",
      "insert or replace into malo_khtsp_0903 (sid, dtime, tsp, pm10, lead) values('岡山醫院', '2018-11', 106, NULL, 0.016)\n",
      "insert or replace into malo_khtsp_0903 (sid, dtime, tsp, pm10, lead) values('林園工業區', '2018-11', 98, NULL, 0.023)\n",
      "insert or replace into malo_khtsp_0903 (sid, dtime, tsp, pm10, lead) values('河濱國小', '2018-11', 84, 42, 0.022)\n",
      "insert or replace into malo_khtsp_0903 (sid, dtime, tsp, pm10, lead) values('阿蓮區公所', '2018-11', 80, NULL, 0.015)\n",
      "insert or replace into malo_khtsp_0903 (sid, dtime, tsp, pm10, lead) values('前鎮國小', '2018-11', 112, 58, 0.034)\n",
      "insert or replace into malo_khtsp_0903 (sid, dtime, tsp, pm10, lead) values('莊敬國小', '2018-11', 77, 52, 0.03)\n",
      "insert or replace into malo_khtsp_0903 (sid, dtime, tsp, pm10, lead) values('勞工博物館', '2018-11', 77, 36, 0.042)\n",
      "insert or replace into malo_khtsp_0903 (sid, dtime, tsp, pm10, lead) values('愛國國小', '2018-11', 110, 44, 0.023)\n",
      "insert or replace into malo_khtsp_0903 (sid, dtime, tsp, pm10, lead) values('楠梓區清潔隊', '2018-11', 103, 40, 0.016)\n",
      "insert or replace into malo_khtsp_0903 (sid, dtime, tsp, pm10, lead) values('路竹地政事務所', '2018-11', 89, NULL, 0.027)\n",
      "insert or replace into malo_khtsp_0903 (sid, dtime, tsp, pm10, lead) values('鼓山圖書分館', '2018-11', 66, 38, 0.041)\n",
      "insert or replace into malo_khtsp_0903 (sid, dtime, tsp, pm10, lead) values('環保局環境檢驗科', '2018-11', 78, 36, 0.028)\n",
      "insert or replace into malo_khtsp_0903 (sid, dtime, tsp, pm10, lead) values('大社工業區', '2018-12', 147, NULL, 0.032)\n",
      "insert or replace into malo_khtsp_0903 (sid, dtime, tsp, pm10, lead) values('大寮區公所', '2018-12', 124, NULL, 0.012)\n",
      "insert or replace into malo_khtsp_0903 (sid, dtime, tsp, pm10, lead) values('仁武國中', '2018-12', 134, NULL, 0.018)\n",
      "insert or replace into malo_khtsp_0903 (sid, dtime, tsp, pm10, lead) values('半屏山電信局', '2018-12', 119, 69, 0.044)\n",
      "insert or replace into malo_khtsp_0903 (sid, dtime, tsp, pm10, lead) values('左營國小', '2018-12', 90, 52, 0.019)\n",
      "insert or replace into malo_khtsp_0903 (sid, dtime, tsp, pm10, lead) values('永安工業區', '2018-12', 111, NULL, 0.018)\n",
      "insert or replace into malo_khtsp_0903 (sid, dtime, tsp, pm10, lead) values('西子灣中山大學', '2018-12', 87, 48, 0.011)\n",
      "insert or replace into malo_khtsp_0903 (sid, dtime, tsp, pm10, lead) values('岡山醫院', '2018-12', 121, NULL, 0.011)\n",
      "insert or replace into malo_khtsp_0903 (sid, dtime, tsp, pm10, lead) values('林園工業區', '2018-12', 143, NULL, 0.039)\n",
      "insert or replace into malo_khtsp_0903 (sid, dtime, tsp, pm10, lead) values('河濱國小', '2018-12', 97, 57, 0.005)\n",
      "insert or replace into malo_khtsp_0903 (sid, dtime, tsp, pm10, lead) values('阿蓮區公所', '2018-12', 102, NULL, 0.011)\n",
      "insert or replace into malo_khtsp_0903 (sid, dtime, tsp, pm10, lead) values('前鎮國小', '2018-12', 111, 68, 0.043)\n",
      "insert or replace into malo_khtsp_0903 (sid, dtime, tsp, pm10, lead) values('莊敬國小', '2018-12', 110, 83, 0.031)\n",
      "insert or replace into malo_khtsp_0903 (sid, dtime, tsp, pm10, lead) values('愛國國小', '2018-12', 100, 49, 0.03)\n",
      "insert or replace into malo_khtsp_0903 (sid, dtime, tsp, pm10, lead) values('楠梓區清潔隊', '2018-12', 84, 52, 0.001)\n",
      "insert or replace into malo_khtsp_0903 (sid, dtime, tsp, pm10, lead) values('路竹地政事務所', '2018-12', 112, NULL, 0.012)\n",
      "insert or replace into malo_khtsp_0903 (sid, dtime, tsp, pm10, lead) values('鼓山圖書分館', '2018-12', 80, 49, 0.018)\n",
      "insert or replace into malo_khtsp_0903 (sid, dtime, tsp, pm10, lead) values('衛生局中正辦公室', '2018-12', 93, 46, 0.012)\n",
      "insert or replace into malo_khtsp_0903 (sid, dtime, tsp, pm10, lead) values('環保局環境檢驗科', '2018-12', 97, 50, 0.03)\n"
     ]
    }
   ],
   "source": [
    "# 做upsert操作: 試著改時間格式\n",
    "import datetime\n",
    "import random\n",
    "\n",
    "for item in data_list[1:]:\n",
    "    sid = item[0] #['Name']\n",
    "    dtime = item[1] #['Date']\n",
    "    dtime = dtime.replace('月', '')\n",
    "    dtime_tmp = dtime.split('年')\n",
    "    dtime = '%s-%02d' %(dtime_tmp[0], int(dtime_tmp[1]))\n",
    "    tsp = item[2] #['TSP']\n",
    "    if tsp=='':\n",
    "        tsp = 'NULL'\n",
    "    pm10 = item[3] #['PM10']\n",
    "    if pm10=='':\n",
    "        pm10 = 'NULL'\n",
    "    lead = item[7] #['Lead']\n",
    "    if lead=='':\n",
    "        lead = 'NULL'\n",
    "    sql_cmd_str = \"insert or replace into %s (sid, dtime, tsp, pm10, lead) values('%s', '%s', %s, %s, %s)\" %(\n",
    "        table_name, sid, dtime, tsp, pm10, lead)\n",
    "    #sql_cmd_str = sql_cmd_str + (\" ON DUPLICATE KEY UPDATE tsp=%s, pm10=%s, lead=%s\" %(tsp, pm10, lead))\n",
    "    resultProxy=my_db.execute(sql_cmd_str)\n",
    "    print(sql_cmd_str)\n",
    "    "
   ]
  },
  {
   "cell_type": "code",
   "execution_count": 33,
   "metadata": {},
   "outputs": [
    {
     "data": {
      "text/plain": [
       "datetime.datetime(2018, 3, 1, 0, 0)"
      ]
     },
     "execution_count": 33,
     "metadata": {},
     "output_type": "execute_result"
    }
   ],
   "source": [
    "# 這樣的時間格式未來如何轉換\n",
    "dt1 = datetime.datetime.strptime('2018-03','%Y-%m') #把時間字串轉為datetime物件\n",
    "dt1"
   ]
  },
  {
   "cell_type": "markdown",
   "metadata": {},
   "source": [
    "- 再來取資料，並做排序"
   ]
  },
  {
   "cell_type": "code",
   "execution_count": 34,
   "metadata": {},
   "outputs": [
    {
     "name": "stdout",
     "output_type": "stream",
     "text": [
      "-- data --\n",
      "[('左營國小', '2018-01', 98.0, 64.0, 0.006), ('左營國小', '2018-02', 59.0, 32.0, 0.017), ('左營國小', '2018-03', 54.0, 36.0, 0.068), ('左營國小', '2018-04', 61.0, 33.0, 0.028), ('左營國小', '2018-05', 49.0, 38.0, 0.047), ('左營國小', '2018-06', 22.0, 16.0, 0.034), ('左營國小', '2018-07', 37.0, 16.0, 0.022), ('左營國小', '2018-08', 22.0, 14.0, 0.004), ('左營國小', '2018-09', 32.0, 22.0, 0.02), ('左營國小', '2018-10', 89.0, 51.0, 0.024), ('左營國小', '2018-11', 65.0, 38.0, 0.035), ('左營國小', '2018-12', 90.0, 52.0, 0.019)]\n"
     ]
    }
   ],
   "source": [
    "# 找出某個站的資料, 並排序: where, order\n",
    "sid = '左營國小'\n",
    "sql_cmd_str = \"select * from %s where sid='%s' order by dtime ASC\" %(table_name, sid)\n",
    "resultProxy=my_db.execute(sql_cmd_str)\n",
    "data = resultProxy.fetchall()\n",
    "print('-- data --')\n",
    "print(data)\n"
   ]
  },
  {
   "cell_type": "code",
   "execution_count": 35,
   "metadata": {},
   "outputs": [
    {
     "name": "stdout",
     "output_type": "stream",
     "text": [
      "-- data --\n",
      "[('大寮區公所', '2018-01', 79.0, None, 0.042), ('大寮區公所', '2018-02', 91.0, None, 0.018), ('大寮區公所', '2018-03', 92.0, None, 0.046), ('大寮區公所', '2018-04', 75.0, None, 0.062), ('大寮區公所', '2018-05', 43.0, None, 0.021), ('大寮區公所', '2018-06', 41.0, None, 0.006), ('大寮區公所', '2018-07', 44.0, None, 0.013), ('大寮區公所', '2018-08', 14.0, None, 0.01), ('大寮區公所', '2018-09', 31.0, None, 0.043), ('大寮區公所', '2018-10', 79.0, None, 0.041), ('大寮區公所', '2018-11', 98.0, None, 0.016), ('大寮區公所', '2018-12', 124.0, None, 0.012)]\n"
     ]
    }
   ],
   "source": [
    "# 找出某個站的資料, 並排序: where, order\n",
    "sid = '大寮區公所'\n",
    "sql_cmd_str = \"select * from %s where sid='%s' order by dtime ASC\" %(table_name, sid)\n",
    "resultProxy=my_db.execute(sql_cmd_str)\n",
    "data = resultProxy.fetchall()\n",
    "print('-- data --')\n",
    "print(data)\n"
   ]
  },
  {
   "cell_type": "code",
   "execution_count": null,
   "metadata": {},
   "outputs": [],
   "source": []
  }
 ],
 "metadata": {
  "kernelspec": {
   "display_name": "Python 3 (ipykernel)",
   "language": "python",
   "name": "python3"
  },
  "language_info": {
   "codemirror_mode": {
    "name": "ipython",
    "version": 3
   },
   "file_extension": ".py",
   "mimetype": "text/x-python",
   "name": "python",
   "nbconvert_exporter": "python",
   "pygments_lexer": "ipython3",
   "version": "3.9.7"
  }
 },
 "nbformat": 4,
 "nbformat_minor": 4
}
