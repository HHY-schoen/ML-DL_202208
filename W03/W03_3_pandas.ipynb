{
 "cells": [
  {
   "cell_type": "markdown",
   "metadata": {},
   "source": [
    "## Pandas\n",
    "----\n",
    "- 常被使用來做資料整理、分析的套件\n",
    "- [user_guide](https://pandas.pydata.org/docs/user_guide/index.html)\n",
    "- [API Reference](https://pandas.pydata.org/pandas-docs/stable/reference/index.html)\n",
    "- [參考資料](https://github.com/victorgau/KHPY20180820)"
   ]
  },
  {
   "cell_type": "code",
   "execution_count": 1,
   "metadata": {},
   "outputs": [],
   "source": [
    "import pandas as pd"
   ]
  },
  {
   "cell_type": "code",
   "execution_count": 2,
   "metadata": {},
   "outputs": [],
   "source": [
    "%matplotlib inline\n",
    "\n",
    "import numpy as np\n",
    "from datetime import datetime"
   ]
  },
  {
   "cell_type": "code",
   "execution_count": 4,
   "metadata": {},
   "outputs": [
    {
     "data": {
      "text/plain": [
       "'1.3.4'"
      ]
     },
     "execution_count": 4,
     "metadata": {},
     "output_type": "execute_result"
    }
   ],
   "source": [
    "pd.__version__"
   ]
  },
  {
   "cell_type": "markdown",
   "metadata": {},
   "source": [
    "- Serial"
   ]
  },
  {
   "cell_type": "code",
   "execution_count": 5,
   "metadata": {},
   "outputs": [
    {
     "data": {
      "text/plain": [
       "0    1\n",
       "1    2\n",
       "2    3\n",
       "3    4\n",
       "4    5\n",
       "dtype: int64"
      ]
     },
     "execution_count": 5,
     "metadata": {},
     "output_type": "execute_result"
    }
   ],
   "source": [
    "s1 = pd.Series([1, 2, 3, 4, 5])\n",
    "s1"
   ]
  },
  {
   "cell_type": "code",
   "execution_count": 6,
   "metadata": {},
   "outputs": [
    {
     "data": {
      "text/plain": [
       "0    1\n",
       "1    2\n",
       "2    3\n",
       "3    4\n",
       "4    5\n",
       "dtype: int64"
      ]
     },
     "execution_count": 6,
     "metadata": {},
     "output_type": "execute_result"
    }
   ],
   "source": [
    "s2 = pd.Series([1, 2, 3, 4, 5])\n",
    "s2"
   ]
  },
  {
   "cell_type": "code",
   "execution_count": 7,
   "metadata": {},
   "outputs": [
    {
     "data": {
      "text/plain": [
       "0     2\n",
       "1     4\n",
       "2     6\n",
       "3     8\n",
       "4    10\n",
       "dtype: int64"
      ]
     },
     "execution_count": 7,
     "metadata": {},
     "output_type": "execute_result"
    }
   ],
   "source": [
    "s1+s2"
   ]
  },
  {
   "cell_type": "markdown",
   "metadata": {},
   "source": [
    "- DataFrame"
   ]
  },
  {
   "cell_type": "code",
   "execution_count": 8,
   "metadata": {},
   "outputs": [],
   "source": [
    "data = np.random.randn(10, 4)"
   ]
  },
  {
   "cell_type": "code",
   "execution_count": 9,
   "metadata": {},
   "outputs": [
    {
     "data": {
      "text/plain": [
       "array([[ 0.4464883 , -1.74905343,  1.95618924,  0.32989314],\n",
       "       [ 0.0226703 , -0.17006684,  0.59849841,  0.65642936],\n",
       "       [-1.74789678, -1.44510987,  0.2939681 , -0.04194344],\n",
       "       [-0.97839907,  0.38530601,  0.05146976,  0.35137616],\n",
       "       [ 0.38358152,  1.56355906, -1.80136926, -0.60085989],\n",
       "       [ 0.17613807,  1.21375258,  0.06935245,  0.50842326],\n",
       "       [-0.10711553, -0.54515514, -1.46086319,  0.10924288],\n",
       "       [ 0.22302694,  1.30584345,  0.33466828, -0.26278295],\n",
       "       [-1.5062025 ,  0.41403585,  0.84129354,  0.79538183],\n",
       "       [ 0.28224037,  1.30898773,  0.30593918,  0.93961872]])"
      ]
     },
     "execution_count": 9,
     "metadata": {},
     "output_type": "execute_result"
    }
   ],
   "source": [
    "data"
   ]
  },
  {
   "cell_type": "code",
   "execution_count": 10,
   "metadata": {},
   "outputs": [
    {
     "data": {
      "text/html": [
       "<div>\n",
       "<style scoped>\n",
       "    .dataframe tbody tr th:only-of-type {\n",
       "        vertical-align: middle;\n",
       "    }\n",
       "\n",
       "    .dataframe tbody tr th {\n",
       "        vertical-align: top;\n",
       "    }\n",
       "\n",
       "    .dataframe thead th {\n",
       "        text-align: right;\n",
       "    }\n",
       "</style>\n",
       "<table border=\"1\" class=\"dataframe\">\n",
       "  <thead>\n",
       "    <tr style=\"text-align: right;\">\n",
       "      <th></th>\n",
       "      <th>0</th>\n",
       "      <th>1</th>\n",
       "      <th>2</th>\n",
       "      <th>3</th>\n",
       "    </tr>\n",
       "  </thead>\n",
       "  <tbody>\n",
       "    <tr>\n",
       "      <th>0</th>\n",
       "      <td>0.446488</td>\n",
       "      <td>-1.749053</td>\n",
       "      <td>1.956189</td>\n",
       "      <td>0.329893</td>\n",
       "    </tr>\n",
       "    <tr>\n",
       "      <th>1</th>\n",
       "      <td>0.022670</td>\n",
       "      <td>-0.170067</td>\n",
       "      <td>0.598498</td>\n",
       "      <td>0.656429</td>\n",
       "    </tr>\n",
       "    <tr>\n",
       "      <th>2</th>\n",
       "      <td>-1.747897</td>\n",
       "      <td>-1.445110</td>\n",
       "      <td>0.293968</td>\n",
       "      <td>-0.041943</td>\n",
       "    </tr>\n",
       "    <tr>\n",
       "      <th>3</th>\n",
       "      <td>-0.978399</td>\n",
       "      <td>0.385306</td>\n",
       "      <td>0.051470</td>\n",
       "      <td>0.351376</td>\n",
       "    </tr>\n",
       "    <tr>\n",
       "      <th>4</th>\n",
       "      <td>0.383582</td>\n",
       "      <td>1.563559</td>\n",
       "      <td>-1.801369</td>\n",
       "      <td>-0.600860</td>\n",
       "    </tr>\n",
       "    <tr>\n",
       "      <th>5</th>\n",
       "      <td>0.176138</td>\n",
       "      <td>1.213753</td>\n",
       "      <td>0.069352</td>\n",
       "      <td>0.508423</td>\n",
       "    </tr>\n",
       "    <tr>\n",
       "      <th>6</th>\n",
       "      <td>-0.107116</td>\n",
       "      <td>-0.545155</td>\n",
       "      <td>-1.460863</td>\n",
       "      <td>0.109243</td>\n",
       "    </tr>\n",
       "    <tr>\n",
       "      <th>7</th>\n",
       "      <td>0.223027</td>\n",
       "      <td>1.305843</td>\n",
       "      <td>0.334668</td>\n",
       "      <td>-0.262783</td>\n",
       "    </tr>\n",
       "    <tr>\n",
       "      <th>8</th>\n",
       "      <td>-1.506202</td>\n",
       "      <td>0.414036</td>\n",
       "      <td>0.841294</td>\n",
       "      <td>0.795382</td>\n",
       "    </tr>\n",
       "    <tr>\n",
       "      <th>9</th>\n",
       "      <td>0.282240</td>\n",
       "      <td>1.308988</td>\n",
       "      <td>0.305939</td>\n",
       "      <td>0.939619</td>\n",
       "    </tr>\n",
       "  </tbody>\n",
       "</table>\n",
       "</div>"
      ],
      "text/plain": [
       "          0         1         2         3\n",
       "0  0.446488 -1.749053  1.956189  0.329893\n",
       "1  0.022670 -0.170067  0.598498  0.656429\n",
       "2 -1.747897 -1.445110  0.293968 -0.041943\n",
       "3 -0.978399  0.385306  0.051470  0.351376\n",
       "4  0.383582  1.563559 -1.801369 -0.600860\n",
       "5  0.176138  1.213753  0.069352  0.508423\n",
       "6 -0.107116 -0.545155 -1.460863  0.109243\n",
       "7  0.223027  1.305843  0.334668 -0.262783\n",
       "8 -1.506202  0.414036  0.841294  0.795382\n",
       "9  0.282240  1.308988  0.305939  0.939619"
      ]
     },
     "execution_count": 10,
     "metadata": {},
     "output_type": "execute_result"
    }
   ],
   "source": [
    "df = pd.DataFrame(data)\n",
    "df"
   ]
  },
  {
   "cell_type": "code",
   "execution_count": 11,
   "metadata": {},
   "outputs": [
    {
     "data": {
      "text/html": [
       "<div>\n",
       "<style scoped>\n",
       "    .dataframe tbody tr th:only-of-type {\n",
       "        vertical-align: middle;\n",
       "    }\n",
       "\n",
       "    .dataframe tbody tr th {\n",
       "        vertical-align: top;\n",
       "    }\n",
       "\n",
       "    .dataframe thead th {\n",
       "        text-align: right;\n",
       "    }\n",
       "</style>\n",
       "<table border=\"1\" class=\"dataframe\">\n",
       "  <thead>\n",
       "    <tr style=\"text-align: right;\">\n",
       "      <th></th>\n",
       "      <th>No1</th>\n",
       "      <th>No2</th>\n",
       "      <th>No3</th>\n",
       "      <th>No4</th>\n",
       "    </tr>\n",
       "  </thead>\n",
       "  <tbody>\n",
       "    <tr>\n",
       "      <th>0</th>\n",
       "      <td>0.446488</td>\n",
       "      <td>-1.749053</td>\n",
       "      <td>1.956189</td>\n",
       "      <td>0.329893</td>\n",
       "    </tr>\n",
       "    <tr>\n",
       "      <th>1</th>\n",
       "      <td>0.022670</td>\n",
       "      <td>-0.170067</td>\n",
       "      <td>0.598498</td>\n",
       "      <td>0.656429</td>\n",
       "    </tr>\n",
       "    <tr>\n",
       "      <th>2</th>\n",
       "      <td>-1.747897</td>\n",
       "      <td>-1.445110</td>\n",
       "      <td>0.293968</td>\n",
       "      <td>-0.041943</td>\n",
       "    </tr>\n",
       "    <tr>\n",
       "      <th>3</th>\n",
       "      <td>-0.978399</td>\n",
       "      <td>0.385306</td>\n",
       "      <td>0.051470</td>\n",
       "      <td>0.351376</td>\n",
       "    </tr>\n",
       "    <tr>\n",
       "      <th>4</th>\n",
       "      <td>0.383582</td>\n",
       "      <td>1.563559</td>\n",
       "      <td>-1.801369</td>\n",
       "      <td>-0.600860</td>\n",
       "    </tr>\n",
       "    <tr>\n",
       "      <th>5</th>\n",
       "      <td>0.176138</td>\n",
       "      <td>1.213753</td>\n",
       "      <td>0.069352</td>\n",
       "      <td>0.508423</td>\n",
       "    </tr>\n",
       "    <tr>\n",
       "      <th>6</th>\n",
       "      <td>-0.107116</td>\n",
       "      <td>-0.545155</td>\n",
       "      <td>-1.460863</td>\n",
       "      <td>0.109243</td>\n",
       "    </tr>\n",
       "    <tr>\n",
       "      <th>7</th>\n",
       "      <td>0.223027</td>\n",
       "      <td>1.305843</td>\n",
       "      <td>0.334668</td>\n",
       "      <td>-0.262783</td>\n",
       "    </tr>\n",
       "    <tr>\n",
       "      <th>8</th>\n",
       "      <td>-1.506202</td>\n",
       "      <td>0.414036</td>\n",
       "      <td>0.841294</td>\n",
       "      <td>0.795382</td>\n",
       "    </tr>\n",
       "    <tr>\n",
       "      <th>9</th>\n",
       "      <td>0.282240</td>\n",
       "      <td>1.308988</td>\n",
       "      <td>0.305939</td>\n",
       "      <td>0.939619</td>\n",
       "    </tr>\n",
       "  </tbody>\n",
       "</table>\n",
       "</div>"
      ],
      "text/plain": [
       "        No1       No2       No3       No4\n",
       "0  0.446488 -1.749053  1.956189  0.329893\n",
       "1  0.022670 -0.170067  0.598498  0.656429\n",
       "2 -1.747897 -1.445110  0.293968 -0.041943\n",
       "3 -0.978399  0.385306  0.051470  0.351376\n",
       "4  0.383582  1.563559 -1.801369 -0.600860\n",
       "5  0.176138  1.213753  0.069352  0.508423\n",
       "6 -0.107116 -0.545155 -1.460863  0.109243\n",
       "7  0.223027  1.305843  0.334668 -0.262783\n",
       "8 -1.506202  0.414036  0.841294  0.795382\n",
       "9  0.282240  1.308988  0.305939  0.939619"
      ]
     },
     "execution_count": 11,
     "metadata": {},
     "output_type": "execute_result"
    }
   ],
   "source": [
    "df.columns = ['No1', 'No2', 'No3', 'No4']\n",
    "df"
   ]
  },
  {
   "cell_type": "code",
   "execution_count": 12,
   "metadata": {},
   "outputs": [
    {
     "data": {
      "text/html": [
       "<div>\n",
       "<style scoped>\n",
       "    .dataframe tbody tr th:only-of-type {\n",
       "        vertical-align: middle;\n",
       "    }\n",
       "\n",
       "    .dataframe tbody tr th {\n",
       "        vertical-align: top;\n",
       "    }\n",
       "\n",
       "    .dataframe thead th {\n",
       "        text-align: right;\n",
       "    }\n",
       "</style>\n",
       "<table border=\"1\" class=\"dataframe\">\n",
       "  <thead>\n",
       "    <tr style=\"text-align: right;\">\n",
       "      <th></th>\n",
       "      <th>No1</th>\n",
       "      <th>No2</th>\n",
       "      <th>No3</th>\n",
       "      <th>No4</th>\n",
       "    </tr>\n",
       "  </thead>\n",
       "  <tbody>\n",
       "    <tr>\n",
       "      <th>2016-01-01</th>\n",
       "      <td>0.446488</td>\n",
       "      <td>-1.749053</td>\n",
       "      <td>1.956189</td>\n",
       "      <td>0.329893</td>\n",
       "    </tr>\n",
       "    <tr>\n",
       "      <th>2016-01-02</th>\n",
       "      <td>0.022670</td>\n",
       "      <td>-0.170067</td>\n",
       "      <td>0.598498</td>\n",
       "      <td>0.656429</td>\n",
       "    </tr>\n",
       "    <tr>\n",
       "      <th>2016-01-03</th>\n",
       "      <td>-1.747897</td>\n",
       "      <td>-1.445110</td>\n",
       "      <td>0.293968</td>\n",
       "      <td>-0.041943</td>\n",
       "    </tr>\n",
       "    <tr>\n",
       "      <th>2016-01-04</th>\n",
       "      <td>-0.978399</td>\n",
       "      <td>0.385306</td>\n",
       "      <td>0.051470</td>\n",
       "      <td>0.351376</td>\n",
       "    </tr>\n",
       "    <tr>\n",
       "      <th>2016-01-05</th>\n",
       "      <td>0.383582</td>\n",
       "      <td>1.563559</td>\n",
       "      <td>-1.801369</td>\n",
       "      <td>-0.600860</td>\n",
       "    </tr>\n",
       "    <tr>\n",
       "      <th>2016-01-06</th>\n",
       "      <td>0.176138</td>\n",
       "      <td>1.213753</td>\n",
       "      <td>0.069352</td>\n",
       "      <td>0.508423</td>\n",
       "    </tr>\n",
       "    <tr>\n",
       "      <th>2016-01-07</th>\n",
       "      <td>-0.107116</td>\n",
       "      <td>-0.545155</td>\n",
       "      <td>-1.460863</td>\n",
       "      <td>0.109243</td>\n",
       "    </tr>\n",
       "    <tr>\n",
       "      <th>2016-01-08</th>\n",
       "      <td>0.223027</td>\n",
       "      <td>1.305843</td>\n",
       "      <td>0.334668</td>\n",
       "      <td>-0.262783</td>\n",
       "    </tr>\n",
       "    <tr>\n",
       "      <th>2016-01-09</th>\n",
       "      <td>-1.506202</td>\n",
       "      <td>0.414036</td>\n",
       "      <td>0.841294</td>\n",
       "      <td>0.795382</td>\n",
       "    </tr>\n",
       "    <tr>\n",
       "      <th>2016-01-10</th>\n",
       "      <td>0.282240</td>\n",
       "      <td>1.308988</td>\n",
       "      <td>0.305939</td>\n",
       "      <td>0.939619</td>\n",
       "    </tr>\n",
       "  </tbody>\n",
       "</table>\n",
       "</div>"
      ],
      "text/plain": [
       "                 No1       No2       No3       No4\n",
       "2016-01-01  0.446488 -1.749053  1.956189  0.329893\n",
       "2016-01-02  0.022670 -0.170067  0.598498  0.656429\n",
       "2016-01-03 -1.747897 -1.445110  0.293968 -0.041943\n",
       "2016-01-04 -0.978399  0.385306  0.051470  0.351376\n",
       "2016-01-05  0.383582  1.563559 -1.801369 -0.600860\n",
       "2016-01-06  0.176138  1.213753  0.069352  0.508423\n",
       "2016-01-07 -0.107116 -0.545155 -1.460863  0.109243\n",
       "2016-01-08  0.223027  1.305843  0.334668 -0.262783\n",
       "2016-01-09 -1.506202  0.414036  0.841294  0.795382\n",
       "2016-01-10  0.282240  1.308988  0.305939  0.939619"
      ]
     },
     "execution_count": 12,
     "metadata": {},
     "output_type": "execute_result"
    }
   ],
   "source": [
    "df.index = pd.date_range('2016-01-01', periods=10)\n",
    "df"
   ]
  },
  {
   "cell_type": "code",
   "execution_count": 13,
   "metadata": {},
   "outputs": [
    {
     "data": {
      "text/plain": [
       "No1    0.176138\n",
       "No2    1.213753\n",
       "No3    0.069352\n",
       "No4    0.508423\n",
       "Name: 2016-01-06 00:00:00, dtype: float64"
      ]
     },
     "execution_count": 13,
     "metadata": {},
     "output_type": "execute_result"
    }
   ],
   "source": [
    "df.loc['2016-01-06']"
   ]
  },
  {
   "cell_type": "code",
   "execution_count": 14,
   "metadata": {},
   "outputs": [
    {
     "data": {
      "text/plain": [
       "2016-01-01    0.446488\n",
       "2016-01-02    0.022670\n",
       "2016-01-03   -1.747897\n",
       "2016-01-04   -0.978399\n",
       "2016-01-05    0.383582\n",
       "2016-01-06    0.176138\n",
       "2016-01-07   -0.107116\n",
       "2016-01-08    0.223027\n",
       "2016-01-09   -1.506202\n",
       "2016-01-10    0.282240\n",
       "Freq: D, Name: No1, dtype: float64"
      ]
     },
     "execution_count": 14,
     "metadata": {},
     "output_type": "execute_result"
    }
   ],
   "source": [
    "df['No1']"
   ]
  },
  {
   "cell_type": "code",
   "execution_count": 15,
   "metadata": {},
   "outputs": [
    {
     "data": {
      "text/plain": [
       "No1    0.022670\n",
       "No2   -0.170067\n",
       "No3    0.598498\n",
       "No4    0.656429\n",
       "Name: 2016-01-02 00:00:00, dtype: float64"
      ]
     },
     "execution_count": 15,
     "metadata": {},
     "output_type": "execute_result"
    }
   ],
   "source": [
    "df.iloc[1]"
   ]
  },
  {
   "cell_type": "markdown",
   "metadata": {},
   "source": [
    "## 使用 Pandas 作資料存取"
   ]
  },
  {
   "cell_type": "markdown",
   "metadata": {},
   "source": [
    "### 使用 read_csv() 讀取資料\n",
    "- [ref](https://pandas.pydata.org/pandas-docs/stable/reference/api/pandas.read_csv.html)"
   ]
  },
  {
   "cell_type": "code",
   "execution_count": 16,
   "metadata": {},
   "outputs": [],
   "source": [
    "#df = pd.read_csv(\"2018_kh_data.csv\", encoding=\"utf8\", header=0)\n",
    "df = pd.read_csv(\"2018_kh_data.csv\", encoding=\"Big5\", header=0)"
   ]
  },
  {
   "cell_type": "code",
   "execution_count": 18,
   "metadata": {},
   "outputs": [
    {
     "data": {
      "text/html": [
       "<div>\n",
       "<style scoped>\n",
       "    .dataframe tbody tr th:only-of-type {\n",
       "        vertical-align: middle;\n",
       "    }\n",
       "\n",
       "    .dataframe tbody tr th {\n",
       "        vertical-align: top;\n",
       "    }\n",
       "\n",
       "    .dataframe thead th {\n",
       "        text-align: right;\n",
       "    }\n",
       "</style>\n",
       "<table border=\"1\" class=\"dataframe\">\n",
       "  <thead>\n",
       "    <tr style=\"text-align: right;\">\n",
       "      <th></th>\n",
       "      <th>Name</th>\n",
       "      <th>Date</th>\n",
       "      <th>TSP</th>\n",
       "      <th>PM10</th>\n",
       "      <th>Chloride</th>\n",
       "      <th>Nitrate</th>\n",
       "      <th>Sulfate</th>\n",
       "      <th>Lead</th>\n",
       "      <th>Dust</th>\n",
       "    </tr>\n",
       "  </thead>\n",
       "  <tbody>\n",
       "    <tr>\n",
       "      <th>0</th>\n",
       "      <td>大社工業區</td>\n",
       "      <td>2018年1月</td>\n",
       "      <td>93</td>\n",
       "      <td>NaN</td>\n",
       "      <td>NaN</td>\n",
       "      <td>NaN</td>\n",
       "      <td>NaN</td>\n",
       "      <td>0.029</td>\n",
       "      <td>3.60</td>\n",
       "    </tr>\n",
       "    <tr>\n",
       "      <th>1</th>\n",
       "      <td>大寮區公所</td>\n",
       "      <td>2018年1月</td>\n",
       "      <td>79</td>\n",
       "      <td>NaN</td>\n",
       "      <td>NaN</td>\n",
       "      <td>NaN</td>\n",
       "      <td>NaN</td>\n",
       "      <td>0.042</td>\n",
       "      <td>1.54</td>\n",
       "    </tr>\n",
       "    <tr>\n",
       "      <th>2</th>\n",
       "      <td>大樹監測站</td>\n",
       "      <td>2018年1月</td>\n",
       "      <td>61</td>\n",
       "      <td>NaN</td>\n",
       "      <td>NaN</td>\n",
       "      <td>NaN</td>\n",
       "      <td>NaN</td>\n",
       "      <td>0.020</td>\n",
       "      <td>1.18</td>\n",
       "    </tr>\n",
       "    <tr>\n",
       "      <th>3</th>\n",
       "      <td>仁武國中</td>\n",
       "      <td>2018年1月</td>\n",
       "      <td>79</td>\n",
       "      <td>NaN</td>\n",
       "      <td>NaN</td>\n",
       "      <td>NaN</td>\n",
       "      <td>NaN</td>\n",
       "      <td>0.058</td>\n",
       "      <td>2.68</td>\n",
       "    </tr>\n",
       "    <tr>\n",
       "      <th>4</th>\n",
       "      <td>半屏山電信局</td>\n",
       "      <td>2018年1月</td>\n",
       "      <td>104</td>\n",
       "      <td>67.0</td>\n",
       "      <td>NaN</td>\n",
       "      <td>NaN</td>\n",
       "      <td>NaN</td>\n",
       "      <td>0.014</td>\n",
       "      <td>1.21</td>\n",
       "    </tr>\n",
       "    <tr>\n",
       "      <th>5</th>\n",
       "      <td>左營國小</td>\n",
       "      <td>2018年1月</td>\n",
       "      <td>98</td>\n",
       "      <td>64.0</td>\n",
       "      <td>NaN</td>\n",
       "      <td>NaN</td>\n",
       "      <td>NaN</td>\n",
       "      <td>0.006</td>\n",
       "      <td>1.13</td>\n",
       "    </tr>\n",
       "    <tr>\n",
       "      <th>6</th>\n",
       "      <td>永安工業區</td>\n",
       "      <td>2018年1月</td>\n",
       "      <td>83</td>\n",
       "      <td>NaN</td>\n",
       "      <td>NaN</td>\n",
       "      <td>NaN</td>\n",
       "      <td>NaN</td>\n",
       "      <td>0.052</td>\n",
       "      <td>2.96</td>\n",
       "    </tr>\n",
       "  </tbody>\n",
       "</table>\n",
       "</div>"
      ],
      "text/plain": [
       "     Name     Date  TSP  PM10  Chloride  Nitrate  Sulfate   Lead  Dust\n",
       "0   大社工業區  2018年1月   93   NaN       NaN      NaN      NaN  0.029  3.60\n",
       "1   大寮區公所  2018年1月   79   NaN       NaN      NaN      NaN  0.042  1.54\n",
       "2   大樹監測站  2018年1月   61   NaN       NaN      NaN      NaN  0.020  1.18\n",
       "3    仁武國中  2018年1月   79   NaN       NaN      NaN      NaN  0.058  2.68\n",
       "4  半屏山電信局  2018年1月  104  67.0       NaN      NaN      NaN  0.014  1.21\n",
       "5    左營國小  2018年1月   98  64.0       NaN      NaN      NaN  0.006  1.13\n",
       "6   永安工業區  2018年1月   83   NaN       NaN      NaN      NaN  0.052  2.96"
      ]
     },
     "execution_count": 18,
     "metadata": {},
     "output_type": "execute_result"
    }
   ],
   "source": [
    "df.head(7)  #預設為前5項"
   ]
  },
  {
   "cell_type": "code",
   "execution_count": 20,
   "metadata": {},
   "outputs": [
    {
     "data": {
      "text/html": [
       "<div>\n",
       "<style scoped>\n",
       "    .dataframe tbody tr th:only-of-type {\n",
       "        vertical-align: middle;\n",
       "    }\n",
       "\n",
       "    .dataframe tbody tr th {\n",
       "        vertical-align: top;\n",
       "    }\n",
       "\n",
       "    .dataframe thead th {\n",
       "        text-align: right;\n",
       "    }\n",
       "</style>\n",
       "<table border=\"1\" class=\"dataframe\">\n",
       "  <thead>\n",
       "    <tr style=\"text-align: right;\">\n",
       "      <th></th>\n",
       "      <th>Name</th>\n",
       "      <th>Date</th>\n",
       "      <th>TSP</th>\n",
       "      <th>PM10</th>\n",
       "      <th>Chloride</th>\n",
       "      <th>Nitrate</th>\n",
       "      <th>Sulfate</th>\n",
       "      <th>Lead</th>\n",
       "      <th>Dust</th>\n",
       "    </tr>\n",
       "  </thead>\n",
       "  <tbody>\n",
       "    <tr>\n",
       "      <th>231</th>\n",
       "      <td>鼓山圖書分館</td>\n",
       "      <td>2018年12月</td>\n",
       "      <td>80</td>\n",
       "      <td>49.0</td>\n",
       "      <td>10.80</td>\n",
       "      <td>21.1</td>\n",
       "      <td>14.9</td>\n",
       "      <td>0.018</td>\n",
       "      <td>1.37</td>\n",
       "    </tr>\n",
       "    <tr>\n",
       "      <th>232</th>\n",
       "      <td>衛生局中正辦公室</td>\n",
       "      <td>2018年12月</td>\n",
       "      <td>93</td>\n",
       "      <td>46.0</td>\n",
       "      <td>9.53</td>\n",
       "      <td>20.0</td>\n",
       "      <td>14.9</td>\n",
       "      <td>0.012</td>\n",
       "      <td>1.95</td>\n",
       "    </tr>\n",
       "    <tr>\n",
       "      <th>233</th>\n",
       "      <td>環保局環境檢驗科</td>\n",
       "      <td>2018年12月</td>\n",
       "      <td>97</td>\n",
       "      <td>50.0</td>\n",
       "      <td>7.66</td>\n",
       "      <td>25.5</td>\n",
       "      <td>15.8</td>\n",
       "      <td>0.030</td>\n",
       "      <td>2.07</td>\n",
       "    </tr>\n",
       "  </tbody>\n",
       "</table>\n",
       "</div>"
      ],
      "text/plain": [
       "         Name      Date  TSP  PM10  Chloride  Nitrate  Sulfate   Lead  Dust\n",
       "231    鼓山圖書分館  2018年12月   80  49.0     10.80     21.1     14.9  0.018  1.37\n",
       "232  衛生局中正辦公室  2018年12月   93  46.0      9.53     20.0     14.9  0.012  1.95\n",
       "233  環保局環境檢驗科  2018年12月   97  50.0      7.66     25.5     15.8  0.030  2.07"
      ]
     },
     "execution_count": 20,
     "metadata": {},
     "output_type": "execute_result"
    }
   ],
   "source": [
    "df.tail(3)  #預設為後5項"
   ]
  },
  {
   "cell_type": "code",
   "execution_count": 21,
   "metadata": {
    "tags": []
   },
   "outputs": [
    {
     "data": {
      "text/html": [
       "<div>\n",
       "<style scoped>\n",
       "    .dataframe tbody tr th:only-of-type {\n",
       "        vertical-align: middle;\n",
       "    }\n",
       "\n",
       "    .dataframe tbody tr th {\n",
       "        vertical-align: top;\n",
       "    }\n",
       "\n",
       "    .dataframe thead th {\n",
       "        text-align: right;\n",
       "    }\n",
       "</style>\n",
       "<table border=\"1\" class=\"dataframe\">\n",
       "  <thead>\n",
       "    <tr style=\"text-align: right;\">\n",
       "      <th></th>\n",
       "      <th>Name</th>\n",
       "      <th>Date</th>\n",
       "      <th>TSP</th>\n",
       "      <th>PM10</th>\n",
       "      <th>Chloride</th>\n",
       "      <th>Nitrate</th>\n",
       "      <th>Sulfate</th>\n",
       "      <th>Lead</th>\n",
       "      <th>Dust</th>\n",
       "    </tr>\n",
       "  </thead>\n",
       "  <tbody>\n",
       "    <tr>\n",
       "      <th>0</th>\n",
       "      <td>大社工業區</td>\n",
       "      <td>2018年1月</td>\n",
       "      <td>93</td>\n",
       "      <td>NaN</td>\n",
       "      <td>NaN</td>\n",
       "      <td>NaN</td>\n",
       "      <td>NaN</td>\n",
       "      <td>0.029</td>\n",
       "      <td>3.60</td>\n",
       "    </tr>\n",
       "    <tr>\n",
       "      <th>1</th>\n",
       "      <td>大寮區公所</td>\n",
       "      <td>2018年1月</td>\n",
       "      <td>79</td>\n",
       "      <td>NaN</td>\n",
       "      <td>NaN</td>\n",
       "      <td>NaN</td>\n",
       "      <td>NaN</td>\n",
       "      <td>0.042</td>\n",
       "      <td>1.54</td>\n",
       "    </tr>\n",
       "    <tr>\n",
       "      <th>2</th>\n",
       "      <td>大樹監測站</td>\n",
       "      <td>2018年1月</td>\n",
       "      <td>61</td>\n",
       "      <td>NaN</td>\n",
       "      <td>NaN</td>\n",
       "      <td>NaN</td>\n",
       "      <td>NaN</td>\n",
       "      <td>0.020</td>\n",
       "      <td>1.18</td>\n",
       "    </tr>\n",
       "    <tr>\n",
       "      <th>3</th>\n",
       "      <td>仁武國中</td>\n",
       "      <td>2018年1月</td>\n",
       "      <td>79</td>\n",
       "      <td>NaN</td>\n",
       "      <td>NaN</td>\n",
       "      <td>NaN</td>\n",
       "      <td>NaN</td>\n",
       "      <td>0.058</td>\n",
       "      <td>2.68</td>\n",
       "    </tr>\n",
       "    <tr>\n",
       "      <th>4</th>\n",
       "      <td>半屏山電信局</td>\n",
       "      <td>2018年1月</td>\n",
       "      <td>104</td>\n",
       "      <td>67.0</td>\n",
       "      <td>NaN</td>\n",
       "      <td>NaN</td>\n",
       "      <td>NaN</td>\n",
       "      <td>0.014</td>\n",
       "      <td>1.21</td>\n",
       "    </tr>\n",
       "    <tr>\n",
       "      <th>...</th>\n",
       "      <td>...</td>\n",
       "      <td>...</td>\n",
       "      <td>...</td>\n",
       "      <td>...</td>\n",
       "      <td>...</td>\n",
       "      <td>...</td>\n",
       "      <td>...</td>\n",
       "      <td>...</td>\n",
       "      <td>...</td>\n",
       "    </tr>\n",
       "    <tr>\n",
       "      <th>228</th>\n",
       "      <td>愛國國小</td>\n",
       "      <td>2018年12月</td>\n",
       "      <td>100</td>\n",
       "      <td>49.0</td>\n",
       "      <td>7.34</td>\n",
       "      <td>27.8</td>\n",
       "      <td>16.6</td>\n",
       "      <td>0.030</td>\n",
       "      <td>2.09</td>\n",
       "    </tr>\n",
       "    <tr>\n",
       "      <th>229</th>\n",
       "      <td>楠梓區清潔隊</td>\n",
       "      <td>2018年12月</td>\n",
       "      <td>84</td>\n",
       "      <td>52.0</td>\n",
       "      <td>1.74</td>\n",
       "      <td>14.4</td>\n",
       "      <td>10.6</td>\n",
       "      <td>0.001</td>\n",
       "      <td>2.49</td>\n",
       "    </tr>\n",
       "    <tr>\n",
       "      <th>230</th>\n",
       "      <td>路竹地政事務所</td>\n",
       "      <td>2018年12月</td>\n",
       "      <td>112</td>\n",
       "      <td>NaN</td>\n",
       "      <td>2.04</td>\n",
       "      <td>13.6</td>\n",
       "      <td>12.1</td>\n",
       "      <td>0.012</td>\n",
       "      <td>2.77</td>\n",
       "    </tr>\n",
       "    <tr>\n",
       "      <th>231</th>\n",
       "      <td>鼓山圖書分館</td>\n",
       "      <td>2018年12月</td>\n",
       "      <td>80</td>\n",
       "      <td>49.0</td>\n",
       "      <td>10.80</td>\n",
       "      <td>21.1</td>\n",
       "      <td>14.9</td>\n",
       "      <td>0.018</td>\n",
       "      <td>1.37</td>\n",
       "    </tr>\n",
       "    <tr>\n",
       "      <th>232</th>\n",
       "      <td>衛生局中正辦公室</td>\n",
       "      <td>2018年12月</td>\n",
       "      <td>93</td>\n",
       "      <td>46.0</td>\n",
       "      <td>9.53</td>\n",
       "      <td>20.0</td>\n",
       "      <td>14.9</td>\n",
       "      <td>0.012</td>\n",
       "      <td>1.95</td>\n",
       "    </tr>\n",
       "  </tbody>\n",
       "</table>\n",
       "<p>233 rows × 9 columns</p>\n",
       "</div>"
      ],
      "text/plain": [
       "         Name      Date  TSP  PM10  Chloride  Nitrate  Sulfate   Lead  Dust\n",
       "0       大社工業區   2018年1月   93   NaN       NaN      NaN      NaN  0.029  3.60\n",
       "1       大寮區公所   2018年1月   79   NaN       NaN      NaN      NaN  0.042  1.54\n",
       "2       大樹監測站   2018年1月   61   NaN       NaN      NaN      NaN  0.020  1.18\n",
       "3        仁武國中   2018年1月   79   NaN       NaN      NaN      NaN  0.058  2.68\n",
       "4      半屏山電信局   2018年1月  104  67.0       NaN      NaN      NaN  0.014  1.21\n",
       "..        ...       ...  ...   ...       ...      ...      ...    ...   ...\n",
       "228      愛國國小  2018年12月  100  49.0      7.34     27.8     16.6  0.030  2.09\n",
       "229    楠梓區清潔隊  2018年12月   84  52.0      1.74     14.4     10.6  0.001  2.49\n",
       "230   路竹地政事務所  2018年12月  112   NaN      2.04     13.6     12.1  0.012  2.77\n",
       "231    鼓山圖書分館  2018年12月   80  49.0     10.80     21.1     14.9  0.018  1.37\n",
       "232  衛生局中正辦公室  2018年12月   93  46.0      9.53     20.0     14.9  0.012  1.95\n",
       "\n",
       "[233 rows x 9 columns]"
      ]
     },
     "execution_count": 21,
     "metadata": {},
     "output_type": "execute_result"
    }
   ],
   "source": [
    "df.drop(df.index[len(df.index)-1], inplace=True)\n",
    "df"
   ]
  },
  {
   "cell_type": "markdown",
   "metadata": {},
   "source": [
    "## 資料視覺化\n",
    "- [ref](https://pandas.pydata.org/pandas-docs/stable/user_guide/visualization.html)"
   ]
  },
  {
   "cell_type": "code",
   "execution_count": 22,
   "metadata": {},
   "outputs": [
    {
     "data": {
      "text/plain": [
       "<AxesSubplot:>"
      ]
     },
     "execution_count": 22,
     "metadata": {},
     "output_type": "execute_result"
    },
    {
     "data": {
      "image/png": "[encoded data removed]",
      "text/plain": [
       "<Figure size 432x288 with 1 Axes>"
      ]
     },
     "metadata": {
      "needs_background": "light"
     },
     "output_type": "display_data"
    }
   ],
   "source": [
    "s = pd.Series(np.random.randn(10), index=np.arange(10))\n",
    "s.plot()"
   ]
  },
  {
   "cell_type": "code",
   "execution_count": 23,
   "metadata": {},
   "outputs": [
    {
     "data": {
      "text/plain": [
       "0    1.271643\n",
       "1   -0.293260\n",
       "2    0.650634\n",
       "3    1.059914\n",
       "4    0.097340\n",
       "5    0.197286\n",
       "6   -2.002117\n",
       "7    1.183787\n",
       "8    1.001658\n",
       "9    1.868413\n",
       "dtype: float64"
      ]
     },
     "execution_count": 23,
     "metadata": {},
     "output_type": "execute_result"
    }
   ],
   "source": [
    "s"
   ]
  },
  {
   "cell_type": "code",
   "execution_count": 24,
   "metadata": {},
   "outputs": [
    {
     "data": {
      "text/plain": [
       "<AxesSubplot:>"
      ]
     },
     "execution_count": 24,
     "metadata": {},
     "output_type": "execute_result"
    },
    {
     "data": {
      "image/png": "[encoded data removed]",
      "text/plain": [
       "<Figure size 432x288 with 1 Axes>"
      ]
     },
     "metadata": {
      "needs_background": "light"
     },
     "output_type": "display_data"
    }
   ],
   "source": [
    "s.plot(kind=\"bar\")"
   ]
  },
  {
   "cell_type": "code",
   "execution_count": 25,
   "metadata": {},
   "outputs": [
    {
     "data": {
      "text/plain": [
       "array([[-0.3460557 , -0.673293  ,  1.18170535, -0.11738463],\n",
       "       [-0.18027597,  0.38958709, -0.83043541, -1.35362289],\n",
       "       [ 0.64231501, -1.50446498, -0.83667079,  0.03376683],\n",
       "       [-1.60241183, -0.22076889, -0.74837058,  0.10692119],\n",
       "       [-0.6973915 , -0.60881905, -0.20881999, -0.50150429],\n",
       "       [ 0.93815492, -0.75164652,  0.9344671 ,  0.42601813],\n",
       "       [ 0.54376279, -0.23703962,  0.60048356, -0.45065395],\n",
       "       [ 0.5966655 , -0.3531576 ,  0.5285483 ,  1.84043502],\n",
       "       [-0.41307422, -0.9731737 ,  1.86053098,  1.03075688],\n",
       "       [-0.66557957, -0.1804346 , -0.03986427, -0.12932577]])"
      ]
     },
     "execution_count": 25,
     "metadata": {},
     "output_type": "execute_result"
    }
   ],
   "source": [
    "np.random.randn(10, 4)"
   ]
  },
  {
   "cell_type": "code",
   "execution_count": 26,
   "metadata": {},
   "outputs": [
    {
     "data": {
      "text/plain": [
       "<AxesSubplot:>"
      ]
     },
     "execution_count": 26,
     "metadata": {},
     "output_type": "execute_result"
    },
    {
     "data": {
      "image/png": "[encoded data removed]",
      "text/plain": [
       "<Figure size 432x288 with 1 Axes>"
      ]
     },
     "metadata": {
      "needs_background": "light"
     },
     "output_type": "display_data"
    }
   ],
   "source": [
    "df = pd.DataFrame(np.random.randn(10, 4), columns=list('ABCD'))\n",
    "df.plot()"
   ]
  },
  {
   "cell_type": "code",
   "execution_count": 27,
   "metadata": {},
   "outputs": [
    {
     "data": {
      "text/plain": [
       "<AxesSubplot:>"
      ]
     },
     "execution_count": 27,
     "metadata": {},
     "output_type": "execute_result"
    },
    {
     "data": {
      "image/png": "[encoded data removed]",
      "text/plain": [
       "<Figure size 432x288 with 1 Axes>"
      ]
     },
     "metadata": {
      "needs_background": "light"
     },
     "output_type": "display_data"
    }
   ],
   "source": [
    "df.plot(kind='bar')"
   ]
  },
  {
   "cell_type": "markdown",
   "metadata": {},
   "source": [
    "### test"
   ]
  },
  {
   "cell_type": "code",
   "execution_count": 29,
   "metadata": {},
   "outputs": [],
   "source": [
    "df = pd.read_csv(\"stock_data.csv\", encoding=\"Big5\", header=0)"
   ]
  },
  {
   "cell_type": "code",
   "execution_count": 30,
   "metadata": {},
   "outputs": [
    {
     "data": {
      "text/html": [
       "<div>\n",
       "<style scoped>\n",
       "    .dataframe tbody tr th:only-of-type {\n",
       "        vertical-align: middle;\n",
       "    }\n",
       "\n",
       "    .dataframe tbody tr th {\n",
       "        vertical-align: top;\n",
       "    }\n",
       "\n",
       "    .dataframe thead th {\n",
       "        text-align: right;\n",
       "    }\n",
       "</style>\n",
       "<table border=\"1\" class=\"dataframe\">\n",
       "  <thead>\n",
       "    <tr style=\"text-align: right;\">\n",
       "      <th></th>\n",
       "      <th>date</th>\n",
       "      <th>close</th>\n",
       "      <th>volume</th>\n",
       "    </tr>\n",
       "  </thead>\n",
       "  <tbody>\n",
       "    <tr>\n",
       "      <th>0</th>\n",
       "      <td>2020-01-02</td>\n",
       "      <td>339.0</td>\n",
       "      <td>31754120.0</td>\n",
       "    </tr>\n",
       "    <tr>\n",
       "      <th>1</th>\n",
       "      <td>2020-01-03</td>\n",
       "      <td>339.5</td>\n",
       "      <td>41811268.0</td>\n",
       "    </tr>\n",
       "    <tr>\n",
       "      <th>2</th>\n",
       "      <td>2020-01-06</td>\n",
       "      <td>332.0</td>\n",
       "      <td>45343057.0</td>\n",
       "    </tr>\n",
       "    <tr>\n",
       "      <th>3</th>\n",
       "      <td>2020-01-07</td>\n",
       "      <td>329.5</td>\n",
       "      <td>50879181.0</td>\n",
       "    </tr>\n",
       "    <tr>\n",
       "      <th>4</th>\n",
       "      <td>2020-01-08</td>\n",
       "      <td>329.5</td>\n",
       "      <td>37567748.0</td>\n",
       "    </tr>\n",
       "    <tr>\n",
       "      <th>...</th>\n",
       "      <td>...</td>\n",
       "      <td>...</td>\n",
       "      <td>...</td>\n",
       "    </tr>\n",
       "    <tr>\n",
       "      <th>117</th>\n",
       "      <td>2020-07-02</td>\n",
       "      <td>322.0</td>\n",
       "      <td>34526178.0</td>\n",
       "    </tr>\n",
       "    <tr>\n",
       "      <th>118</th>\n",
       "      <td>2020-07-03</td>\n",
       "      <td>329.5</td>\n",
       "      <td>53341987.0</td>\n",
       "    </tr>\n",
       "    <tr>\n",
       "      <th>119</th>\n",
       "      <td>2020-07-06</td>\n",
       "      <td>338.0</td>\n",
       "      <td>57256220.0</td>\n",
       "    </tr>\n",
       "    <tr>\n",
       "      <th>120</th>\n",
       "      <td>2020-07-07</td>\n",
       "      <td>338.5</td>\n",
       "      <td>59046323.0</td>\n",
       "    </tr>\n",
       "    <tr>\n",
       "      <th>121</th>\n",
       "      <td>2020-07-08</td>\n",
       "      <td>341.0</td>\n",
       "      <td>30538000.0</td>\n",
       "    </tr>\n",
       "  </tbody>\n",
       "</table>\n",
       "<p>122 rows × 3 columns</p>\n",
       "</div>"
      ],
      "text/plain": [
       "           date  close      volume\n",
       "0    2020-01-02  339.0  31754120.0\n",
       "1    2020-01-03  339.5  41811268.0\n",
       "2    2020-01-06  332.0  45343057.0\n",
       "3    2020-01-07  329.5  50879181.0\n",
       "4    2020-01-08  329.5  37567748.0\n",
       "..          ...    ...         ...\n",
       "117  2020-07-02  322.0  34526178.0\n",
       "118  2020-07-03  329.5  53341987.0\n",
       "119  2020-07-06  338.0  57256220.0\n",
       "120  2020-07-07  338.5  59046323.0\n",
       "121  2020-07-08  341.0  30538000.0\n",
       "\n",
       "[122 rows x 3 columns]"
      ]
     },
     "execution_count": 30,
     "metadata": {},
     "output_type": "execute_result"
    }
   ],
   "source": [
    "df #df.head + tail"
   ]
  },
  {
   "cell_type": "code",
   "execution_count": 31,
   "metadata": {},
   "outputs": [
    {
     "data": {
      "text/plain": [
       "<AxesSubplot:>"
      ]
     },
     "execution_count": 31,
     "metadata": {},
     "output_type": "execute_result"
    },
    {
     "data": {
      "image/png": "[encoded data removed]",
      "text/plain": [
       "<Figure size 432x288 with 1 Axes>"
      ]
     },
     "metadata": {
      "needs_background": "light"
     },
     "output_type": "display_data"
    }
   ],
   "source": [
    "df.plot()"
   ]
  },
  {
   "cell_type": "code",
   "execution_count": 32,
   "metadata": {},
   "outputs": [
    {
     "data": {
      "text/plain": [
       "<AxesSubplot:>"
      ]
     },
     "execution_count": 32,
     "metadata": {},
     "output_type": "execute_result"
    },
    {
     "data": {
      "image/png": "[encoded data removed]",
      "text/plain": [
       "<Figure size 432x288 with 1 Axes>"
      ]
     },
     "metadata": {
      "needs_background": "light"
     },
     "output_type": "display_data"
    }
   ],
   "source": [
    "df['close'].plot()"
   ]
  },
  {
   "cell_type": "markdown",
   "metadata": {},
   "source": [
    "### 資料分組與聚合"
   ]
  },
  {
   "cell_type": "code",
   "execution_count": 33,
   "metadata": {},
   "outputs": [],
   "source": [
    "data = np.random.randn(10, 4)"
   ]
  },
  {
   "cell_type": "code",
   "execution_count": 34,
   "metadata": {},
   "outputs": [
    {
     "data": {
      "text/plain": [
       "array([[-1.17051901, -1.72430852,  0.58027732,  1.05266741],\n",
       "       [ 0.91133942,  0.48566366, -0.02232392, -0.73039039],\n",
       "       [-1.39956991,  1.0366634 , -1.76604642,  0.42766618],\n",
       "       [-0.03499539, -0.38598444, -0.141962  ,  0.38948635],\n",
       "       [-1.71713779,  0.52975311, -1.99390597, -0.66437526],\n",
       "       [ 0.28497997, -0.28388451,  0.50647405,  0.03740916],\n",
       "       [ 0.20940166, -1.21364007,  0.97125407, -0.8564515 ],\n",
       "       [-0.51388327, -3.22751362,  1.30966379, -0.45301012],\n",
       "       [ 0.53899127,  1.71149317, -1.60467877, -0.74573937],\n",
       "       [-1.24726289,  0.92357504,  0.82154678, -0.10119288]])"
      ]
     },
     "execution_count": 34,
     "metadata": {},
     "output_type": "execute_result"
    }
   ],
   "source": [
    "data"
   ]
  },
  {
   "cell_type": "code",
   "execution_count": 35,
   "metadata": {},
   "outputs": [
    {
     "data": {
      "text/html": [
       "<div>\n",
       "<style scoped>\n",
       "    .dataframe tbody tr th:only-of-type {\n",
       "        vertical-align: middle;\n",
       "    }\n",
       "\n",
       "    .dataframe tbody tr th {\n",
       "        vertical-align: top;\n",
       "    }\n",
       "\n",
       "    .dataframe thead th {\n",
       "        text-align: right;\n",
       "    }\n",
       "</style>\n",
       "<table border=\"1\" class=\"dataframe\">\n",
       "  <thead>\n",
       "    <tr style=\"text-align: right;\">\n",
       "      <th></th>\n",
       "      <th>No1</th>\n",
       "      <th>No2</th>\n",
       "      <th>No3</th>\n",
       "      <th>No4</th>\n",
       "    </tr>\n",
       "  </thead>\n",
       "  <tbody>\n",
       "    <tr>\n",
       "      <th>0</th>\n",
       "      <td>-1.170519</td>\n",
       "      <td>-1.724309</td>\n",
       "      <td>0.580277</td>\n",
       "      <td>1.052667</td>\n",
       "    </tr>\n",
       "    <tr>\n",
       "      <th>1</th>\n",
       "      <td>0.911339</td>\n",
       "      <td>0.485664</td>\n",
       "      <td>-0.022324</td>\n",
       "      <td>-0.730390</td>\n",
       "    </tr>\n",
       "    <tr>\n",
       "      <th>2</th>\n",
       "      <td>-1.399570</td>\n",
       "      <td>1.036663</td>\n",
       "      <td>-1.766046</td>\n",
       "      <td>0.427666</td>\n",
       "    </tr>\n",
       "    <tr>\n",
       "      <th>3</th>\n",
       "      <td>-0.034995</td>\n",
       "      <td>-0.385984</td>\n",
       "      <td>-0.141962</td>\n",
       "      <td>0.389486</td>\n",
       "    </tr>\n",
       "    <tr>\n",
       "      <th>4</th>\n",
       "      <td>-1.717138</td>\n",
       "      <td>0.529753</td>\n",
       "      <td>-1.993906</td>\n",
       "      <td>-0.664375</td>\n",
       "    </tr>\n",
       "    <tr>\n",
       "      <th>5</th>\n",
       "      <td>0.284980</td>\n",
       "      <td>-0.283885</td>\n",
       "      <td>0.506474</td>\n",
       "      <td>0.037409</td>\n",
       "    </tr>\n",
       "    <tr>\n",
       "      <th>6</th>\n",
       "      <td>0.209402</td>\n",
       "      <td>-1.213640</td>\n",
       "      <td>0.971254</td>\n",
       "      <td>-0.856451</td>\n",
       "    </tr>\n",
       "    <tr>\n",
       "      <th>7</th>\n",
       "      <td>-0.513883</td>\n",
       "      <td>-3.227514</td>\n",
       "      <td>1.309664</td>\n",
       "      <td>-0.453010</td>\n",
       "    </tr>\n",
       "    <tr>\n",
       "      <th>8</th>\n",
       "      <td>0.538991</td>\n",
       "      <td>1.711493</td>\n",
       "      <td>-1.604679</td>\n",
       "      <td>-0.745739</td>\n",
       "    </tr>\n",
       "    <tr>\n",
       "      <th>9</th>\n",
       "      <td>-1.247263</td>\n",
       "      <td>0.923575</td>\n",
       "      <td>0.821547</td>\n",
       "      <td>-0.101193</td>\n",
       "    </tr>\n",
       "  </tbody>\n",
       "</table>\n",
       "</div>"
      ],
      "text/plain": [
       "        No1       No2       No3       No4\n",
       "0 -1.170519 -1.724309  0.580277  1.052667\n",
       "1  0.911339  0.485664 -0.022324 -0.730390\n",
       "2 -1.399570  1.036663 -1.766046  0.427666\n",
       "3 -0.034995 -0.385984 -0.141962  0.389486\n",
       "4 -1.717138  0.529753 -1.993906 -0.664375\n",
       "5  0.284980 -0.283885  0.506474  0.037409\n",
       "6  0.209402 -1.213640  0.971254 -0.856451\n",
       "7 -0.513883 -3.227514  1.309664 -0.453010\n",
       "8  0.538991  1.711493 -1.604679 -0.745739\n",
       "9 -1.247263  0.923575  0.821547 -0.101193"
      ]
     },
     "execution_count": 35,
     "metadata": {},
     "output_type": "execute_result"
    }
   ],
   "source": [
    "df = pd.DataFrame(data, columns=['No1', 'No2', 'No3', 'No4'])\n",
    "df"
   ]
  },
  {
   "cell_type": "code",
   "execution_count": 36,
   "metadata": {},
   "outputs": [
    {
     "data": {
      "text/html": [
       "<div>\n",
       "<style scoped>\n",
       "    .dataframe tbody tr th:only-of-type {\n",
       "        vertical-align: middle;\n",
       "    }\n",
       "\n",
       "    .dataframe tbody tr th {\n",
       "        vertical-align: top;\n",
       "    }\n",
       "\n",
       "    .dataframe thead th {\n",
       "        text-align: right;\n",
       "    }\n",
       "</style>\n",
       "<table border=\"1\" class=\"dataframe\">\n",
       "  <thead>\n",
       "    <tr style=\"text-align: right;\">\n",
       "      <th></th>\n",
       "      <th>No1</th>\n",
       "      <th>No2</th>\n",
       "      <th>No3</th>\n",
       "      <th>No4</th>\n",
       "      <th>Category</th>\n",
       "    </tr>\n",
       "  </thead>\n",
       "  <tbody>\n",
       "    <tr>\n",
       "      <th>0</th>\n",
       "      <td>-1.170519</td>\n",
       "      <td>-1.724309</td>\n",
       "      <td>0.580277</td>\n",
       "      <td>1.052667</td>\n",
       "      <td>NaN</td>\n",
       "    </tr>\n",
       "    <tr>\n",
       "      <th>1</th>\n",
       "      <td>0.911339</td>\n",
       "      <td>0.485664</td>\n",
       "      <td>-0.022324</td>\n",
       "      <td>-0.730390</td>\n",
       "      <td>NaN</td>\n",
       "    </tr>\n",
       "    <tr>\n",
       "      <th>2</th>\n",
       "      <td>-1.399570</td>\n",
       "      <td>1.036663</td>\n",
       "      <td>-1.766046</td>\n",
       "      <td>0.427666</td>\n",
       "      <td>NaN</td>\n",
       "    </tr>\n",
       "    <tr>\n",
       "      <th>3</th>\n",
       "      <td>-0.034995</td>\n",
       "      <td>-0.385984</td>\n",
       "      <td>-0.141962</td>\n",
       "      <td>0.389486</td>\n",
       "      <td>NaN</td>\n",
       "    </tr>\n",
       "    <tr>\n",
       "      <th>4</th>\n",
       "      <td>-1.717138</td>\n",
       "      <td>0.529753</td>\n",
       "      <td>-1.993906</td>\n",
       "      <td>-0.664375</td>\n",
       "      <td>NaN</td>\n",
       "    </tr>\n",
       "    <tr>\n",
       "      <th>5</th>\n",
       "      <td>0.284980</td>\n",
       "      <td>-0.283885</td>\n",
       "      <td>0.506474</td>\n",
       "      <td>0.037409</td>\n",
       "      <td>NaN</td>\n",
       "    </tr>\n",
       "    <tr>\n",
       "      <th>6</th>\n",
       "      <td>0.209402</td>\n",
       "      <td>-1.213640</td>\n",
       "      <td>0.971254</td>\n",
       "      <td>-0.856451</td>\n",
       "      <td>NaN</td>\n",
       "    </tr>\n",
       "    <tr>\n",
       "      <th>7</th>\n",
       "      <td>-0.513883</td>\n",
       "      <td>-3.227514</td>\n",
       "      <td>1.309664</td>\n",
       "      <td>-0.453010</td>\n",
       "      <td>NaN</td>\n",
       "    </tr>\n",
       "    <tr>\n",
       "      <th>8</th>\n",
       "      <td>0.538991</td>\n",
       "      <td>1.711493</td>\n",
       "      <td>-1.604679</td>\n",
       "      <td>-0.745739</td>\n",
       "      <td>NaN</td>\n",
       "    </tr>\n",
       "    <tr>\n",
       "      <th>9</th>\n",
       "      <td>-1.247263</td>\n",
       "      <td>0.923575</td>\n",
       "      <td>0.821547</td>\n",
       "      <td>-0.101193</td>\n",
       "      <td>NaN</td>\n",
       "    </tr>\n",
       "  </tbody>\n",
       "</table>\n",
       "</div>"
      ],
      "text/plain": [
       "        No1       No2       No3       No4  Category\n",
       "0 -1.170519 -1.724309  0.580277  1.052667       NaN\n",
       "1  0.911339  0.485664 -0.022324 -0.730390       NaN\n",
       "2 -1.399570  1.036663 -1.766046  0.427666       NaN\n",
       "3 -0.034995 -0.385984 -0.141962  0.389486       NaN\n",
       "4 -1.717138  0.529753 -1.993906 -0.664375       NaN\n",
       "5  0.284980 -0.283885  0.506474  0.037409       NaN\n",
       "6  0.209402 -1.213640  0.971254 -0.856451       NaN\n",
       "7 -0.513883 -3.227514  1.309664 -0.453010       NaN\n",
       "8  0.538991  1.711493 -1.604679 -0.745739       NaN\n",
       "9 -1.247263  0.923575  0.821547 -0.101193       NaN"
      ]
     },
     "execution_count": 36,
     "metadata": {},
     "output_type": "execute_result"
    }
   ],
   "source": [
    "df['Category'] = np.NaN\n",
    "df"
   ]
  },
  {
   "cell_type": "code",
   "execution_count": 37,
   "metadata": {},
   "outputs": [],
   "source": [
    "clist = ['C1'] * 3 + ['C2'] * 5 + ['C3'] * 2"
   ]
  },
  {
   "cell_type": "code",
   "execution_count": 42,
   "metadata": {},
   "outputs": [
    {
     "data": {
      "text/plain": [
       "['C1', 'C1', 'C1', 'C2', 'C2', 'C2', 'C2', 'C2', 'C3', 'C3']"
      ]
     },
     "execution_count": 42,
     "metadata": {},
     "output_type": "execute_result"
    }
   ],
   "source": [
    "clist"
   ]
  },
  {
   "cell_type": "code",
   "execution_count": 43,
   "metadata": {},
   "outputs": [],
   "source": [
    "df['Category'] = np.random.permutation(clist)"
   ]
  },
  {
   "cell_type": "code",
   "execution_count": 44,
   "metadata": {},
   "outputs": [
    {
     "data": {
      "text/html": [
       "<div>\n",
       "<style scoped>\n",
       "    .dataframe tbody tr th:only-of-type {\n",
       "        vertical-align: middle;\n",
       "    }\n",
       "\n",
       "    .dataframe tbody tr th {\n",
       "        vertical-align: top;\n",
       "    }\n",
       "\n",
       "    .dataframe thead th {\n",
       "        text-align: right;\n",
       "    }\n",
       "</style>\n",
       "<table border=\"1\" class=\"dataframe\">\n",
       "  <thead>\n",
       "    <tr style=\"text-align: right;\">\n",
       "      <th></th>\n",
       "      <th>No1</th>\n",
       "      <th>No2</th>\n",
       "      <th>No3</th>\n",
       "      <th>No4</th>\n",
       "      <th>Category</th>\n",
       "    </tr>\n",
       "  </thead>\n",
       "  <tbody>\n",
       "    <tr>\n",
       "      <th>0</th>\n",
       "      <td>-1.170519</td>\n",
       "      <td>-1.724309</td>\n",
       "      <td>0.580277</td>\n",
       "      <td>1.052667</td>\n",
       "      <td>C2</td>\n",
       "    </tr>\n",
       "    <tr>\n",
       "      <th>1</th>\n",
       "      <td>0.911339</td>\n",
       "      <td>0.485664</td>\n",
       "      <td>-0.022324</td>\n",
       "      <td>-0.730390</td>\n",
       "      <td>C1</td>\n",
       "    </tr>\n",
       "    <tr>\n",
       "      <th>2</th>\n",
       "      <td>-1.399570</td>\n",
       "      <td>1.036663</td>\n",
       "      <td>-1.766046</td>\n",
       "      <td>0.427666</td>\n",
       "      <td>C3</td>\n",
       "    </tr>\n",
       "    <tr>\n",
       "      <th>3</th>\n",
       "      <td>-0.034995</td>\n",
       "      <td>-0.385984</td>\n",
       "      <td>-0.141962</td>\n",
       "      <td>0.389486</td>\n",
       "      <td>C2</td>\n",
       "    </tr>\n",
       "    <tr>\n",
       "      <th>4</th>\n",
       "      <td>-1.717138</td>\n",
       "      <td>0.529753</td>\n",
       "      <td>-1.993906</td>\n",
       "      <td>-0.664375</td>\n",
       "      <td>C2</td>\n",
       "    </tr>\n",
       "    <tr>\n",
       "      <th>5</th>\n",
       "      <td>0.284980</td>\n",
       "      <td>-0.283885</td>\n",
       "      <td>0.506474</td>\n",
       "      <td>0.037409</td>\n",
       "      <td>C1</td>\n",
       "    </tr>\n",
       "    <tr>\n",
       "      <th>6</th>\n",
       "      <td>0.209402</td>\n",
       "      <td>-1.213640</td>\n",
       "      <td>0.971254</td>\n",
       "      <td>-0.856451</td>\n",
       "      <td>C2</td>\n",
       "    </tr>\n",
       "    <tr>\n",
       "      <th>7</th>\n",
       "      <td>-0.513883</td>\n",
       "      <td>-3.227514</td>\n",
       "      <td>1.309664</td>\n",
       "      <td>-0.453010</td>\n",
       "      <td>C3</td>\n",
       "    </tr>\n",
       "    <tr>\n",
       "      <th>8</th>\n",
       "      <td>0.538991</td>\n",
       "      <td>1.711493</td>\n",
       "      <td>-1.604679</td>\n",
       "      <td>-0.745739</td>\n",
       "      <td>C1</td>\n",
       "    </tr>\n",
       "    <tr>\n",
       "      <th>9</th>\n",
       "      <td>-1.247263</td>\n",
       "      <td>0.923575</td>\n",
       "      <td>0.821547</td>\n",
       "      <td>-0.101193</td>\n",
       "      <td>C2</td>\n",
       "    </tr>\n",
       "  </tbody>\n",
       "</table>\n",
       "</div>"
      ],
      "text/plain": [
       "        No1       No2       No3       No4 Category\n",
       "0 -1.170519 -1.724309  0.580277  1.052667       C2\n",
       "1  0.911339  0.485664 -0.022324 -0.730390       C1\n",
       "2 -1.399570  1.036663 -1.766046  0.427666       C3\n",
       "3 -0.034995 -0.385984 -0.141962  0.389486       C2\n",
       "4 -1.717138  0.529753 -1.993906 -0.664375       C2\n",
       "5  0.284980 -0.283885  0.506474  0.037409       C1\n",
       "6  0.209402 -1.213640  0.971254 -0.856451       C2\n",
       "7 -0.513883 -3.227514  1.309664 -0.453010       C3\n",
       "8  0.538991  1.711493 -1.604679 -0.745739       C1\n",
       "9 -1.247263  0.923575  0.821547 -0.101193       C2"
      ]
     },
     "execution_count": 44,
     "metadata": {},
     "output_type": "execute_result"
    }
   ],
   "source": [
    "df"
   ]
  },
  {
   "cell_type": "code",
   "execution_count": 45,
   "metadata": {},
   "outputs": [],
   "source": [
    "groups = df.groupby('Category')"
   ]
  },
  {
   "cell_type": "code",
   "execution_count": 46,
   "metadata": {},
   "outputs": [
    {
     "data": {
      "text/plain": [
       "<pandas.core.groupby.generic.DataFrameGroupBy object at 0x00000211BC88DBE0>"
      ]
     },
     "execution_count": 46,
     "metadata": {},
     "output_type": "execute_result"
    }
   ],
   "source": [
    "groups"
   ]
  },
  {
   "cell_type": "code",
   "execution_count": 47,
   "metadata": {},
   "outputs": [
    {
     "data": {
      "text/html": [
       "<div>\n",
       "<style scoped>\n",
       "    .dataframe tbody tr th:only-of-type {\n",
       "        vertical-align: middle;\n",
       "    }\n",
       "\n",
       "    .dataframe tbody tr th {\n",
       "        vertical-align: top;\n",
       "    }\n",
       "\n",
       "    .dataframe thead th {\n",
       "        text-align: right;\n",
       "    }\n",
       "</style>\n",
       "<table border=\"1\" class=\"dataframe\">\n",
       "  <thead>\n",
       "    <tr style=\"text-align: right;\">\n",
       "      <th></th>\n",
       "      <th>No1</th>\n",
       "      <th>No2</th>\n",
       "      <th>No3</th>\n",
       "      <th>No4</th>\n",
       "    </tr>\n",
       "    <tr>\n",
       "      <th>Category</th>\n",
       "      <th></th>\n",
       "      <th></th>\n",
       "      <th></th>\n",
       "      <th></th>\n",
       "    </tr>\n",
       "  </thead>\n",
       "  <tbody>\n",
       "    <tr>\n",
       "      <th>C1</th>\n",
       "      <td>0.578437</td>\n",
       "      <td>0.637757</td>\n",
       "      <td>-0.373510</td>\n",
       "      <td>-0.479574</td>\n",
       "    </tr>\n",
       "    <tr>\n",
       "      <th>C2</th>\n",
       "      <td>-0.792103</td>\n",
       "      <td>-0.374121</td>\n",
       "      <td>0.047442</td>\n",
       "      <td>-0.035973</td>\n",
       "    </tr>\n",
       "    <tr>\n",
       "      <th>C3</th>\n",
       "      <td>-0.956727</td>\n",
       "      <td>-1.095425</td>\n",
       "      <td>-0.228191</td>\n",
       "      <td>-0.012672</td>\n",
       "    </tr>\n",
       "  </tbody>\n",
       "</table>\n",
       "</div>"
      ],
      "text/plain": [
       "               No1       No2       No3       No4\n",
       "Category                                        \n",
       "C1        0.578437  0.637757 -0.373510 -0.479574\n",
       "C2       -0.792103 -0.374121  0.047442 -0.035973\n",
       "C3       -0.956727 -1.095425 -0.228191 -0.012672"
      ]
     },
     "execution_count": 47,
     "metadata": {},
     "output_type": "execute_result"
    }
   ],
   "source": [
    "groups.mean()"
   ]
  },
  {
   "cell_type": "markdown",
   "metadata": {},
   "source": [
    "### Pandas進階補充\n",
    "- [可以參考](https://github.com/victorgau/khpy_pandas_intro)"
   ]
  },
  {
   "cell_type": "code",
   "execution_count": null,
   "metadata": {},
   "outputs": [],
   "source": []
  },
  {
   "cell_type": "markdown",
   "metadata": {},
   "source": [
    "## Pandas: csv資料處理 (以公共腳踏車為例)"
   ]
  },
  {
   "cell_type": "code",
   "execution_count": null,
   "metadata": {},
   "outputs": [],
   "source": []
  },
  {
   "cell_type": "markdown",
   "metadata": {},
   "source": [
    "## Pandas: 資料庫"
   ]
  },
  {
   "cell_type": "code",
   "execution_count": null,
   "metadata": {},
   "outputs": [],
   "source": []
  }
 ],
 "metadata": {
  "kernelspec": {
   "display_name": "Python 3 (ipykernel)",
   "language": "python",
   "name": "python3"
  },
  "language_info": {
   "codemirror_mode": {
    "name": "ipython",
    "version": 3
   },
   "file_extension": ".py",
   "mimetype": "text/x-python",
   "name": "python",
   "nbconvert_exporter": "python",
   "pygments_lexer": "ipython3",
   "version": "3.9.7"
  }
 },
 "nbformat": 4,
 "nbformat_minor": 4
}
